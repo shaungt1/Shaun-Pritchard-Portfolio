{
 "cells": [
  {
   "cell_type": "markdown",
   "metadata": {
    "cell_style": "center",
    "hide_input": true
   },
   "source": [
    "# Import Data"
   ]
  },
  {
   "cell_type": "markdown",
   "metadata": {},
   "source": [
    "### Add Imports"
   ]
  },
  {
   "cell_type": "code",
   "execution_count": null,
   "metadata": {
    "ExecuteTime": {
     "end_time": "2020-12-17T21:33:20.749982Z",
     "start_time": "2020-12-17T21:33:18.834434Z"
    },
    "run_control": {
     "marked": true
    }
   },
   "outputs": [],
   "source": [
    "#import MySQl Libaries\n",
    "import mysql.connector\n",
    "\n",
    "# Import Data Libaries\n",
    "import numpy as np\n",
    "import matplotlib.pyplot as plt\n",
    "import pandas as pd\n",
    "import seaborn as sns\n",
    "\n",
    "#Magic Function\n",
    "%matplotlib inline\n"
   ]
  },
  {
   "cell_type": "markdown",
   "metadata": {},
   "source": [
    "> Add more imports above depending on the nature of analyzing that need to be done."
   ]
  },
  {
   "cell_type": "markdown",
   "metadata": {
    "cell_style": "split"
   },
   "source": [
    "### Connecting to CSV Datset File"
   ]
  },
  {
   "cell_type": "code",
   "execution_count": null,
   "metadata": {
    "ExecuteTime": {
     "end_time": "2020-12-17T21:33:23.605946Z",
     "start_time": "2020-12-17T21:33:23.511724Z"
    }
   },
   "outputs": [],
   "source": [
    "# Read the CSV - only use if you have a CSV file to import into a dataframe\n",
    "df=pd.read_csv(r'C:\\Users\\Frontside\\Desktop\\JUPYTER NOTBOOKS\\Data Elements Class QMB4000\\MOD6\\mod610k.csv')\n"
   ]
  },
  {
   "cell_type": "markdown",
   "metadata": {},
   "source": [
    "- Use the method above to handle raw csv files with data only!"
   ]
  },
  {
   "cell_type": "markdown",
   "metadata": {
    "heading_collapsed": true,
    "hide_input": false
   },
   "source": [
    "### Connecting to MySQL DB"
   ]
  },
  {
   "cell_type": "markdown",
   "metadata": {
    "hidden": true,
    "hide_input": false
   },
   "source": [
    "*Connect to ether MySQL Workbench or Azure MSSM platform to work with data sets direclty on the cloud*"
   ]
  },
  {
   "cell_type": "code",
   "execution_count": null,
   "metadata": {
    "hidden": true
   },
   "outputs": [],
   "source": [
    "# Import MySQL into a dataframe\n",
    "import mysql.connector as sql\n",
    "import pandas as pd\n",
    "\n",
    "db_connection = sql.connect(host='localhost', database='data_elements_class', user='root', password='Sp111579')\n",
    "\n",
    "db_cursor = db_connection.cursor()\n",
    "\n",
    "db_cursor.execute('SELECT * FROM mod3')\n",
    "\n",
    "table_rows = db_cursor.fetchall()\n",
    "\n",
    "df = pd.DataFrame(table_rows)\n",
    "\n",
    "df = pd.read_sql('SELECT * FROM mod3', con=db_connection)"
   ]
  },
  {
   "cell_type": "markdown",
   "metadata": {
    "hidden": true
   },
   "source": [
    "- Imports - import libaries needed to for data processing\n",
    "- Connection - connect to local or hosted server\n",
    "- Cursor - The MySQLCursor class instantiates objects that can execute operations such as SQL statements. \n",
    "- Exicute Cursor - execute SQL code to access db scehms/tables\n",
    "- FetchAll() - gett all Rows for current data set\n",
    "- DataFrame - add MySQL tables to Python dataframe\n",
    "- Read_sql select database table for inferences' \n",
    "\n",
    "-- https://dev.mysql.com/doc/connector-python/en/connector-python-api-mysqlconnection.html"
   ]
  },
  {
   "cell_type": "markdown",
   "metadata": {},
   "source": [
    "### Check Dataframe"
   ]
  },
  {
   "cell_type": "code",
   "execution_count": null,
   "metadata": {
    "ExecuteTime": {
     "end_time": "2020-12-17T21:33:28.255442Z",
     "start_time": "2020-12-17T21:33:28.246514Z"
    }
   },
   "outputs": [],
   "source": [
    "# Print head of MySQL database or csv file (5) only first 5 rows.\n",
    "\n",
    "print(df.head(5))"
   ]
  },
  {
   "cell_type": "markdown",
   "metadata": {},
   "source": [
    "# Preproccess Data Check"
   ]
  },
  {
   "cell_type": "markdown",
   "metadata": {},
   "source": [
    "### Describe Data"
   ]
  },
  {
   "cell_type": "code",
   "execution_count": 7,
   "metadata": {
    "ExecuteTime": {
     "end_time": "2020-12-17T21:33:51.610555Z",
     "start_time": "2020-12-17T21:33:51.541611Z"
    }
   },
   "outputs": [
    {
     "data": {
      "text/html": [
       "<div>\n",
       "<style scoped>\n",
       "    .dataframe tbody tr th:only-of-type {\n",
       "        vertical-align: middle;\n",
       "    }\n",
       "\n",
       "    .dataframe tbody tr th {\n",
       "        vertical-align: top;\n",
       "    }\n",
       "\n",
       "    .dataframe thead th {\n",
       "        text-align: right;\n",
       "    }\n",
       "</style>\n",
       "<table border=\"1\" class=\"dataframe\">\n",
       "  <thead>\n",
       "    <tr style=\"text-align: right;\">\n",
       "      <th></th>\n",
       "      <th>YEAR</th>\n",
       "      <th>MONTH</th>\n",
       "      <th>DAY</th>\n",
       "      <th>DAY_OF_WEEK</th>\n",
       "      <th>FLIGHT_NUMBER</th>\n",
       "      <th>SCHEDULED_DEPARTURE</th>\n",
       "      <th>DEPARTURE_TIME</th>\n",
       "      <th>DEPARTURE_DELAY</th>\n",
       "      <th>TAXI_OUT</th>\n",
       "      <th>WHEELS_OFF</th>\n",
       "      <th>...</th>\n",
       "      <th>ARRIVAL_TIME</th>\n",
       "      <th>ARRIVAL_DELAY</th>\n",
       "      <th>DIVERTED</th>\n",
       "      <th>CANCELLED</th>\n",
       "      <th>CANCELLATION_REASON</th>\n",
       "      <th>AIR_SYSTEM_DELAY</th>\n",
       "      <th>SECURITY_DELAY</th>\n",
       "      <th>AIRLINE_DELAY</th>\n",
       "      <th>LATE_AIRCRAFT_DELAY</th>\n",
       "      <th>WEATHER_DELAY</th>\n",
       "    </tr>\n",
       "  </thead>\n",
       "  <tbody>\n",
       "    <tr>\n",
       "      <th>count</th>\n",
       "      <td>10000.0</td>\n",
       "      <td>10000.0</td>\n",
       "      <td>10000.0</td>\n",
       "      <td>10000.0</td>\n",
       "      <td>10000.000000</td>\n",
       "      <td>10000.000000</td>\n",
       "      <td>10000.000000</td>\n",
       "      <td>10000.000000</td>\n",
       "      <td>10000.00000</td>\n",
       "      <td>10000.000000</td>\n",
       "      <td>...</td>\n",
       "      <td>10000.000000</td>\n",
       "      <td>10000.00000</td>\n",
       "      <td>10000.0</td>\n",
       "      <td>10000.0</td>\n",
       "      <td>0.0</td>\n",
       "      <td>1842.000000</td>\n",
       "      <td>1842.000000</td>\n",
       "      <td>1842.000000</td>\n",
       "      <td>1842.000000</td>\n",
       "      <td>1842.000000</td>\n",
       "    </tr>\n",
       "    <tr>\n",
       "      <th>mean</th>\n",
       "      <td>2015.0</td>\n",
       "      <td>1.0</td>\n",
       "      <td>1.0</td>\n",
       "      <td>4.0</td>\n",
       "      <td>2141.744000</td>\n",
       "      <td>1177.800700</td>\n",
       "      <td>1188.152000</td>\n",
       "      <td>7.567300</td>\n",
       "      <td>14.93420</td>\n",
       "      <td>1213.442200</td>\n",
       "      <td>...</td>\n",
       "      <td>1423.537500</td>\n",
       "      <td>2.80170</td>\n",
       "      <td>0.0</td>\n",
       "      <td>0.0</td>\n",
       "      <td>NaN</td>\n",
       "      <td>9.242671</td>\n",
       "      <td>0.131379</td>\n",
       "      <td>20.625950</td>\n",
       "      <td>16.262758</td>\n",
       "      <td>1.625407</td>\n",
       "    </tr>\n",
       "    <tr>\n",
       "      <th>std</th>\n",
       "      <td>0.0</td>\n",
       "      <td>0.0</td>\n",
       "      <td>0.0</td>\n",
       "      <td>0.0</td>\n",
       "      <td>1857.476239</td>\n",
       "      <td>338.037411</td>\n",
       "      <td>346.797973</td>\n",
       "      <td>31.044095</td>\n",
       "      <td>6.89748</td>\n",
       "      <td>344.809858</td>\n",
       "      <td>...</td>\n",
       "      <td>366.182362</td>\n",
       "      <td>33.41811</td>\n",
       "      <td>0.0</td>\n",
       "      <td>0.0</td>\n",
       "      <td>NaN</td>\n",
       "      <td>13.530992</td>\n",
       "      <td>2.869250</td>\n",
       "      <td>47.067193</td>\n",
       "      <td>35.463493</td>\n",
       "      <td>12.261534</td>\n",
       "    </tr>\n",
       "    <tr>\n",
       "      <th>min</th>\n",
       "      <td>2015.0</td>\n",
       "      <td>1.0</td>\n",
       "      <td>1.0</td>\n",
       "      <td>4.0</td>\n",
       "      <td>1.000000</td>\n",
       "      <td>5.000000</td>\n",
       "      <td>2.000000</td>\n",
       "      <td>-27.000000</td>\n",
       "      <td>3.00000</td>\n",
       "      <td>14.000000</td>\n",
       "      <td>...</td>\n",
       "      <td>1.000000</td>\n",
       "      <td>-54.00000</td>\n",
       "      <td>0.0</td>\n",
       "      <td>0.0</td>\n",
       "      <td>NaN</td>\n",
       "      <td>0.000000</td>\n",
       "      <td>0.000000</td>\n",
       "      <td>0.000000</td>\n",
       "      <td>0.000000</td>\n",
       "      <td>0.000000</td>\n",
       "    </tr>\n",
       "    <tr>\n",
       "      <th>25%</th>\n",
       "      <td>2015.0</td>\n",
       "      <td>1.0</td>\n",
       "      <td>1.0</td>\n",
       "      <td>4.0</td>\n",
       "      <td>684.000000</td>\n",
       "      <td>914.000000</td>\n",
       "      <td>918.000000</td>\n",
       "      <td>-4.000000</td>\n",
       "      <td>11.00000</td>\n",
       "      <td>934.000000</td>\n",
       "      <td>...</td>\n",
       "      <td>1138.000000</td>\n",
       "      <td>-13.00000</td>\n",
       "      <td>0.0</td>\n",
       "      <td>0.0</td>\n",
       "      <td>NaN</td>\n",
       "      <td>0.000000</td>\n",
       "      <td>0.000000</td>\n",
       "      <td>0.000000</td>\n",
       "      <td>0.000000</td>\n",
       "      <td>0.000000</td>\n",
       "    </tr>\n",
       "    <tr>\n",
       "      <th>50%</th>\n",
       "      <td>2015.0</td>\n",
       "      <td>1.0</td>\n",
       "      <td>1.0</td>\n",
       "      <td>4.0</td>\n",
       "      <td>1528.000000</td>\n",
       "      <td>1205.000000</td>\n",
       "      <td>1213.000000</td>\n",
       "      <td>-1.000000</td>\n",
       "      <td>13.00000</td>\n",
       "      <td>1227.000000</td>\n",
       "      <td>...</td>\n",
       "      <td>1432.000000</td>\n",
       "      <td>-4.00000</td>\n",
       "      <td>0.0</td>\n",
       "      <td>0.0</td>\n",
       "      <td>NaN</td>\n",
       "      <td>3.000000</td>\n",
       "      <td>0.000000</td>\n",
       "      <td>8.000000</td>\n",
       "      <td>0.000000</td>\n",
       "      <td>0.000000</td>\n",
       "    </tr>\n",
       "    <tr>\n",
       "      <th>75%</th>\n",
       "      <td>2015.0</td>\n",
       "      <td>1.0</td>\n",
       "      <td>1.0</td>\n",
       "      <td>4.0</td>\n",
       "      <td>3225.000000</td>\n",
       "      <td>1450.000000</td>\n",
       "      <td>1458.000000</td>\n",
       "      <td>8.000000</td>\n",
       "      <td>17.00000</td>\n",
       "      <td>1513.000000</td>\n",
       "      <td>...</td>\n",
       "      <td>1715.000000</td>\n",
       "      <td>8.00000</td>\n",
       "      <td>0.0</td>\n",
       "      <td>0.0</td>\n",
       "      <td>NaN</td>\n",
       "      <td>16.000000</td>\n",
       "      <td>0.000000</td>\n",
       "      <td>23.000000</td>\n",
       "      <td>19.000000</td>\n",
       "      <td>0.000000</td>\n",
       "    </tr>\n",
       "    <tr>\n",
       "      <th>max</th>\n",
       "      <td>2015.0</td>\n",
       "      <td>1.0</td>\n",
       "      <td>1.0</td>\n",
       "      <td>4.0</td>\n",
       "      <td>7438.000000</td>\n",
       "      <td>1735.000000</td>\n",
       "      <td>2354.000000</td>\n",
       "      <td>1190.000000</td>\n",
       "      <td>113.00000</td>\n",
       "      <td>2219.000000</td>\n",
       "      <td>...</td>\n",
       "      <td>2400.000000</td>\n",
       "      <td>1201.00000</td>\n",
       "      <td>0.0</td>\n",
       "      <td>0.0</td>\n",
       "      <td>NaN</td>\n",
       "      <td>164.000000</td>\n",
       "      <td>107.000000</td>\n",
       "      <td>1169.000000</td>\n",
       "      <td>467.000000</td>\n",
       "      <td>213.000000</td>\n",
       "    </tr>\n",
       "  </tbody>\n",
       "</table>\n",
       "<p>8 rows × 27 columns</p>\n",
       "</div>"
      ],
      "text/plain": [
       "          YEAR    MONTH      DAY  DAY_OF_WEEK  FLIGHT_NUMBER  \\\n",
       "count  10000.0  10000.0  10000.0      10000.0   10000.000000   \n",
       "mean    2015.0      1.0      1.0          4.0    2141.744000   \n",
       "std        0.0      0.0      0.0          0.0    1857.476239   \n",
       "min     2015.0      1.0      1.0          4.0       1.000000   \n",
       "25%     2015.0      1.0      1.0          4.0     684.000000   \n",
       "50%     2015.0      1.0      1.0          4.0    1528.000000   \n",
       "75%     2015.0      1.0      1.0          4.0    3225.000000   \n",
       "max     2015.0      1.0      1.0          4.0    7438.000000   \n",
       "\n",
       "       SCHEDULED_DEPARTURE  DEPARTURE_TIME  DEPARTURE_DELAY     TAXI_OUT  \\\n",
       "count         10000.000000    10000.000000     10000.000000  10000.00000   \n",
       "mean           1177.800700     1188.152000         7.567300     14.93420   \n",
       "std             338.037411      346.797973        31.044095      6.89748   \n",
       "min               5.000000        2.000000       -27.000000      3.00000   \n",
       "25%             914.000000      918.000000        -4.000000     11.00000   \n",
       "50%            1205.000000     1213.000000        -1.000000     13.00000   \n",
       "75%            1450.000000     1458.000000         8.000000     17.00000   \n",
       "max            1735.000000     2354.000000      1190.000000    113.00000   \n",
       "\n",
       "         WHEELS_OFF      ...        ARRIVAL_TIME  ARRIVAL_DELAY  DIVERTED  \\\n",
       "count  10000.000000      ...        10000.000000    10000.00000   10000.0   \n",
       "mean    1213.442200      ...         1423.537500        2.80170       0.0   \n",
       "std      344.809858      ...          366.182362       33.41811       0.0   \n",
       "min       14.000000      ...            1.000000      -54.00000       0.0   \n",
       "25%      934.000000      ...         1138.000000      -13.00000       0.0   \n",
       "50%     1227.000000      ...         1432.000000       -4.00000       0.0   \n",
       "75%     1513.000000      ...         1715.000000        8.00000       0.0   \n",
       "max     2219.000000      ...         2400.000000     1201.00000       0.0   \n",
       "\n",
       "       CANCELLED  CANCELLATION_REASON  AIR_SYSTEM_DELAY  SECURITY_DELAY  \\\n",
       "count    10000.0                  0.0       1842.000000     1842.000000   \n",
       "mean         0.0                  NaN          9.242671        0.131379   \n",
       "std          0.0                  NaN         13.530992        2.869250   \n",
       "min          0.0                  NaN          0.000000        0.000000   \n",
       "25%          0.0                  NaN          0.000000        0.000000   \n",
       "50%          0.0                  NaN          3.000000        0.000000   \n",
       "75%          0.0                  NaN         16.000000        0.000000   \n",
       "max          0.0                  NaN        164.000000      107.000000   \n",
       "\n",
       "       AIRLINE_DELAY  LATE_AIRCRAFT_DELAY  WEATHER_DELAY  \n",
       "count    1842.000000          1842.000000    1842.000000  \n",
       "mean       20.625950            16.262758       1.625407  \n",
       "std        47.067193            35.463493      12.261534  \n",
       "min         0.000000             0.000000       0.000000  \n",
       "25%         0.000000             0.000000       0.000000  \n",
       "50%         8.000000             0.000000       0.000000  \n",
       "75%        23.000000            19.000000       0.000000  \n",
       "max      1169.000000           467.000000     213.000000  \n",
       "\n",
       "[8 rows x 27 columns]"
      ]
     },
     "execution_count": 7,
     "metadata": {},
     "output_type": "execute_result"
    }
   ],
   "source": [
    "# Use this to get quick stats on all columns of data\n",
    "df.describe()"
   ]
  },
  {
   "cell_type": "code",
   "execution_count": null,
   "metadata": {
    "ExecuteTime": {
     "end_time": "2020-12-17T18:30:02.912991Z",
     "start_time": "2020-12-17T18:30:02.315312Z"
    },
    "code_folding": [],
    "run_control": {
     "marked": true
    }
   },
   "outputs": [],
   "source": [
    "# describes the column \n",
    "print(df.YOUR_COLUMN.describe())"
   ]
  },
  {
   "cell_type": "markdown",
   "metadata": {},
   "source": [
    "### Find NULL and Missing values in Data"
   ]
  },
  {
   "cell_type": "code",
   "execution_count": 8,
   "metadata": {
    "ExecuteTime": {
     "end_time": "2020-12-17T21:34:00.582684Z",
     "start_time": "2020-12-17T21:34:00.573756Z"
    }
   },
   "outputs": [
    {
     "name": "stdout",
     "output_type": "stream",
     "text": [
      "50790\n"
     ]
    }
   ],
   "source": [
    "#counts all null values in data frame (both column and rows)\n",
    "print(df.isnull().sum().sum())\n"
   ]
  },
  {
   "cell_type": "code",
   "execution_count": 9,
   "metadata": {
    "ExecuteTime": {
     "end_time": "2020-12-17T21:34:01.299403Z",
     "start_time": "2020-12-17T21:34:01.290475Z"
    }
   },
   "outputs": [
    {
     "name": "stdout",
     "output_type": "stream",
     "text": [
      "YEAR                       0\n",
      "MONTH                      0\n",
      "DAY                        0\n",
      "DAY_OF_WEEK                0\n",
      "AIRLINE                    0\n",
      "FLIGHT_NUMBER              0\n",
      "TAIL_NUMBER                0\n",
      "ORIGIN_AIRPORT             0\n",
      "DESTINATION_AIRPORT        0\n",
      "SCHEDULED_DEPARTURE        0\n",
      "DEPARTURE_TIME             0\n",
      "DEPARTURE_DELAY            0\n",
      "TAXI_OUT                   0\n",
      "WHEELS_OFF                 0\n",
      "SCHEDULED_TIME             0\n",
      "ELAPSED_TIME               0\n",
      "AIR_TIME                   0\n",
      "DISTANCE                   0\n",
      "WHEELS_ON                  0\n",
      "TAXI_IN                    0\n",
      "SCHEDULED_ARRIVAL          0\n",
      "ARRIVAL_TIME               0\n",
      "ARRIVAL_DELAY              0\n",
      "DIVERTED                   0\n",
      "CANCELLED                  0\n",
      "CANCELLATION_REASON    10000\n",
      "AIR_SYSTEM_DELAY        8158\n",
      "SECURITY_DELAY          8158\n",
      "AIRLINE_DELAY           8158\n",
      "LATE_AIRCRAFT_DELAY     8158\n",
      "WEATHER_DELAY           8158\n",
      "dtype: int64\n"
     ]
    }
   ],
   "source": [
    "#counts all null values in each column\n",
    "print(df.isnull().sum())"
   ]
  },
  {
   "cell_type": "code",
   "execution_count": 10,
   "metadata": {
    "ExecuteTime": {
     "end_time": "2020-12-17T21:34:01.916426Z",
     "start_time": "2020-12-17T21:34:01.896090Z"
    }
   },
   "outputs": [
    {
     "name": "stdout",
     "output_type": "stream",
     "text": [
      "       YEAR  MONTH    DAY  DAY_OF_WEEK  AIRLINE  FLIGHT_NUMBER  TAIL_NUMBER  \\\n",
      "0     False  False  False        False    False          False        False   \n",
      "1     False  False  False        False    False          False        False   \n",
      "2     False  False  False        False    False          False        False   \n",
      "3     False  False  False        False    False          False        False   \n",
      "4     False  False  False        False    False          False        False   \n",
      "5     False  False  False        False    False          False        False   \n",
      "6     False  False  False        False    False          False        False   \n",
      "7     False  False  False        False    False          False        False   \n",
      "8     False  False  False        False    False          False        False   \n",
      "9     False  False  False        False    False          False        False   \n",
      "10    False  False  False        False    False          False        False   \n",
      "11    False  False  False        False    False          False        False   \n",
      "12    False  False  False        False    False          False        False   \n",
      "13    False  False  False        False    False          False        False   \n",
      "14    False  False  False        False    False          False        False   \n",
      "15    False  False  False        False    False          False        False   \n",
      "16    False  False  False        False    False          False        False   \n",
      "17    False  False  False        False    False          False        False   \n",
      "18    False  False  False        False    False          False        False   \n",
      "19    False  False  False        False    False          False        False   \n",
      "20    False  False  False        False    False          False        False   \n",
      "21    False  False  False        False    False          False        False   \n",
      "22    False  False  False        False    False          False        False   \n",
      "23    False  False  False        False    False          False        False   \n",
      "24    False  False  False        False    False          False        False   \n",
      "25    False  False  False        False    False          False        False   \n",
      "26    False  False  False        False    False          False        False   \n",
      "27    False  False  False        False    False          False        False   \n",
      "28    False  False  False        False    False          False        False   \n",
      "29    False  False  False        False    False          False        False   \n",
      "...     ...    ...    ...          ...      ...            ...          ...   \n",
      "9970  False  False  False        False    False          False        False   \n",
      "9971  False  False  False        False    False          False        False   \n",
      "9972  False  False  False        False    False          False        False   \n",
      "9973  False  False  False        False    False          False        False   \n",
      "9974  False  False  False        False    False          False        False   \n",
      "9975  False  False  False        False    False          False        False   \n",
      "9976  False  False  False        False    False          False        False   \n",
      "9977  False  False  False        False    False          False        False   \n",
      "9978  False  False  False        False    False          False        False   \n",
      "9979  False  False  False        False    False          False        False   \n",
      "9980  False  False  False        False    False          False        False   \n",
      "9981  False  False  False        False    False          False        False   \n",
      "9982  False  False  False        False    False          False        False   \n",
      "9983  False  False  False        False    False          False        False   \n",
      "9984  False  False  False        False    False          False        False   \n",
      "9985  False  False  False        False    False          False        False   \n",
      "9986  False  False  False        False    False          False        False   \n",
      "9987  False  False  False        False    False          False        False   \n",
      "9988  False  False  False        False    False          False        False   \n",
      "9989  False  False  False        False    False          False        False   \n",
      "9990  False  False  False        False    False          False        False   \n",
      "9991  False  False  False        False    False          False        False   \n",
      "9992  False  False  False        False    False          False        False   \n",
      "9993  False  False  False        False    False          False        False   \n",
      "9994  False  False  False        False    False          False        False   \n",
      "9995  False  False  False        False    False          False        False   \n",
      "9996  False  False  False        False    False          False        False   \n",
      "9997  False  False  False        False    False          False        False   \n",
      "9998  False  False  False        False    False          False        False   \n",
      "9999  False  False  False        False    False          False        False   \n",
      "\n",
      "      ORIGIN_AIRPORT  DESTINATION_AIRPORT  SCHEDULED_DEPARTURE      ...        \\\n",
      "0              False                False                False      ...         \n",
      "1              False                False                False      ...         \n",
      "2              False                False                False      ...         \n",
      "3              False                False                False      ...         \n",
      "4              False                False                False      ...         \n",
      "5              False                False                False      ...         \n",
      "6              False                False                False      ...         \n",
      "7              False                False                False      ...         \n",
      "8              False                False                False      ...         \n",
      "9              False                False                False      ...         \n",
      "10             False                False                False      ...         \n",
      "11             False                False                False      ...         \n",
      "12             False                False                False      ...         \n",
      "13             False                False                False      ...         \n",
      "14             False                False                False      ...         \n",
      "15             False                False                False      ...         \n",
      "16             False                False                False      ...         \n",
      "17             False                False                False      ...         \n",
      "18             False                False                False      ...         \n",
      "19             False                False                False      ...         \n",
      "20             False                False                False      ...         \n",
      "21             False                False                False      ...         \n",
      "22             False                False                False      ...         \n",
      "23             False                False                False      ...         \n",
      "24             False                False                False      ...         \n",
      "25             False                False                False      ...         \n",
      "26             False                False                False      ...         \n",
      "27             False                False                False      ...         \n",
      "28             False                False                False      ...         \n",
      "29             False                False                False      ...         \n",
      "...              ...                  ...                  ...      ...         \n",
      "9970           False                False                False      ...         \n",
      "9971           False                False                False      ...         \n",
      "9972           False                False                False      ...         \n",
      "9973           False                False                False      ...         \n",
      "9974           False                False                False      ...         \n",
      "9975           False                False                False      ...         \n",
      "9976           False                False                False      ...         \n",
      "9977           False                False                False      ...         \n",
      "9978           False                False                False      ...         \n",
      "9979           False                False                False      ...         \n",
      "9980           False                False                False      ...         \n",
      "9981           False                False                False      ...         \n",
      "9982           False                False                False      ...         \n",
      "9983           False                False                False      ...         \n",
      "9984           False                False                False      ...         \n",
      "9985           False                False                False      ...         \n",
      "9986           False                False                False      ...         \n",
      "9987           False                False                False      ...         \n",
      "9988           False                False                False      ...         \n",
      "9989           False                False                False      ...         \n",
      "9990           False                False                False      ...         \n",
      "9991           False                False                False      ...         \n",
      "9992           False                False                False      ...         \n",
      "9993           False                False                False      ...         \n",
      "9994           False                False                False      ...         \n",
      "9995           False                False                False      ...         \n",
      "9996           False                False                False      ...         \n",
      "9997           False                False                False      ...         \n",
      "9998           False                False                False      ...         \n",
      "9999           False                False                False      ...         \n",
      "\n",
      "      ARRIVAL_TIME  ARRIVAL_DELAY  DIVERTED  CANCELLED  CANCELLATION_REASON  \\\n",
      "0            False          False     False      False                 True   \n",
      "1            False          False     False      False                 True   \n",
      "2            False          False     False      False                 True   \n",
      "3            False          False     False      False                 True   \n",
      "4            False          False     False      False                 True   \n",
      "5            False          False     False      False                 True   \n",
      "6            False          False     False      False                 True   \n",
      "7            False          False     False      False                 True   \n",
      "8            False          False     False      False                 True   \n",
      "9            False          False     False      False                 True   \n",
      "10           False          False     False      False                 True   \n",
      "11           False          False     False      False                 True   \n",
      "12           False          False     False      False                 True   \n",
      "13           False          False     False      False                 True   \n",
      "14           False          False     False      False                 True   \n",
      "15           False          False     False      False                 True   \n",
      "16           False          False     False      False                 True   \n",
      "17           False          False     False      False                 True   \n",
      "18           False          False     False      False                 True   \n",
      "19           False          False     False      False                 True   \n",
      "20           False          False     False      False                 True   \n",
      "21           False          False     False      False                 True   \n",
      "22           False          False     False      False                 True   \n",
      "23           False          False     False      False                 True   \n",
      "24           False          False     False      False                 True   \n",
      "25           False          False     False      False                 True   \n",
      "26           False          False     False      False                 True   \n",
      "27           False          False     False      False                 True   \n",
      "28           False          False     False      False                 True   \n",
      "29           False          False     False      False                 True   \n",
      "...            ...            ...       ...        ...                  ...   \n",
      "9970         False          False     False      False                 True   \n",
      "9971         False          False     False      False                 True   \n",
      "9972         False          False     False      False                 True   \n",
      "9973         False          False     False      False                 True   \n",
      "9974         False          False     False      False                 True   \n",
      "9975         False          False     False      False                 True   \n",
      "9976         False          False     False      False                 True   \n",
      "9977         False          False     False      False                 True   \n",
      "9978         False          False     False      False                 True   \n",
      "9979         False          False     False      False                 True   \n",
      "9980         False          False     False      False                 True   \n",
      "9981         False          False     False      False                 True   \n",
      "9982         False          False     False      False                 True   \n",
      "9983         False          False     False      False                 True   \n",
      "9984         False          False     False      False                 True   \n",
      "9985         False          False     False      False                 True   \n",
      "9986         False          False     False      False                 True   \n",
      "9987         False          False     False      False                 True   \n",
      "9988         False          False     False      False                 True   \n",
      "9989         False          False     False      False                 True   \n",
      "9990         False          False     False      False                 True   \n",
      "9991         False          False     False      False                 True   \n",
      "9992         False          False     False      False                 True   \n",
      "9993         False          False     False      False                 True   \n",
      "9994         False          False     False      False                 True   \n",
      "9995         False          False     False      False                 True   \n",
      "9996         False          False     False      False                 True   \n",
      "9997         False          False     False      False                 True   \n",
      "9998         False          False     False      False                 True   \n",
      "9999         False          False     False      False                 True   \n",
      "\n",
      "      AIR_SYSTEM_DELAY  SECURITY_DELAY  AIRLINE_DELAY  LATE_AIRCRAFT_DELAY  \\\n",
      "0                 True            True           True                 True   \n",
      "1                 True            True           True                 True   \n",
      "2                 True            True           True                 True   \n",
      "3                 True            True           True                 True   \n",
      "4                 True            True           True                 True   \n",
      "5                 True            True           True                 True   \n",
      "6                 True            True           True                 True   \n",
      "7                 True            True           True                 True   \n",
      "8                 True            True           True                 True   \n",
      "9                 True            True           True                 True   \n",
      "10                True            True           True                 True   \n",
      "11                True            True           True                 True   \n",
      "12                True            True           True                 True   \n",
      "13                True            True           True                 True   \n",
      "14                True            True           True                 True   \n",
      "15                True            True           True                 True   \n",
      "16                True            True           True                 True   \n",
      "17                True            True           True                 True   \n",
      "18                True            True           True                 True   \n",
      "19                True            True           True                 True   \n",
      "20                True            True           True                 True   \n",
      "21                True            True           True                 True   \n",
      "22                True            True           True                 True   \n",
      "23                True            True           True                 True   \n",
      "24                True            True           True                 True   \n",
      "25                True            True           True                 True   \n",
      "26                True            True           True                 True   \n",
      "27               False           False          False                False   \n",
      "28                True            True           True                 True   \n",
      "29                True            True           True                 True   \n",
      "...                ...             ...            ...                  ...   \n",
      "9970             False           False          False                False   \n",
      "9971             False           False          False                False   \n",
      "9972              True            True           True                 True   \n",
      "9973              True            True           True                 True   \n",
      "9974             False           False          False                False   \n",
      "9975              True            True           True                 True   \n",
      "9976             False           False          False                False   \n",
      "9977              True            True           True                 True   \n",
      "9978              True            True           True                 True   \n",
      "9979              True            True           True                 True   \n",
      "9980              True            True           True                 True   \n",
      "9981              True            True           True                 True   \n",
      "9982             False           False          False                False   \n",
      "9983              True            True           True                 True   \n",
      "9984              True            True           True                 True   \n",
      "9985              True            True           True                 True   \n",
      "9986             False           False          False                False   \n",
      "9987              True            True           True                 True   \n",
      "9988              True            True           True                 True   \n",
      "9989             False           False          False                False   \n",
      "9990              True            True           True                 True   \n",
      "9991              True            True           True                 True   \n",
      "9992              True            True           True                 True   \n",
      "9993             False           False          False                False   \n",
      "9994              True            True           True                 True   \n",
      "9995             False           False          False                False   \n",
      "9996              True            True           True                 True   \n",
      "9997              True            True           True                 True   \n",
      "9998              True            True           True                 True   \n",
      "9999              True            True           True                 True   \n",
      "\n",
      "      WEATHER_DELAY  \n",
      "0              True  \n",
      "1              True  \n",
      "2              True  \n",
      "3              True  \n",
      "4              True  \n",
      "5              True  \n",
      "6              True  \n",
      "7              True  \n",
      "8              True  \n",
      "9              True  \n",
      "10             True  \n",
      "11             True  \n",
      "12             True  \n",
      "13             True  \n",
      "14             True  \n",
      "15             True  \n",
      "16             True  \n",
      "17             True  \n",
      "18             True  \n",
      "19             True  \n",
      "20             True  \n",
      "21             True  \n",
      "22             True  \n",
      "23             True  \n",
      "24             True  \n",
      "25             True  \n",
      "26             True  \n",
      "27            False  \n",
      "28             True  \n",
      "29             True  \n",
      "...             ...  \n",
      "9970          False  \n",
      "9971          False  \n",
      "9972           True  \n",
      "9973           True  \n",
      "9974          False  \n",
      "9975           True  \n",
      "9976          False  \n",
      "9977           True  \n",
      "9978           True  \n",
      "9979           True  \n",
      "9980           True  \n",
      "9981           True  \n",
      "9982          False  \n",
      "9983           True  \n",
      "9984           True  \n",
      "9985           True  \n",
      "9986          False  \n",
      "9987           True  \n",
      "9988           True  \n",
      "9989          False  \n",
      "9990           True  \n",
      "9991           True  \n",
      "9992           True  \n",
      "9993          False  \n",
      "9994           True  \n",
      "9995          False  \n",
      "9996           True  \n",
      "9997           True  \n",
      "9998           True  \n",
      "9999           True  \n",
      "\n",
      "[10000 rows x 31 columns]\n"
     ]
    }
   ],
   "source": [
    "#show null values\n",
    "print(df.isnull())\n"
   ]
  },
  {
   "cell_type": "code",
   "execution_count": null,
   "metadata": {},
   "outputs": [],
   "source": [
    "# NULL and Missing values\n",
    "# DEPARTURE_DELAY           1 keep\n",
    "# TAXI_OUT                  1 drop\n",
    "# WHEELS_OFF                1 drop\n",
    "# SCHEDULED_TIME            1 keep\n",
    "# ELAPSED_TIME              1 keep\n",
    "# AIR_TIME                  1 keep\n",
    "# DISTANCE                  1 keep\n",
    "# WHEELS_ON                 1 drop\n",
    "# TAXI_IN                   1 drop\n",
    "# SCHEDULED_ARRIVAL         1 keep\n",
    "# ARRIVAL_TIME              1 keep\n",
    "# ARRIVAL_DELAY             1 keep\n",
    "# DIVERTED                  1 keep\n",
    "# CANCELLED                 1 keep\n",
    "# CANCELLATION_REASON    5481 keep\n",
    "# AIR_SYSTEM_DELAY       4697 keep\n",
    "# SECURITY_DELAY         4697 keep\n",
    "# AIRLINE_DELAY          4697 keep\n",
    "# LATE_AIRCRAFT_DELAY    4697 keep\n",
    "# WEATHER_DELAY          4697 keep\n",
    "\n",
    "\n"
   ]
  },
  {
   "cell_type": "code",
   "execution_count": null,
   "metadata": {
    "ExecuteTime": {
     "end_time": "2020-12-16T21:49:44.387986Z",
     "start_time": "2020-12-16T21:49:44.355250Z"
    }
   },
   "outputs": [],
   "source": [
    "#  DO NOT RUN\n",
    "\n",
    "# df['DEPARTURE_DELAY'].describe() \n",
    "# df['TAXI_OUT'].describe() \n",
    "# df['WHEELS_OFF'].describe() \n",
    "# df['ELAPSED_TIME'].describe() \n",
    "# df['AIR_TIME'].describe() \n",
    "# df['WHEELS_ON'].describe() \n",
    "# df['TAXI_IN'].describe() \n",
    "# df['SCHEDULED_ARRIVAL'].describe() \n",
    "# df['ARRIVAL_TIME'].describe() \n",
    "# df['ARRIVAL_DELAY'].describe() \n",
    "# df['DIVERTED'].describe() \n",
    "# df['CANCELLED'].describe() \n",
    "# df['CANCELLATION_REASON'].describe() \n",
    "# df['AIR_SYSTEM_DELAY'].describe() \n",
    "# df['SECURITY_DELAY'].describe() \n",
    "# df['AIRLINE_DELAY'].describe() \n",
    "# df['LATE_AIRCRAFT_DELAY'].describe() \n",
    "# df['WEATHER_DELAY'].describe() \n"
   ]
  },
  {
   "cell_type": "code",
   "execution_count": 161,
   "metadata": {
    "ExecuteTime": {
     "end_time": "2020-12-17T23:20:01.073626Z",
     "start_time": "2020-12-17T23:20:01.065194Z"
    },
    "run_control": {
     "marked": true
    }
   },
   "outputs": [
    {
     "data": {
      "text/plain": [
       "count    10000.000000\n",
       "mean         7.567300\n",
       "std         31.044095\n",
       "min        -27.000000\n",
       "25%         -4.000000\n",
       "50%         -1.000000\n",
       "75%          8.000000\n",
       "max       1190.000000\n",
       "Name: DEPARTURE_DELAY, dtype: float64"
      ]
     },
     "execution_count": 161,
     "metadata": {},
     "output_type": "execute_result"
    }
   ],
   "source": [
    "\n",
    "df['DEPARTURE_DELAY'].describe() \n"
   ]
  },
  {
   "cell_type": "code",
   "execution_count": 162,
   "metadata": {
    "ExecuteTime": {
     "end_time": "2020-12-17T23:20:01.610297Z",
     "start_time": "2020-12-17T23:20:01.602361Z"
    }
   },
   "outputs": [
    {
     "data": {
      "text/plain": [
       "count    10000.00000\n",
       "mean        14.93420\n",
       "std          6.89748\n",
       "min          3.00000\n",
       "25%         11.00000\n",
       "50%         13.00000\n",
       "75%         17.00000\n",
       "max        113.00000\n",
       "Name: TAXI_OUT, dtype: float64"
      ]
     },
     "execution_count": 162,
     "metadata": {},
     "output_type": "execute_result"
    }
   ],
   "source": [
    "df['TAXI_OUT'].describe() \n"
   ]
  },
  {
   "cell_type": "code",
   "execution_count": 163,
   "metadata": {
    "ExecuteTime": {
     "end_time": "2020-12-17T23:20:01.619225Z",
     "start_time": "2020-12-17T23:20:01.612281Z"
    }
   },
   "outputs": [
    {
     "data": {
      "text/plain": [
       "count    10000.000000\n",
       "mean      1213.442200\n",
       "std        344.809858\n",
       "min         14.000000\n",
       "25%        934.000000\n",
       "50%       1227.000000\n",
       "75%       1513.000000\n",
       "max       2219.000000\n",
       "Name: WHEELS_OFF, dtype: float64"
      ]
     },
     "execution_count": 163,
     "metadata": {},
     "output_type": "execute_result"
    }
   ],
   "source": [
    "df['WHEELS_OFF'].describe() \n"
   ]
  },
  {
   "cell_type": "code",
   "execution_count": 164,
   "metadata": {
    "ExecuteTime": {
     "end_time": "2020-12-17T23:20:02.149944Z",
     "start_time": "2020-12-17T23:20:02.143000Z"
    }
   },
   "outputs": [
    {
     "data": {
      "text/plain": [
       "count    10000.000000\n",
       "mean       142.937500\n",
       "std         76.451262\n",
       "min         23.000000\n",
       "25%         85.000000\n",
       "50%        128.000000\n",
       "75%        177.000000\n",
       "max        711.000000\n",
       "Name: ELAPSED_TIME, dtype: float64"
      ]
     },
     "execution_count": 164,
     "metadata": {},
     "output_type": "execute_result"
    }
   ],
   "source": [
    "df['ELAPSED_TIME'].describe() \n"
   ]
  },
  {
   "cell_type": "code",
   "execution_count": 165,
   "metadata": {
    "ExecuteTime": {
     "end_time": "2020-12-17T23:20:02.159368Z",
     "start_time": "2020-12-17T23:20:02.151432Z"
    }
   },
   "outputs": [
    {
     "data": {
      "text/plain": [
       "count    10000.000000\n",
       "mean       120.536200\n",
       "std         75.046266\n",
       "min         14.000000\n",
       "25%         64.000000\n",
       "50%        105.000000\n",
       "75%        153.000000\n",
       "max        669.000000\n",
       "Name: AIR_TIME, dtype: float64"
      ]
     },
     "execution_count": 165,
     "metadata": {},
     "output_type": "execute_result"
    }
   ],
   "source": [
    "df['AIR_TIME'].describe() \n"
   ]
  },
  {
   "cell_type": "code",
   "execution_count": 166,
   "metadata": {
    "ExecuteTime": {
     "end_time": "2020-12-17T23:20:02.168792Z",
     "start_time": "2020-12-17T23:20:02.161353Z"
    }
   },
   "outputs": [
    {
     "data": {
      "text/plain": [
       "count    10000.000000\n",
       "mean      1411.690400\n",
       "std        365.462361\n",
       "min          4.000000\n",
       "25%       1131.000000\n",
       "50%       1426.000000\n",
       "75%       1709.000000\n",
       "max       2357.000000\n",
       "Name: WHEELS_ON, dtype: float64"
      ]
     },
     "execution_count": 166,
     "metadata": {},
     "output_type": "execute_result"
    }
   ],
   "source": [
    "df['WHEELS_ON'].describe() \n"
   ]
  },
  {
   "cell_type": "code",
   "execution_count": 167,
   "metadata": {
    "ExecuteTime": {
     "end_time": "2020-12-17T23:20:02.325528Z",
     "start_time": "2020-12-17T23:20:02.318584Z"
    }
   },
   "outputs": [
    {
     "data": {
      "text/plain": [
       "count    10000.000000\n",
       "mean         7.467100\n",
       "std          5.526316\n",
       "min          1.000000\n",
       "25%          4.000000\n",
       "50%          6.000000\n",
       "75%          9.000000\n",
       "max         80.000000\n",
       "Name: TAXI_IN, dtype: float64"
      ]
     },
     "execution_count": 167,
     "metadata": {},
     "output_type": "execute_result"
    }
   ],
   "source": [
    "df['TAXI_IN'].describe() \n",
    " "
   ]
  },
  {
   "cell_type": "code",
   "execution_count": 168,
   "metadata": {
    "ExecuteTime": {
     "end_time": "2020-12-17T23:20:02.500616Z",
     "start_time": "2020-12-17T23:20:02.493176Z"
    }
   },
   "outputs": [
    {
     "data": {
      "text/plain": [
       "count    10000.00000\n",
       "mean      1422.11980\n",
       "std        357.63333\n",
       "min          5.00000\n",
       "25%       1137.00000\n",
       "50%       1433.00000\n",
       "75%       1710.00000\n",
       "max       2359.00000\n",
       "Name: SCHEDULED_ARRIVAL, dtype: float64"
      ]
     },
     "execution_count": 168,
     "metadata": {},
     "output_type": "execute_result"
    }
   ],
   "source": [
    "df['SCHEDULED_ARRIVAL'].describe() \n"
   ]
  },
  {
   "cell_type": "code",
   "execution_count": 169,
   "metadata": {
    "ExecuteTime": {
     "end_time": "2020-12-17T23:20:02.678679Z",
     "start_time": "2020-12-17T23:20:02.671239Z"
    }
   },
   "outputs": [
    {
     "data": {
      "text/plain": [
       "count    10000.000000\n",
       "mean      1423.537500\n",
       "std        366.182362\n",
       "min          1.000000\n",
       "25%       1138.000000\n",
       "50%       1432.000000\n",
       "75%       1715.000000\n",
       "max       2400.000000\n",
       "Name: ARRIVAL_TIME, dtype: float64"
      ]
     },
     "execution_count": 169,
     "metadata": {},
     "output_type": "execute_result"
    }
   ],
   "source": [
    "df['ARRIVAL_TIME'].describe() \n"
   ]
  },
  {
   "cell_type": "code",
   "execution_count": 170,
   "metadata": {
    "ExecuteTime": {
     "end_time": "2020-12-17T23:20:02.839383Z",
     "start_time": "2020-12-17T23:20:02.831944Z"
    }
   },
   "outputs": [
    {
     "data": {
      "text/plain": [
       "count    10000.00000\n",
       "mean         2.80170\n",
       "std         33.41811\n",
       "min        -54.00000\n",
       "25%        -13.00000\n",
       "50%         -4.00000\n",
       "75%          8.00000\n",
       "max       1201.00000\n",
       "Name: ARRIVAL_DELAY, dtype: float64"
      ]
     },
     "execution_count": 170,
     "metadata": {},
     "output_type": "execute_result"
    }
   ],
   "source": [
    "df['ARRIVAL_DELAY'].describe() \n"
   ]
  },
  {
   "cell_type": "code",
   "execution_count": 171,
   "metadata": {
    "ExecuteTime": {
     "end_time": "2020-12-17T23:20:03.032326Z",
     "start_time": "2020-12-17T23:20:03.025383Z"
    }
   },
   "outputs": [
    {
     "data": {
      "text/plain": [
       "count    10000.0\n",
       "mean         0.0\n",
       "std          0.0\n",
       "min          0.0\n",
       "25%          0.0\n",
       "50%          0.0\n",
       "75%          0.0\n",
       "max          0.0\n",
       "Name: DIVERTED, dtype: float64"
      ]
     },
     "execution_count": 171,
     "metadata": {},
     "output_type": "execute_result"
    }
   ],
   "source": [
    "df['DIVERTED'].describe() \n"
   ]
  },
  {
   "cell_type": "code",
   "execution_count": 172,
   "metadata": {
    "ExecuteTime": {
     "end_time": "2020-12-17T23:20:03.205926Z",
     "start_time": "2020-12-17T23:20:03.198487Z"
    }
   },
   "outputs": [
    {
     "data": {
      "text/plain": [
       "count    10000.0\n",
       "mean         0.0\n",
       "std          0.0\n",
       "min          0.0\n",
       "25%          0.0\n",
       "50%          0.0\n",
       "75%          0.0\n",
       "max          0.0\n",
       "Name: CANCELLED, dtype: float64"
      ]
     },
     "execution_count": 172,
     "metadata": {},
     "output_type": "execute_result"
    }
   ],
   "source": [
    "df['CANCELLED'].describe() \n"
   ]
  },
  {
   "cell_type": "code",
   "execution_count": 173,
   "metadata": {
    "ExecuteTime": {
     "end_time": "2020-12-17T23:20:03.389942Z",
     "start_time": "2020-12-17T23:20:03.383494Z"
    }
   },
   "outputs": [
    {
     "data": {
      "text/plain": [
       "count    0.0\n",
       "mean     NaN\n",
       "std      NaN\n",
       "min      NaN\n",
       "25%      NaN\n",
       "50%      NaN\n",
       "75%      NaN\n",
       "max      NaN\n",
       "Name: CANCELLATION_REASON, dtype: float64"
      ]
     },
     "execution_count": 173,
     "metadata": {},
     "output_type": "execute_result"
    }
   ],
   "source": [
    "df['CANCELLATION_REASON'].describe() \n"
   ]
  },
  {
   "cell_type": "code",
   "execution_count": 174,
   "metadata": {
    "ExecuteTime": {
     "end_time": "2020-12-17T23:20:03.565525Z",
     "start_time": "2020-12-17T23:20:03.559078Z"
    }
   },
   "outputs": [
    {
     "data": {
      "text/plain": [
       "count    10000.000000\n",
       "mean         9.242671\n",
       "std          5.806016\n",
       "min          0.000000\n",
       "25%          9.242671\n",
       "50%          9.242671\n",
       "75%          9.242671\n",
       "max        164.000000\n",
       "Name: AIR_SYSTEM_DELAY, dtype: float64"
      ]
     },
     "execution_count": 174,
     "metadata": {},
     "output_type": "execute_result"
    }
   ],
   "source": [
    "df['AIR_SYSTEM_DELAY'].describe() \n"
   ]
  },
  {
   "cell_type": "code",
   "execution_count": 175,
   "metadata": {
    "ExecuteTime": {
     "end_time": "2020-12-17T23:20:03.723749Z",
     "start_time": "2020-12-17T23:20:03.716836Z"
    }
   },
   "outputs": [
    {
     "data": {
      "text/plain": [
       "count    10000.000000\n",
       "mean         0.131379\n",
       "std          1.231167\n",
       "min          0.000000\n",
       "25%          0.131379\n",
       "50%          0.131379\n",
       "75%          0.131379\n",
       "max        107.000000\n",
       "Name: SECURITY_DELAY, dtype: float64"
      ]
     },
     "execution_count": 175,
     "metadata": {},
     "output_type": "execute_result"
    }
   ],
   "source": [
    "df['SECURITY_DELAY'].describe() \n"
   ]
  },
  {
   "cell_type": "code",
   "execution_count": 176,
   "metadata": {
    "ExecuteTime": {
     "end_time": "2020-12-17T23:20:03.896357Z",
     "start_time": "2020-12-17T23:20:03.889414Z"
    }
   },
   "outputs": [
    {
     "data": {
      "text/plain": [
       "count    10000.000000\n",
       "mean        20.625950\n",
       "std         20.196072\n",
       "min          0.000000\n",
       "25%         20.625950\n",
       "50%         20.625950\n",
       "75%         20.625950\n",
       "max       1169.000000\n",
       "Name: AIRLINE_DELAY, dtype: float64"
      ]
     },
     "execution_count": 176,
     "metadata": {},
     "output_type": "execute_result"
    }
   ],
   "source": [
    "df['AIRLINE_DELAY'].describe() \n"
   ]
  },
  {
   "cell_type": "code",
   "execution_count": 177,
   "metadata": {
    "ExecuteTime": {
     "end_time": "2020-12-17T23:20:04.055077Z",
     "start_time": "2020-12-17T23:20:04.047638Z"
    }
   },
   "outputs": [
    {
     "data": {
      "text/plain": [
       "count    10000.000000\n",
       "mean        16.262758\n",
       "std         15.217038\n",
       "min          0.000000\n",
       "25%         16.262758\n",
       "50%         16.262758\n",
       "75%         16.262758\n",
       "max        467.000000\n",
       "Name: LATE_AIRCRAFT_DELAY, dtype: float64"
      ]
     },
     "execution_count": 177,
     "metadata": {},
     "output_type": "execute_result"
    }
   ],
   "source": [
    "df['LATE_AIRCRAFT_DELAY'].describe() \n"
   ]
  },
  {
   "cell_type": "code",
   "execution_count": 178,
   "metadata": {
    "ExecuteTime": {
     "end_time": "2020-12-17T23:20:04.227188Z",
     "start_time": "2020-12-17T23:20:04.220245Z"
    }
   },
   "outputs": [
    {
     "data": {
      "text/plain": [
       "count    10000.000000\n",
       "mean         1.625407\n",
       "std          5.261304\n",
       "min          0.000000\n",
       "25%          1.625407\n",
       "50%          1.625407\n",
       "75%          1.625407\n",
       "max        213.000000\n",
       "Name: WEATHER_DELAY, dtype: float64"
      ]
     },
     "execution_count": 178,
     "metadata": {},
     "output_type": "execute_result"
    }
   ],
   "source": [
    "df['WEATHER_DELAY'].describe()"
   ]
  },
  {
   "cell_type": "code",
   "execution_count": null,
   "metadata": {},
   "outputs": [],
   "source": []
  },
  {
   "cell_type": "markdown",
   "metadata": {},
   "source": [
    "### Check Data Types"
   ]
  },
  {
   "cell_type": "code",
   "execution_count": 11,
   "metadata": {
    "ExecuteTime": {
     "end_time": "2020-12-17T21:34:09.200670Z",
     "start_time": "2020-12-17T21:34:09.195709Z"
    }
   },
   "outputs": [
    {
     "data": {
      "text/plain": [
       "YEAR                     int64\n",
       "MONTH                    int64\n",
       "DAY                      int64\n",
       "DAY_OF_WEEK              int64\n",
       "AIRLINE                 object\n",
       "FLIGHT_NUMBER            int64\n",
       "TAIL_NUMBER             object\n",
       "ORIGIN_AIRPORT          object\n",
       "DESTINATION_AIRPORT     object\n",
       "SCHEDULED_DEPARTURE      int64\n",
       "DEPARTURE_TIME           int64\n",
       "DEPARTURE_DELAY          int64\n",
       "TAXI_OUT                 int64\n",
       "WHEELS_OFF               int64\n",
       "SCHEDULED_TIME           int64\n",
       "ELAPSED_TIME             int64\n",
       "AIR_TIME                 int64\n",
       "DISTANCE                 int64\n",
       "WHEELS_ON                int64\n",
       "TAXI_IN                  int64\n",
       "SCHEDULED_ARRIVAL        int64\n",
       "ARRIVAL_TIME             int64\n",
       "ARRIVAL_DELAY            int64\n",
       "DIVERTED                 int64\n",
       "CANCELLED                int64\n",
       "CANCELLATION_REASON    float64\n",
       "AIR_SYSTEM_DELAY       float64\n",
       "SECURITY_DELAY         float64\n",
       "AIRLINE_DELAY          float64\n",
       "LATE_AIRCRAFT_DELAY    float64\n",
       "WEATHER_DELAY          float64\n",
       "dtype: object"
      ]
     },
     "execution_count": 11,
     "metadata": {},
     "output_type": "execute_result"
    }
   ],
   "source": [
    "# Chaeck Data Types\n",
    "df.dtypes"
   ]
  },
  {
   "cell_type": "markdown",
   "metadata": {},
   "source": [
    "# Preproccessing:"
   ]
  },
  {
   "cell_type": "markdown",
   "metadata": {},
   "source": [
    "**Pandas** _ **dtype** _ **mapping:**\n",
    "\n",
    "| Pandas dtype | Python type | NumPy type | Usage |\n",
    "| --- | --- | --- | --- |\n",
    "| object | str or mixed | string\\_, unicode\\_, mixed types | Text or mixed numeric and non-numeric values |\n",
    "| int64 | int | int\\_, int8, int16, int32, int64, uint8, uint16, uint32, uint64 | Integer numbers |\n",
    "| float64 | float | float\\_, float16, float32, float64 | Floating point numbers |\n",
    "| bool | bool | bool\\_ | True/False values |\n",
    "| datetime64 | NA | datetime64[ns] | Date and time values |\n",
    "| timedelta[ns] | NA | NA | Differences between two datetimes |\n",
    "| category | NA | NA | Finite list of text values |"
   ]
  },
  {
   "cell_type": "markdown",
   "metadata": {},
   "source": [
    "#### Resources to convert and work with datatypes\n",
    "\n",
    "> **Overview of Pandas Data Types:**  https://pbpython.com/pandas_dtypes.html"
   ]
  },
  {
   "cell_type": "code",
   "execution_count": 12,
   "metadata": {
    "ExecuteTime": {
     "end_time": "2020-12-17T21:34:13.090792Z",
     "start_time": "2020-12-17T21:34:13.079879Z"
    }
   },
   "outputs": [
    {
     "name": "stdout",
     "output_type": "stream",
     "text": [
      "<class 'pandas.core.frame.DataFrame'>\n",
      "RangeIndex: 10000 entries, 0 to 9999\n",
      "Data columns (total 31 columns):\n",
      "YEAR                   10000 non-null int64\n",
      "MONTH                  10000 non-null int64\n",
      "DAY                    10000 non-null int64\n",
      "DAY_OF_WEEK            10000 non-null int64\n",
      "AIRLINE                10000 non-null object\n",
      "FLIGHT_NUMBER          10000 non-null int64\n",
      "TAIL_NUMBER            10000 non-null object\n",
      "ORIGIN_AIRPORT         10000 non-null object\n",
      "DESTINATION_AIRPORT    10000 non-null object\n",
      "SCHEDULED_DEPARTURE    10000 non-null int64\n",
      "DEPARTURE_TIME         10000 non-null int64\n",
      "DEPARTURE_DELAY        10000 non-null int64\n",
      "TAXI_OUT               10000 non-null int64\n",
      "WHEELS_OFF             10000 non-null int64\n",
      "SCHEDULED_TIME         10000 non-null int64\n",
      "ELAPSED_TIME           10000 non-null int64\n",
      "AIR_TIME               10000 non-null int64\n",
      "DISTANCE               10000 non-null int64\n",
      "WHEELS_ON              10000 non-null int64\n",
      "TAXI_IN                10000 non-null int64\n",
      "SCHEDULED_ARRIVAL      10000 non-null int64\n",
      "ARRIVAL_TIME           10000 non-null int64\n",
      "ARRIVAL_DELAY          10000 non-null int64\n",
      "DIVERTED               10000 non-null int64\n",
      "CANCELLED              10000 non-null int64\n",
      "CANCELLATION_REASON    0 non-null float64\n",
      "AIR_SYSTEM_DELAY       1842 non-null float64\n",
      "SECURITY_DELAY         1842 non-null float64\n",
      "AIRLINE_DELAY          1842 non-null float64\n",
      "LATE_AIRCRAFT_DELAY    1842 non-null float64\n",
      "WEATHER_DELAY          1842 non-null float64\n",
      "dtypes: float64(6), int64(21), object(4)\n",
      "memory usage: 2.4+ MB\n"
     ]
    }
   ],
   "source": [
    "# Get info back on core dataframe\n",
    "df.info()"
   ]
  },
  {
   "cell_type": "markdown",
   "metadata": {},
   "source": [
    "# Imputation\n",
    "\n",
    "> In this section use the code below pertianing to the data frame of interest to replace missing values, delete rows, impute data, and encode.\n",
    "\n",
    "* In statistics, imputation is the process of replacing missing data with substituted values. When substituting for a data point, it is known as \"unit imputation\"; when substituting for a component of a data point, it is known as \"feature  imputation\""
   ]
  },
  {
   "cell_type": "markdown",
   "metadata": {},
   "source": [
    "## Replace ALL NAN and NULL values with Average/Mean In Dataframe"
   ]
  },
  {
   "cell_type": "code",
   "execution_count": 13,
   "metadata": {
    "ExecuteTime": {
     "end_time": "2020-12-17T21:34:17.406976Z",
     "start_time": "2020-12-17T21:34:17.230401Z"
    }
   },
   "outputs": [],
   "source": [
    "# FILL IN ALL NULL AND NAN VLAUES WITH MEAN AVERAGE\n",
    "df.fillna(df.mean(), inplace=True)"
   ]
  },
  {
   "cell_type": "code",
   "execution_count": 14,
   "metadata": {
    "ExecuteTime": {
     "end_time": "2020-12-17T21:34:17.878176Z",
     "start_time": "2020-12-17T21:34:17.795841Z"
    }
   },
   "outputs": [
    {
     "data": {
      "text/html": [
       "<div>\n",
       "<style scoped>\n",
       "    .dataframe tbody tr th:only-of-type {\n",
       "        vertical-align: middle;\n",
       "    }\n",
       "\n",
       "    .dataframe tbody tr th {\n",
       "        vertical-align: top;\n",
       "    }\n",
       "\n",
       "    .dataframe thead th {\n",
       "        text-align: right;\n",
       "    }\n",
       "</style>\n",
       "<table border=\"1\" class=\"dataframe\">\n",
       "  <thead>\n",
       "    <tr style=\"text-align: right;\">\n",
       "      <th></th>\n",
       "      <th>YEAR</th>\n",
       "      <th>MONTH</th>\n",
       "      <th>DAY</th>\n",
       "      <th>DAY_OF_WEEK</th>\n",
       "      <th>FLIGHT_NUMBER</th>\n",
       "      <th>SCHEDULED_DEPARTURE</th>\n",
       "      <th>DEPARTURE_TIME</th>\n",
       "      <th>DEPARTURE_DELAY</th>\n",
       "      <th>TAXI_OUT</th>\n",
       "      <th>WHEELS_OFF</th>\n",
       "      <th>...</th>\n",
       "      <th>ARRIVAL_TIME</th>\n",
       "      <th>ARRIVAL_DELAY</th>\n",
       "      <th>DIVERTED</th>\n",
       "      <th>CANCELLED</th>\n",
       "      <th>CANCELLATION_REASON</th>\n",
       "      <th>AIR_SYSTEM_DELAY</th>\n",
       "      <th>SECURITY_DELAY</th>\n",
       "      <th>AIRLINE_DELAY</th>\n",
       "      <th>LATE_AIRCRAFT_DELAY</th>\n",
       "      <th>WEATHER_DELAY</th>\n",
       "    </tr>\n",
       "  </thead>\n",
       "  <tbody>\n",
       "    <tr>\n",
       "      <th>count</th>\n",
       "      <td>10000.0</td>\n",
       "      <td>10000.0</td>\n",
       "      <td>10000.0</td>\n",
       "      <td>10000.0</td>\n",
       "      <td>10000.000000</td>\n",
       "      <td>10000.000000</td>\n",
       "      <td>10000.000000</td>\n",
       "      <td>10000.000000</td>\n",
       "      <td>10000.00000</td>\n",
       "      <td>10000.000000</td>\n",
       "      <td>...</td>\n",
       "      <td>10000.000000</td>\n",
       "      <td>10000.00000</td>\n",
       "      <td>10000.0</td>\n",
       "      <td>10000.0</td>\n",
       "      <td>0.0</td>\n",
       "      <td>10000.000000</td>\n",
       "      <td>10000.000000</td>\n",
       "      <td>10000.000000</td>\n",
       "      <td>10000.000000</td>\n",
       "      <td>10000.000000</td>\n",
       "    </tr>\n",
       "    <tr>\n",
       "      <th>mean</th>\n",
       "      <td>2015.0</td>\n",
       "      <td>1.0</td>\n",
       "      <td>1.0</td>\n",
       "      <td>4.0</td>\n",
       "      <td>2141.744000</td>\n",
       "      <td>1177.800700</td>\n",
       "      <td>1188.152000</td>\n",
       "      <td>7.567300</td>\n",
       "      <td>14.93420</td>\n",
       "      <td>1213.442200</td>\n",
       "      <td>...</td>\n",
       "      <td>1423.537500</td>\n",
       "      <td>2.80170</td>\n",
       "      <td>0.0</td>\n",
       "      <td>0.0</td>\n",
       "      <td>NaN</td>\n",
       "      <td>9.242671</td>\n",
       "      <td>0.131379</td>\n",
       "      <td>20.625950</td>\n",
       "      <td>16.262758</td>\n",
       "      <td>1.625407</td>\n",
       "    </tr>\n",
       "    <tr>\n",
       "      <th>std</th>\n",
       "      <td>0.0</td>\n",
       "      <td>0.0</td>\n",
       "      <td>0.0</td>\n",
       "      <td>0.0</td>\n",
       "      <td>1857.476239</td>\n",
       "      <td>338.037411</td>\n",
       "      <td>346.797973</td>\n",
       "      <td>31.044095</td>\n",
       "      <td>6.89748</td>\n",
       "      <td>344.809858</td>\n",
       "      <td>...</td>\n",
       "      <td>366.182362</td>\n",
       "      <td>33.41811</td>\n",
       "      <td>0.0</td>\n",
       "      <td>0.0</td>\n",
       "      <td>NaN</td>\n",
       "      <td>5.806016</td>\n",
       "      <td>1.231167</td>\n",
       "      <td>20.196072</td>\n",
       "      <td>15.217038</td>\n",
       "      <td>5.261304</td>\n",
       "    </tr>\n",
       "    <tr>\n",
       "      <th>min</th>\n",
       "      <td>2015.0</td>\n",
       "      <td>1.0</td>\n",
       "      <td>1.0</td>\n",
       "      <td>4.0</td>\n",
       "      <td>1.000000</td>\n",
       "      <td>5.000000</td>\n",
       "      <td>2.000000</td>\n",
       "      <td>-27.000000</td>\n",
       "      <td>3.00000</td>\n",
       "      <td>14.000000</td>\n",
       "      <td>...</td>\n",
       "      <td>1.000000</td>\n",
       "      <td>-54.00000</td>\n",
       "      <td>0.0</td>\n",
       "      <td>0.0</td>\n",
       "      <td>NaN</td>\n",
       "      <td>0.000000</td>\n",
       "      <td>0.000000</td>\n",
       "      <td>0.000000</td>\n",
       "      <td>0.000000</td>\n",
       "      <td>0.000000</td>\n",
       "    </tr>\n",
       "    <tr>\n",
       "      <th>25%</th>\n",
       "      <td>2015.0</td>\n",
       "      <td>1.0</td>\n",
       "      <td>1.0</td>\n",
       "      <td>4.0</td>\n",
       "      <td>684.000000</td>\n",
       "      <td>914.000000</td>\n",
       "      <td>918.000000</td>\n",
       "      <td>-4.000000</td>\n",
       "      <td>11.00000</td>\n",
       "      <td>934.000000</td>\n",
       "      <td>...</td>\n",
       "      <td>1138.000000</td>\n",
       "      <td>-13.00000</td>\n",
       "      <td>0.0</td>\n",
       "      <td>0.0</td>\n",
       "      <td>NaN</td>\n",
       "      <td>9.242671</td>\n",
       "      <td>0.131379</td>\n",
       "      <td>20.625950</td>\n",
       "      <td>16.262758</td>\n",
       "      <td>1.625407</td>\n",
       "    </tr>\n",
       "    <tr>\n",
       "      <th>50%</th>\n",
       "      <td>2015.0</td>\n",
       "      <td>1.0</td>\n",
       "      <td>1.0</td>\n",
       "      <td>4.0</td>\n",
       "      <td>1528.000000</td>\n",
       "      <td>1205.000000</td>\n",
       "      <td>1213.000000</td>\n",
       "      <td>-1.000000</td>\n",
       "      <td>13.00000</td>\n",
       "      <td>1227.000000</td>\n",
       "      <td>...</td>\n",
       "      <td>1432.000000</td>\n",
       "      <td>-4.00000</td>\n",
       "      <td>0.0</td>\n",
       "      <td>0.0</td>\n",
       "      <td>NaN</td>\n",
       "      <td>9.242671</td>\n",
       "      <td>0.131379</td>\n",
       "      <td>20.625950</td>\n",
       "      <td>16.262758</td>\n",
       "      <td>1.625407</td>\n",
       "    </tr>\n",
       "    <tr>\n",
       "      <th>75%</th>\n",
       "      <td>2015.0</td>\n",
       "      <td>1.0</td>\n",
       "      <td>1.0</td>\n",
       "      <td>4.0</td>\n",
       "      <td>3225.000000</td>\n",
       "      <td>1450.000000</td>\n",
       "      <td>1458.000000</td>\n",
       "      <td>8.000000</td>\n",
       "      <td>17.00000</td>\n",
       "      <td>1513.000000</td>\n",
       "      <td>...</td>\n",
       "      <td>1715.000000</td>\n",
       "      <td>8.00000</td>\n",
       "      <td>0.0</td>\n",
       "      <td>0.0</td>\n",
       "      <td>NaN</td>\n",
       "      <td>9.242671</td>\n",
       "      <td>0.131379</td>\n",
       "      <td>20.625950</td>\n",
       "      <td>16.262758</td>\n",
       "      <td>1.625407</td>\n",
       "    </tr>\n",
       "    <tr>\n",
       "      <th>max</th>\n",
       "      <td>2015.0</td>\n",
       "      <td>1.0</td>\n",
       "      <td>1.0</td>\n",
       "      <td>4.0</td>\n",
       "      <td>7438.000000</td>\n",
       "      <td>1735.000000</td>\n",
       "      <td>2354.000000</td>\n",
       "      <td>1190.000000</td>\n",
       "      <td>113.00000</td>\n",
       "      <td>2219.000000</td>\n",
       "      <td>...</td>\n",
       "      <td>2400.000000</td>\n",
       "      <td>1201.00000</td>\n",
       "      <td>0.0</td>\n",
       "      <td>0.0</td>\n",
       "      <td>NaN</td>\n",
       "      <td>164.000000</td>\n",
       "      <td>107.000000</td>\n",
       "      <td>1169.000000</td>\n",
       "      <td>467.000000</td>\n",
       "      <td>213.000000</td>\n",
       "    </tr>\n",
       "  </tbody>\n",
       "</table>\n",
       "<p>8 rows × 27 columns</p>\n",
       "</div>"
      ],
      "text/plain": [
       "          YEAR    MONTH      DAY  DAY_OF_WEEK  FLIGHT_NUMBER  \\\n",
       "count  10000.0  10000.0  10000.0      10000.0   10000.000000   \n",
       "mean    2015.0      1.0      1.0          4.0    2141.744000   \n",
       "std        0.0      0.0      0.0          0.0    1857.476239   \n",
       "min     2015.0      1.0      1.0          4.0       1.000000   \n",
       "25%     2015.0      1.0      1.0          4.0     684.000000   \n",
       "50%     2015.0      1.0      1.0          4.0    1528.000000   \n",
       "75%     2015.0      1.0      1.0          4.0    3225.000000   \n",
       "max     2015.0      1.0      1.0          4.0    7438.000000   \n",
       "\n",
       "       SCHEDULED_DEPARTURE  DEPARTURE_TIME  DEPARTURE_DELAY     TAXI_OUT  \\\n",
       "count         10000.000000    10000.000000     10000.000000  10000.00000   \n",
       "mean           1177.800700     1188.152000         7.567300     14.93420   \n",
       "std             338.037411      346.797973        31.044095      6.89748   \n",
       "min               5.000000        2.000000       -27.000000      3.00000   \n",
       "25%             914.000000      918.000000        -4.000000     11.00000   \n",
       "50%            1205.000000     1213.000000        -1.000000     13.00000   \n",
       "75%            1450.000000     1458.000000         8.000000     17.00000   \n",
       "max            1735.000000     2354.000000      1190.000000    113.00000   \n",
       "\n",
       "         WHEELS_OFF      ...        ARRIVAL_TIME  ARRIVAL_DELAY  DIVERTED  \\\n",
       "count  10000.000000      ...        10000.000000    10000.00000   10000.0   \n",
       "mean    1213.442200      ...         1423.537500        2.80170       0.0   \n",
       "std      344.809858      ...          366.182362       33.41811       0.0   \n",
       "min       14.000000      ...            1.000000      -54.00000       0.0   \n",
       "25%      934.000000      ...         1138.000000      -13.00000       0.0   \n",
       "50%     1227.000000      ...         1432.000000       -4.00000       0.0   \n",
       "75%     1513.000000      ...         1715.000000        8.00000       0.0   \n",
       "max     2219.000000      ...         2400.000000     1201.00000       0.0   \n",
       "\n",
       "       CANCELLED  CANCELLATION_REASON  AIR_SYSTEM_DELAY  SECURITY_DELAY  \\\n",
       "count    10000.0                  0.0      10000.000000    10000.000000   \n",
       "mean         0.0                  NaN          9.242671        0.131379   \n",
       "std          0.0                  NaN          5.806016        1.231167   \n",
       "min          0.0                  NaN          0.000000        0.000000   \n",
       "25%          0.0                  NaN          9.242671        0.131379   \n",
       "50%          0.0                  NaN          9.242671        0.131379   \n",
       "75%          0.0                  NaN          9.242671        0.131379   \n",
       "max          0.0                  NaN        164.000000      107.000000   \n",
       "\n",
       "       AIRLINE_DELAY  LATE_AIRCRAFT_DELAY  WEATHER_DELAY  \n",
       "count   10000.000000         10000.000000   10000.000000  \n",
       "mean       20.625950            16.262758       1.625407  \n",
       "std        20.196072            15.217038       5.261304  \n",
       "min         0.000000             0.000000       0.000000  \n",
       "25%        20.625950            16.262758       1.625407  \n",
       "50%        20.625950            16.262758       1.625407  \n",
       "75%        20.625950            16.262758       1.625407  \n",
       "max      1169.000000           467.000000     213.000000  \n",
       "\n",
       "[8 rows x 27 columns]"
      ]
     },
     "execution_count": 14,
     "metadata": {},
     "output_type": "execute_result"
    }
   ],
   "source": [
    "# CHECK TO SEE IF ALL VLAUES ARE RESOLVED AND DATASET IS EVEN\n",
    "df.describe() "
   ]
  },
  {
   "cell_type": "code",
   "execution_count": 15,
   "metadata": {
    "ExecuteTime": {
     "end_time": "2020-12-17T21:34:18.425262Z",
     "start_time": "2020-12-17T21:34:18.416335Z"
    }
   },
   "outputs": [
    {
     "name": "stdout",
     "output_type": "stream",
     "text": [
      "YEAR                       0\n",
      "MONTH                      0\n",
      "DAY                        0\n",
      "DAY_OF_WEEK                0\n",
      "AIRLINE                    0\n",
      "FLIGHT_NUMBER              0\n",
      "TAIL_NUMBER                0\n",
      "ORIGIN_AIRPORT             0\n",
      "DESTINATION_AIRPORT        0\n",
      "SCHEDULED_DEPARTURE        0\n",
      "DEPARTURE_TIME             0\n",
      "DEPARTURE_DELAY            0\n",
      "TAXI_OUT                   0\n",
      "WHEELS_OFF                 0\n",
      "SCHEDULED_TIME             0\n",
      "ELAPSED_TIME               0\n",
      "AIR_TIME                   0\n",
      "DISTANCE                   0\n",
      "WHEELS_ON                  0\n",
      "TAXI_IN                    0\n",
      "SCHEDULED_ARRIVAL          0\n",
      "ARRIVAL_TIME               0\n",
      "ARRIVAL_DELAY              0\n",
      "DIVERTED                   0\n",
      "CANCELLED                  0\n",
      "CANCELLATION_REASON    10000\n",
      "AIR_SYSTEM_DELAY           0\n",
      "SECURITY_DELAY             0\n",
      "AIRLINE_DELAY              0\n",
      "LATE_AIRCRAFT_DELAY        0\n",
      "WEATHER_DELAY              0\n",
      "dtype: int64\n"
     ]
    }
   ],
   "source": [
    "#counts all null values in each column\n",
    "print(df.isnull().sum())"
   ]
  },
  {
   "cell_type": "code",
   "execution_count": 16,
   "metadata": {
    "ExecuteTime": {
     "end_time": "2020-12-17T21:34:19.064110Z",
     "start_time": "2020-12-17T21:34:19.057166Z"
    }
   },
   "outputs": [
    {
     "data": {
      "text/plain": [
       "count    0.0\n",
       "mean     NaN\n",
       "std      NaN\n",
       "min      NaN\n",
       "25%      NaN\n",
       "50%      NaN\n",
       "75%      NaN\n",
       "max      NaN\n",
       "Name: CANCELLATION_REASON, dtype: float64"
      ]
     },
     "execution_count": 16,
     "metadata": {},
     "output_type": "execute_result"
    }
   ],
   "source": [
    "# check bad column\n",
    "df['CANCELLATION_REASON'].describe() "
   ]
  },
  {
   "cell_type": "code",
   "execution_count": 17,
   "metadata": {
    "ExecuteTime": {
     "end_time": "2020-12-17T21:34:19.917724Z",
     "start_time": "2020-12-17T21:34:19.864156Z"
    }
   },
   "outputs": [
    {
     "data": {
      "text/html": [
       "<div>\n",
       "<style scoped>\n",
       "    .dataframe tbody tr th:only-of-type {\n",
       "        vertical-align: middle;\n",
       "    }\n",
       "\n",
       "    .dataframe tbody tr th {\n",
       "        vertical-align: top;\n",
       "    }\n",
       "\n",
       "    .dataframe thead th {\n",
       "        text-align: right;\n",
       "    }\n",
       "</style>\n",
       "<table border=\"1\" class=\"dataframe\">\n",
       "  <thead>\n",
       "    <tr style=\"text-align: right;\">\n",
       "      <th></th>\n",
       "      <th>YEAR</th>\n",
       "      <th>MONTH</th>\n",
       "      <th>DAY</th>\n",
       "      <th>DAY_OF_WEEK</th>\n",
       "      <th>AIRLINE</th>\n",
       "      <th>FLIGHT_NUMBER</th>\n",
       "      <th>TAIL_NUMBER</th>\n",
       "      <th>ORIGIN_AIRPORT</th>\n",
       "      <th>DESTINATION_AIRPORT</th>\n",
       "      <th>SCHEDULED_DEPARTURE</th>\n",
       "      <th>...</th>\n",
       "      <th>SCHEDULED_ARRIVAL</th>\n",
       "      <th>ARRIVAL_TIME</th>\n",
       "      <th>ARRIVAL_DELAY</th>\n",
       "      <th>DIVERTED</th>\n",
       "      <th>CANCELLED</th>\n",
       "      <th>AIR_SYSTEM_DELAY</th>\n",
       "      <th>SECURITY_DELAY</th>\n",
       "      <th>AIRLINE_DELAY</th>\n",
       "      <th>LATE_AIRCRAFT_DELAY</th>\n",
       "      <th>WEATHER_DELAY</th>\n",
       "    </tr>\n",
       "  </thead>\n",
       "  <tbody>\n",
       "    <tr>\n",
       "      <th>0</th>\n",
       "      <td>2015</td>\n",
       "      <td>1</td>\n",
       "      <td>1</td>\n",
       "      <td>4</td>\n",
       "      <td>AS</td>\n",
       "      <td>98</td>\n",
       "      <td>N407AS</td>\n",
       "      <td>ANC</td>\n",
       "      <td>SEA</td>\n",
       "      <td>5</td>\n",
       "      <td>...</td>\n",
       "      <td>430</td>\n",
       "      <td>408</td>\n",
       "      <td>-22</td>\n",
       "      <td>0</td>\n",
       "      <td>0</td>\n",
       "      <td>9.242671</td>\n",
       "      <td>0.131379</td>\n",
       "      <td>20.62595</td>\n",
       "      <td>16.262758</td>\n",
       "      <td>1.625407</td>\n",
       "    </tr>\n",
       "    <tr>\n",
       "      <th>1</th>\n",
       "      <td>2015</td>\n",
       "      <td>1</td>\n",
       "      <td>1</td>\n",
       "      <td>4</td>\n",
       "      <td>AA</td>\n",
       "      <td>2336</td>\n",
       "      <td>N3KUAA</td>\n",
       "      <td>LAX</td>\n",
       "      <td>PBI</td>\n",
       "      <td>10</td>\n",
       "      <td>...</td>\n",
       "      <td>750</td>\n",
       "      <td>741</td>\n",
       "      <td>-9</td>\n",
       "      <td>0</td>\n",
       "      <td>0</td>\n",
       "      <td>9.242671</td>\n",
       "      <td>0.131379</td>\n",
       "      <td>20.62595</td>\n",
       "      <td>16.262758</td>\n",
       "      <td>1.625407</td>\n",
       "    </tr>\n",
       "    <tr>\n",
       "      <th>2</th>\n",
       "      <td>2015</td>\n",
       "      <td>1</td>\n",
       "      <td>1</td>\n",
       "      <td>4</td>\n",
       "      <td>US</td>\n",
       "      <td>840</td>\n",
       "      <td>N171US</td>\n",
       "      <td>SFO</td>\n",
       "      <td>CLT</td>\n",
       "      <td>20</td>\n",
       "      <td>...</td>\n",
       "      <td>806</td>\n",
       "      <td>811</td>\n",
       "      <td>5</td>\n",
       "      <td>0</td>\n",
       "      <td>0</td>\n",
       "      <td>9.242671</td>\n",
       "      <td>0.131379</td>\n",
       "      <td>20.62595</td>\n",
       "      <td>16.262758</td>\n",
       "      <td>1.625407</td>\n",
       "    </tr>\n",
       "    <tr>\n",
       "      <th>3</th>\n",
       "      <td>2015</td>\n",
       "      <td>1</td>\n",
       "      <td>1</td>\n",
       "      <td>4</td>\n",
       "      <td>AA</td>\n",
       "      <td>258</td>\n",
       "      <td>N3HYAA</td>\n",
       "      <td>LAX</td>\n",
       "      <td>MIA</td>\n",
       "      <td>20</td>\n",
       "      <td>...</td>\n",
       "      <td>805</td>\n",
       "      <td>756</td>\n",
       "      <td>-9</td>\n",
       "      <td>0</td>\n",
       "      <td>0</td>\n",
       "      <td>9.242671</td>\n",
       "      <td>0.131379</td>\n",
       "      <td>20.62595</td>\n",
       "      <td>16.262758</td>\n",
       "      <td>1.625407</td>\n",
       "    </tr>\n",
       "    <tr>\n",
       "      <th>4</th>\n",
       "      <td>2015</td>\n",
       "      <td>1</td>\n",
       "      <td>1</td>\n",
       "      <td>4</td>\n",
       "      <td>AS</td>\n",
       "      <td>135</td>\n",
       "      <td>N527AS</td>\n",
       "      <td>SEA</td>\n",
       "      <td>ANC</td>\n",
       "      <td>25</td>\n",
       "      <td>...</td>\n",
       "      <td>320</td>\n",
       "      <td>259</td>\n",
       "      <td>-21</td>\n",
       "      <td>0</td>\n",
       "      <td>0</td>\n",
       "      <td>9.242671</td>\n",
       "      <td>0.131379</td>\n",
       "      <td>20.62595</td>\n",
       "      <td>16.262758</td>\n",
       "      <td>1.625407</td>\n",
       "    </tr>\n",
       "    <tr>\n",
       "      <th>5</th>\n",
       "      <td>2015</td>\n",
       "      <td>1</td>\n",
       "      <td>1</td>\n",
       "      <td>4</td>\n",
       "      <td>DL</td>\n",
       "      <td>806</td>\n",
       "      <td>N3730B</td>\n",
       "      <td>SFO</td>\n",
       "      <td>MSP</td>\n",
       "      <td>25</td>\n",
       "      <td>...</td>\n",
       "      <td>602</td>\n",
       "      <td>610</td>\n",
       "      <td>8</td>\n",
       "      <td>0</td>\n",
       "      <td>0</td>\n",
       "      <td>9.242671</td>\n",
       "      <td>0.131379</td>\n",
       "      <td>20.62595</td>\n",
       "      <td>16.262758</td>\n",
       "      <td>1.625407</td>\n",
       "    </tr>\n",
       "    <tr>\n",
       "      <th>6</th>\n",
       "      <td>2015</td>\n",
       "      <td>1</td>\n",
       "      <td>1</td>\n",
       "      <td>4</td>\n",
       "      <td>NK</td>\n",
       "      <td>612</td>\n",
       "      <td>N635NK</td>\n",
       "      <td>LAS</td>\n",
       "      <td>MSP</td>\n",
       "      <td>25</td>\n",
       "      <td>...</td>\n",
       "      <td>526</td>\n",
       "      <td>509</td>\n",
       "      <td>-17</td>\n",
       "      <td>0</td>\n",
       "      <td>0</td>\n",
       "      <td>9.242671</td>\n",
       "      <td>0.131379</td>\n",
       "      <td>20.62595</td>\n",
       "      <td>16.262758</td>\n",
       "      <td>1.625407</td>\n",
       "    </tr>\n",
       "    <tr>\n",
       "      <th>7</th>\n",
       "      <td>2015</td>\n",
       "      <td>1</td>\n",
       "      <td>1</td>\n",
       "      <td>4</td>\n",
       "      <td>US</td>\n",
       "      <td>2013</td>\n",
       "      <td>N584UW</td>\n",
       "      <td>LAX</td>\n",
       "      <td>CLT</td>\n",
       "      <td>30</td>\n",
       "      <td>...</td>\n",
       "      <td>803</td>\n",
       "      <td>753</td>\n",
       "      <td>-10</td>\n",
       "      <td>0</td>\n",
       "      <td>0</td>\n",
       "      <td>9.242671</td>\n",
       "      <td>0.131379</td>\n",
       "      <td>20.62595</td>\n",
       "      <td>16.262758</td>\n",
       "      <td>1.625407</td>\n",
       "    </tr>\n",
       "    <tr>\n",
       "      <th>8</th>\n",
       "      <td>2015</td>\n",
       "      <td>1</td>\n",
       "      <td>1</td>\n",
       "      <td>4</td>\n",
       "      <td>AA</td>\n",
       "      <td>1112</td>\n",
       "      <td>N3LAAA</td>\n",
       "      <td>SFO</td>\n",
       "      <td>DFW</td>\n",
       "      <td>30</td>\n",
       "      <td>...</td>\n",
       "      <td>545</td>\n",
       "      <td>532</td>\n",
       "      <td>-13</td>\n",
       "      <td>0</td>\n",
       "      <td>0</td>\n",
       "      <td>9.242671</td>\n",
       "      <td>0.131379</td>\n",
       "      <td>20.62595</td>\n",
       "      <td>16.262758</td>\n",
       "      <td>1.625407</td>\n",
       "    </tr>\n",
       "    <tr>\n",
       "      <th>9</th>\n",
       "      <td>2015</td>\n",
       "      <td>1</td>\n",
       "      <td>1</td>\n",
       "      <td>4</td>\n",
       "      <td>DL</td>\n",
       "      <td>1173</td>\n",
       "      <td>N826DN</td>\n",
       "      <td>LAS</td>\n",
       "      <td>ATL</td>\n",
       "      <td>30</td>\n",
       "      <td>...</td>\n",
       "      <td>711</td>\n",
       "      <td>656</td>\n",
       "      <td>-15</td>\n",
       "      <td>0</td>\n",
       "      <td>0</td>\n",
       "      <td>9.242671</td>\n",
       "      <td>0.131379</td>\n",
       "      <td>20.62595</td>\n",
       "      <td>16.262758</td>\n",
       "      <td>1.625407</td>\n",
       "    </tr>\n",
       "    <tr>\n",
       "      <th>10</th>\n",
       "      <td>2015</td>\n",
       "      <td>1</td>\n",
       "      <td>1</td>\n",
       "      <td>4</td>\n",
       "      <td>DL</td>\n",
       "      <td>2336</td>\n",
       "      <td>N958DN</td>\n",
       "      <td>DEN</td>\n",
       "      <td>ATL</td>\n",
       "      <td>30</td>\n",
       "      <td>...</td>\n",
       "      <td>523</td>\n",
       "      <td>453</td>\n",
       "      <td>-30</td>\n",
       "      <td>0</td>\n",
       "      <td>0</td>\n",
       "      <td>9.242671</td>\n",
       "      <td>0.131379</td>\n",
       "      <td>20.62595</td>\n",
       "      <td>16.262758</td>\n",
       "      <td>1.625407</td>\n",
       "    </tr>\n",
       "    <tr>\n",
       "      <th>11</th>\n",
       "      <td>2015</td>\n",
       "      <td>1</td>\n",
       "      <td>1</td>\n",
       "      <td>4</td>\n",
       "      <td>AA</td>\n",
       "      <td>1674</td>\n",
       "      <td>N853AA</td>\n",
       "      <td>LAS</td>\n",
       "      <td>MIA</td>\n",
       "      <td>35</td>\n",
       "      <td>...</td>\n",
       "      <td>803</td>\n",
       "      <td>753</td>\n",
       "      <td>-10</td>\n",
       "      <td>0</td>\n",
       "      <td>0</td>\n",
       "      <td>9.242671</td>\n",
       "      <td>0.131379</td>\n",
       "      <td>20.62595</td>\n",
       "      <td>16.262758</td>\n",
       "      <td>1.625407</td>\n",
       "    </tr>\n",
       "    <tr>\n",
       "      <th>12</th>\n",
       "      <td>2015</td>\n",
       "      <td>1</td>\n",
       "      <td>1</td>\n",
       "      <td>4</td>\n",
       "      <td>DL</td>\n",
       "      <td>1434</td>\n",
       "      <td>N547US</td>\n",
       "      <td>LAX</td>\n",
       "      <td>MSP</td>\n",
       "      <td>35</td>\n",
       "      <td>...</td>\n",
       "      <td>609</td>\n",
       "      <td>605</td>\n",
       "      <td>-4</td>\n",
       "      <td>0</td>\n",
       "      <td>0</td>\n",
       "      <td>9.242671</td>\n",
       "      <td>0.131379</td>\n",
       "      <td>20.62595</td>\n",
       "      <td>16.262758</td>\n",
       "      <td>1.625407</td>\n",
       "    </tr>\n",
       "    <tr>\n",
       "      <th>13</th>\n",
       "      <td>2015</td>\n",
       "      <td>1</td>\n",
       "      <td>1</td>\n",
       "      <td>4</td>\n",
       "      <td>DL</td>\n",
       "      <td>2324</td>\n",
       "      <td>N3751B</td>\n",
       "      <td>SLC</td>\n",
       "      <td>ATL</td>\n",
       "      <td>40</td>\n",
       "      <td>...</td>\n",
       "      <td>615</td>\n",
       "      <td>553</td>\n",
       "      <td>-22</td>\n",
       "      <td>0</td>\n",
       "      <td>0</td>\n",
       "      <td>9.242671</td>\n",
       "      <td>0.131379</td>\n",
       "      <td>20.62595</td>\n",
       "      <td>16.262758</td>\n",
       "      <td>1.625407</td>\n",
       "    </tr>\n",
       "    <tr>\n",
       "      <th>14</th>\n",
       "      <td>2015</td>\n",
       "      <td>1</td>\n",
       "      <td>1</td>\n",
       "      <td>4</td>\n",
       "      <td>DL</td>\n",
       "      <td>2440</td>\n",
       "      <td>N651DL</td>\n",
       "      <td>SEA</td>\n",
       "      <td>MSP</td>\n",
       "      <td>40</td>\n",
       "      <td>...</td>\n",
       "      <td>549</td>\n",
       "      <td>557</td>\n",
       "      <td>8</td>\n",
       "      <td>0</td>\n",
       "      <td>0</td>\n",
       "      <td>9.242671</td>\n",
       "      <td>0.131379</td>\n",
       "      <td>20.62595</td>\n",
       "      <td>16.262758</td>\n",
       "      <td>1.625407</td>\n",
       "    </tr>\n",
       "    <tr>\n",
       "      <th>15</th>\n",
       "      <td>2015</td>\n",
       "      <td>1</td>\n",
       "      <td>1</td>\n",
       "      <td>4</td>\n",
       "      <td>AS</td>\n",
       "      <td>108</td>\n",
       "      <td>N309AS</td>\n",
       "      <td>ANC</td>\n",
       "      <td>SEA</td>\n",
       "      <td>45</td>\n",
       "      <td>...</td>\n",
       "      <td>509</td>\n",
       "      <td>455</td>\n",
       "      <td>-14</td>\n",
       "      <td>0</td>\n",
       "      <td>0</td>\n",
       "      <td>9.242671</td>\n",
       "      <td>0.131379</td>\n",
       "      <td>20.62595</td>\n",
       "      <td>16.262758</td>\n",
       "      <td>1.625407</td>\n",
       "    </tr>\n",
       "    <tr>\n",
       "      <th>16</th>\n",
       "      <td>2015</td>\n",
       "      <td>1</td>\n",
       "      <td>1</td>\n",
       "      <td>4</td>\n",
       "      <td>DL</td>\n",
       "      <td>1560</td>\n",
       "      <td>N3743H</td>\n",
       "      <td>ANC</td>\n",
       "      <td>SEA</td>\n",
       "      <td>45</td>\n",
       "      <td>...</td>\n",
       "      <td>515</td>\n",
       "      <td>451</td>\n",
       "      <td>-24</td>\n",
       "      <td>0</td>\n",
       "      <td>0</td>\n",
       "      <td>9.242671</td>\n",
       "      <td>0.131379</td>\n",
       "      <td>20.62595</td>\n",
       "      <td>16.262758</td>\n",
       "      <td>1.625407</td>\n",
       "    </tr>\n",
       "    <tr>\n",
       "      <th>17</th>\n",
       "      <td>2015</td>\n",
       "      <td>1</td>\n",
       "      <td>1</td>\n",
       "      <td>4</td>\n",
       "      <td>UA</td>\n",
       "      <td>1197</td>\n",
       "      <td>N78448</td>\n",
       "      <td>SFO</td>\n",
       "      <td>IAH</td>\n",
       "      <td>48</td>\n",
       "      <td>...</td>\n",
       "      <td>626</td>\n",
       "      <td>619</td>\n",
       "      <td>-7</td>\n",
       "      <td>0</td>\n",
       "      <td>0</td>\n",
       "      <td>9.242671</td>\n",
       "      <td>0.131379</td>\n",
       "      <td>20.62595</td>\n",
       "      <td>16.262758</td>\n",
       "      <td>1.625407</td>\n",
       "    </tr>\n",
       "    <tr>\n",
       "      <th>18</th>\n",
       "      <td>2015</td>\n",
       "      <td>1</td>\n",
       "      <td>1</td>\n",
       "      <td>4</td>\n",
       "      <td>AS</td>\n",
       "      <td>122</td>\n",
       "      <td>N413AS</td>\n",
       "      <td>ANC</td>\n",
       "      <td>PDX</td>\n",
       "      <td>50</td>\n",
       "      <td>...</td>\n",
       "      <td>525</td>\n",
       "      <td>507</td>\n",
       "      <td>-18</td>\n",
       "      <td>0</td>\n",
       "      <td>0</td>\n",
       "      <td>9.242671</td>\n",
       "      <td>0.131379</td>\n",
       "      <td>20.62595</td>\n",
       "      <td>16.262758</td>\n",
       "      <td>1.625407</td>\n",
       "    </tr>\n",
       "    <tr>\n",
       "      <th>19</th>\n",
       "      <td>2015</td>\n",
       "      <td>1</td>\n",
       "      <td>1</td>\n",
       "      <td>4</td>\n",
       "      <td>DL</td>\n",
       "      <td>1670</td>\n",
       "      <td>N806DN</td>\n",
       "      <td>PDX</td>\n",
       "      <td>MSP</td>\n",
       "      <td>50</td>\n",
       "      <td>...</td>\n",
       "      <td>603</td>\n",
       "      <td>551</td>\n",
       "      <td>-12</td>\n",
       "      <td>0</td>\n",
       "      <td>0</td>\n",
       "      <td>9.242671</td>\n",
       "      <td>0.131379</td>\n",
       "      <td>20.62595</td>\n",
       "      <td>16.262758</td>\n",
       "      <td>1.625407</td>\n",
       "    </tr>\n",
       "    <tr>\n",
       "      <th>20</th>\n",
       "      <td>2015</td>\n",
       "      <td>1</td>\n",
       "      <td>1</td>\n",
       "      <td>4</td>\n",
       "      <td>NK</td>\n",
       "      <td>520</td>\n",
       "      <td>N525NK</td>\n",
       "      <td>LAS</td>\n",
       "      <td>MCI</td>\n",
       "      <td>55</td>\n",
       "      <td>...</td>\n",
       "      <td>537</td>\n",
       "      <td>543</td>\n",
       "      <td>6</td>\n",
       "      <td>0</td>\n",
       "      <td>0</td>\n",
       "      <td>9.242671</td>\n",
       "      <td>0.131379</td>\n",
       "      <td>20.62595</td>\n",
       "      <td>16.262758</td>\n",
       "      <td>1.625407</td>\n",
       "    </tr>\n",
       "    <tr>\n",
       "      <th>21</th>\n",
       "      <td>2015</td>\n",
       "      <td>1</td>\n",
       "      <td>1</td>\n",
       "      <td>4</td>\n",
       "      <td>AA</td>\n",
       "      <td>371</td>\n",
       "      <td>N3GXAA</td>\n",
       "      <td>SEA</td>\n",
       "      <td>MIA</td>\n",
       "      <td>100</td>\n",
       "      <td>...</td>\n",
       "      <td>938</td>\n",
       "      <td>939</td>\n",
       "      <td>1</td>\n",
       "      <td>0</td>\n",
       "      <td>0</td>\n",
       "      <td>9.242671</td>\n",
       "      <td>0.131379</td>\n",
       "      <td>20.62595</td>\n",
       "      <td>16.262758</td>\n",
       "      <td>1.625407</td>\n",
       "    </tr>\n",
       "    <tr>\n",
       "      <th>22</th>\n",
       "      <td>2015</td>\n",
       "      <td>1</td>\n",
       "      <td>1</td>\n",
       "      <td>4</td>\n",
       "      <td>NK</td>\n",
       "      <td>214</td>\n",
       "      <td>N632NK</td>\n",
       "      <td>LAS</td>\n",
       "      <td>DFW</td>\n",
       "      <td>103</td>\n",
       "      <td>...</td>\n",
       "      <td>530</td>\n",
       "      <td>529</td>\n",
       "      <td>-1</td>\n",
       "      <td>0</td>\n",
       "      <td>0</td>\n",
       "      <td>9.242671</td>\n",
       "      <td>0.131379</td>\n",
       "      <td>20.62595</td>\n",
       "      <td>16.262758</td>\n",
       "      <td>1.625407</td>\n",
       "    </tr>\n",
       "    <tr>\n",
       "      <th>23</th>\n",
       "      <td>2015</td>\n",
       "      <td>1</td>\n",
       "      <td>1</td>\n",
       "      <td>4</td>\n",
       "      <td>AA</td>\n",
       "      <td>115</td>\n",
       "      <td>N3CTAA</td>\n",
       "      <td>LAX</td>\n",
       "      <td>MIA</td>\n",
       "      <td>105</td>\n",
       "      <td>...</td>\n",
       "      <td>851</td>\n",
       "      <td>839</td>\n",
       "      <td>-12</td>\n",
       "      <td>0</td>\n",
       "      <td>0</td>\n",
       "      <td>9.242671</td>\n",
       "      <td>0.131379</td>\n",
       "      <td>20.62595</td>\n",
       "      <td>16.262758</td>\n",
       "      <td>1.625407</td>\n",
       "    </tr>\n",
       "    <tr>\n",
       "      <th>24</th>\n",
       "      <td>2015</td>\n",
       "      <td>1</td>\n",
       "      <td>1</td>\n",
       "      <td>4</td>\n",
       "      <td>DL</td>\n",
       "      <td>1450</td>\n",
       "      <td>N671DN</td>\n",
       "      <td>LAS</td>\n",
       "      <td>MSP</td>\n",
       "      <td>105</td>\n",
       "      <td>...</td>\n",
       "      <td>608</td>\n",
       "      <td>545</td>\n",
       "      <td>-23</td>\n",
       "      <td>0</td>\n",
       "      <td>0</td>\n",
       "      <td>9.242671</td>\n",
       "      <td>0.131379</td>\n",
       "      <td>20.62595</td>\n",
       "      <td>16.262758</td>\n",
       "      <td>1.625407</td>\n",
       "    </tr>\n",
       "    <tr>\n",
       "      <th>25</th>\n",
       "      <td>2015</td>\n",
       "      <td>1</td>\n",
       "      <td>1</td>\n",
       "      <td>4</td>\n",
       "      <td>UA</td>\n",
       "      <td>1545</td>\n",
       "      <td>N76517</td>\n",
       "      <td>LAX</td>\n",
       "      <td>IAH</td>\n",
       "      <td>115</td>\n",
       "      <td>...</td>\n",
       "      <td>618</td>\n",
       "      <td>607</td>\n",
       "      <td>-11</td>\n",
       "      <td>0</td>\n",
       "      <td>0</td>\n",
       "      <td>9.242671</td>\n",
       "      <td>0.131379</td>\n",
       "      <td>20.62595</td>\n",
       "      <td>16.262758</td>\n",
       "      <td>1.625407</td>\n",
       "    </tr>\n",
       "    <tr>\n",
       "      <th>26</th>\n",
       "      <td>2015</td>\n",
       "      <td>1</td>\n",
       "      <td>1</td>\n",
       "      <td>4</td>\n",
       "      <td>AS</td>\n",
       "      <td>130</td>\n",
       "      <td>N457AS</td>\n",
       "      <td>FAI</td>\n",
       "      <td>SEA</td>\n",
       "      <td>115</td>\n",
       "      <td>...</td>\n",
       "      <td>548</td>\n",
       "      <td>545</td>\n",
       "      <td>-3</td>\n",
       "      <td>0</td>\n",
       "      <td>0</td>\n",
       "      <td>9.242671</td>\n",
       "      <td>0.131379</td>\n",
       "      <td>20.62595</td>\n",
       "      <td>16.262758</td>\n",
       "      <td>1.625407</td>\n",
       "    </tr>\n",
       "    <tr>\n",
       "      <th>27</th>\n",
       "      <td>2015</td>\n",
       "      <td>1</td>\n",
       "      <td>1</td>\n",
       "      <td>4</td>\n",
       "      <td>NK</td>\n",
       "      <td>597</td>\n",
       "      <td>N528NK</td>\n",
       "      <td>MSP</td>\n",
       "      <td>FLL</td>\n",
       "      <td>115</td>\n",
       "      <td>...</td>\n",
       "      <td>542</td>\n",
       "      <td>607</td>\n",
       "      <td>25</td>\n",
       "      <td>0</td>\n",
       "      <td>0</td>\n",
       "      <td>25.000000</td>\n",
       "      <td>0.000000</td>\n",
       "      <td>0.00000</td>\n",
       "      <td>0.000000</td>\n",
       "      <td>0.000000</td>\n",
       "    </tr>\n",
       "    <tr>\n",
       "      <th>28</th>\n",
       "      <td>2015</td>\n",
       "      <td>1</td>\n",
       "      <td>1</td>\n",
       "      <td>4</td>\n",
       "      <td>US</td>\n",
       "      <td>413</td>\n",
       "      <td>N571UW</td>\n",
       "      <td>LAS</td>\n",
       "      <td>CLT</td>\n",
       "      <td>120</td>\n",
       "      <td>...</td>\n",
       "      <td>825</td>\n",
       "      <td>754</td>\n",
       "      <td>-31</td>\n",
       "      <td>0</td>\n",
       "      <td>0</td>\n",
       "      <td>9.242671</td>\n",
       "      <td>0.131379</td>\n",
       "      <td>20.62595</td>\n",
       "      <td>16.262758</td>\n",
       "      <td>1.625407</td>\n",
       "    </tr>\n",
       "    <tr>\n",
       "      <th>29</th>\n",
       "      <td>2015</td>\n",
       "      <td>1</td>\n",
       "      <td>1</td>\n",
       "      <td>4</td>\n",
       "      <td>AA</td>\n",
       "      <td>2392</td>\n",
       "      <td>N3HRAA</td>\n",
       "      <td>DEN</td>\n",
       "      <td>MIA</td>\n",
       "      <td>120</td>\n",
       "      <td>...</td>\n",
       "      <td>707</td>\n",
       "      <td>709</td>\n",
       "      <td>2</td>\n",
       "      <td>0</td>\n",
       "      <td>0</td>\n",
       "      <td>9.242671</td>\n",
       "      <td>0.131379</td>\n",
       "      <td>20.62595</td>\n",
       "      <td>16.262758</td>\n",
       "      <td>1.625407</td>\n",
       "    </tr>\n",
       "    <tr>\n",
       "      <th>...</th>\n",
       "      <td>...</td>\n",
       "      <td>...</td>\n",
       "      <td>...</td>\n",
       "      <td>...</td>\n",
       "      <td>...</td>\n",
       "      <td>...</td>\n",
       "      <td>...</td>\n",
       "      <td>...</td>\n",
       "      <td>...</td>\n",
       "      <td>...</td>\n",
       "      <td>...</td>\n",
       "      <td>...</td>\n",
       "      <td>...</td>\n",
       "      <td>...</td>\n",
       "      <td>...</td>\n",
       "      <td>...</td>\n",
       "      <td>...</td>\n",
       "      <td>...</td>\n",
       "      <td>...</td>\n",
       "      <td>...</td>\n",
       "      <td>...</td>\n",
       "    </tr>\n",
       "    <tr>\n",
       "      <th>9970</th>\n",
       "      <td>2015</td>\n",
       "      <td>1</td>\n",
       "      <td>1</td>\n",
       "      <td>4</td>\n",
       "      <td>MQ</td>\n",
       "      <td>3582</td>\n",
       "      <td>N647MQ</td>\n",
       "      <td>LAW</td>\n",
       "      <td>DFW</td>\n",
       "      <td>1730</td>\n",
       "      <td>...</td>\n",
       "      <td>1820</td>\n",
       "      <td>1959</td>\n",
       "      <td>99</td>\n",
       "      <td>0</td>\n",
       "      <td>0</td>\n",
       "      <td>17.000000</td>\n",
       "      <td>0.000000</td>\n",
       "      <td>6.00000</td>\n",
       "      <td>76.000000</td>\n",
       "      <td>0.000000</td>\n",
       "    </tr>\n",
       "    <tr>\n",
       "      <th>9971</th>\n",
       "      <td>2015</td>\n",
       "      <td>1</td>\n",
       "      <td>1</td>\n",
       "      <td>4</td>\n",
       "      <td>NK</td>\n",
       "      <td>108</td>\n",
       "      <td>N602NK</td>\n",
       "      <td>SAN</td>\n",
       "      <td>DFW</td>\n",
       "      <td>1730</td>\n",
       "      <td>...</td>\n",
       "      <td>2211</td>\n",
       "      <td>2231</td>\n",
       "      <td>20</td>\n",
       "      <td>0</td>\n",
       "      <td>0</td>\n",
       "      <td>20.000000</td>\n",
       "      <td>0.000000</td>\n",
       "      <td>0.00000</td>\n",
       "      <td>0.000000</td>\n",
       "      <td>0.000000</td>\n",
       "    </tr>\n",
       "    <tr>\n",
       "      <th>9972</th>\n",
       "      <td>2015</td>\n",
       "      <td>1</td>\n",
       "      <td>1</td>\n",
       "      <td>4</td>\n",
       "      <td>NK</td>\n",
       "      <td>146</td>\n",
       "      <td>N630NK</td>\n",
       "      <td>ATL</td>\n",
       "      <td>DFW</td>\n",
       "      <td>1730</td>\n",
       "      <td>...</td>\n",
       "      <td>1859</td>\n",
       "      <td>1913</td>\n",
       "      <td>14</td>\n",
       "      <td>0</td>\n",
       "      <td>0</td>\n",
       "      <td>9.242671</td>\n",
       "      <td>0.131379</td>\n",
       "      <td>20.62595</td>\n",
       "      <td>16.262758</td>\n",
       "      <td>1.625407</td>\n",
       "    </tr>\n",
       "    <tr>\n",
       "      <th>9973</th>\n",
       "      <td>2015</td>\n",
       "      <td>1</td>\n",
       "      <td>1</td>\n",
       "      <td>4</td>\n",
       "      <td>NK</td>\n",
       "      <td>425</td>\n",
       "      <td>N527NK</td>\n",
       "      <td>ORD</td>\n",
       "      <td>FLL</td>\n",
       "      <td>1730</td>\n",
       "      <td>...</td>\n",
       "      <td>2136</td>\n",
       "      <td>2120</td>\n",
       "      <td>-16</td>\n",
       "      <td>0</td>\n",
       "      <td>0</td>\n",
       "      <td>9.242671</td>\n",
       "      <td>0.131379</td>\n",
       "      <td>20.62595</td>\n",
       "      <td>16.262758</td>\n",
       "      <td>1.625407</td>\n",
       "    </tr>\n",
       "    <tr>\n",
       "      <th>9974</th>\n",
       "      <td>2015</td>\n",
       "      <td>1</td>\n",
       "      <td>1</td>\n",
       "      <td>4</td>\n",
       "      <td>NK</td>\n",
       "      <td>913</td>\n",
       "      <td>N516NK</td>\n",
       "      <td>MCI</td>\n",
       "      <td>DFW</td>\n",
       "      <td>1730</td>\n",
       "      <td>...</td>\n",
       "      <td>1855</td>\n",
       "      <td>1956</td>\n",
       "      <td>61</td>\n",
       "      <td>0</td>\n",
       "      <td>0</td>\n",
       "      <td>61.000000</td>\n",
       "      <td>0.000000</td>\n",
       "      <td>0.00000</td>\n",
       "      <td>0.000000</td>\n",
       "      <td>0.000000</td>\n",
       "    </tr>\n",
       "    <tr>\n",
       "      <th>9975</th>\n",
       "      <td>2015</td>\n",
       "      <td>1</td>\n",
       "      <td>1</td>\n",
       "      <td>4</td>\n",
       "      <td>OO</td>\n",
       "      <td>6268</td>\n",
       "      <td>N295SW</td>\n",
       "      <td>FAT</td>\n",
       "      <td>SFO</td>\n",
       "      <td>1730</td>\n",
       "      <td>...</td>\n",
       "      <td>1831</td>\n",
       "      <td>1839</td>\n",
       "      <td>8</td>\n",
       "      <td>0</td>\n",
       "      <td>0</td>\n",
       "      <td>9.242671</td>\n",
       "      <td>0.131379</td>\n",
       "      <td>20.62595</td>\n",
       "      <td>16.262758</td>\n",
       "      <td>1.625407</td>\n",
       "    </tr>\n",
       "    <tr>\n",
       "      <th>9976</th>\n",
       "      <td>2015</td>\n",
       "      <td>1</td>\n",
       "      <td>1</td>\n",
       "      <td>4</td>\n",
       "      <td>OO</td>\n",
       "      <td>2643</td>\n",
       "      <td>N955SW</td>\n",
       "      <td>CHO</td>\n",
       "      <td>ORD</td>\n",
       "      <td>1730</td>\n",
       "      <td>...</td>\n",
       "      <td>1830</td>\n",
       "      <td>1855</td>\n",
       "      <td>25</td>\n",
       "      <td>0</td>\n",
       "      <td>0</td>\n",
       "      <td>25.000000</td>\n",
       "      <td>0.000000</td>\n",
       "      <td>0.00000</td>\n",
       "      <td>0.000000</td>\n",
       "      <td>0.000000</td>\n",
       "    </tr>\n",
       "    <tr>\n",
       "      <th>9977</th>\n",
       "      <td>2015</td>\n",
       "      <td>1</td>\n",
       "      <td>1</td>\n",
       "      <td>4</td>\n",
       "      <td>OO</td>\n",
       "      <td>4540</td>\n",
       "      <td>N445SW</td>\n",
       "      <td>PLN</td>\n",
       "      <td>DTW</td>\n",
       "      <td>1730</td>\n",
       "      <td>...</td>\n",
       "      <td>1848</td>\n",
       "      <td>1825</td>\n",
       "      <td>-23</td>\n",
       "      <td>0</td>\n",
       "      <td>0</td>\n",
       "      <td>9.242671</td>\n",
       "      <td>0.131379</td>\n",
       "      <td>20.62595</td>\n",
       "      <td>16.262758</td>\n",
       "      <td>1.625407</td>\n",
       "    </tr>\n",
       "    <tr>\n",
       "      <th>9978</th>\n",
       "      <td>2015</td>\n",
       "      <td>1</td>\n",
       "      <td>1</td>\n",
       "      <td>4</td>\n",
       "      <td>OO</td>\n",
       "      <td>4599</td>\n",
       "      <td>N632SK</td>\n",
       "      <td>LAX</td>\n",
       "      <td>LAS</td>\n",
       "      <td>1730</td>\n",
       "      <td>...</td>\n",
       "      <td>1844</td>\n",
       "      <td>1835</td>\n",
       "      <td>-9</td>\n",
       "      <td>0</td>\n",
       "      <td>0</td>\n",
       "      <td>9.242671</td>\n",
       "      <td>0.131379</td>\n",
       "      <td>20.62595</td>\n",
       "      <td>16.262758</td>\n",
       "      <td>1.625407</td>\n",
       "    </tr>\n",
       "    <tr>\n",
       "      <th>9979</th>\n",
       "      <td>2015</td>\n",
       "      <td>1</td>\n",
       "      <td>1</td>\n",
       "      <td>4</td>\n",
       "      <td>OO</td>\n",
       "      <td>4620</td>\n",
       "      <td>N454SW</td>\n",
       "      <td>SLC</td>\n",
       "      <td>RAP</td>\n",
       "      <td>1730</td>\n",
       "      <td>...</td>\n",
       "      <td>1915</td>\n",
       "      <td>1903</td>\n",
       "      <td>-12</td>\n",
       "      <td>0</td>\n",
       "      <td>0</td>\n",
       "      <td>9.242671</td>\n",
       "      <td>0.131379</td>\n",
       "      <td>20.62595</td>\n",
       "      <td>16.262758</td>\n",
       "      <td>1.625407</td>\n",
       "    </tr>\n",
       "    <tr>\n",
       "      <th>9980</th>\n",
       "      <td>2015</td>\n",
       "      <td>1</td>\n",
       "      <td>1</td>\n",
       "      <td>4</td>\n",
       "      <td>HA</td>\n",
       "      <td>279</td>\n",
       "      <td>N475HA</td>\n",
       "      <td>KOA</td>\n",
       "      <td>HNL</td>\n",
       "      <td>1730</td>\n",
       "      <td>...</td>\n",
       "      <td>1814</td>\n",
       "      <td>1816</td>\n",
       "      <td>2</td>\n",
       "      <td>0</td>\n",
       "      <td>0</td>\n",
       "      <td>9.242671</td>\n",
       "      <td>0.131379</td>\n",
       "      <td>20.62595</td>\n",
       "      <td>16.262758</td>\n",
       "      <td>1.625407</td>\n",
       "    </tr>\n",
       "    <tr>\n",
       "      <th>9981</th>\n",
       "      <td>2015</td>\n",
       "      <td>1</td>\n",
       "      <td>1</td>\n",
       "      <td>4</td>\n",
       "      <td>OO</td>\n",
       "      <td>5511</td>\n",
       "      <td>N703SK</td>\n",
       "      <td>ORD</td>\n",
       "      <td>COS</td>\n",
       "      <td>1730</td>\n",
       "      <td>...</td>\n",
       "      <td>1915</td>\n",
       "      <td>1929</td>\n",
       "      <td>14</td>\n",
       "      <td>0</td>\n",
       "      <td>0</td>\n",
       "      <td>9.242671</td>\n",
       "      <td>0.131379</td>\n",
       "      <td>20.62595</td>\n",
       "      <td>16.262758</td>\n",
       "      <td>1.625407</td>\n",
       "    </tr>\n",
       "    <tr>\n",
       "      <th>9982</th>\n",
       "      <td>2015</td>\n",
       "      <td>1</td>\n",
       "      <td>1</td>\n",
       "      <td>4</td>\n",
       "      <td>OO</td>\n",
       "      <td>6538</td>\n",
       "      <td>N969SW</td>\n",
       "      <td>BIS</td>\n",
       "      <td>DEN</td>\n",
       "      <td>1730</td>\n",
       "      <td>...</td>\n",
       "      <td>1811</td>\n",
       "      <td>2139</td>\n",
       "      <td>208</td>\n",
       "      <td>0</td>\n",
       "      <td>0</td>\n",
       "      <td>23.000000</td>\n",
       "      <td>0.000000</td>\n",
       "      <td>3.00000</td>\n",
       "      <td>182.000000</td>\n",
       "      <td>0.000000</td>\n",
       "    </tr>\n",
       "    <tr>\n",
       "      <th>9983</th>\n",
       "      <td>2015</td>\n",
       "      <td>1</td>\n",
       "      <td>1</td>\n",
       "      <td>4</td>\n",
       "      <td>UA</td>\n",
       "      <td>1574</td>\n",
       "      <td>N69838</td>\n",
       "      <td>SJU</td>\n",
       "      <td>IAD</td>\n",
       "      <td>1731</td>\n",
       "      <td>...</td>\n",
       "      <td>2036</td>\n",
       "      <td>2043</td>\n",
       "      <td>7</td>\n",
       "      <td>0</td>\n",
       "      <td>0</td>\n",
       "      <td>9.242671</td>\n",
       "      <td>0.131379</td>\n",
       "      <td>20.62595</td>\n",
       "      <td>16.262758</td>\n",
       "      <td>1.625407</td>\n",
       "    </tr>\n",
       "    <tr>\n",
       "      <th>9984</th>\n",
       "      <td>2015</td>\n",
       "      <td>1</td>\n",
       "      <td>1</td>\n",
       "      <td>4</td>\n",
       "      <td>EV</td>\n",
       "      <td>4240</td>\n",
       "      <td>N24128</td>\n",
       "      <td>BTV</td>\n",
       "      <td>ORD</td>\n",
       "      <td>1732</td>\n",
       "      <td>...</td>\n",
       "      <td>1904</td>\n",
       "      <td>1910</td>\n",
       "      <td>6</td>\n",
       "      <td>0</td>\n",
       "      <td>0</td>\n",
       "      <td>9.242671</td>\n",
       "      <td>0.131379</td>\n",
       "      <td>20.62595</td>\n",
       "      <td>16.262758</td>\n",
       "      <td>1.625407</td>\n",
       "    </tr>\n",
       "    <tr>\n",
       "      <th>9985</th>\n",
       "      <td>2015</td>\n",
       "      <td>1</td>\n",
       "      <td>1</td>\n",
       "      <td>4</td>\n",
       "      <td>F9</td>\n",
       "      <td>265</td>\n",
       "      <td>N921FR</td>\n",
       "      <td>DEN</td>\n",
       "      <td>SNA</td>\n",
       "      <td>1732</td>\n",
       "      <td>...</td>\n",
       "      <td>1850</td>\n",
       "      <td>1845</td>\n",
       "      <td>-5</td>\n",
       "      <td>0</td>\n",
       "      <td>0</td>\n",
       "      <td>9.242671</td>\n",
       "      <td>0.131379</td>\n",
       "      <td>20.62595</td>\n",
       "      <td>16.262758</td>\n",
       "      <td>1.625407</td>\n",
       "    </tr>\n",
       "    <tr>\n",
       "      <th>9986</th>\n",
       "      <td>2015</td>\n",
       "      <td>1</td>\n",
       "      <td>1</td>\n",
       "      <td>4</td>\n",
       "      <td>OO</td>\n",
       "      <td>5202</td>\n",
       "      <td>N913SW</td>\n",
       "      <td>IDA</td>\n",
       "      <td>DEN</td>\n",
       "      <td>1732</td>\n",
       "      <td>...</td>\n",
       "      <td>1905</td>\n",
       "      <td>2016</td>\n",
       "      <td>71</td>\n",
       "      <td>0</td>\n",
       "      <td>0</td>\n",
       "      <td>60.000000</td>\n",
       "      <td>0.000000</td>\n",
       "      <td>0.00000</td>\n",
       "      <td>11.000000</td>\n",
       "      <td>0.000000</td>\n",
       "    </tr>\n",
       "    <tr>\n",
       "      <th>9987</th>\n",
       "      <td>2015</td>\n",
       "      <td>1</td>\n",
       "      <td>1</td>\n",
       "      <td>4</td>\n",
       "      <td>OO</td>\n",
       "      <td>6335</td>\n",
       "      <td>N578SW</td>\n",
       "      <td>SAN</td>\n",
       "      <td>LAX</td>\n",
       "      <td>1732</td>\n",
       "      <td>...</td>\n",
       "      <td>1822</td>\n",
       "      <td>1818</td>\n",
       "      <td>-4</td>\n",
       "      <td>0</td>\n",
       "      <td>0</td>\n",
       "      <td>9.242671</td>\n",
       "      <td>0.131379</td>\n",
       "      <td>20.62595</td>\n",
       "      <td>16.262758</td>\n",
       "      <td>1.625407</td>\n",
       "    </tr>\n",
       "    <tr>\n",
       "      <th>9988</th>\n",
       "      <td>2015</td>\n",
       "      <td>1</td>\n",
       "      <td>1</td>\n",
       "      <td>4</td>\n",
       "      <td>UA</td>\n",
       "      <td>1425</td>\n",
       "      <td>N69810</td>\n",
       "      <td>MIA</td>\n",
       "      <td>DEN</td>\n",
       "      <td>1733</td>\n",
       "      <td>...</td>\n",
       "      <td>2006</td>\n",
       "      <td>2014</td>\n",
       "      <td>8</td>\n",
       "      <td>0</td>\n",
       "      <td>0</td>\n",
       "      <td>9.242671</td>\n",
       "      <td>0.131379</td>\n",
       "      <td>20.62595</td>\n",
       "      <td>16.262758</td>\n",
       "      <td>1.625407</td>\n",
       "    </tr>\n",
       "    <tr>\n",
       "      <th>9989</th>\n",
       "      <td>2015</td>\n",
       "      <td>1</td>\n",
       "      <td>1</td>\n",
       "      <td>4</td>\n",
       "      <td>OO</td>\n",
       "      <td>5515</td>\n",
       "      <td>N916SW</td>\n",
       "      <td>FSD</td>\n",
       "      <td>DEN</td>\n",
       "      <td>1733</td>\n",
       "      <td>...</td>\n",
       "      <td>1815</td>\n",
       "      <td>1841</td>\n",
       "      <td>26</td>\n",
       "      <td>0</td>\n",
       "      <td>0</td>\n",
       "      <td>19.000000</td>\n",
       "      <td>0.000000</td>\n",
       "      <td>0.00000</td>\n",
       "      <td>7.000000</td>\n",
       "      <td>0.000000</td>\n",
       "    </tr>\n",
       "    <tr>\n",
       "      <th>9990</th>\n",
       "      <td>2015</td>\n",
       "      <td>1</td>\n",
       "      <td>1</td>\n",
       "      <td>4</td>\n",
       "      <td>OO</td>\n",
       "      <td>5597</td>\n",
       "      <td>N771SK</td>\n",
       "      <td>LAX</td>\n",
       "      <td>LAS</td>\n",
       "      <td>1733</td>\n",
       "      <td>...</td>\n",
       "      <td>1848</td>\n",
       "      <td>1836</td>\n",
       "      <td>-12</td>\n",
       "      <td>0</td>\n",
       "      <td>0</td>\n",
       "      <td>9.242671</td>\n",
       "      <td>0.131379</td>\n",
       "      <td>20.62595</td>\n",
       "      <td>16.262758</td>\n",
       "      <td>1.625407</td>\n",
       "    </tr>\n",
       "    <tr>\n",
       "      <th>9991</th>\n",
       "      <td>2015</td>\n",
       "      <td>1</td>\n",
       "      <td>1</td>\n",
       "      <td>4</td>\n",
       "      <td>OO</td>\n",
       "      <td>5409</td>\n",
       "      <td>N979SW</td>\n",
       "      <td>MKE</td>\n",
       "      <td>ORD</td>\n",
       "      <td>1733</td>\n",
       "      <td>...</td>\n",
       "      <td>1829</td>\n",
       "      <td>1759</td>\n",
       "      <td>-30</td>\n",
       "      <td>0</td>\n",
       "      <td>0</td>\n",
       "      <td>9.242671</td>\n",
       "      <td>0.131379</td>\n",
       "      <td>20.62595</td>\n",
       "      <td>16.262758</td>\n",
       "      <td>1.625407</td>\n",
       "    </tr>\n",
       "    <tr>\n",
       "      <th>9992</th>\n",
       "      <td>2015</td>\n",
       "      <td>1</td>\n",
       "      <td>1</td>\n",
       "      <td>4</td>\n",
       "      <td>UA</td>\n",
       "      <td>1101</td>\n",
       "      <td>N16217</td>\n",
       "      <td>SJU</td>\n",
       "      <td>EWR</td>\n",
       "      <td>1734</td>\n",
       "      <td>...</td>\n",
       "      <td>2049</td>\n",
       "      <td>2102</td>\n",
       "      <td>13</td>\n",
       "      <td>0</td>\n",
       "      <td>0</td>\n",
       "      <td>9.242671</td>\n",
       "      <td>0.131379</td>\n",
       "      <td>20.62595</td>\n",
       "      <td>16.262758</td>\n",
       "      <td>1.625407</td>\n",
       "    </tr>\n",
       "    <tr>\n",
       "      <th>9993</th>\n",
       "      <td>2015</td>\n",
       "      <td>1</td>\n",
       "      <td>1</td>\n",
       "      <td>4</td>\n",
       "      <td>EV</td>\n",
       "      <td>3267</td>\n",
       "      <td>N11119</td>\n",
       "      <td>DEN</td>\n",
       "      <td>SDF</td>\n",
       "      <td>1734</td>\n",
       "      <td>...</td>\n",
       "      <td>2205</td>\n",
       "      <td>2224</td>\n",
       "      <td>19</td>\n",
       "      <td>0</td>\n",
       "      <td>0</td>\n",
       "      <td>16.000000</td>\n",
       "      <td>0.000000</td>\n",
       "      <td>3.00000</td>\n",
       "      <td>0.000000</td>\n",
       "      <td>0.000000</td>\n",
       "    </tr>\n",
       "    <tr>\n",
       "      <th>9994</th>\n",
       "      <td>2015</td>\n",
       "      <td>1</td>\n",
       "      <td>1</td>\n",
       "      <td>4</td>\n",
       "      <td>OO</td>\n",
       "      <td>6247</td>\n",
       "      <td>N961SW</td>\n",
       "      <td>SLC</td>\n",
       "      <td>LAX</td>\n",
       "      <td>1734</td>\n",
       "      <td>...</td>\n",
       "      <td>1842</td>\n",
       "      <td>1854</td>\n",
       "      <td>12</td>\n",
       "      <td>0</td>\n",
       "      <td>0</td>\n",
       "      <td>9.242671</td>\n",
       "      <td>0.131379</td>\n",
       "      <td>20.62595</td>\n",
       "      <td>16.262758</td>\n",
       "      <td>1.625407</td>\n",
       "    </tr>\n",
       "    <tr>\n",
       "      <th>9995</th>\n",
       "      <td>2015</td>\n",
       "      <td>1</td>\n",
       "      <td>1</td>\n",
       "      <td>4</td>\n",
       "      <td>HA</td>\n",
       "      <td>213</td>\n",
       "      <td>N485HA</td>\n",
       "      <td>HNL</td>\n",
       "      <td>LIH</td>\n",
       "      <td>1734</td>\n",
       "      <td>...</td>\n",
       "      <td>1811</td>\n",
       "      <td>1840</td>\n",
       "      <td>29</td>\n",
       "      <td>0</td>\n",
       "      <td>0</td>\n",
       "      <td>0.000000</td>\n",
       "      <td>0.000000</td>\n",
       "      <td>26.00000</td>\n",
       "      <td>3.000000</td>\n",
       "      <td>0.000000</td>\n",
       "    </tr>\n",
       "    <tr>\n",
       "      <th>9996</th>\n",
       "      <td>2015</td>\n",
       "      <td>1</td>\n",
       "      <td>1</td>\n",
       "      <td>4</td>\n",
       "      <td>US</td>\n",
       "      <td>1952</td>\n",
       "      <td>N824AW</td>\n",
       "      <td>MSP</td>\n",
       "      <td>CLT</td>\n",
       "      <td>1735</td>\n",
       "      <td>...</td>\n",
       "      <td>2105</td>\n",
       "      <td>2041</td>\n",
       "      <td>-24</td>\n",
       "      <td>0</td>\n",
       "      <td>0</td>\n",
       "      <td>9.242671</td>\n",
       "      <td>0.131379</td>\n",
       "      <td>20.62595</td>\n",
       "      <td>16.262758</td>\n",
       "      <td>1.625407</td>\n",
       "    </tr>\n",
       "    <tr>\n",
       "      <th>9997</th>\n",
       "      <td>2015</td>\n",
       "      <td>1</td>\n",
       "      <td>1</td>\n",
       "      <td>4</td>\n",
       "      <td>VX</td>\n",
       "      <td>347</td>\n",
       "      <td>N631VA</td>\n",
       "      <td>FLL</td>\n",
       "      <td>SFO</td>\n",
       "      <td>1735</td>\n",
       "      <td>...</td>\n",
       "      <td>2055</td>\n",
       "      <td>2040</td>\n",
       "      <td>-15</td>\n",
       "      <td>0</td>\n",
       "      <td>0</td>\n",
       "      <td>9.242671</td>\n",
       "      <td>0.131379</td>\n",
       "      <td>20.62595</td>\n",
       "      <td>16.262758</td>\n",
       "      <td>1.625407</td>\n",
       "    </tr>\n",
       "    <tr>\n",
       "      <th>9998</th>\n",
       "      <td>2015</td>\n",
       "      <td>1</td>\n",
       "      <td>1</td>\n",
       "      <td>4</td>\n",
       "      <td>VX</td>\n",
       "      <td>963</td>\n",
       "      <td>N836VA</td>\n",
       "      <td>SAN</td>\n",
       "      <td>SFO</td>\n",
       "      <td>1735</td>\n",
       "      <td>...</td>\n",
       "      <td>1910</td>\n",
       "      <td>1856</td>\n",
       "      <td>-14</td>\n",
       "      <td>0</td>\n",
       "      <td>0</td>\n",
       "      <td>9.242671</td>\n",
       "      <td>0.131379</td>\n",
       "      <td>20.62595</td>\n",
       "      <td>16.262758</td>\n",
       "      <td>1.625407</td>\n",
       "    </tr>\n",
       "    <tr>\n",
       "      <th>9999</th>\n",
       "      <td>2015</td>\n",
       "      <td>1</td>\n",
       "      <td>1</td>\n",
       "      <td>4</td>\n",
       "      <td>WN</td>\n",
       "      <td>3941</td>\n",
       "      <td>N551WN</td>\n",
       "      <td>BNA</td>\n",
       "      <td>BWI</td>\n",
       "      <td>1735</td>\n",
       "      <td>...</td>\n",
       "      <td>2015</td>\n",
       "      <td>1948</td>\n",
       "      <td>-27</td>\n",
       "      <td>0</td>\n",
       "      <td>0</td>\n",
       "      <td>9.242671</td>\n",
       "      <td>0.131379</td>\n",
       "      <td>20.62595</td>\n",
       "      <td>16.262758</td>\n",
       "      <td>1.625407</td>\n",
       "    </tr>\n",
       "  </tbody>\n",
       "</table>\n",
       "<p>10000 rows × 30 columns</p>\n",
       "</div>"
      ],
      "text/plain": [
       "      YEAR  MONTH  DAY  DAY_OF_WEEK AIRLINE  FLIGHT_NUMBER TAIL_NUMBER  \\\n",
       "0     2015      1    1            4      AS             98      N407AS   \n",
       "1     2015      1    1            4      AA           2336      N3KUAA   \n",
       "2     2015      1    1            4      US            840      N171US   \n",
       "3     2015      1    1            4      AA            258      N3HYAA   \n",
       "4     2015      1    1            4      AS            135      N527AS   \n",
       "5     2015      1    1            4      DL            806      N3730B   \n",
       "6     2015      1    1            4      NK            612      N635NK   \n",
       "7     2015      1    1            4      US           2013      N584UW   \n",
       "8     2015      1    1            4      AA           1112      N3LAAA   \n",
       "9     2015      1    1            4      DL           1173      N826DN   \n",
       "10    2015      1    1            4      DL           2336      N958DN   \n",
       "11    2015      1    1            4      AA           1674      N853AA   \n",
       "12    2015      1    1            4      DL           1434      N547US   \n",
       "13    2015      1    1            4      DL           2324      N3751B   \n",
       "14    2015      1    1            4      DL           2440      N651DL   \n",
       "15    2015      1    1            4      AS            108      N309AS   \n",
       "16    2015      1    1            4      DL           1560      N3743H   \n",
       "17    2015      1    1            4      UA           1197      N78448   \n",
       "18    2015      1    1            4      AS            122      N413AS   \n",
       "19    2015      1    1            4      DL           1670      N806DN   \n",
       "20    2015      1    1            4      NK            520      N525NK   \n",
       "21    2015      1    1            4      AA            371      N3GXAA   \n",
       "22    2015      1    1            4      NK            214      N632NK   \n",
       "23    2015      1    1            4      AA            115      N3CTAA   \n",
       "24    2015      1    1            4      DL           1450      N671DN   \n",
       "25    2015      1    1            4      UA           1545      N76517   \n",
       "26    2015      1    1            4      AS            130      N457AS   \n",
       "27    2015      1    1            4      NK            597      N528NK   \n",
       "28    2015      1    1            4      US            413      N571UW   \n",
       "29    2015      1    1            4      AA           2392      N3HRAA   \n",
       "...    ...    ...  ...          ...     ...            ...         ...   \n",
       "9970  2015      1    1            4      MQ           3582      N647MQ   \n",
       "9971  2015      1    1            4      NK            108      N602NK   \n",
       "9972  2015      1    1            4      NK            146      N630NK   \n",
       "9973  2015      1    1            4      NK            425      N527NK   \n",
       "9974  2015      1    1            4      NK            913      N516NK   \n",
       "9975  2015      1    1            4      OO           6268      N295SW   \n",
       "9976  2015      1    1            4      OO           2643      N955SW   \n",
       "9977  2015      1    1            4      OO           4540      N445SW   \n",
       "9978  2015      1    1            4      OO           4599      N632SK   \n",
       "9979  2015      1    1            4      OO           4620      N454SW   \n",
       "9980  2015      1    1            4      HA            279      N475HA   \n",
       "9981  2015      1    1            4      OO           5511      N703SK   \n",
       "9982  2015      1    1            4      OO           6538      N969SW   \n",
       "9983  2015      1    1            4      UA           1574      N69838   \n",
       "9984  2015      1    1            4      EV           4240      N24128   \n",
       "9985  2015      1    1            4      F9            265      N921FR   \n",
       "9986  2015      1    1            4      OO           5202      N913SW   \n",
       "9987  2015      1    1            4      OO           6335      N578SW   \n",
       "9988  2015      1    1            4      UA           1425      N69810   \n",
       "9989  2015      1    1            4      OO           5515      N916SW   \n",
       "9990  2015      1    1            4      OO           5597      N771SK   \n",
       "9991  2015      1    1            4      OO           5409      N979SW   \n",
       "9992  2015      1    1            4      UA           1101      N16217   \n",
       "9993  2015      1    1            4      EV           3267      N11119   \n",
       "9994  2015      1    1            4      OO           6247      N961SW   \n",
       "9995  2015      1    1            4      HA            213      N485HA   \n",
       "9996  2015      1    1            4      US           1952      N824AW   \n",
       "9997  2015      1    1            4      VX            347      N631VA   \n",
       "9998  2015      1    1            4      VX            963      N836VA   \n",
       "9999  2015      1    1            4      WN           3941      N551WN   \n",
       "\n",
       "     ORIGIN_AIRPORT DESTINATION_AIRPORT  SCHEDULED_DEPARTURE      ...        \\\n",
       "0               ANC                 SEA                    5      ...         \n",
       "1               LAX                 PBI                   10      ...         \n",
       "2               SFO                 CLT                   20      ...         \n",
       "3               LAX                 MIA                   20      ...         \n",
       "4               SEA                 ANC                   25      ...         \n",
       "5               SFO                 MSP                   25      ...         \n",
       "6               LAS                 MSP                   25      ...         \n",
       "7               LAX                 CLT                   30      ...         \n",
       "8               SFO                 DFW                   30      ...         \n",
       "9               LAS                 ATL                   30      ...         \n",
       "10              DEN                 ATL                   30      ...         \n",
       "11              LAS                 MIA                   35      ...         \n",
       "12              LAX                 MSP                   35      ...         \n",
       "13              SLC                 ATL                   40      ...         \n",
       "14              SEA                 MSP                   40      ...         \n",
       "15              ANC                 SEA                   45      ...         \n",
       "16              ANC                 SEA                   45      ...         \n",
       "17              SFO                 IAH                   48      ...         \n",
       "18              ANC                 PDX                   50      ...         \n",
       "19              PDX                 MSP                   50      ...         \n",
       "20              LAS                 MCI                   55      ...         \n",
       "21              SEA                 MIA                  100      ...         \n",
       "22              LAS                 DFW                  103      ...         \n",
       "23              LAX                 MIA                  105      ...         \n",
       "24              LAS                 MSP                  105      ...         \n",
       "25              LAX                 IAH                  115      ...         \n",
       "26              FAI                 SEA                  115      ...         \n",
       "27              MSP                 FLL                  115      ...         \n",
       "28              LAS                 CLT                  120      ...         \n",
       "29              DEN                 MIA                  120      ...         \n",
       "...             ...                 ...                  ...      ...         \n",
       "9970            LAW                 DFW                 1730      ...         \n",
       "9971            SAN                 DFW                 1730      ...         \n",
       "9972            ATL                 DFW                 1730      ...         \n",
       "9973            ORD                 FLL                 1730      ...         \n",
       "9974            MCI                 DFW                 1730      ...         \n",
       "9975            FAT                 SFO                 1730      ...         \n",
       "9976            CHO                 ORD                 1730      ...         \n",
       "9977            PLN                 DTW                 1730      ...         \n",
       "9978            LAX                 LAS                 1730      ...         \n",
       "9979            SLC                 RAP                 1730      ...         \n",
       "9980            KOA                 HNL                 1730      ...         \n",
       "9981            ORD                 COS                 1730      ...         \n",
       "9982            BIS                 DEN                 1730      ...         \n",
       "9983            SJU                 IAD                 1731      ...         \n",
       "9984            BTV                 ORD                 1732      ...         \n",
       "9985            DEN                 SNA                 1732      ...         \n",
       "9986            IDA                 DEN                 1732      ...         \n",
       "9987            SAN                 LAX                 1732      ...         \n",
       "9988            MIA                 DEN                 1733      ...         \n",
       "9989            FSD                 DEN                 1733      ...         \n",
       "9990            LAX                 LAS                 1733      ...         \n",
       "9991            MKE                 ORD                 1733      ...         \n",
       "9992            SJU                 EWR                 1734      ...         \n",
       "9993            DEN                 SDF                 1734      ...         \n",
       "9994            SLC                 LAX                 1734      ...         \n",
       "9995            HNL                 LIH                 1734      ...         \n",
       "9996            MSP                 CLT                 1735      ...         \n",
       "9997            FLL                 SFO                 1735      ...         \n",
       "9998            SAN                 SFO                 1735      ...         \n",
       "9999            BNA                 BWI                 1735      ...         \n",
       "\n",
       "      SCHEDULED_ARRIVAL  ARRIVAL_TIME  ARRIVAL_DELAY  DIVERTED  CANCELLED  \\\n",
       "0                   430           408            -22         0          0   \n",
       "1                   750           741             -9         0          0   \n",
       "2                   806           811              5         0          0   \n",
       "3                   805           756             -9         0          0   \n",
       "4                   320           259            -21         0          0   \n",
       "5                   602           610              8         0          0   \n",
       "6                   526           509            -17         0          0   \n",
       "7                   803           753            -10         0          0   \n",
       "8                   545           532            -13         0          0   \n",
       "9                   711           656            -15         0          0   \n",
       "10                  523           453            -30         0          0   \n",
       "11                  803           753            -10         0          0   \n",
       "12                  609           605             -4         0          0   \n",
       "13                  615           553            -22         0          0   \n",
       "14                  549           557              8         0          0   \n",
       "15                  509           455            -14         0          0   \n",
       "16                  515           451            -24         0          0   \n",
       "17                  626           619             -7         0          0   \n",
       "18                  525           507            -18         0          0   \n",
       "19                  603           551            -12         0          0   \n",
       "20                  537           543              6         0          0   \n",
       "21                  938           939              1         0          0   \n",
       "22                  530           529             -1         0          0   \n",
       "23                  851           839            -12         0          0   \n",
       "24                  608           545            -23         0          0   \n",
       "25                  618           607            -11         0          0   \n",
       "26                  548           545             -3         0          0   \n",
       "27                  542           607             25         0          0   \n",
       "28                  825           754            -31         0          0   \n",
       "29                  707           709              2         0          0   \n",
       "...                 ...           ...            ...       ...        ...   \n",
       "9970               1820          1959             99         0          0   \n",
       "9971               2211          2231             20         0          0   \n",
       "9972               1859          1913             14         0          0   \n",
       "9973               2136          2120            -16         0          0   \n",
       "9974               1855          1956             61         0          0   \n",
       "9975               1831          1839              8         0          0   \n",
       "9976               1830          1855             25         0          0   \n",
       "9977               1848          1825            -23         0          0   \n",
       "9978               1844          1835             -9         0          0   \n",
       "9979               1915          1903            -12         0          0   \n",
       "9980               1814          1816              2         0          0   \n",
       "9981               1915          1929             14         0          0   \n",
       "9982               1811          2139            208         0          0   \n",
       "9983               2036          2043              7         0          0   \n",
       "9984               1904          1910              6         0          0   \n",
       "9985               1850          1845             -5         0          0   \n",
       "9986               1905          2016             71         0          0   \n",
       "9987               1822          1818             -4         0          0   \n",
       "9988               2006          2014              8         0          0   \n",
       "9989               1815          1841             26         0          0   \n",
       "9990               1848          1836            -12         0          0   \n",
       "9991               1829          1759            -30         0          0   \n",
       "9992               2049          2102             13         0          0   \n",
       "9993               2205          2224             19         0          0   \n",
       "9994               1842          1854             12         0          0   \n",
       "9995               1811          1840             29         0          0   \n",
       "9996               2105          2041            -24         0          0   \n",
       "9997               2055          2040            -15         0          0   \n",
       "9998               1910          1856            -14         0          0   \n",
       "9999               2015          1948            -27         0          0   \n",
       "\n",
       "      AIR_SYSTEM_DELAY  SECURITY_DELAY  AIRLINE_DELAY  LATE_AIRCRAFT_DELAY  \\\n",
       "0             9.242671        0.131379       20.62595            16.262758   \n",
       "1             9.242671        0.131379       20.62595            16.262758   \n",
       "2             9.242671        0.131379       20.62595            16.262758   \n",
       "3             9.242671        0.131379       20.62595            16.262758   \n",
       "4             9.242671        0.131379       20.62595            16.262758   \n",
       "5             9.242671        0.131379       20.62595            16.262758   \n",
       "6             9.242671        0.131379       20.62595            16.262758   \n",
       "7             9.242671        0.131379       20.62595            16.262758   \n",
       "8             9.242671        0.131379       20.62595            16.262758   \n",
       "9             9.242671        0.131379       20.62595            16.262758   \n",
       "10            9.242671        0.131379       20.62595            16.262758   \n",
       "11            9.242671        0.131379       20.62595            16.262758   \n",
       "12            9.242671        0.131379       20.62595            16.262758   \n",
       "13            9.242671        0.131379       20.62595            16.262758   \n",
       "14            9.242671        0.131379       20.62595            16.262758   \n",
       "15            9.242671        0.131379       20.62595            16.262758   \n",
       "16            9.242671        0.131379       20.62595            16.262758   \n",
       "17            9.242671        0.131379       20.62595            16.262758   \n",
       "18            9.242671        0.131379       20.62595            16.262758   \n",
       "19            9.242671        0.131379       20.62595            16.262758   \n",
       "20            9.242671        0.131379       20.62595            16.262758   \n",
       "21            9.242671        0.131379       20.62595            16.262758   \n",
       "22            9.242671        0.131379       20.62595            16.262758   \n",
       "23            9.242671        0.131379       20.62595            16.262758   \n",
       "24            9.242671        0.131379       20.62595            16.262758   \n",
       "25            9.242671        0.131379       20.62595            16.262758   \n",
       "26            9.242671        0.131379       20.62595            16.262758   \n",
       "27           25.000000        0.000000        0.00000             0.000000   \n",
       "28            9.242671        0.131379       20.62595            16.262758   \n",
       "29            9.242671        0.131379       20.62595            16.262758   \n",
       "...                ...             ...            ...                  ...   \n",
       "9970         17.000000        0.000000        6.00000            76.000000   \n",
       "9971         20.000000        0.000000        0.00000             0.000000   \n",
       "9972          9.242671        0.131379       20.62595            16.262758   \n",
       "9973          9.242671        0.131379       20.62595            16.262758   \n",
       "9974         61.000000        0.000000        0.00000             0.000000   \n",
       "9975          9.242671        0.131379       20.62595            16.262758   \n",
       "9976         25.000000        0.000000        0.00000             0.000000   \n",
       "9977          9.242671        0.131379       20.62595            16.262758   \n",
       "9978          9.242671        0.131379       20.62595            16.262758   \n",
       "9979          9.242671        0.131379       20.62595            16.262758   \n",
       "9980          9.242671        0.131379       20.62595            16.262758   \n",
       "9981          9.242671        0.131379       20.62595            16.262758   \n",
       "9982         23.000000        0.000000        3.00000           182.000000   \n",
       "9983          9.242671        0.131379       20.62595            16.262758   \n",
       "9984          9.242671        0.131379       20.62595            16.262758   \n",
       "9985          9.242671        0.131379       20.62595            16.262758   \n",
       "9986         60.000000        0.000000        0.00000            11.000000   \n",
       "9987          9.242671        0.131379       20.62595            16.262758   \n",
       "9988          9.242671        0.131379       20.62595            16.262758   \n",
       "9989         19.000000        0.000000        0.00000             7.000000   \n",
       "9990          9.242671        0.131379       20.62595            16.262758   \n",
       "9991          9.242671        0.131379       20.62595            16.262758   \n",
       "9992          9.242671        0.131379       20.62595            16.262758   \n",
       "9993         16.000000        0.000000        3.00000             0.000000   \n",
       "9994          9.242671        0.131379       20.62595            16.262758   \n",
       "9995          0.000000        0.000000       26.00000             3.000000   \n",
       "9996          9.242671        0.131379       20.62595            16.262758   \n",
       "9997          9.242671        0.131379       20.62595            16.262758   \n",
       "9998          9.242671        0.131379       20.62595            16.262758   \n",
       "9999          9.242671        0.131379       20.62595            16.262758   \n",
       "\n",
       "      WEATHER_DELAY  \n",
       "0          1.625407  \n",
       "1          1.625407  \n",
       "2          1.625407  \n",
       "3          1.625407  \n",
       "4          1.625407  \n",
       "5          1.625407  \n",
       "6          1.625407  \n",
       "7          1.625407  \n",
       "8          1.625407  \n",
       "9          1.625407  \n",
       "10         1.625407  \n",
       "11         1.625407  \n",
       "12         1.625407  \n",
       "13         1.625407  \n",
       "14         1.625407  \n",
       "15         1.625407  \n",
       "16         1.625407  \n",
       "17         1.625407  \n",
       "18         1.625407  \n",
       "19         1.625407  \n",
       "20         1.625407  \n",
       "21         1.625407  \n",
       "22         1.625407  \n",
       "23         1.625407  \n",
       "24         1.625407  \n",
       "25         1.625407  \n",
       "26         1.625407  \n",
       "27         0.000000  \n",
       "28         1.625407  \n",
       "29         1.625407  \n",
       "...             ...  \n",
       "9970       0.000000  \n",
       "9971       0.000000  \n",
       "9972       1.625407  \n",
       "9973       1.625407  \n",
       "9974       0.000000  \n",
       "9975       1.625407  \n",
       "9976       0.000000  \n",
       "9977       1.625407  \n",
       "9978       1.625407  \n",
       "9979       1.625407  \n",
       "9980       1.625407  \n",
       "9981       1.625407  \n",
       "9982       0.000000  \n",
       "9983       1.625407  \n",
       "9984       1.625407  \n",
       "9985       1.625407  \n",
       "9986       0.000000  \n",
       "9987       1.625407  \n",
       "9988       1.625407  \n",
       "9989       0.000000  \n",
       "9990       1.625407  \n",
       "9991       1.625407  \n",
       "9992       1.625407  \n",
       "9993       0.000000  \n",
       "9994       1.625407  \n",
       "9995       0.000000  \n",
       "9996       1.625407  \n",
       "9997       1.625407  \n",
       "9998       1.625407  \n",
       "9999       1.625407  \n",
       "\n",
       "[10000 rows x 30 columns]"
      ]
     },
     "execution_count": 17,
     "metadata": {},
     "output_type": "execute_result"
    }
   ],
   "source": [
    "# DROP CANCELATIONS REASONS\n",
    "df.drop(['CANCELLATION_REASON'], axis=1) "
   ]
  },
  {
   "cell_type": "code",
   "execution_count": null,
   "metadata": {
    "ExecuteTime": {
     "end_time": "2020-12-17T01:42:16.372364Z",
     "start_time": "2020-12-17T01:42:16.369388Z"
    }
   },
   "outputs": [],
   "source": [
    "# import missingno as mno\n",
    "# from sklearn import linear_model\n",
    "# %matplotlib inline\n",
    "\n",
    "# # Use misingNo package matrix to visulize missing data\n",
    "# mno.matrix(df, figsize = (20, 6))"
   ]
  },
  {
   "cell_type": "code",
   "execution_count": 18,
   "metadata": {
    "ExecuteTime": {
     "end_time": "2020-12-17T21:34:23.201735Z",
     "start_time": "2020-12-17T21:34:23.192311Z"
    }
   },
   "outputs": [
    {
     "name": "stdout",
     "output_type": "stream",
     "text": [
      "YEAR                       0\n",
      "MONTH                      0\n",
      "DAY                        0\n",
      "DAY_OF_WEEK                0\n",
      "AIRLINE                    0\n",
      "FLIGHT_NUMBER              0\n",
      "TAIL_NUMBER                0\n",
      "ORIGIN_AIRPORT             0\n",
      "DESTINATION_AIRPORT        0\n",
      "SCHEDULED_DEPARTURE        0\n",
      "DEPARTURE_TIME             0\n",
      "DEPARTURE_DELAY            0\n",
      "TAXI_OUT                   0\n",
      "WHEELS_OFF                 0\n",
      "SCHEDULED_TIME             0\n",
      "ELAPSED_TIME               0\n",
      "AIR_TIME                   0\n",
      "DISTANCE                   0\n",
      "WHEELS_ON                  0\n",
      "TAXI_IN                    0\n",
      "SCHEDULED_ARRIVAL          0\n",
      "ARRIVAL_TIME               0\n",
      "ARRIVAL_DELAY              0\n",
      "DIVERTED                   0\n",
      "CANCELLED                  0\n",
      "CANCELLATION_REASON    10000\n",
      "AIR_SYSTEM_DELAY           0\n",
      "SECURITY_DELAY             0\n",
      "AIRLINE_DELAY              0\n",
      "LATE_AIRCRAFT_DELAY        0\n",
      "WEATHER_DELAY              0\n",
      "dtype: int64\n"
     ]
    }
   ],
   "source": [
    "# FINAL counts all null values in each column\n",
    "print(df.isnull().sum())"
   ]
  },
  {
   "cell_type": "markdown",
   "metadata": {
    "heading_collapsed": true
   },
   "source": [
    "## Categorical Data"
   ]
  },
  {
   "cell_type": "markdown",
   "metadata": {
    "hidden": true
   },
   "source": [
    "> Use this section to work with only categorical data types for pre-proccessing and inferencing data into a new data frame to work with. \n",
    "\n",
    "*** Pandas object is a reference to string types.***\n",
    "\n",
    "| Pandas dtype | Code varible | Dataframe Varible|\n",
    "| --- | --- | --- | \n",
    " string  |    = 'object'   |   = obj_df\n"
   ]
  },
  {
   "cell_type": "markdown",
   "metadata": {
    "heading_collapsed": true,
    "hidden": true
   },
   "source": [
    "### Add Categorical Data  Into a Seperate Dataframe"
   ]
  },
  {
   "cell_type": "code",
   "execution_count": null,
   "metadata": {
    "code_folding": [],
    "hidden": true
   },
   "outputs": [],
   "source": [
    "# ADD CATEGORICAL DATA TO A NEW DATAFRAME\n",
    "# Selct all categorical data objects - obj_dfs = string\n",
    "obj_dfs = df.select_dtypes(include=['object']).copy()\n",
    "obj_dfs.head()"
   ]
  },
  {
   "cell_type": "code",
   "execution_count": null,
   "metadata": {
    "hidden": true
   },
   "outputs": [],
   "source": [
    "# Do more work here"
   ]
  },
  {
   "cell_type": "markdown",
   "metadata": {
    "heading_collapsed": true
   },
   "source": [
    "## Encoding Categorical Data\n",
    "\n",
    "This section incudes: \n",
    "- Encoding catergrical data varibles with bianry numbers with cat.codes\n",
    "- Dummy Varibles\n",
    "- One Hot Encoding\n"
   ]
  },
  {
   "cell_type": "code",
   "execution_count": null,
   "metadata": {
    "hidden": true
   },
   "outputs": [],
   "source": [
    "#Count colum values make sure they are evenly processed \n",
    "obj_df[\"YOUR_COLUMN\"].value_counts()"
   ]
  },
  {
   "cell_type": "code",
   "execution_count": null,
   "metadata": {
    "hidden": true
   },
   "outputs": [],
   "source": [
    "#Double Check DataTypes\n",
    "obj_df.dtypes"
   ]
  },
  {
   "cell_type": "code",
   "execution_count": null,
   "metadata": {
    "hidden": true
   },
   "outputs": [],
   "source": [
    "# Use cat.codes accessor labeling for colums in dataFrame - YOUR_COLUMN \n",
    "# YOUR_DISC = CREATE A NEW COLUM GHEAD DESCRIBTION FOR YOUR ENCODED DATA\n",
    "# (COPY THIS CODE BLOCK AND ADD COLUMN DATA FOR EACH COLUMN)\n",
    "obj_df[\"YOUR_DISC\"] = obj_df[\"YOUR_COLUMN\"].astype('category').cat.codes\n"
   ]
  },
  {
   "cell_type": "code",
   "execution_count": null,
   "metadata": {
    "hidden": true
   },
   "outputs": [],
   "source": [
    "# cHECK NEW COLUMN WAS CREATED AT END OF TABLE WITH ENCODED VARIBLE FOR ENTIRE COLUMN\n",
    "obj_df.head()"
   ]
  },
  {
   "cell_type": "code",
   "execution_count": null,
   "metadata": {
    "hidden": true
   },
   "outputs": [],
   "source": [
    "Described Encoded data\n",
    "obj_df.describe()"
   ]
  },
  {
   "cell_type": "code",
   "execution_count": null,
   "metadata": {
    "hidden": true
   },
   "outputs": [],
   "source": [
    "# obj_df CAN NOW BE USED WITH NUMARICAL DATA STATISITICS AND INFERENCES BELOW\n",
    "# Sperate values into X and Y values for stats\n",
    "# Use advanced grouping technuiqes below."
   ]
  },
  {
   "cell_type": "markdown",
   "metadata": {
    "heading_collapsed": true
   },
   "source": [
    "## Add Numarical Data Types"
   ]
  },
  {
   "cell_type": "markdown",
   "metadata": {
    "hidden": true
   },
   "source": [
    ">  Use this section to proccess numerical data by adding it to a new dataframe.\n",
    "\n",
    " \n",
    " <hr>\n",
    " **Working With Numarical Data:**\n",
    " \n",
    "| Pandas dtype | Code varible | Dataframe Varible|\n",
    "| --- | --- | --- | \n",
    "- int64  |    = 'int'   |   = num_df\n",
    "- float64   | = 'float'  |  = flt_df\n",
    "- datetime64 | = 'datetime'| = dat_df\n",
    "- bool      |  = 'bool'   |  = bol_df"
   ]
  },
  {
   "cell_type": "markdown",
   "metadata": {
    "hidden": true
   },
   "source": [
    "*** Only Use the type you need and copy as many times to fit your data ***"
   ]
  },
  {
   "cell_type": "code",
   "execution_count": null,
   "metadata": {
    "code_folding": [],
    "hidden": true,
    "run_control": {
     "marked": false
    }
   },
   "outputs": [],
   "source": [
    "# Selct all numarical  data objects - num_df = numbers\n",
    "num_df = df.select_dtypes(include=['int']).copy()\n",
    "num_df.head()"
   ]
  },
  {
   "cell_type": "code",
   "execution_count": null,
   "metadata": {
    "hidden": true
   },
   "outputs": [],
   "source": [
    "# Selct all numarical  data objects - num_df = numbers\n",
    "flt_df = df.select_dtypes(include=['float']).copy()\n",
    "flt_df.head()"
   ]
  },
  {
   "cell_type": "markdown",
   "metadata": {
    "hidden": true
   },
   "source": [
    "\n"
   ]
  },
  {
   "cell_type": "code",
   "execution_count": null,
   "metadata": {
    "hidden": true
   },
   "outputs": [],
   "source": [
    "# Selct all numarical  data objects - num_df = numbers\n",
    "dat_df = df.select_dtypes(include=['datetime']).copy()\n",
    "dat_df.head()"
   ]
  },
  {
   "cell_type": "code",
   "execution_count": null,
   "metadata": {
    "hidden": true
   },
   "outputs": [],
   "source": [
    "# Selct all numarical  data objects - num_df = numbers\n",
    "bol_df = df.select_dtypes(include=['bool']).copy()\n",
    "bol_df.head()"
   ]
  },
  {
   "cell_type": "code",
   "execution_count": null,
   "metadata": {
    "hidden": true
   },
   "outputs": [],
   "source": [
    "# Do more work here"
   ]
  },
  {
   "cell_type": "markdown",
   "metadata": {
    "hidden": true
   },
   "source": [
    "### Replace NULL and Missing Values per Column\n",
    "\n",
    " - Best used on categorical data\n",
    " - Replace numarical data with MEAN vlaues\n",
    " \n",
    " <hr>\n",
    " \n",
    " CHANGE DATAFRAME TO FIT YOUR NEEDS"
   ]
  },
  {
   "cell_type": "code",
   "execution_count": null,
   "metadata": {
    "code_folding": [],
    "hidden": true
   },
   "outputs": [],
   "source": [
    "# Clean up REPLACE any missing values MAKE SURE TO CHANGE YOUR DATAFRAME\n",
    "#obj_dfS - OR -  obj_dfN\n",
    "obj_df[obj_df.isnull().any(axis=1)]"
   ]
  },
  {
   "cell_type": "code",
   "execution_count": null,
   "metadata": {
    "hidden": true
   },
   "outputs": [],
   "source": [
    "# Preproccess Data - YOUR COLUMN\n",
    "obj_df[\"YOUR_COLUMN\"].value_counts()"
   ]
  },
  {
   "cell_type": "code",
   "execution_count": null,
   "metadata": {
    "hidden": true
   },
   "outputs": [],
   "source": [
    "# Fill in NULL values for column - Your_Column : Your_Value_to_be_Changed\n",
    "\n",
    "obj_df = obj_df.fillna({\"YOUR_COLUMN\": \"REPLACE_VALUE\"})"
   ]
  },
  {
   "cell_type": "code",
   "execution_count": null,
   "metadata": {
    "hidden": true
   },
   "outputs": [],
   "source": [
    "#....copy code above for each column you need to even out"
   ]
  },
  {
   "cell_type": "markdown",
   "metadata": {
    "hidden": true
   },
   "source": [
    "### Replace NULL & Missing Fetures W/ MEAN Values - Numarical Data "
   ]
  },
  {
   "cell_type": "markdown",
   "metadata": {
    "hidden": true
   },
   "source": [
    "> axis=0 argument calculates the column wise mean of the dataframe so the result will be axis=1 is row wise mean so you are getting multiple values.\n",
    "\n",
    "- Specify index vlaue which = colum of data you want to work with.\n",
    "- Even if we do not specify axis = 0, \n",
    "- The method will return the mean over the index axis by default"
   ]
  },
  {
   "cell_type": "code",
   "execution_count": null,
   "metadata": {
    "hidden": true
   },
   "outputs": [],
   "source": [
    "# CALULATE full Dataframe MEAN  values for each column\n",
    "\n",
    "num_df.mean(axis = 0)"
   ]
  },
  {
   "cell_type": "code",
   "execution_count": null,
   "metadata": {
    "hidden": true
   },
   "outputs": [],
   "source": [
    "# skip the NULL values while finding the mean \n",
    "num_df.mean(axis = 1, skipna = True)"
   ]
  },
  {
   "cell_type": "code",
   "execution_count": null,
   "metadata": {
    "hidden": true
   },
   "outputs": [],
   "source": [
    "#Claulating Individual row of data MEAN/Average\n",
    "num_df[\"YOUR_COLUMN\"].mean()"
   ]
  },
  {
   "cell_type": "code",
   "execution_count": null,
   "metadata": {
    "hidden": true
   },
   "outputs": [],
   "source": [
    "num_df['YOUR_COLUMN'].max(): For maximum value"
   ]
  },
  {
   "cell_type": "code",
   "execution_count": null,
   "metadata": {
    "hidden": true
   },
   "outputs": [],
   "source": [
    " num_df['YOUR_COLUMN'].min(): For minimum value"
   ]
  },
  {
   "cell_type": "code",
   "execution_count": null,
   "metadata": {
    "hidden": true
   },
   "outputs": [],
   "source": [
    "# Sumerizes colum and dataframe data with stats\n",
    "print (num_df.describe())"
   ]
  },
  {
   "cell_type": "code",
   "execution_count": null,
   "metadata": {
    "hidden": true
   },
   "outputs": [],
   "source": [
    "# get both sets of stats back\n",
    "num_df['YOUR_COLUMN'].mean()\n",
    "num_df.describe()"
   ]
  },
  {
   "cell_type": "markdown",
   "metadata": {
    "heading_collapsed": true
   },
   "source": [
    "# Grouping Data"
   ]
  },
  {
   "cell_type": "markdown",
   "metadata": {},
   "source": [
    "# Ploting Data Visulization"
   ]
  },
  {
   "cell_type": "markdown",
   "metadata": {},
   "source": [
    "## Using Clean Data"
   ]
  },
  {
   "cell_type": "code",
   "execution_count": null,
   "metadata": {},
   "outputs": [],
   "source": [
    "# Alway use clean and even data before moving forward beyond this point!!!"
   ]
  },
  {
   "cell_type": "markdown",
   "metadata": {},
   "source": []
  },
  {
   "cell_type": "markdown",
   "metadata": {},
   "source": [
    "## Univariate Plotting With Pandas\n",
    "<hr>\n",
    "\n",
    "_Plot has methods to alter size and visualization styles such as **figplot(6,6)**\n",
    "to give the size of the plot an x vlaue of 6 inches and y vlaue of 6 inches. these can be changed_\n",
    " \n",
    "See dtrials of how to manipulate data with panads methods here:\n",
    "\n",
    "- Series data = https://pandas.pydata.org/pandas-docs/stable/reference/series.html\n",
    "- Datframes = https://pandas.pydata.org/pandas-docs/stable/reference/frame.html\n"
   ]
  },
  {
   "cell_type": "markdown",
   "metadata": {},
   "source": [
    "### Bar charts and categorical data\n",
    "\n",
    "> Bar charts are arguably the simplest data visualization. They map categories to numbers: \n",
    "\n",
    "- Replace df with your data fram unless you are still using orignail dataframe\n",
    "- Use with both categorical and numarical data\n"
   ]
  },
  {
   "cell_type": "code",
   "execution_count": 179,
   "metadata": {
    "ExecuteTime": {
     "end_time": "2020-12-17T23:20:23.249796Z",
     "start_time": "2020-12-17T23:20:23.208629Z"
    }
   },
   "outputs": [
    {
     "ename": "KeyError",
     "evalue": "'YOUR_CLOUMN'",
     "output_type": "error",
     "traceback": [
      "\u001b[1;31m---------------------------------------------------------------------------\u001b[0m",
      "\u001b[1;31mKeyError\u001b[0m                                  Traceback (most recent call last)",
      "\u001b[1;32mC:\\ProgramData\\Anaconda3\\lib\\site-packages\\pandas\\core\\indexes\\base.py\u001b[0m in \u001b[0;36mget_loc\u001b[1;34m(self, key, method, tolerance)\u001b[0m\n\u001b[0;32m   3077\u001b[0m             \u001b[1;32mtry\u001b[0m\u001b[1;33m:\u001b[0m\u001b[1;33m\u001b[0m\u001b[1;33m\u001b[0m\u001b[0m\n\u001b[1;32m-> 3078\u001b[1;33m                 \u001b[1;32mreturn\u001b[0m \u001b[0mself\u001b[0m\u001b[1;33m.\u001b[0m\u001b[0m_engine\u001b[0m\u001b[1;33m.\u001b[0m\u001b[0mget_loc\u001b[0m\u001b[1;33m(\u001b[0m\u001b[0mkey\u001b[0m\u001b[1;33m)\u001b[0m\u001b[1;33m\u001b[0m\u001b[1;33m\u001b[0m\u001b[0m\n\u001b[0m\u001b[0;32m   3079\u001b[0m             \u001b[1;32mexcept\u001b[0m \u001b[0mKeyError\u001b[0m\u001b[1;33m:\u001b[0m\u001b[1;33m\u001b[0m\u001b[1;33m\u001b[0m\u001b[0m\n",
      "\u001b[1;32mpandas\\_libs\\index.pyx\u001b[0m in \u001b[0;36mpandas._libs.index.IndexEngine.get_loc\u001b[1;34m()\u001b[0m\n",
      "\u001b[1;32mpandas\\_libs\\index.pyx\u001b[0m in \u001b[0;36mpandas._libs.index.IndexEngine.get_loc\u001b[1;34m()\u001b[0m\n",
      "\u001b[1;32mpandas\\_libs\\hashtable_class_helper.pxi\u001b[0m in \u001b[0;36mpandas._libs.hashtable.PyObjectHashTable.get_item\u001b[1;34m()\u001b[0m\n",
      "\u001b[1;32mpandas\\_libs\\hashtable_class_helper.pxi\u001b[0m in \u001b[0;36mpandas._libs.hashtable.PyObjectHashTable.get_item\u001b[1;34m()\u001b[0m\n",
      "\u001b[1;31mKeyError\u001b[0m: 'YOUR_CLOUMN'",
      "\nDuring handling of the above exception, another exception occurred:\n",
      "\u001b[1;31mKeyError\u001b[0m                                  Traceback (most recent call last)",
      "\u001b[1;32m<ipython-input-179-c5ef8325bdb5>\u001b[0m in \u001b[0;36m<module>\u001b[1;34m\u001b[0m\n\u001b[0;32m      1\u001b[0m \u001b[1;31m# ADD CATEGORICAL DATA COLUM TO GET STATS\u001b[0m\u001b[1;33m\u001b[0m\u001b[1;33m\u001b[0m\u001b[1;33m\u001b[0m\u001b[0m\n\u001b[1;32m----> 2\u001b[1;33m \u001b[0mdf\u001b[0m\u001b[1;33m[\u001b[0m\u001b[1;34m'YOUR_CLOUMN'\u001b[0m\u001b[1;33m]\u001b[0m\u001b[1;33m.\u001b[0m\u001b[0mvalue_counts\u001b[0m\u001b[1;33m(\u001b[0m\u001b[1;33m)\u001b[0m\u001b[1;33m.\u001b[0m\u001b[0mhead\u001b[0m\u001b[1;33m(\u001b[0m\u001b[1;36m10\u001b[0m\u001b[1;33m)\u001b[0m\u001b[1;33m.\u001b[0m\u001b[0mplot\u001b[0m\u001b[1;33m.\u001b[0m\u001b[0mbar\u001b[0m\u001b[1;33m(\u001b[0m\u001b[1;33m)\u001b[0m\u001b[1;33m\u001b[0m\u001b[1;33m\u001b[0m\u001b[0m\n\u001b[0m",
      "\u001b[1;32mC:\\ProgramData\\Anaconda3\\lib\\site-packages\\pandas\\core\\frame.py\u001b[0m in \u001b[0;36m__getitem__\u001b[1;34m(self, key)\u001b[0m\n\u001b[0;32m   2686\u001b[0m             \u001b[1;32mreturn\u001b[0m \u001b[0mself\u001b[0m\u001b[1;33m.\u001b[0m\u001b[0m_getitem_multilevel\u001b[0m\u001b[1;33m(\u001b[0m\u001b[0mkey\u001b[0m\u001b[1;33m)\u001b[0m\u001b[1;33m\u001b[0m\u001b[1;33m\u001b[0m\u001b[0m\n\u001b[0;32m   2687\u001b[0m         \u001b[1;32melse\u001b[0m\u001b[1;33m:\u001b[0m\u001b[1;33m\u001b[0m\u001b[1;33m\u001b[0m\u001b[0m\n\u001b[1;32m-> 2688\u001b[1;33m             \u001b[1;32mreturn\u001b[0m \u001b[0mself\u001b[0m\u001b[1;33m.\u001b[0m\u001b[0m_getitem_column\u001b[0m\u001b[1;33m(\u001b[0m\u001b[0mkey\u001b[0m\u001b[1;33m)\u001b[0m\u001b[1;33m\u001b[0m\u001b[1;33m\u001b[0m\u001b[0m\n\u001b[0m\u001b[0;32m   2689\u001b[0m \u001b[1;33m\u001b[0m\u001b[0m\n\u001b[0;32m   2690\u001b[0m     \u001b[1;32mdef\u001b[0m \u001b[0m_getitem_column\u001b[0m\u001b[1;33m(\u001b[0m\u001b[0mself\u001b[0m\u001b[1;33m,\u001b[0m \u001b[0mkey\u001b[0m\u001b[1;33m)\u001b[0m\u001b[1;33m:\u001b[0m\u001b[1;33m\u001b[0m\u001b[1;33m\u001b[0m\u001b[0m\n",
      "\u001b[1;32mC:\\ProgramData\\Anaconda3\\lib\\site-packages\\pandas\\core\\frame.py\u001b[0m in \u001b[0;36m_getitem_column\u001b[1;34m(self, key)\u001b[0m\n\u001b[0;32m   2693\u001b[0m         \u001b[1;31m# get column\u001b[0m\u001b[1;33m\u001b[0m\u001b[1;33m\u001b[0m\u001b[1;33m\u001b[0m\u001b[0m\n\u001b[0;32m   2694\u001b[0m         \u001b[1;32mif\u001b[0m \u001b[0mself\u001b[0m\u001b[1;33m.\u001b[0m\u001b[0mcolumns\u001b[0m\u001b[1;33m.\u001b[0m\u001b[0mis_unique\u001b[0m\u001b[1;33m:\u001b[0m\u001b[1;33m\u001b[0m\u001b[1;33m\u001b[0m\u001b[0m\n\u001b[1;32m-> 2695\u001b[1;33m             \u001b[1;32mreturn\u001b[0m \u001b[0mself\u001b[0m\u001b[1;33m.\u001b[0m\u001b[0m_get_item_cache\u001b[0m\u001b[1;33m(\u001b[0m\u001b[0mkey\u001b[0m\u001b[1;33m)\u001b[0m\u001b[1;33m\u001b[0m\u001b[1;33m\u001b[0m\u001b[0m\n\u001b[0m\u001b[0;32m   2696\u001b[0m \u001b[1;33m\u001b[0m\u001b[0m\n\u001b[0;32m   2697\u001b[0m         \u001b[1;31m# duplicate columns & possible reduce dimensionality\u001b[0m\u001b[1;33m\u001b[0m\u001b[1;33m\u001b[0m\u001b[1;33m\u001b[0m\u001b[0m\n",
      "\u001b[1;32mC:\\ProgramData\\Anaconda3\\lib\\site-packages\\pandas\\core\\generic.py\u001b[0m in \u001b[0;36m_get_item_cache\u001b[1;34m(self, item)\u001b[0m\n\u001b[0;32m   2487\u001b[0m         \u001b[0mres\u001b[0m \u001b[1;33m=\u001b[0m \u001b[0mcache\u001b[0m\u001b[1;33m.\u001b[0m\u001b[0mget\u001b[0m\u001b[1;33m(\u001b[0m\u001b[0mitem\u001b[0m\u001b[1;33m)\u001b[0m\u001b[1;33m\u001b[0m\u001b[1;33m\u001b[0m\u001b[0m\n\u001b[0;32m   2488\u001b[0m         \u001b[1;32mif\u001b[0m \u001b[0mres\u001b[0m \u001b[1;32mis\u001b[0m \u001b[1;32mNone\u001b[0m\u001b[1;33m:\u001b[0m\u001b[1;33m\u001b[0m\u001b[1;33m\u001b[0m\u001b[0m\n\u001b[1;32m-> 2489\u001b[1;33m             \u001b[0mvalues\u001b[0m \u001b[1;33m=\u001b[0m \u001b[0mself\u001b[0m\u001b[1;33m.\u001b[0m\u001b[0m_data\u001b[0m\u001b[1;33m.\u001b[0m\u001b[0mget\u001b[0m\u001b[1;33m(\u001b[0m\u001b[0mitem\u001b[0m\u001b[1;33m)\u001b[0m\u001b[1;33m\u001b[0m\u001b[1;33m\u001b[0m\u001b[0m\n\u001b[0m\u001b[0;32m   2490\u001b[0m             \u001b[0mres\u001b[0m \u001b[1;33m=\u001b[0m \u001b[0mself\u001b[0m\u001b[1;33m.\u001b[0m\u001b[0m_box_item_values\u001b[0m\u001b[1;33m(\u001b[0m\u001b[0mitem\u001b[0m\u001b[1;33m,\u001b[0m \u001b[0mvalues\u001b[0m\u001b[1;33m)\u001b[0m\u001b[1;33m\u001b[0m\u001b[1;33m\u001b[0m\u001b[0m\n\u001b[0;32m   2491\u001b[0m             \u001b[0mcache\u001b[0m\u001b[1;33m[\u001b[0m\u001b[0mitem\u001b[0m\u001b[1;33m]\u001b[0m \u001b[1;33m=\u001b[0m \u001b[0mres\u001b[0m\u001b[1;33m\u001b[0m\u001b[1;33m\u001b[0m\u001b[0m\n",
      "\u001b[1;32mC:\\ProgramData\\Anaconda3\\lib\\site-packages\\pandas\\core\\internals.py\u001b[0m in \u001b[0;36mget\u001b[1;34m(self, item, fastpath)\u001b[0m\n\u001b[0;32m   4113\u001b[0m \u001b[1;33m\u001b[0m\u001b[0m\n\u001b[0;32m   4114\u001b[0m             \u001b[1;32mif\u001b[0m \u001b[1;32mnot\u001b[0m \u001b[0misna\u001b[0m\u001b[1;33m(\u001b[0m\u001b[0mitem\u001b[0m\u001b[1;33m)\u001b[0m\u001b[1;33m:\u001b[0m\u001b[1;33m\u001b[0m\u001b[1;33m\u001b[0m\u001b[0m\n\u001b[1;32m-> 4115\u001b[1;33m                 \u001b[0mloc\u001b[0m \u001b[1;33m=\u001b[0m \u001b[0mself\u001b[0m\u001b[1;33m.\u001b[0m\u001b[0mitems\u001b[0m\u001b[1;33m.\u001b[0m\u001b[0mget_loc\u001b[0m\u001b[1;33m(\u001b[0m\u001b[0mitem\u001b[0m\u001b[1;33m)\u001b[0m\u001b[1;33m\u001b[0m\u001b[1;33m\u001b[0m\u001b[0m\n\u001b[0m\u001b[0;32m   4116\u001b[0m             \u001b[1;32melse\u001b[0m\u001b[1;33m:\u001b[0m\u001b[1;33m\u001b[0m\u001b[1;33m\u001b[0m\u001b[0m\n\u001b[0;32m   4117\u001b[0m                 \u001b[0mindexer\u001b[0m \u001b[1;33m=\u001b[0m \u001b[0mnp\u001b[0m\u001b[1;33m.\u001b[0m\u001b[0marange\u001b[0m\u001b[1;33m(\u001b[0m\u001b[0mlen\u001b[0m\u001b[1;33m(\u001b[0m\u001b[0mself\u001b[0m\u001b[1;33m.\u001b[0m\u001b[0mitems\u001b[0m\u001b[1;33m)\u001b[0m\u001b[1;33m)\u001b[0m\u001b[1;33m[\u001b[0m\u001b[0misna\u001b[0m\u001b[1;33m(\u001b[0m\u001b[0mself\u001b[0m\u001b[1;33m.\u001b[0m\u001b[0mitems\u001b[0m\u001b[1;33m)\u001b[0m\u001b[1;33m]\u001b[0m\u001b[1;33m\u001b[0m\u001b[1;33m\u001b[0m\u001b[0m\n",
      "\u001b[1;32mC:\\ProgramData\\Anaconda3\\lib\\site-packages\\pandas\\core\\indexes\\base.py\u001b[0m in \u001b[0;36mget_loc\u001b[1;34m(self, key, method, tolerance)\u001b[0m\n\u001b[0;32m   3078\u001b[0m                 \u001b[1;32mreturn\u001b[0m \u001b[0mself\u001b[0m\u001b[1;33m.\u001b[0m\u001b[0m_engine\u001b[0m\u001b[1;33m.\u001b[0m\u001b[0mget_loc\u001b[0m\u001b[1;33m(\u001b[0m\u001b[0mkey\u001b[0m\u001b[1;33m)\u001b[0m\u001b[1;33m\u001b[0m\u001b[1;33m\u001b[0m\u001b[0m\n\u001b[0;32m   3079\u001b[0m             \u001b[1;32mexcept\u001b[0m \u001b[0mKeyError\u001b[0m\u001b[1;33m:\u001b[0m\u001b[1;33m\u001b[0m\u001b[1;33m\u001b[0m\u001b[0m\n\u001b[1;32m-> 3080\u001b[1;33m                 \u001b[1;32mreturn\u001b[0m \u001b[0mself\u001b[0m\u001b[1;33m.\u001b[0m\u001b[0m_engine\u001b[0m\u001b[1;33m.\u001b[0m\u001b[0mget_loc\u001b[0m\u001b[1;33m(\u001b[0m\u001b[0mself\u001b[0m\u001b[1;33m.\u001b[0m\u001b[0m_maybe_cast_indexer\u001b[0m\u001b[1;33m(\u001b[0m\u001b[0mkey\u001b[0m\u001b[1;33m)\u001b[0m\u001b[1;33m)\u001b[0m\u001b[1;33m\u001b[0m\u001b[1;33m\u001b[0m\u001b[0m\n\u001b[0m\u001b[0;32m   3081\u001b[0m \u001b[1;33m\u001b[0m\u001b[0m\n\u001b[0;32m   3082\u001b[0m         \u001b[0mindexer\u001b[0m \u001b[1;33m=\u001b[0m \u001b[0mself\u001b[0m\u001b[1;33m.\u001b[0m\u001b[0mget_indexer\u001b[0m\u001b[1;33m(\u001b[0m\u001b[1;33m[\u001b[0m\u001b[0mkey\u001b[0m\u001b[1;33m]\u001b[0m\u001b[1;33m,\u001b[0m \u001b[0mmethod\u001b[0m\u001b[1;33m=\u001b[0m\u001b[0mmethod\u001b[0m\u001b[1;33m,\u001b[0m \u001b[0mtolerance\u001b[0m\u001b[1;33m=\u001b[0m\u001b[0mtolerance\u001b[0m\u001b[1;33m)\u001b[0m\u001b[1;33m\u001b[0m\u001b[1;33m\u001b[0m\u001b[0m\n",
      "\u001b[1;32mpandas\\_libs\\index.pyx\u001b[0m in \u001b[0;36mpandas._libs.index.IndexEngine.get_loc\u001b[1;34m()\u001b[0m\n",
      "\u001b[1;32mpandas\\_libs\\index.pyx\u001b[0m in \u001b[0;36mpandas._libs.index.IndexEngine.get_loc\u001b[1;34m()\u001b[0m\n",
      "\u001b[1;32mpandas\\_libs\\hashtable_class_helper.pxi\u001b[0m in \u001b[0;36mpandas._libs.hashtable.PyObjectHashTable.get_item\u001b[1;34m()\u001b[0m\n",
      "\u001b[1;32mpandas\\_libs\\hashtable_class_helper.pxi\u001b[0m in \u001b[0;36mpandas._libs.hashtable.PyObjectHashTable.get_item\u001b[1;34m()\u001b[0m\n",
      "\u001b[1;31mKeyError\u001b[0m: 'YOUR_CLOUMN'"
     ]
    }
   ],
   "source": [
    "# ADD CATEGORICAL DATA COLUM TO GET STATS\n",
    "df['YOUR_CLOUMN'].value_counts().head(10).plot.bar()"
   ]
  },
  {
   "cell_type": "code",
   "execution_count": null,
   "metadata": {
    "ExecuteTime": {
     "end_time": "2020-12-17T23:20:23.964037Z",
     "start_time": "2020-12-17T23:20:23.922869Z"
    }
   },
   "outputs": [],
   "source": [
    "# CONVERT Y AXIS TO PERCENTAGE VALUES\n",
    "(df['YOUR_CLOUMN'].value_counts().head(10) / len(df)).plot.bar()"
   ]
  },
  {
   "cell_type": "markdown",
   "metadata": {},
   "source": [
    "**Bar charts are very flexible: The height can represent anything, as long as it is a number. And each bar can represent anything, as long as it is a category.**\n",
    "\n",
    "- Nominal categorical variables include things like countries, ZIP codes, types of cheese, and lunar landers. The other kind are ordinal categories:\n",
    "- ordinal categories: things that do make sense to compare, like earthquake magnitudes, housing complexes with certain numbers of apartments, and the sizes of bags of chips at your local deli."
   ]
  },
  {
   "cell_type": "code",
   "execution_count": null,
   "metadata": {},
   "outputs": [],
   "source": [
    "# USING NOMINLA OR ORDINAL NUMARICAL DATA (CAN USE ENCODED, DUMMY DATA HERE)\n",
    "df['YOUR_CLOUMN'].value_counts().sort_index().plot.bar()"
   ]
  },
  {
   "cell_type": "markdown",
   "metadata": {},
   "source": [
    "### Line charts\n",
    "\n",
    "** What would we do if the magazine rated things 0-100? We'd have 100 different categories; simply too many to fit a bar in for each one! In that case, instead of bar chart, we could use a line chart: **\n",
    "\n",
    "- Use Line chart to measureuniuqe values\n",
    "- Use line chart to visualize exccess amounts of data categories\n",
    "\n",
    "> Unlike bar charts, they're not appropriate for nominal categorical data. While bar charts distinguish between every \"type\" of point line charts mushes them together. So a line chart asserts an order to the values on the horizontal axis, and the order won’t make sense with some data. \n",
    "\n",
    "<hr>\n",
    "\n",
    "** Suppose that we're interested in counting the following variables: **\n",
    "\n",
    "- The number of tubs of ice cream purchased by flavor, given that there are 5 different flavors. (NOMINAL) = BAR CHART\n",
    "- The average number of cars purchased from American car manufacturers in Michigan.              (NOMINAL) = BAR CHART   \n",
    "- Test scores given to students by teachers at a college, on a 0-100 scale.                      (ORDINAL) = LINE CHART\n",
    "- The number of restaurants located on the street by the name of the street in Lower Manhattan.  (ORDINAL) = LINE CHART"
   ]
  },
  {
   "cell_type": "markdown",
   "metadata": {},
   "source": [
    "### Average delayed arrival flight time? "
   ]
  },
  {
   "cell_type": "code",
   "execution_count": 181,
   "metadata": {
    "ExecuteTime": {
     "end_time": "2020-12-17T23:20:40.358793Z",
     "start_time": "2020-12-17T23:20:40.162378Z"
    }
   },
   "outputs": [
    {
     "data": {
      "text/plain": [
       "<matplotlib.axes._subplots.AxesSubplot at 0x23142590dd8>"
      ]
     },
     "execution_count": 181,
     "metadata": {},
     "output_type": "execute_result"
    },
    {
     "data": {
      "image/png": "[encoded data removed]",
      "text/plain": [
       "<Figure size 1440x720 with 1 Axes>"
      ]
     },
     "metadata": {
      "needs_background": "light"
     },
     "output_type": "display_data"
    }
   ],
   "source": [
    "df['ARRIVAL_DELAY'].value_counts().sort_index().plot.line(figsize=(20,10), title=\"Average Deay Time in Hours/Minutes/Sec\")"
   ]
  },
  {
   "cell_type": "code",
   "execution_count": 182,
   "metadata": {
    "ExecuteTime": {
     "end_time": "2020-12-17T23:20:41.051208Z",
     "start_time": "2020-12-17T23:20:40.817592Z"
    },
    "run_control": {
     "marked": false
    }
   },
   "outputs": [
    {
     "data": {
      "image/png": "[encoded data removed]",
      "text/plain": [
       "<Figure size 1440x720 with 1 Axes>"
      ]
     },
     "metadata": {
      "needs_background": "light"
     },
     "output_type": "display_data"
    }
   ],
   "source": [
    "# Average_Arival Delay\n",
    "# Subplots as having two types of quality \n",
    "fig, ax = plt.subplots()\n",
    "df.columns.name = 'Type'\n",
    "df.index.name = 'Delayed Flights'\n",
    "ax = df['ARRIVAL_DELAY'].sort_index().plot.line(x='Arival Delays', y='Time',colormap='jet', subplots=False, figsize=(20,10),title='Average Flight Arival delay')\n"
   ]
  },
  {
   "cell_type": "code",
   "execution_count": 183,
   "metadata": {
    "ExecuteTime": {
     "end_time": "2020-12-17T23:20:43.179541Z",
     "start_time": "2020-12-17T23:20:43.136388Z"
    }
   },
   "outputs": [],
   "source": [
    "df_delay = df.groupby('ARRIVAL_DELAY').agg([np.mean])\n"
   ]
  },
  {
   "cell_type": "code",
   "execution_count": 184,
   "metadata": {
    "ExecuteTime": {
     "end_time": "2020-12-17T23:20:43.895763Z",
     "start_time": "2020-12-17T23:20:43.874435Z"
    }
   },
   "outputs": [
    {
     "data": {
      "text/html": [
       "<div>\n",
       "<style scoped>\n",
       "    .dataframe tbody tr th:only-of-type {\n",
       "        vertical-align: middle;\n",
       "    }\n",
       "\n",
       "    .dataframe tbody tr th {\n",
       "        vertical-align: top;\n",
       "    }\n",
       "\n",
       "    .dataframe thead tr th {\n",
       "        text-align: left;\n",
       "    }\n",
       "\n",
       "    .dataframe thead tr:last-of-type th {\n",
       "        text-align: right;\n",
       "    }\n",
       "</style>\n",
       "<table border=\"1\" class=\"dataframe\">\n",
       "  <thead>\n",
       "    <tr>\n",
       "      <th></th>\n",
       "      <th>YEAR</th>\n",
       "      <th>MONTH</th>\n",
       "      <th>DAY</th>\n",
       "      <th>DAY_OF_WEEK</th>\n",
       "      <th>FLIGHT_NUMBER</th>\n",
       "      <th>SCHEDULED_DEPARTURE</th>\n",
       "      <th>DEPARTURE_TIME</th>\n",
       "      <th>DEPARTURE_DELAY</th>\n",
       "      <th>TAXI_OUT</th>\n",
       "      <th>WHEELS_OFF</th>\n",
       "      <th>...</th>\n",
       "      <th>SCHEDULED_ARRIVAL</th>\n",
       "      <th>ARRIVAL_TIME</th>\n",
       "      <th>DIVERTED</th>\n",
       "      <th>CANCELLED</th>\n",
       "      <th>CANCELLATION_REASON</th>\n",
       "      <th>AIR_SYSTEM_DELAY</th>\n",
       "      <th>SECURITY_DELAY</th>\n",
       "      <th>AIRLINE_DELAY</th>\n",
       "      <th>LATE_AIRCRAFT_DELAY</th>\n",
       "      <th>WEATHER_DELAY</th>\n",
       "    </tr>\n",
       "    <tr>\n",
       "      <th></th>\n",
       "      <th>mean</th>\n",
       "      <th>mean</th>\n",
       "      <th>mean</th>\n",
       "      <th>mean</th>\n",
       "      <th>mean</th>\n",
       "      <th>mean</th>\n",
       "      <th>mean</th>\n",
       "      <th>mean</th>\n",
       "      <th>mean</th>\n",
       "      <th>mean</th>\n",
       "      <th>...</th>\n",
       "      <th>mean</th>\n",
       "      <th>mean</th>\n",
       "      <th>mean</th>\n",
       "      <th>mean</th>\n",
       "      <th>mean</th>\n",
       "      <th>mean</th>\n",
       "      <th>mean</th>\n",
       "      <th>mean</th>\n",
       "      <th>mean</th>\n",
       "      <th>mean</th>\n",
       "    </tr>\n",
       "    <tr>\n",
       "      <th>ARRIVAL_DELAY</th>\n",
       "      <th></th>\n",
       "      <th></th>\n",
       "      <th></th>\n",
       "      <th></th>\n",
       "      <th></th>\n",
       "      <th></th>\n",
       "      <th></th>\n",
       "      <th></th>\n",
       "      <th></th>\n",
       "      <th></th>\n",
       "      <th></th>\n",
       "      <th></th>\n",
       "      <th></th>\n",
       "      <th></th>\n",
       "      <th></th>\n",
       "      <th></th>\n",
       "      <th></th>\n",
       "      <th></th>\n",
       "      <th></th>\n",
       "      <th></th>\n",
       "      <th></th>\n",
       "    </tr>\n",
       "  </thead>\n",
       "  <tbody>\n",
       "    <tr>\n",
       "      <th>-54</th>\n",
       "      <td>2015</td>\n",
       "      <td>1</td>\n",
       "      <td>1</td>\n",
       "      <td>4</td>\n",
       "      <td>7383.0</td>\n",
       "      <td>1255.0</td>\n",
       "      <td>1250.0</td>\n",
       "      <td>-5.0</td>\n",
       "      <td>8.0</td>\n",
       "      <td>1258.0</td>\n",
       "      <td>...</td>\n",
       "      <td>1446.0</td>\n",
       "      <td>1352.0</td>\n",
       "      <td>0</td>\n",
       "      <td>0</td>\n",
       "      <td>NaN</td>\n",
       "      <td>9.242671</td>\n",
       "      <td>0.131379</td>\n",
       "      <td>20.62595</td>\n",
       "      <td>16.262758</td>\n",
       "      <td>1.625407</td>\n",
       "    </tr>\n",
       "    <tr>\n",
       "      <th>-53</th>\n",
       "      <td>2015</td>\n",
       "      <td>1</td>\n",
       "      <td>1</td>\n",
       "      <td>4</td>\n",
       "      <td>1982.0</td>\n",
       "      <td>1529.0</td>\n",
       "      <td>1524.0</td>\n",
       "      <td>-5.0</td>\n",
       "      <td>14.0</td>\n",
       "      <td>1538.0</td>\n",
       "      <td>...</td>\n",
       "      <td>1902.0</td>\n",
       "      <td>1809.0</td>\n",
       "      <td>0</td>\n",
       "      <td>0</td>\n",
       "      <td>NaN</td>\n",
       "      <td>9.242671</td>\n",
       "      <td>0.131379</td>\n",
       "      <td>20.62595</td>\n",
       "      <td>16.262758</td>\n",
       "      <td>1.625407</td>\n",
       "    </tr>\n",
       "    <tr>\n",
       "      <th>-51</th>\n",
       "      <td>2015</td>\n",
       "      <td>1</td>\n",
       "      <td>1</td>\n",
       "      <td>4</td>\n",
       "      <td>1335.0</td>\n",
       "      <td>959.5</td>\n",
       "      <td>939.0</td>\n",
       "      <td>-0.5</td>\n",
       "      <td>11.5</td>\n",
       "      <td>970.5</td>\n",
       "      <td>...</td>\n",
       "      <td>1533.5</td>\n",
       "      <td>1442.5</td>\n",
       "      <td>0</td>\n",
       "      <td>0</td>\n",
       "      <td>NaN</td>\n",
       "      <td>9.242671</td>\n",
       "      <td>0.131379</td>\n",
       "      <td>20.62595</td>\n",
       "      <td>16.262758</td>\n",
       "      <td>1.625407</td>\n",
       "    </tr>\n",
       "    <tr>\n",
       "      <th>-49</th>\n",
       "      <td>2015</td>\n",
       "      <td>1</td>\n",
       "      <td>1</td>\n",
       "      <td>4</td>\n",
       "      <td>118.0</td>\n",
       "      <td>700.0</td>\n",
       "      <td>650.0</td>\n",
       "      <td>-10.0</td>\n",
       "      <td>13.0</td>\n",
       "      <td>703.0</td>\n",
       "      <td>...</td>\n",
       "      <td>1525.0</td>\n",
       "      <td>1436.0</td>\n",
       "      <td>0</td>\n",
       "      <td>0</td>\n",
       "      <td>NaN</td>\n",
       "      <td>9.242671</td>\n",
       "      <td>0.131379</td>\n",
       "      <td>20.62595</td>\n",
       "      <td>16.262758</td>\n",
       "      <td>1.625407</td>\n",
       "    </tr>\n",
       "    <tr>\n",
       "      <th>-46</th>\n",
       "      <td>2015</td>\n",
       "      <td>1</td>\n",
       "      <td>1</td>\n",
       "      <td>4</td>\n",
       "      <td>1690.0</td>\n",
       "      <td>1095.0</td>\n",
       "      <td>1086.5</td>\n",
       "      <td>-8.5</td>\n",
       "      <td>12.0</td>\n",
       "      <td>1098.5</td>\n",
       "      <td>...</td>\n",
       "      <td>1522.5</td>\n",
       "      <td>1436.5</td>\n",
       "      <td>0</td>\n",
       "      <td>0</td>\n",
       "      <td>NaN</td>\n",
       "      <td>9.242671</td>\n",
       "      <td>0.131379</td>\n",
       "      <td>20.62595</td>\n",
       "      <td>16.262758</td>\n",
       "      <td>1.625407</td>\n",
       "    </tr>\n",
       "  </tbody>\n",
       "</table>\n",
       "<p>5 rows × 26 columns</p>\n",
       "</div>"
      ],
      "text/plain": [
       "               YEAR MONTH  DAY DAY_OF_WEEK FLIGHT_NUMBER SCHEDULED_DEPARTURE  \\\n",
       "               mean  mean mean        mean          mean                mean   \n",
       "ARRIVAL_DELAY                                                                  \n",
       "-54            2015     1    1           4        7383.0              1255.0   \n",
       "-53            2015     1    1           4        1982.0              1529.0   \n",
       "-51            2015     1    1           4        1335.0               959.5   \n",
       "-49            2015     1    1           4         118.0               700.0   \n",
       "-46            2015     1    1           4        1690.0              1095.0   \n",
       "\n",
       "              DEPARTURE_TIME DEPARTURE_DELAY TAXI_OUT WHEELS_OFF  \\\n",
       "                        mean            mean     mean       mean   \n",
       "ARRIVAL_DELAY                                                      \n",
       "-54                   1250.0            -5.0      8.0     1258.0   \n",
       "-53                   1524.0            -5.0     14.0     1538.0   \n",
       "-51                    939.0            -0.5     11.5      970.5   \n",
       "-49                    650.0           -10.0     13.0      703.0   \n",
       "-46                   1086.5            -8.5     12.0     1098.5   \n",
       "\n",
       "                   ...      SCHEDULED_ARRIVAL ARRIVAL_TIME DIVERTED CANCELLED  \\\n",
       "                   ...                   mean         mean     mean      mean   \n",
       "ARRIVAL_DELAY      ...                                                          \n",
       "-54                ...                 1446.0       1352.0        0         0   \n",
       "-53                ...                 1902.0       1809.0        0         0   \n",
       "-51                ...                 1533.5       1442.5        0         0   \n",
       "-49                ...                 1525.0       1436.0        0         0   \n",
       "-46                ...                 1522.5       1436.5        0         0   \n",
       "\n",
       "              CANCELLATION_REASON AIR_SYSTEM_DELAY SECURITY_DELAY  \\\n",
       "                             mean             mean           mean   \n",
       "ARRIVAL_DELAY                                                       \n",
       "-54                           NaN         9.242671       0.131379   \n",
       "-53                           NaN         9.242671       0.131379   \n",
       "-51                           NaN         9.242671       0.131379   \n",
       "-49                           NaN         9.242671       0.131379   \n",
       "-46                           NaN         9.242671       0.131379   \n",
       "\n",
       "              AIRLINE_DELAY LATE_AIRCRAFT_DELAY WEATHER_DELAY  \n",
       "                       mean                mean          mean  \n",
       "ARRIVAL_DELAY                                                  \n",
       "-54                20.62595           16.262758      1.625407  \n",
       "-53                20.62595           16.262758      1.625407  \n",
       "-51                20.62595           16.262758      1.625407  \n",
       "-49                20.62595           16.262758      1.625407  \n",
       "-46                20.62595           16.262758      1.625407  \n",
       "\n",
       "[5 rows x 26 columns]"
      ]
     },
     "execution_count": 184,
     "metadata": {},
     "output_type": "execute_result"
    }
   ],
   "source": [
    "# checking for results \n",
    "df_delay.head()"
   ]
  },
  {
   "cell_type": "code",
   "execution_count": 185,
   "metadata": {
    "ExecuteTime": {
     "end_time": "2020-12-17T23:20:48.362767Z",
     "start_time": "2020-12-17T23:20:47.508160Z"
    },
    "run_control": {
     "marked": true
    }
   },
   "outputs": [
    {
     "data": {
      "text/plain": [
       "<matplotlib.axes._subplots.AxesSubplot at 0x23142457550>"
      ]
     },
     "execution_count": 185,
     "metadata": {},
     "output_type": "execute_result"
    },
    {
     "data": {
      "image/png": "[encoded data removed]",
      "text/plain": [
       "<Figure size 1440x720 with 1 Axes>"
      ]
     },
     "metadata": {
      "needs_background": "light"
     },
     "output_type": "display_data"
    }
   ],
   "source": [
    "df_delay.plot.hist(bins=12, alpha=0.5, figsize=(20,10), title='Average Flight Arival delay')"
   ]
  },
  {
   "cell_type": "code",
   "execution_count": 186,
   "metadata": {
    "ExecuteTime": {
     "end_time": "2020-12-17T23:20:58.668638Z",
     "start_time": "2020-12-17T23:20:48.726831Z"
    }
   },
   "outputs": [
    {
     "data": {
      "text/plain": [
       "<matplotlib.axes._subplots.AxesSubplot at 0x231440704e0>"
      ]
     },
     "execution_count": 186,
     "metadata": {},
     "output_type": "execute_result"
    },
    {
     "data": {
      "image/png": "[encoded data removed]",
      "text/plain": [
       "<Figure size 1440x720 with 1 Axes>"
      ]
     },
     "metadata": {
      "needs_background": "light"
     },
     "output_type": "display_data"
    }
   ],
   "source": [
    "df_delay.plot(kind = \"bar\",  legend = False, \n",
    "            title = \"Average Delay In Flights\", figsize=(20,10))"
   ]
  },
  {
   "cell_type": "code",
   "execution_count": 187,
   "metadata": {
    "ExecuteTime": {
     "end_time": "2020-12-17T23:20:59.148268Z",
     "start_time": "2020-12-17T23:20:59.081310Z"
    }
   },
   "outputs": [
    {
     "data": {
      "text/html": [
       "<div>\n",
       "<style scoped>\n",
       "    .dataframe tbody tr th:only-of-type {\n",
       "        vertical-align: middle;\n",
       "    }\n",
       "\n",
       "    .dataframe tbody tr th {\n",
       "        vertical-align: top;\n",
       "    }\n",
       "\n",
       "    .dataframe thead tr th {\n",
       "        text-align: left;\n",
       "    }\n",
       "</style>\n",
       "<table border=\"1\" class=\"dataframe\">\n",
       "  <thead>\n",
       "    <tr>\n",
       "      <th></th>\n",
       "      <th>YEAR</th>\n",
       "      <th>MONTH</th>\n",
       "      <th>DAY</th>\n",
       "      <th>DAY_OF_WEEK</th>\n",
       "      <th>FLIGHT_NUMBER</th>\n",
       "      <th>SCHEDULED_DEPARTURE</th>\n",
       "      <th>DEPARTURE_TIME</th>\n",
       "      <th>DEPARTURE_DELAY</th>\n",
       "      <th>TAXI_OUT</th>\n",
       "      <th>WHEELS_OFF</th>\n",
       "      <th>...</th>\n",
       "      <th>SCHEDULED_ARRIVAL</th>\n",
       "      <th>ARRIVAL_TIME</th>\n",
       "      <th>DIVERTED</th>\n",
       "      <th>CANCELLED</th>\n",
       "      <th>CANCELLATION_REASON</th>\n",
       "      <th>AIR_SYSTEM_DELAY</th>\n",
       "      <th>SECURITY_DELAY</th>\n",
       "      <th>AIRLINE_DELAY</th>\n",
       "      <th>LATE_AIRCRAFT_DELAY</th>\n",
       "      <th>WEATHER_DELAY</th>\n",
       "    </tr>\n",
       "    <tr>\n",
       "      <th></th>\n",
       "      <th>mean</th>\n",
       "      <th>mean</th>\n",
       "      <th>mean</th>\n",
       "      <th>mean</th>\n",
       "      <th>mean</th>\n",
       "      <th>mean</th>\n",
       "      <th>mean</th>\n",
       "      <th>mean</th>\n",
       "      <th>mean</th>\n",
       "      <th>mean</th>\n",
       "      <th>...</th>\n",
       "      <th>mean</th>\n",
       "      <th>mean</th>\n",
       "      <th>mean</th>\n",
       "      <th>mean</th>\n",
       "      <th>mean</th>\n",
       "      <th>mean</th>\n",
       "      <th>mean</th>\n",
       "      <th>mean</th>\n",
       "      <th>mean</th>\n",
       "      <th>mean</th>\n",
       "    </tr>\n",
       "  </thead>\n",
       "  <tbody>\n",
       "    <tr>\n",
       "      <th>count</th>\n",
       "      <td>241.0</td>\n",
       "      <td>241.0</td>\n",
       "      <td>241.0</td>\n",
       "      <td>241.0</td>\n",
       "      <td>241.000000</td>\n",
       "      <td>241.000000</td>\n",
       "      <td>241.000000</td>\n",
       "      <td>241.000000</td>\n",
       "      <td>241.000000</td>\n",
       "      <td>241.000000</td>\n",
       "      <td>...</td>\n",
       "      <td>241.000000</td>\n",
       "      <td>241.000000</td>\n",
       "      <td>241.0</td>\n",
       "      <td>241.0</td>\n",
       "      <td>0.0</td>\n",
       "      <td>241.000000</td>\n",
       "      <td>241.000000</td>\n",
       "      <td>241.000000</td>\n",
       "      <td>241.000000</td>\n",
       "      <td>241.000000</td>\n",
       "    </tr>\n",
       "    <tr>\n",
       "      <th>mean</th>\n",
       "      <td>2015.0</td>\n",
       "      <td>1.0</td>\n",
       "      <td>1.0</td>\n",
       "      <td>4.0</td>\n",
       "      <td>2416.396368</td>\n",
       "      <td>1193.790524</td>\n",
       "      <td>1340.073333</td>\n",
       "      <td>95.185599</td>\n",
       "      <td>16.529329</td>\n",
       "      <td>1367.558469</td>\n",
       "      <td>...</td>\n",
       "      <td>1461.403948</td>\n",
       "      <td>1530.955712</td>\n",
       "      <td>0.0</td>\n",
       "      <td>0.0</td>\n",
       "      <td>NaN</td>\n",
       "      <td>8.917037</td>\n",
       "      <td>0.349117</td>\n",
       "      <td>56.240968</td>\n",
       "      <td>40.133967</td>\n",
       "      <td>3.785643</td>\n",
       "    </tr>\n",
       "    <tr>\n",
       "      <th>std</th>\n",
       "      <td>0.0</td>\n",
       "      <td>0.0</td>\n",
       "      <td>0.0</td>\n",
       "      <td>0.0</td>\n",
       "      <td>1291.527169</td>\n",
       "      <td>203.600940</td>\n",
       "      <td>256.478755</td>\n",
       "      <td>120.259229</td>\n",
       "      <td>4.996687</td>\n",
       "      <td>258.738795</td>\n",
       "      <td>...</td>\n",
       "      <td>229.517901</td>\n",
       "      <td>345.383963</td>\n",
       "      <td>0.0</td>\n",
       "      <td>0.0</td>\n",
       "      <td>NaN</td>\n",
       "      <td>12.633773</td>\n",
       "      <td>3.419324</td>\n",
       "      <td>103.071605</td>\n",
       "      <td>62.246353</td>\n",
       "      <td>13.817629</td>\n",
       "    </tr>\n",
       "    <tr>\n",
       "      <th>min</th>\n",
       "      <td>2015.0</td>\n",
       "      <td>1.0</td>\n",
       "      <td>1.0</td>\n",
       "      <td>4.0</td>\n",
       "      <td>5.000000</td>\n",
       "      <td>540.000000</td>\n",
       "      <td>650.000000</td>\n",
       "      <td>-10.000000</td>\n",
       "      <td>5.000000</td>\n",
       "      <td>703.000000</td>\n",
       "      <td>...</td>\n",
       "      <td>710.000000</td>\n",
       "      <td>12.000000</td>\n",
       "      <td>0.0</td>\n",
       "      <td>0.0</td>\n",
       "      <td>NaN</td>\n",
       "      <td>0.000000</td>\n",
       "      <td>0.000000</td>\n",
       "      <td>0.000000</td>\n",
       "      <td>0.000000</td>\n",
       "      <td>0.000000</td>\n",
       "    </tr>\n",
       "    <tr>\n",
       "      <th>25%</th>\n",
       "      <td>2015.0</td>\n",
       "      <td>1.0</td>\n",
       "      <td>1.0</td>\n",
       "      <td>4.0</td>\n",
       "      <td>1751.500000</td>\n",
       "      <td>1095.000000</td>\n",
       "      <td>1167.015748</td>\n",
       "      <td>7.697479</td>\n",
       "      <td>13.333333</td>\n",
       "      <td>1194.000000</td>\n",
       "      <td>...</td>\n",
       "      <td>1364.673469</td>\n",
       "      <td>1380.647059</td>\n",
       "      <td>0.0</td>\n",
       "      <td>0.0</td>\n",
       "      <td>NaN</td>\n",
       "      <td>4.000000</td>\n",
       "      <td>0.000000</td>\n",
       "      <td>16.923077</td>\n",
       "      <td>12.833333</td>\n",
       "      <td>0.000000</td>\n",
       "    </tr>\n",
       "    <tr>\n",
       "      <th>50%</th>\n",
       "      <td>2015.0</td>\n",
       "      <td>1.0</td>\n",
       "      <td>1.0</td>\n",
       "      <td>4.0</td>\n",
       "      <td>2188.261484</td>\n",
       "      <td>1195.343220</td>\n",
       "      <td>1304.333333</td>\n",
       "      <td>69.500000</td>\n",
       "      <td>15.735294</td>\n",
       "      <td>1327.666667</td>\n",
       "      <td>...</td>\n",
       "      <td>1457.888889</td>\n",
       "      <td>1525.918367</td>\n",
       "      <td>0.0</td>\n",
       "      <td>0.0</td>\n",
       "      <td>NaN</td>\n",
       "      <td>9.242671</td>\n",
       "      <td>0.000000</td>\n",
       "      <td>20.625950</td>\n",
       "      <td>16.262758</td>\n",
       "      <td>0.000000</td>\n",
       "    </tr>\n",
       "    <tr>\n",
       "      <th>75%</th>\n",
       "      <td>2015.0</td>\n",
       "      <td>1.0</td>\n",
       "      <td>1.0</td>\n",
       "      <td>4.0</td>\n",
       "      <td>2825.333333</td>\n",
       "      <td>1305.000000</td>\n",
       "      <td>1469.800000</td>\n",
       "      <td>143.000000</td>\n",
       "      <td>18.800000</td>\n",
       "      <td>1501.588235</td>\n",
       "      <td>...</td>\n",
       "      <td>1559.625000</td>\n",
       "      <td>1696.333333</td>\n",
       "      <td>0.0</td>\n",
       "      <td>0.0</td>\n",
       "      <td>NaN</td>\n",
       "      <td>9.242671</td>\n",
       "      <td>0.131379</td>\n",
       "      <td>51.500000</td>\n",
       "      <td>41.666667</td>\n",
       "      <td>1.625407</td>\n",
       "    </tr>\n",
       "    <tr>\n",
       "      <th>max</th>\n",
       "      <td>2015.0</td>\n",
       "      <td>1.0</td>\n",
       "      <td>1.0</td>\n",
       "      <td>4.0</td>\n",
       "      <td>7383.000000</td>\n",
       "      <td>1730.000000</td>\n",
       "      <td>2159.000000</td>\n",
       "      <td>1190.000000</td>\n",
       "      <td>47.333333</td>\n",
       "      <td>2213.000000</td>\n",
       "      <td>...</td>\n",
       "      <td>2259.000000</td>\n",
       "      <td>2331.000000</td>\n",
       "      <td>0.0</td>\n",
       "      <td>0.0</td>\n",
       "      <td>NaN</td>\n",
       "      <td>164.000000</td>\n",
       "      <td>46.000000</td>\n",
       "      <td>1169.000000</td>\n",
       "      <td>467.000000</td>\n",
       "      <td>128.000000</td>\n",
       "    </tr>\n",
       "  </tbody>\n",
       "</table>\n",
       "<p>8 rows × 26 columns</p>\n",
       "</div>"
      ],
      "text/plain": [
       "         YEAR  MONTH    DAY DAY_OF_WEEK FLIGHT_NUMBER SCHEDULED_DEPARTURE  \\\n",
       "         mean   mean   mean        mean          mean                mean   \n",
       "count   241.0  241.0  241.0       241.0    241.000000          241.000000   \n",
       "mean   2015.0    1.0    1.0         4.0   2416.396368         1193.790524   \n",
       "std       0.0    0.0    0.0         0.0   1291.527169          203.600940   \n",
       "min    2015.0    1.0    1.0         4.0      5.000000          540.000000   \n",
       "25%    2015.0    1.0    1.0         4.0   1751.500000         1095.000000   \n",
       "50%    2015.0    1.0    1.0         4.0   2188.261484         1195.343220   \n",
       "75%    2015.0    1.0    1.0         4.0   2825.333333         1305.000000   \n",
       "max    2015.0    1.0    1.0         4.0   7383.000000         1730.000000   \n",
       "\n",
       "      DEPARTURE_TIME DEPARTURE_DELAY    TAXI_OUT   WHEELS_OFF      ...       \\\n",
       "                mean            mean        mean         mean      ...        \n",
       "count     241.000000      241.000000  241.000000   241.000000      ...        \n",
       "mean     1340.073333       95.185599   16.529329  1367.558469      ...        \n",
       "std       256.478755      120.259229    4.996687   258.738795      ...        \n",
       "min       650.000000      -10.000000    5.000000   703.000000      ...        \n",
       "25%      1167.015748        7.697479   13.333333  1194.000000      ...        \n",
       "50%      1304.333333       69.500000   15.735294  1327.666667      ...        \n",
       "75%      1469.800000      143.000000   18.800000  1501.588235      ...        \n",
       "max      2159.000000     1190.000000   47.333333  2213.000000      ...        \n",
       "\n",
       "      SCHEDULED_ARRIVAL ARRIVAL_TIME DIVERTED CANCELLED CANCELLATION_REASON  \\\n",
       "                   mean         mean     mean      mean                mean   \n",
       "count        241.000000   241.000000    241.0     241.0                 0.0   \n",
       "mean        1461.403948  1530.955712      0.0       0.0                 NaN   \n",
       "std          229.517901   345.383963      0.0       0.0                 NaN   \n",
       "min          710.000000    12.000000      0.0       0.0                 NaN   \n",
       "25%         1364.673469  1380.647059      0.0       0.0                 NaN   \n",
       "50%         1457.888889  1525.918367      0.0       0.0                 NaN   \n",
       "75%         1559.625000  1696.333333      0.0       0.0                 NaN   \n",
       "max         2259.000000  2331.000000      0.0       0.0                 NaN   \n",
       "\n",
       "      AIR_SYSTEM_DELAY SECURITY_DELAY AIRLINE_DELAY LATE_AIRCRAFT_DELAY  \\\n",
       "                  mean           mean          mean                mean   \n",
       "count       241.000000     241.000000    241.000000          241.000000   \n",
       "mean          8.917037       0.349117     56.240968           40.133967   \n",
       "std          12.633773       3.419324    103.071605           62.246353   \n",
       "min           0.000000       0.000000      0.000000            0.000000   \n",
       "25%           4.000000       0.000000     16.923077           12.833333   \n",
       "50%           9.242671       0.000000     20.625950           16.262758   \n",
       "75%           9.242671       0.131379     51.500000           41.666667   \n",
       "max         164.000000      46.000000   1169.000000          467.000000   \n",
       "\n",
       "      WEATHER_DELAY  \n",
       "               mean  \n",
       "count    241.000000  \n",
       "mean       3.785643  \n",
       "std       13.817629  \n",
       "min        0.000000  \n",
       "25%        0.000000  \n",
       "50%        0.000000  \n",
       "75%        1.625407  \n",
       "max      128.000000  \n",
       "\n",
       "[8 rows x 26 columns]"
      ]
     },
     "execution_count": 187,
     "metadata": {},
     "output_type": "execute_result"
    }
   ],
   "source": [
    "df_delay.describe()"
   ]
  },
  {
   "cell_type": "code",
   "execution_count": 188,
   "metadata": {
    "ExecuteTime": {
     "end_time": "2020-12-17T23:20:59.613517Z",
     "start_time": "2020-12-17T23:20:59.609548Z"
    }
   },
   "outputs": [
    {
     "data": {
      "text/plain": [
       "2.8017"
      ]
     },
     "execution_count": 188,
     "metadata": {},
     "output_type": "execute_result"
    }
   ],
   "source": [
    "# Average time for delay\n",
    "df['ARRIVAL_DELAY'].mean()"
   ]
  },
  {
   "cell_type": "code",
   "execution_count": 189,
   "metadata": {
    "ExecuteTime": {
     "end_time": "2020-12-17T23:21:00.058427Z",
     "start_time": "2020-12-17T23:21:00.053963Z"
    }
   },
   "outputs": [
    {
     "data": {
      "text/plain": [
       "-4.0"
      ]
     },
     "execution_count": 189,
     "metadata": {},
     "output_type": "execute_result"
    }
   ],
   "source": [
    "# Average time for delay\n",
    "df['ARRIVAL_DELAY'].median()"
   ]
  },
  {
   "cell_type": "code",
   "execution_count": 190,
   "metadata": {
    "ExecuteTime": {
     "end_time": "2020-12-17T23:21:00.470107Z",
     "start_time": "2020-12-17T23:21:00.461674Z"
    }
   },
   "outputs": [
    {
     "data": {
      "text/plain": [
       "count    10000.00000\n",
       "mean         2.80170\n",
       "std         33.41811\n",
       "min        -54.00000\n",
       "25%        -13.00000\n",
       "50%         -4.00000\n",
       "75%          8.00000\n",
       "max       1201.00000\n",
       "Name: ARRIVAL_DELAY, dtype: float64"
      ]
     },
     "execution_count": 190,
     "metadata": {},
     "output_type": "execute_result"
    }
   ],
   "source": [
    "df['ARRIVAL_DELAY'].describe()"
   ]
  },
  {
   "cell_type": "code",
   "execution_count": null,
   "metadata": {
    "ExecuteTime": {
     "end_time": "2020-12-17T23:21:00.941801Z",
     "start_time": "2020-12-17T23:21:00.924443Z"
    },
    "scrolled": true
   },
   "outputs": [],
   "source": [
    "import seaborn as sns\n",
    "sns.lmplot(x='one',y='two',data=df['ARRIVAL_DELAY'], fit_reg=True) "
   ]
  },
  {
   "cell_type": "markdown",
   "metadata": {},
   "source": [
    "### Average delayed arrival flight time  based on each airport location? "
   ]
  },
  {
   "cell_type": "code",
   "execution_count": null,
   "metadata": {},
   "outputs": [],
   "source": [
    "#  df['ARRIVAL_DELAY'].value_counts().sort_index().plot.line(figsize=(20,10), title=\"Average Deay Time in Hours/Minutes/Sec\")"
   ]
  },
  {
   "cell_type": "code",
   "execution_count": 148,
   "metadata": {
    "ExecuteTime": {
     "end_time": "2020-12-17T23:04:46.921951Z",
     "start_time": "2020-12-17T23:04:46.915007Z"
    }
   },
   "outputs": [],
   "source": [
    "# Calualte and infer that arrival of flights based on specific airports:\n",
    "\n",
    "arival_delay = df.groupby('AIRLINE',as_index=False)['ARRIVAL_DELAY'].mean()\n"
   ]
  },
  {
   "cell_type": "code",
   "execution_count": 149,
   "metadata": {
    "ExecuteTime": {
     "end_time": "2020-12-17T23:04:47.477471Z",
     "start_time": "2020-12-17T23:04:47.473007Z"
    }
   },
   "outputs": [
    {
     "name": "stdout",
     "output_type": "stream",
     "text": [
      "Type AIRLINE  ARRIVAL_DELAY\n",
      "0         AA      11.748259\n",
      "1         AS      -3.665625\n",
      "2         B6      -0.952107\n",
      "3         DL      -8.187940\n",
      "4         EV       1.492462\n",
      "5         F9       7.878453\n",
      "6         HA       6.527607\n",
      "7         MQ      11.355159\n",
      "8         NK       4.948187\n",
      "9         OO      10.178253\n",
      "10        UA       3.427497\n",
      "11        US      -1.124821\n",
      "12        VX      -4.641509\n",
      "13        WN       2.191532\n"
     ]
    }
   ],
   "source": [
    "print(arival_delay)"
   ]
  },
  {
   "cell_type": "code",
   "execution_count": 150,
   "metadata": {
    "ExecuteTime": {
     "end_time": "2020-12-17T23:04:48.341501Z",
     "start_time": "2020-12-17T23:04:48.112846Z"
    }
   },
   "outputs": [
    {
     "data": {
      "text/plain": [
       "<matplotlib.axes._subplots.AxesSubplot at 0x23140f60208>"
      ]
     },
     "execution_count": 150,
     "metadata": {},
     "output_type": "execute_result"
    },
    {
     "data": {
      "image/png": "[encoded data removed]",
      "text/plain": [
       "<Figure size 1440x720 with 1 Axes>"
      ]
     },
     "metadata": {
      "needs_background": "light"
     },
     "output_type": "display_data"
    }
   ],
   "source": [
    "# Print Arival delay based on airport average bar plot method\n",
    "arival_delay.sort_index().plot.bar(figsize=(20,10), title=\"Average Delay Time Per Airport\")"
   ]
  },
  {
   "cell_type": "code",
   "execution_count": 151,
   "metadata": {
    "ExecuteTime": {
     "end_time": "2020-12-17T23:04:49.060203Z",
     "start_time": "2020-12-17T23:04:48.905948Z"
    }
   },
   "outputs": [
    {
     "name": "stdout",
     "output_type": "stream",
     "text": [
      "AxesSubplot(0.125,0.125;0.775x0.755)\n"
     ]
    },
    {
     "data": {
      "image/png": "[encoded data removed]",
      "text/plain": [
       "<Figure size 1152x432 with 1 Axes>"
      ]
     },
     "metadata": {
      "needs_background": "light"
     },
     "output_type": "display_data"
    }
   ],
   "source": [
    "# Print Arival delay based on airport average bar plot method as shown in class\n",
    "print(arival_delay['ARRIVAL_DELAY'].plot(kind='line', stacked=False, colormap=\"summer\", figsize=[16,6],title='Average Delay Time Per Airport'))  "
   ]
  },
  {
   "cell_type": "code",
   "execution_count": 193,
   "metadata": {
    "ExecuteTime": {
     "end_time": "2020-12-17T23:21:57.947039Z",
     "start_time": "2020-12-17T23:21:57.726320Z"
    }
   },
   "outputs": [
    {
     "ename": "NameError",
     "evalue": "name 'labels' is not defined",
     "output_type": "error",
     "traceback": [
      "\u001b[1;31m---------------------------------------------------------------------------\u001b[0m",
      "\u001b[1;31mNameError\u001b[0m                                 Traceback (most recent call last)",
      "\u001b[1;32m<ipython-input-193-485fbdcbe1b3>\u001b[0m in \u001b[0;36m<module>\u001b[1;34m\u001b[0m\n\u001b[0;32m     16\u001b[0m \u001b[0max\u001b[0m \u001b[1;33m=\u001b[0m \u001b[0marival_delay\u001b[0m\u001b[1;33m[\u001b[0m\u001b[1;34m'ARRIVAL_DELAY'\u001b[0m\u001b[1;33m]\u001b[0m\u001b[1;33m.\u001b[0m\u001b[0msort_index\u001b[0m\u001b[1;33m(\u001b[0m\u001b[1;33m)\u001b[0m\u001b[1;33m.\u001b[0m\u001b[0mplot\u001b[0m\u001b[1;33m.\u001b[0m\u001b[0mbar\u001b[0m\u001b[1;33m(\u001b[0m\u001b[0mx\u001b[0m\u001b[1;33m=\u001b[0m\u001b[1;34m'Arival Delays'\u001b[0m\u001b[1;33m,\u001b[0m \u001b[0my\u001b[0m\u001b[1;33m=\u001b[0m\u001b[1;34m'Time'\u001b[0m\u001b[1;33m,\u001b[0m\u001b[0mcolormap\u001b[0m\u001b[1;33m=\u001b[0m\u001b[1;34m'spring'\u001b[0m\u001b[1;33m,\u001b[0m \u001b[0msubplots\u001b[0m\u001b[1;33m=\u001b[0m\u001b[1;32mFalse\u001b[0m\u001b[1;33m,\u001b[0m \u001b[0mfigsize\u001b[0m\u001b[1;33m=\u001b[0m\u001b[1;33m(\u001b[0m\u001b[1;36m20\u001b[0m\u001b[1;33m,\u001b[0m\u001b[1;36m10\u001b[0m\u001b[1;33m)\u001b[0m\u001b[1;33m,\u001b[0m\u001b[0mtitle\u001b[0m\u001b[1;33m=\u001b[0m\u001b[1;34m'Average Delay Time Per Airport'\u001b[0m\u001b[1;33m)\u001b[0m\u001b[1;33m\u001b[0m\u001b[1;33m\u001b[0m\u001b[0m\n\u001b[0;32m     17\u001b[0m \u001b[0mplt\u001b[0m\u001b[1;33m.\u001b[0m\u001b[0mylabel\u001b[0m\u001b[1;33m(\u001b[0m\u001b[1;34m\"% Average Time\"\u001b[0m\u001b[1;33m)\u001b[0m\u001b[1;33m\u001b[0m\u001b[1;33m\u001b[0m\u001b[0m\n\u001b[1;32m---> 18\u001b[1;33m \u001b[0mplt\u001b[0m\u001b[1;33m.\u001b[0m\u001b[0mgca\u001b[0m\u001b[1;33m(\u001b[0m\u001b[1;33m)\u001b[0m\u001b[1;33m.\u001b[0m\u001b[0mset_yticklabels\u001b[0m\u001b[1;33m(\u001b[0m\u001b[0mlabels\u001b[0m\u001b[1;33m)\u001b[0m\u001b[1;33m\u001b[0m\u001b[1;33m\u001b[0m\u001b[0m\n\u001b[0m\u001b[0;32m     19\u001b[0m \u001b[1;33m\u001b[0m\u001b[0m\n\u001b[0;32m     20\u001b[0m \u001b[1;31m# set time intervals\u001b[0m\u001b[1;33m\u001b[0m\u001b[1;33m\u001b[0m\u001b[1;33m\u001b[0m\u001b[0m\n",
      "\u001b[1;31mNameError\u001b[0m: name 'labels' is not defined"
     ]
    },
    {
     "data": {
      "image/png": "[encoded data removed]",
      "text/plain": [
       "<Figure size 1440x720 with 1 Axes>"
      ]
     },
     "metadata": {
      "needs_background": "light"
     },
     "output_type": "display_data"
    }
   ],
   "source": [
    "# Create figure and plot space\n",
    "# fig, ax = plt.subplots(figsize=(10, 10))\n",
    "# import matplotlib.dates as mdates\n",
    "# # myFmt = mdates.DateFormatter('%d')\n",
    "# # ax.xaxis.set_major_formatter(myFmt)\n",
    "import matplotlib.dates as md\n",
    "import datetime as dt\n",
    "from time import sleep\n",
    "\n",
    "# Average_Arival Delay\n",
    "# Subplots as having two types of quality \n",
    "fig, ax = plt.subplots(figsize=(10, 10))\n",
    "arival_delay.columns.name = 'Delays'\n",
    "arival_delay.index.name = 'Delayed Flights'\n",
    "\n",
    "ax = arival_delay['ARRIVAL_DELAY'].sort_index().plot.bar(x='Arival Delays', y='Time',colormap='spring', subplots=False, figsize=(20,10),title='Average Delay Time Per Airport')\n",
    "plt.ylabel(\"% Average Time\")\n",
    "plt.gca().set_yticklabels(labels)\n",
    "\n",
    "# set time intervals\n",
    "labels = ['-04:00 MM:SS','-03:00 MMSS','-02:00 MM:SS','-01:00 MM:SS','00:00 MM:SS','01:00 MM:SS','02:00 MM:SS','03:00 MM:SS','04:00 MM:SS','05:00 MM:SS']"
   ]
  },
  {
   "cell_type": "code",
   "execution_count": 194,
   "metadata": {
    "ExecuteTime": {
     "end_time": "2020-12-17T23:22:02.673415Z",
     "start_time": "2020-12-17T23:22:02.663991Z"
    }
   },
   "outputs": [
    {
     "data": {
      "text/html": [
       "<div>\n",
       "<style scoped>\n",
       "    .dataframe tbody tr th:only-of-type {\n",
       "        vertical-align: middle;\n",
       "    }\n",
       "\n",
       "    .dataframe tbody tr th {\n",
       "        vertical-align: top;\n",
       "    }\n",
       "\n",
       "    .dataframe thead th {\n",
       "        text-align: right;\n",
       "    }\n",
       "</style>\n",
       "<table border=\"1\" class=\"dataframe\">\n",
       "  <thead>\n",
       "    <tr style=\"text-align: right;\">\n",
       "      <th>Delays</th>\n",
       "      <th>ARRIVAL_DELAY</th>\n",
       "    </tr>\n",
       "  </thead>\n",
       "  <tbody>\n",
       "    <tr>\n",
       "      <th>count</th>\n",
       "      <td>14.000000</td>\n",
       "    </tr>\n",
       "    <tr>\n",
       "      <th>mean</th>\n",
       "      <td>2.941100</td>\n",
       "    </tr>\n",
       "    <tr>\n",
       "      <th>std</th>\n",
       "      <td>6.211613</td>\n",
       "    </tr>\n",
       "    <tr>\n",
       "      <th>min</th>\n",
       "      <td>-8.187940</td>\n",
       "    </tr>\n",
       "    <tr>\n",
       "      <th>25%</th>\n",
       "      <td>-1.081642</td>\n",
       "    </tr>\n",
       "    <tr>\n",
       "      <th>50%</th>\n",
       "      <td>2.809515</td>\n",
       "    </tr>\n",
       "    <tr>\n",
       "      <th>75%</th>\n",
       "      <td>7.540742</td>\n",
       "    </tr>\n",
       "    <tr>\n",
       "      <th>max</th>\n",
       "      <td>11.748259</td>\n",
       "    </tr>\n",
       "  </tbody>\n",
       "</table>\n",
       "</div>"
      ],
      "text/plain": [
       "Delays  ARRIVAL_DELAY\n",
       "count       14.000000\n",
       "mean         2.941100\n",
       "std          6.211613\n",
       "min         -8.187940\n",
       "25%         -1.081642\n",
       "50%          2.809515\n",
       "75%          7.540742\n",
       "max         11.748259"
      ]
     },
     "execution_count": 194,
     "metadata": {},
     "output_type": "execute_result"
    }
   ],
   "source": [
    "# Discriptive stats on Arivial delay by Airport\n",
    "arival_delay.describe()\n"
   ]
  },
  {
   "cell_type": "code",
   "execution_count": 195,
   "metadata": {
    "ExecuteTime": {
     "end_time": "2020-12-17T23:22:03.726916Z",
     "start_time": "2020-12-17T23:22:03.718981Z"
    }
   },
   "outputs": [],
   "source": [
    "# Calualte and infer that arrival of flights based on specific airports:\n",
    "\n",
    "arival_delay2 = df.groupby(['AIRLINE']).count()\n"
   ]
  },
  {
   "cell_type": "code",
   "execution_count": 196,
   "metadata": {
    "ExecuteTime": {
     "end_time": "2020-12-17T23:22:05.260546Z",
     "start_time": "2020-12-17T23:22:05.203507Z"
    }
   },
   "outputs": [
    {
     "data": {
      "text/html": [
       "<div>\n",
       "<style scoped>\n",
       "    .dataframe tbody tr th:only-of-type {\n",
       "        vertical-align: middle;\n",
       "    }\n",
       "\n",
       "    .dataframe tbody tr th {\n",
       "        vertical-align: top;\n",
       "    }\n",
       "\n",
       "    .dataframe thead th {\n",
       "        text-align: right;\n",
       "    }\n",
       "</style>\n",
       "<table border=\"1\" class=\"dataframe\">\n",
       "  <thead>\n",
       "    <tr style=\"text-align: right;\">\n",
       "      <th>Type</th>\n",
       "      <th>YEAR</th>\n",
       "      <th>MONTH</th>\n",
       "      <th>DAY</th>\n",
       "      <th>DAY_OF_WEEK</th>\n",
       "      <th>FLIGHT_NUMBER</th>\n",
       "      <th>TAIL_NUMBER</th>\n",
       "      <th>ORIGIN_AIRPORT</th>\n",
       "      <th>DESTINATION_AIRPORT</th>\n",
       "      <th>SCHEDULED_DEPARTURE</th>\n",
       "      <th>DEPARTURE_TIME</th>\n",
       "      <th>...</th>\n",
       "      <th>ARRIVAL_TIME</th>\n",
       "      <th>ARRIVAL_DELAY</th>\n",
       "      <th>DIVERTED</th>\n",
       "      <th>CANCELLED</th>\n",
       "      <th>CANCELLATION_REASON</th>\n",
       "      <th>AIR_SYSTEM_DELAY</th>\n",
       "      <th>SECURITY_DELAY</th>\n",
       "      <th>AIRLINE_DELAY</th>\n",
       "      <th>LATE_AIRCRAFT_DELAY</th>\n",
       "      <th>WEATHER_DELAY</th>\n",
       "    </tr>\n",
       "  </thead>\n",
       "  <tbody>\n",
       "    <tr>\n",
       "      <th>count</th>\n",
       "      <td>14.000000</td>\n",
       "      <td>14.000000</td>\n",
       "      <td>14.000000</td>\n",
       "      <td>14.000000</td>\n",
       "      <td>14.000000</td>\n",
       "      <td>14.000000</td>\n",
       "      <td>14.000000</td>\n",
       "      <td>14.000000</td>\n",
       "      <td>14.000000</td>\n",
       "      <td>14.000000</td>\n",
       "      <td>...</td>\n",
       "      <td>14.000000</td>\n",
       "      <td>14.000000</td>\n",
       "      <td>14.000000</td>\n",
       "      <td>14.000000</td>\n",
       "      <td>14.0</td>\n",
       "      <td>14.000000</td>\n",
       "      <td>14.000000</td>\n",
       "      <td>14.000000</td>\n",
       "      <td>14.000000</td>\n",
       "      <td>14.000000</td>\n",
       "    </tr>\n",
       "    <tr>\n",
       "      <th>mean</th>\n",
       "      <td>714.285714</td>\n",
       "      <td>714.285714</td>\n",
       "      <td>714.285714</td>\n",
       "      <td>714.285714</td>\n",
       "      <td>714.285714</td>\n",
       "      <td>714.285714</td>\n",
       "      <td>714.285714</td>\n",
       "      <td>714.285714</td>\n",
       "      <td>714.285714</td>\n",
       "      <td>714.285714</td>\n",
       "      <td>...</td>\n",
       "      <td>714.285714</td>\n",
       "      <td>714.285714</td>\n",
       "      <td>714.285714</td>\n",
       "      <td>714.285714</td>\n",
       "      <td>0.0</td>\n",
       "      <td>714.285714</td>\n",
       "      <td>714.285714</td>\n",
       "      <td>714.285714</td>\n",
       "      <td>714.285714</td>\n",
       "      <td>714.285714</td>\n",
       "    </tr>\n",
       "    <tr>\n",
       "      <th>std</th>\n",
       "      <td>538.684070</td>\n",
       "      <td>538.684070</td>\n",
       "      <td>538.684070</td>\n",
       "      <td>538.684070</td>\n",
       "      <td>538.684070</td>\n",
       "      <td>538.684070</td>\n",
       "      <td>538.684070</td>\n",
       "      <td>538.684070</td>\n",
       "      <td>538.684070</td>\n",
       "      <td>538.684070</td>\n",
       "      <td>...</td>\n",
       "      <td>538.684070</td>\n",
       "      <td>538.684070</td>\n",
       "      <td>538.684070</td>\n",
       "      <td>538.684070</td>\n",
       "      <td>0.0</td>\n",
       "      <td>538.684070</td>\n",
       "      <td>538.684070</td>\n",
       "      <td>538.684070</td>\n",
       "      <td>538.684070</td>\n",
       "      <td>538.684070</td>\n",
       "    </tr>\n",
       "    <tr>\n",
       "      <th>min</th>\n",
       "      <td>106.000000</td>\n",
       "      <td>106.000000</td>\n",
       "      <td>106.000000</td>\n",
       "      <td>106.000000</td>\n",
       "      <td>106.000000</td>\n",
       "      <td>106.000000</td>\n",
       "      <td>106.000000</td>\n",
       "      <td>106.000000</td>\n",
       "      <td>106.000000</td>\n",
       "      <td>106.000000</td>\n",
       "      <td>...</td>\n",
       "      <td>106.000000</td>\n",
       "      <td>106.000000</td>\n",
       "      <td>106.000000</td>\n",
       "      <td>106.000000</td>\n",
       "      <td>0.0</td>\n",
       "      <td>106.000000</td>\n",
       "      <td>106.000000</td>\n",
       "      <td>106.000000</td>\n",
       "      <td>106.000000</td>\n",
       "      <td>106.000000</td>\n",
       "    </tr>\n",
       "    <tr>\n",
       "      <th>25%</th>\n",
       "      <td>224.750000</td>\n",
       "      <td>224.750000</td>\n",
       "      <td>224.750000</td>\n",
       "      <td>224.750000</td>\n",
       "      <td>224.750000</td>\n",
       "      <td>224.750000</td>\n",
       "      <td>224.750000</td>\n",
       "      <td>224.750000</td>\n",
       "      <td>224.750000</td>\n",
       "      <td>224.750000</td>\n",
       "      <td>...</td>\n",
       "      <td>224.750000</td>\n",
       "      <td>224.750000</td>\n",
       "      <td>224.750000</td>\n",
       "      <td>224.750000</td>\n",
       "      <td>0.0</td>\n",
       "      <td>224.750000</td>\n",
       "      <td>224.750000</td>\n",
       "      <td>224.750000</td>\n",
       "      <td>224.750000</td>\n",
       "      <td>224.750000</td>\n",
       "    </tr>\n",
       "    <tr>\n",
       "      <th>50%</th>\n",
       "      <td>609.500000</td>\n",
       "      <td>609.500000</td>\n",
       "      <td>609.500000</td>\n",
       "      <td>609.500000</td>\n",
       "      <td>609.500000</td>\n",
       "      <td>609.500000</td>\n",
       "      <td>609.500000</td>\n",
       "      <td>609.500000</td>\n",
       "      <td>609.500000</td>\n",
       "      <td>609.500000</td>\n",
       "      <td>...</td>\n",
       "      <td>609.500000</td>\n",
       "      <td>609.500000</td>\n",
       "      <td>609.500000</td>\n",
       "      <td>609.500000</td>\n",
       "      <td>0.0</td>\n",
       "      <td>609.500000</td>\n",
       "      <td>609.500000</td>\n",
       "      <td>609.500000</td>\n",
       "      <td>609.500000</td>\n",
       "      <td>609.500000</td>\n",
       "    </tr>\n",
       "    <tr>\n",
       "      <th>75%</th>\n",
       "      <td>1002.500000</td>\n",
       "      <td>1002.500000</td>\n",
       "      <td>1002.500000</td>\n",
       "      <td>1002.500000</td>\n",
       "      <td>1002.500000</td>\n",
       "      <td>1002.500000</td>\n",
       "      <td>1002.500000</td>\n",
       "      <td>1002.500000</td>\n",
       "      <td>1002.500000</td>\n",
       "      <td>1002.500000</td>\n",
       "      <td>...</td>\n",
       "      <td>1002.500000</td>\n",
       "      <td>1002.500000</td>\n",
       "      <td>1002.500000</td>\n",
       "      <td>1002.500000</td>\n",
       "      <td>0.0</td>\n",
       "      <td>1002.500000</td>\n",
       "      <td>1002.500000</td>\n",
       "      <td>1002.500000</td>\n",
       "      <td>1002.500000</td>\n",
       "      <td>1002.500000</td>\n",
       "    </tr>\n",
       "    <tr>\n",
       "      <th>max</th>\n",
       "      <td>1984.000000</td>\n",
       "      <td>1984.000000</td>\n",
       "      <td>1984.000000</td>\n",
       "      <td>1984.000000</td>\n",
       "      <td>1984.000000</td>\n",
       "      <td>1984.000000</td>\n",
       "      <td>1984.000000</td>\n",
       "      <td>1984.000000</td>\n",
       "      <td>1984.000000</td>\n",
       "      <td>1984.000000</td>\n",
       "      <td>...</td>\n",
       "      <td>1984.000000</td>\n",
       "      <td>1984.000000</td>\n",
       "      <td>1984.000000</td>\n",
       "      <td>1984.000000</td>\n",
       "      <td>0.0</td>\n",
       "      <td>1984.000000</td>\n",
       "      <td>1984.000000</td>\n",
       "      <td>1984.000000</td>\n",
       "      <td>1984.000000</td>\n",
       "      <td>1984.000000</td>\n",
       "    </tr>\n",
       "  </tbody>\n",
       "</table>\n",
       "<p>8 rows × 30 columns</p>\n",
       "</div>"
      ],
      "text/plain": [
       "Type          YEAR        MONTH          DAY  DAY_OF_WEEK  FLIGHT_NUMBER  \\\n",
       "count    14.000000    14.000000    14.000000    14.000000      14.000000   \n",
       "mean    714.285714   714.285714   714.285714   714.285714     714.285714   \n",
       "std     538.684070   538.684070   538.684070   538.684070     538.684070   \n",
       "min     106.000000   106.000000   106.000000   106.000000     106.000000   \n",
       "25%     224.750000   224.750000   224.750000   224.750000     224.750000   \n",
       "50%     609.500000   609.500000   609.500000   609.500000     609.500000   \n",
       "75%    1002.500000  1002.500000  1002.500000  1002.500000    1002.500000   \n",
       "max    1984.000000  1984.000000  1984.000000  1984.000000    1984.000000   \n",
       "\n",
       "Type   TAIL_NUMBER  ORIGIN_AIRPORT  DESTINATION_AIRPORT  SCHEDULED_DEPARTURE  \\\n",
       "count    14.000000       14.000000            14.000000            14.000000   \n",
       "mean    714.285714      714.285714           714.285714           714.285714   \n",
       "std     538.684070      538.684070           538.684070           538.684070   \n",
       "min     106.000000      106.000000           106.000000           106.000000   \n",
       "25%     224.750000      224.750000           224.750000           224.750000   \n",
       "50%     609.500000      609.500000           609.500000           609.500000   \n",
       "75%    1002.500000     1002.500000          1002.500000          1002.500000   \n",
       "max    1984.000000     1984.000000          1984.000000          1984.000000   \n",
       "\n",
       "Type   DEPARTURE_TIME      ...        ARRIVAL_TIME  ARRIVAL_DELAY  \\\n",
       "count       14.000000      ...           14.000000      14.000000   \n",
       "mean       714.285714      ...          714.285714     714.285714   \n",
       "std        538.684070      ...          538.684070     538.684070   \n",
       "min        106.000000      ...          106.000000     106.000000   \n",
       "25%        224.750000      ...          224.750000     224.750000   \n",
       "50%        609.500000      ...          609.500000     609.500000   \n",
       "75%       1002.500000      ...         1002.500000    1002.500000   \n",
       "max       1984.000000      ...         1984.000000    1984.000000   \n",
       "\n",
       "Type      DIVERTED    CANCELLED  CANCELLATION_REASON  AIR_SYSTEM_DELAY  \\\n",
       "count    14.000000    14.000000                 14.0         14.000000   \n",
       "mean    714.285714   714.285714                  0.0        714.285714   \n",
       "std     538.684070   538.684070                  0.0        538.684070   \n",
       "min     106.000000   106.000000                  0.0        106.000000   \n",
       "25%     224.750000   224.750000                  0.0        224.750000   \n",
       "50%     609.500000   609.500000                  0.0        609.500000   \n",
       "75%    1002.500000  1002.500000                  0.0       1002.500000   \n",
       "max    1984.000000  1984.000000                  0.0       1984.000000   \n",
       "\n",
       "Type   SECURITY_DELAY  AIRLINE_DELAY  LATE_AIRCRAFT_DELAY  WEATHER_DELAY  \n",
       "count       14.000000      14.000000            14.000000      14.000000  \n",
       "mean       714.285714     714.285714           714.285714     714.285714  \n",
       "std        538.684070     538.684070           538.684070     538.684070  \n",
       "min        106.000000     106.000000           106.000000     106.000000  \n",
       "25%        224.750000     224.750000           224.750000     224.750000  \n",
       "50%        609.500000     609.500000           609.500000     609.500000  \n",
       "75%       1002.500000    1002.500000          1002.500000    1002.500000  \n",
       "max       1984.000000    1984.000000          1984.000000    1984.000000  \n",
       "\n",
       "[8 rows x 30 columns]"
      ]
     },
     "execution_count": 196,
     "metadata": {},
     "output_type": "execute_result"
    }
   ],
   "source": [
    "arival_delay2.describe()"
   ]
  },
  {
   "cell_type": "code",
   "execution_count": 197,
   "metadata": {
    "ExecuteTime": {
     "end_time": "2020-12-17T23:22:07.286208Z",
     "start_time": "2020-12-17T23:22:07.282736Z"
    }
   },
   "outputs": [],
   "source": [
    "ap_delays =arival_delay2.sort_values(by='ARRIVAL_DELAY', ascending=False)[:10]"
   ]
  },
  {
   "cell_type": "code",
   "execution_count": 198,
   "metadata": {
    "ExecuteTime": {
     "end_time": "2020-12-17T23:22:10.493834Z",
     "start_time": "2020-12-17T23:22:10.325690Z"
    }
   },
   "outputs": [
    {
     "data": {
      "text/plain": [
       "<matplotlib.lines.Line2D at 0x23144d4db38>"
      ]
     },
     "execution_count": 198,
     "metadata": {},
     "output_type": "execute_result"
    },
    {
     "data": {
      "image/png": "[encoded data removed]",
      "text/plain": [
       "<Figure size 1152x432 with 1 Axes>"
      ]
     },
     "metadata": {
      "needs_background": "light"
     },
     "output_type": "display_data"
    }
   ],
   "source": [
    "import matplotlib.pyplot as plt\n",
    "ap_delays['ARRIVAL_DELAY'].plot(kind='bar', stacked=False, figsize=[16,6], colormap='spring', title=\"Airports with average delay times\") \n",
    "\n",
    "\n",
    "mean = ap_delays['ARRIVAL_DELAY'].mean()\n",
    "plt.axvline(mean, color='r', linestyle='--')\n",
    "plt.axvline(5, color='g', linestyle='--')\n"
   ]
  },
  {
   "cell_type": "markdown",
   "metadata": {},
   "source": [
    "### Origin and destination airports that have the longest delayed flight times on average"
   ]
  },
  {
   "cell_type": "code",
   "execution_count": null,
   "metadata": {},
   "outputs": [],
   "source": [
    "# [] arival_delay = df.groupby('AIRLINE',as_index=False)['ARRIVAL_DELAY'].mean()[] arival_delay = df.groupby('AIRLINE',as_index=False)['ARRIVAL_DELAY'].mean()"
   ]
  },
  {
   "cell_type": "code",
   "execution_count": 199,
   "metadata": {
    "ExecuteTime": {
     "end_time": "2020-12-17T23:22:14.235192Z",
     "start_time": "2020-12-17T23:22:14.225768Z"
    }
   },
   "outputs": [],
   "source": [
    " # Calualte and infer that arrival of flights based on specific airports:\n",
    "\n",
    "orgDes = df.groupby(['ORIGIN_AIRPORT' ,'DESTINATION_AIRPORT'], as_index=False)['ARRIVAL_DELAY'].mean().max()"
   ]
  },
  {
   "cell_type": "code",
   "execution_count": 200,
   "metadata": {
    "ExecuteTime": {
     "end_time": "2020-12-17T23:22:14.829401Z",
     "start_time": "2020-12-17T23:22:14.822456Z"
    }
   },
   "outputs": [
    {
     "data": {
      "text/plain": [
       "count       3\n",
       "unique      2\n",
       "top       YUM\n",
       "freq        2\n",
       "dtype: object"
      ]
     },
     "execution_count": 200,
     "metadata": {},
     "output_type": "execute_result"
    }
   ],
   "source": [
    "orgDes.describe()"
   ]
  },
  {
   "cell_type": "code",
   "execution_count": 201,
   "metadata": {
    "ExecuteTime": {
     "end_time": "2020-12-17T23:22:15.570918Z",
     "start_time": "2020-12-17T23:22:15.566951Z"
    }
   },
   "outputs": [
    {
     "name": "stdout",
     "output_type": "stream",
     "text": [
      "Type\n",
      "ORIGIN_AIRPORT         YUM\n",
      "DESTINATION_AIRPORT    YUM\n",
      "ARRIVAL_DELAY          254\n",
      "dtype: object\n"
     ]
    }
   ],
   "source": [
    "print(orgDes)"
   ]
  },
  {
   "cell_type": "code",
   "execution_count": null,
   "metadata": {
    "ExecuteTime": {
     "end_time": "2020-12-17T23:22:17.129348Z",
     "start_time": "2020-12-17T23:22:17.120419Z"
    }
   },
   "outputs": [],
   "source": [
    "print(orgDes['ARRIVAL_DELAY'].plot(kind='bar', stacked=False, figsize=[16,6], colormap='winter'))"
   ]
  },
  {
   "cell_type": "code",
   "execution_count": 203,
   "metadata": {
    "ExecuteTime": {
     "end_time": "2020-12-17T23:22:39.221647Z",
     "start_time": "2020-12-17T23:22:39.211231Z"
    }
   },
   "outputs": [],
   "source": [
    " # Calualte and infer that arrival of flights based on specific airports:\n",
    "\n",
    "des_delay = df.groupby(['ORIGIN_AIRPORT','DESTINATION_AIRPORT'], as_index=False)['ARRIVAL_DELAY'].mean().max()"
   ]
  },
  {
   "cell_type": "code",
   "execution_count": 204,
   "metadata": {
    "ExecuteTime": {
     "end_time": "2020-12-17T23:22:40.082702Z",
     "start_time": "2020-12-17T23:22:40.076253Z"
    }
   },
   "outputs": [
    {
     "data": {
      "text/plain": [
       "count       3\n",
       "unique      2\n",
       "top       YUM\n",
       "freq        2\n",
       "dtype: object"
      ]
     },
     "execution_count": 204,
     "metadata": {},
     "output_type": "execute_result"
    }
   ],
   "source": [
    "des_delay.describe()"
   ]
  },
  {
   "cell_type": "code",
   "execution_count": 205,
   "metadata": {
    "ExecuteTime": {
     "end_time": "2020-12-17T23:22:40.862412Z",
     "start_time": "2020-12-17T23:22:40.858444Z"
    }
   },
   "outputs": [
    {
     "name": "stdout",
     "output_type": "stream",
     "text": [
      "Type\n",
      "ORIGIN_AIRPORT         YUM\n",
      "DESTINATION_AIRPORT    YUM\n",
      "ARRIVAL_DELAY          254\n",
      "dtype: object\n"
     ]
    }
   ],
   "source": [
    "print(des_delay)"
   ]
  },
  {
   "cell_type": "code",
   "execution_count": null,
   "metadata": {},
   "outputs": [],
   "source": [
    "### SECTION FOR QEUSTION 3----"
   ]
  },
  {
   "cell_type": "code",
   "execution_count": 208,
   "metadata": {
    "ExecuteTime": {
     "end_time": "2020-12-17T23:23:27.252752Z",
     "start_time": "2020-12-17T23:23:27.241345Z"
    }
   },
   "outputs": [],
   "source": [
    "airz=df.groupby(['ORIGIN_AIRPORT','DESTINATION_AIRPORT'], as_index=False)['ARRIVAL_DELAY'].mean().max()"
   ]
  },
  {
   "cell_type": "code",
   "execution_count": 209,
   "metadata": {
    "ExecuteTime": {
     "end_time": "2020-12-17T23:23:27.909456Z",
     "start_time": "2020-12-17T23:23:27.905983Z"
    }
   },
   "outputs": [
    {
     "name": "stdout",
     "output_type": "stream",
     "text": [
      "Type\n",
      "ORIGIN_AIRPORT         YUM\n",
      "DESTINATION_AIRPORT    YUM\n",
      "ARRIVAL_DELAY          254\n",
      "dtype: object\n"
     ]
    }
   ],
   "source": [
    "print(airz)"
   ]
  },
  {
   "cell_type": "code",
   "execution_count": 210,
   "metadata": {
    "ExecuteTime": {
     "end_time": "2020-12-17T23:23:28.613278Z",
     "start_time": "2020-12-17T23:23:28.605839Z"
    }
   },
   "outputs": [],
   "source": [
    "delay2=df.groupby(['AIRLINE','ORIGIN_AIRPORT'], as_index=False)['DEPARTURE_DELAY'].mean()"
   ]
  },
  {
   "cell_type": "code",
   "execution_count": 211,
   "metadata": {
    "ExecuteTime": {
     "end_time": "2020-12-17T23:23:29.241709Z",
     "start_time": "2020-12-17T23:23:29.237742Z"
    }
   },
   "outputs": [],
   "source": [
    "A=delay2.sort_values(\"DEPARTURE_DELAY\", axis = 0, ascending = False, \n",
    "                 inplace = False, na_position ='last') "
   ]
  },
  {
   "cell_type": "code",
   "execution_count": 212,
   "metadata": {
    "ExecuteTime": {
     "end_time": "2020-12-17T23:23:29.910812Z",
     "start_time": "2020-12-17T23:23:29.907837Z"
    }
   },
   "outputs": [],
   "source": [
    "B=A[:15]"
   ]
  },
  {
   "cell_type": "code",
   "execution_count": 213,
   "metadata": {
    "ExecuteTime": {
     "end_time": "2020-12-17T23:23:30.752027Z",
     "start_time": "2020-12-17T23:23:30.580411Z"
    }
   },
   "outputs": [
    {
     "name": "stdout",
     "output_type": "stream",
     "text": [
      "AxesSubplot(0.125,0.125;0.775x0.755)\n"
     ]
    },
    {
     "data": {
      "text/plain": [
       "<matplotlib.lines.Line2D at 0x2314cd128d0>"
      ]
     },
     "execution_count": 213,
     "metadata": {},
     "output_type": "execute_result"
    },
    {
     "data": {
      "image/png": "[encoded data removed]",
      "text/plain": [
       "<Figure size 1152x432 with 1 Axes>"
      ]
     },
     "metadata": {
      "needs_background": "light"
     },
     "output_type": "display_data"
    }
   ],
   "source": [
    "print(B['DEPARTURE_DELAY'].plot(kind='bar', stacked=False, figsize=[16,6], colormap='spring'))\n",
    "\n",
    "mean = B['DEPARTURE_DELAY'].mean()\n",
    "plt.axvline(mean, color='r', linestyle='--')\n",
    "plt.axvline(5, color='g', linestyle='--')"
   ]
  },
  {
   "cell_type": "code",
   "execution_count": null,
   "metadata": {},
   "outputs": [],
   "source": []
  },
  {
   "cell_type": "code",
   "execution_count": 214,
   "metadata": {
    "ExecuteTime": {
     "end_time": "2020-12-17T23:23:32.345671Z",
     "start_time": "2020-12-17T23:23:32.336247Z"
    }
   },
   "outputs": [],
   "source": [
    "airz2=df.groupby(['ORIGIN_AIRPORT','DESTINATION_AIRPORT'], as_index=False)['ARRIVAL_DELAY'].mean().max()"
   ]
  },
  {
   "cell_type": "code",
   "execution_count": 215,
   "metadata": {
    "ExecuteTime": {
     "end_time": "2020-12-17T23:23:32.970134Z",
     "start_time": "2020-12-17T23:23:32.966166Z"
    }
   },
   "outputs": [
    {
     "name": "stdout",
     "output_type": "stream",
     "text": [
      "Type\n",
      "ORIGIN_AIRPORT         YUM\n",
      "DESTINATION_AIRPORT    YUM\n",
      "ARRIVAL_DELAY          254\n",
      "dtype: object\n"
     ]
    }
   ],
   "source": [
    "print(airz2)"
   ]
  },
  {
   "cell_type": "code",
   "execution_count": 216,
   "metadata": {
    "ExecuteTime": {
     "end_time": "2020-12-17T23:23:33.681893Z",
     "start_time": "2020-12-17T23:23:33.673958Z"
    }
   },
   "outputs": [],
   "source": [
    "delay3=df.groupby(['AIRLINE','DESTINATION_AIRPORT'], as_index=False)['DEPARTURE_DELAY'].mean()"
   ]
  },
  {
   "cell_type": "code",
   "execution_count": 217,
   "metadata": {
    "ExecuteTime": {
     "end_time": "2020-12-17T23:23:34.284533Z",
     "start_time": "2020-12-17T23:23:34.280070Z"
    }
   },
   "outputs": [],
   "source": [
    "A3=delay3.sort_values(\"DEPARTURE_DELAY\", axis = 0, ascending = False, \n",
    "                 inplace = False, na_position ='last') "
   ]
  },
  {
   "cell_type": "code",
   "execution_count": 218,
   "metadata": {
    "ExecuteTime": {
     "end_time": "2020-12-17T23:23:34.910979Z",
     "start_time": "2020-12-17T23:23:34.907507Z"
    }
   },
   "outputs": [],
   "source": [
    "B3=A3[:15]"
   ]
  },
  {
   "cell_type": "code",
   "execution_count": 76,
   "metadata": {
    "ExecuteTime": {
     "end_time": "2020-12-17T21:59:41.101279Z",
     "start_time": "2020-12-17T21:59:40.928175Z"
    }
   },
   "outputs": [
    {
     "name": "stdout",
     "output_type": "stream",
     "text": [
      "AxesSubplot(0.125,0.125;0.775x0.755)\n"
     ]
    },
    {
     "data": {
      "text/plain": [
       "<matplotlib.lines.Line2D at 0x23139196a90>"
      ]
     },
     "execution_count": 76,
     "metadata": {},
     "output_type": "execute_result"
    },
    {
     "data": {
      "image/png": "[encoded data removed]",
      "text/plain": [
       "<Figure size 1152x432 with 1 Axes>"
      ]
     },
     "metadata": {
      "needs_background": "light"
     },
     "output_type": "display_data"
    }
   ],
   "source": [
    "print(B3['DEPARTURE_DELAY'].plot(kind='bar', stacked=False, figsize=[16,6], colormap='spring'))\n",
    "\n",
    "mean = B3['DEPARTURE_DELAY'].mean()\n",
    "plt.axvline(mean, color='r', linestyle='--')\n",
    "plt.axvline(5, color='g', linestyle='--')"
   ]
  },
  {
   "cell_type": "code",
   "execution_count": 71,
   "metadata": {
    "ExecuteTime": {
     "end_time": "2020-12-17T21:57:29.274123Z",
     "start_time": "2020-12-17T21:57:29.075722Z"
    }
   },
   "outputs": [
    {
     "name": "stdout",
     "output_type": "stream",
     "text": [
      "AxesSubplot(0.125,0.125;0.775x0.755)\n",
      "AxesSubplot(0.125,0.125;0.775x0.755)\n"
     ]
    },
    {
     "data": {
      "image/png": "[encoded data removed]",
      "text/plain": [
       "<Figure size 1152x432 with 1 Axes>"
      ]
     },
     "metadata": {
      "needs_background": "light"
     },
     "output_type": "display_data"
    }
   ],
   "source": [
    "import matplotlib.pyplot as plt\n",
    "# Subplots as having two types of quality \n",
    "fig, ax = plt.subplots()\n",
    "\n",
    "\n",
    "\n",
    "ax =print(B3['DEPARTURE_DELAY'].plot(rot=0, kind='bar', stacked=True, figsize=[16,6], colormap='spring', title = 'AVERAGE ORGIN & DESTINATION AIRPORT DELAYS'))\n",
    "ax =print(B['DEPARTURE_DELAY'].plot(rot=0, x=\"Average Time\",  kind='bar', stacked=True, figsize=[16,6],colormap='spring'))\n",
    "\n",
    "\n",
    "\n",
    "# Show Mean varinace between Plots\n",
    "mean = delay3['DEPARTURE_DELAY'].mean()\n",
    "plt.axvline(mean, color='r', linestyle='--')\n",
    "plt.axvline(5, color='g', linestyle='--')\n",
    "plt.title = 'AVERAGE ORGIN & DESTINATION AIRPORT DELAYS'\n",
    "plt.xlabel = \"Average Time \"\n"
   ]
  },
  {
   "cell_type": "code",
   "execution_count": 80,
   "metadata": {
    "ExecuteTime": {
     "end_time": "2020-12-17T22:03:58.010211Z",
     "start_time": "2020-12-17T22:03:58.005746Z"
    }
   },
   "outputs": [],
   "source": [
    "import numpy as np\n",
    "import matplotlib.pyplot as plt  # To visualize\n",
    "import pandas as pd  # To read data\n",
    "from sklearn.linear_model import LinearRegression"
   ]
  },
  {
   "cell_type": "code",
   "execution_count": 138,
   "metadata": {
    "ExecuteTime": {
     "end_time": "2020-12-17T22:32:10.787846Z",
     "start_time": "2020-12-17T22:32:10.621190Z"
    }
   },
   "outputs": [
    {
     "data": {
      "image/png": "[encoded data removed]",
      "text/plain": [
       "<Figure size 1152x432 with 1 Axes>"
      ]
     },
     "metadata": {
      "needs_background": "light"
     },
     "output_type": "display_data"
    }
   ],
   "source": [
    "\n",
    "import matplotlib.pyplot as plt\n",
    "from matplotlib.pyplot import figure\n",
    "# Subplots as having two types of quality \n",
    "fig, ax = plt.subplots()\n",
    "\n",
    "# Add columsn into varibles\n",
    "X = B3['DEPARTURE_DELAY']\n",
    "Y= B['DEPARTURE_DELAY']\n",
    "\n",
    "\n",
    "plt.plot(X,Y)\n",
    "fig.set_size_inches(16,6)\n",
    "plt.show()\n",
    "# Add title and axis names\n"
   ]
  },
  {
   "cell_type": "code",
   "execution_count": 142,
   "metadata": {
    "ExecuteTime": {
     "end_time": "2020-12-17T22:33:29.990978Z",
     "start_time": "2020-12-17T22:33:29.839203Z"
    }
   },
   "outputs": [
    {
     "name": "stdout",
     "output_type": "stream",
     "text": [
      "706    138.000000\n",
      "760    128.000000\n",
      "741    127.000000\n",
      "517    122.000000\n",
      "792    115.400000\n",
      "676    115.000000\n",
      "712    105.000000\n",
      "500     98.000000\n",
      "521     98.000000\n",
      "563     94.000000\n",
      "748     85.000000\n",
      "785     82.000000\n",
      "565     81.000000\n",
      "801     81.000000\n",
      "371     80.666667\n",
      "Name: DEPARTURE_DELAY, dtype: float64 AxesSubplot(0.125,0.125;0.775x0.755)\n"
     ]
    },
    {
     "data": {
      "image/png": "[encoded data removed]",
      "text/plain": [
       "<Figure size 1152x432 with 1 Axes>"
      ]
     },
     "metadata": {
      "needs_background": "light"
     },
     "output_type": "display_data"
    }
   ],
   "source": [
    "print(X,Y.plot(rot=0, kind='line', stacked=True, figsize=[16,6], colormap='spring', title = 'AVERAGE ORGIN & DESTINATION AIRPORT DELAYS'))"
   ]
  },
  {
   "cell_type": "code",
   "execution_count": 114,
   "metadata": {
    "ExecuteTime": {
     "end_time": "2020-12-17T22:18:41.996029Z",
     "start_time": "2020-12-17T22:18:41.993053Z"
    }
   },
   "outputs": [],
   "source": [
    "# X = B3['DEPARTURE_DELAY'].iloc[:, 0].values.reshape(-1, 1)  # values converts it into a numpy array\n",
    "# Y = B['DEPARTURE_DELAY'].iloc[:, 1].values.reshape(-1, 1)  # -1 means that calculate the dimension of rows, but have 1 column\n",
    "# linear_regressor = LinearRegression()  # create object for the class\n",
    "# linear_regressor.fit(X, Y)  # perform linear regression\n",
    "# Y_pred = linear_regressor.predict(X)  # make predictions"
   ]
  },
  {
   "cell_type": "markdown",
   "metadata": {},
   "source": [
    "###  Average delay in departure time per airport by starting destination "
   ]
  },
  {
   "cell_type": "code",
   "execution_count": 219,
   "metadata": {
    "ExecuteTime": {
     "end_time": "2020-12-17T23:24:09.071434Z",
     "start_time": "2020-12-17T23:24:09.065482Z"
    }
   },
   "outputs": [],
   "source": [
    "dep_delay = df.groupby('ORIGIN_AIRPORT', as_index=False)['DEPARTURE_DELAY'].mean()"
   ]
  },
  {
   "cell_type": "code",
   "execution_count": 220,
   "metadata": {
    "ExecuteTime": {
     "end_time": "2020-12-17T23:24:09.607114Z",
     "start_time": "2020-12-17T23:24:09.600666Z"
    }
   },
   "outputs": [
    {
     "name": "stdout",
     "output_type": "stream",
     "text": [
      "Type ORIGIN_AIRPORT  DEPARTURE_DELAY\n",
      "0               ABE        -5.000000\n",
      "1               ABQ        16.341463\n",
      "2               ABR        -6.500000\n",
      "3               ABY        -7.000000\n",
      "4               ACT        32.000000\n",
      "5               ACV        12.000000\n",
      "6               ACY        20.125000\n",
      "7               ADK         8.000000\n",
      "8               AEX        -1.250000\n",
      "9               AGS         5.800000\n",
      "10              ALB         0.000000\n",
      "11              ALO        28.500000\n",
      "12              AMA         4.714286\n",
      "13              ANC        -6.000000\n",
      "14              APN        37.000000\n",
      "15              ASE        26.105263\n",
      "16              ATL         2.211382\n",
      "17              ATW         2.000000\n",
      "18              AUS         9.945205\n",
      "19              AVL         3.500000\n",
      "20              AVP        -5.000000\n",
      "21              AZO        -1.333333\n",
      "22              BDL         5.268293\n",
      "23              BET       -13.000000\n",
      "24              BFL        -2.571429\n",
      "25              BHM         1.000000\n",
      "26              BIL         5.400000\n",
      "27              BIS        26.000000\n",
      "28              BJI        -4.500000\n",
      "29              BLI         1.000000\n",
      "..              ...              ...\n",
      "270             SMF         6.750000\n",
      "271             SMX        10.000000\n",
      "272             SNA         4.534247\n",
      "273             SPI         2.666667\n",
      "274             SRQ         4.222222\n",
      "275             STC        29.500000\n",
      "276             STL         2.422535\n",
      "277             STT        -3.200000\n",
      "278             STX        13.000000\n",
      "279             SUN        55.500000\n",
      "280             SUX        18.000000\n",
      "281             SWF       -10.000000\n",
      "282             SYR        -3.000000\n",
      "283             TLH        -4.000000\n",
      "284             TOL         0.000000\n",
      "285             TPA         1.389706\n",
      "286             TRI        -4.666667\n",
      "287             TTN         7.000000\n",
      "288             TUL        20.961538\n",
      "289             TUS        12.871795\n",
      "290             TVC        -2.833333\n",
      "291             TWF        -3.000000\n",
      "292             TYR        -5.666667\n",
      "293             TYS        13.529412\n",
      "294             VEL        40.500000\n",
      "295             VLD        -4.000000\n",
      "296             VPS         0.444444\n",
      "297             WRG       -14.500000\n",
      "298             XNA        13.714286\n",
      "299             YUM        11.600000\n",
      "\n",
      "[300 rows x 2 columns]\n"
     ]
    }
   ],
   "source": [
    "print(dep_delay)"
   ]
  },
  {
   "cell_type": "code",
   "execution_count": 221,
   "metadata": {
    "ExecuteTime": {
     "end_time": "2020-12-17T23:24:10.164121Z",
     "start_time": "2020-12-17T23:24:10.154698Z"
    }
   },
   "outputs": [
    {
     "data": {
      "text/html": [
       "<div>\n",
       "<style scoped>\n",
       "    .dataframe tbody tr th:only-of-type {\n",
       "        vertical-align: middle;\n",
       "    }\n",
       "\n",
       "    .dataframe tbody tr th {\n",
       "        vertical-align: top;\n",
       "    }\n",
       "\n",
       "    .dataframe thead th {\n",
       "        text-align: right;\n",
       "    }\n",
       "</style>\n",
       "<table border=\"1\" class=\"dataframe\">\n",
       "  <thead>\n",
       "    <tr style=\"text-align: right;\">\n",
       "      <th>Type</th>\n",
       "      <th>DEPARTURE_DELAY</th>\n",
       "    </tr>\n",
       "  </thead>\n",
       "  <tbody>\n",
       "    <tr>\n",
       "      <th>count</th>\n",
       "      <td>300.000000</td>\n",
       "    </tr>\n",
       "    <tr>\n",
       "      <th>mean</th>\n",
       "      <td>6.853173</td>\n",
       "    </tr>\n",
       "    <tr>\n",
       "      <th>std</th>\n",
       "      <td>21.766884</td>\n",
       "    </tr>\n",
       "    <tr>\n",
       "      <th>min</th>\n",
       "      <td>-16.000000</td>\n",
       "    </tr>\n",
       "    <tr>\n",
       "      <th>25%</th>\n",
       "      <td>-4.000000</td>\n",
       "    </tr>\n",
       "    <tr>\n",
       "      <th>50%</th>\n",
       "      <td>2.200286</td>\n",
       "    </tr>\n",
       "    <tr>\n",
       "      <th>75%</th>\n",
       "      <td>9.902968</td>\n",
       "    </tr>\n",
       "    <tr>\n",
       "      <th>max</th>\n",
       "      <td>223.000000</td>\n",
       "    </tr>\n",
       "  </tbody>\n",
       "</table>\n",
       "</div>"
      ],
      "text/plain": [
       "Type   DEPARTURE_DELAY\n",
       "count       300.000000\n",
       "mean          6.853173\n",
       "std          21.766884\n",
       "min         -16.000000\n",
       "25%          -4.000000\n",
       "50%           2.200286\n",
       "75%           9.902968\n",
       "max         223.000000"
      ]
     },
     "execution_count": 221,
     "metadata": {},
     "output_type": "execute_result"
    }
   ],
   "source": [
    "dep_delay.describe()"
   ]
  },
  {
   "cell_type": "code",
   "execution_count": 222,
   "metadata": {
    "ExecuteTime": {
     "end_time": "2020-12-17T23:24:10.845623Z",
     "start_time": "2020-12-17T23:24:10.697816Z"
    }
   },
   "outputs": [
    {
     "name": "stdout",
     "output_type": "stream",
     "text": [
      "AxesSubplot(0.125,0.125;0.775x0.755)\n"
     ]
    },
    {
     "data": {
      "image/png": "[encoded data removed]",
      "text/plain": [
       "<Figure size 1152x432 with 1 Axes>"
      ]
     },
     "metadata": {
      "needs_background": "light"
     },
     "output_type": "display_data"
    }
   ],
   "source": [
    "print(dep_delay['DEPARTURE_DELAY'].plot(kind='line',stacked=False, figsize=[16,6], colormap='cool'))"
   ]
  },
  {
   "cell_type": "markdown",
   "metadata": {},
   "source": []
  },
  {
   "cell_type": "code",
   "execution_count": 223,
   "metadata": {
    "ExecuteTime": {
     "end_time": "2020-12-17T23:24:13.089524Z",
     "start_time": "2020-12-17T23:24:12.911461Z"
    }
   },
   "outputs": [
    {
     "name": "stdout",
     "output_type": "stream",
     "text": [
      "AxesSubplot(0.125,0.125;0.775x0.755)\n"
     ]
    },
    {
     "data": {
      "text/plain": [
       "<matplotlib.lines.Line2D at 0x2314ccd8cc0>"
      ]
     },
     "execution_count": 223,
     "metadata": {},
     "output_type": "execute_result"
    },
    {
     "data": {
      "image/png": "[encoded data removed]",
      "text/plain": [
       "<Figure size 1152x432 with 1 Axes>"
      ]
     },
     "metadata": {
      "needs_background": "light"
     },
     "output_type": "display_data"
    }
   ],
   "source": [
    "print(dep_delay.iloc[:20]['DEPARTURE_DELAY'].plot(kind='bar',stacked=False, figsize=[16,6], colormap='spring'))\n",
    "\n",
    "mean = ap_delays['DEPARTURE_DELAY'].mean()\n",
    "plt.axvline(mean, color='r', linestyle='--')\n",
    "plt.axvline(5, color='g', linestyle='--')\n"
   ]
  },
  {
   "cell_type": "markdown",
   "metadata": {},
   "source": [
    "### Airline Departure Delay"
   ]
  },
  {
   "cell_type": "code",
   "execution_count": 224,
   "metadata": {
    "ExecuteTime": {
     "end_time": "2020-12-17T23:24:16.054111Z",
     "start_time": "2020-12-17T23:24:16.048159Z"
    }
   },
   "outputs": [],
   "source": [
    "depair_delay = df.groupby('AIRLINE', as_index=False)['DEPARTURE_DELAY'].mean()"
   ]
  },
  {
   "cell_type": "code",
   "execution_count": 225,
   "metadata": {
    "ExecuteTime": {
     "end_time": "2020-12-17T23:24:17.865996Z",
     "start_time": "2020-12-17T23:24:17.861533Z"
    }
   },
   "outputs": [
    {
     "name": "stdout",
     "output_type": "stream",
     "text": [
      "Type AIRLINE  DEPARTURE_DELAY\n",
      "0         AA        14.159204\n",
      "1         AS         0.759375\n",
      "2         B6         4.287356\n",
      "3         DL         3.183242\n",
      "4         EV         4.052261\n",
      "5         F9         8.508287\n",
      "6         HA         3.846626\n",
      "7         MQ        12.650794\n",
      "8         NK         8.103627\n",
      "9         OO        11.546346\n",
      "10        UA        12.053706\n",
      "11        US         2.870875\n",
      "12        VX         1.698113\n",
      "13        WN         7.258065\n"
     ]
    }
   ],
   "source": [
    "print(depair_delay)"
   ]
  },
  {
   "cell_type": "code",
   "execution_count": 226,
   "metadata": {
    "ExecuteTime": {
     "end_time": "2020-12-17T23:24:19.187834Z",
     "start_time": "2020-12-17T23:24:19.025643Z"
    }
   },
   "outputs": [
    {
     "name": "stdout",
     "output_type": "stream",
     "text": [
      "AxesSubplot(0.125,0.125;0.775x0.755)\n"
     ]
    },
    {
     "data": {
      "image/png": "[encoded data removed]",
      "text/plain": [
       "<Figure size 1152x432 with 1 Axes>"
      ]
     },
     "metadata": {
      "needs_background": "light"
     },
     "output_type": "display_data"
    }
   ],
   "source": [
    "print(depair_delay['DEPARTURE_DELAY'].plot(kind='bar',figsize=[16,6], colormap='spring', title='Mean Airline Depaprture Delay Average Time'))"
   ]
  },
  {
   "cell_type": "code",
   "execution_count": null,
   "metadata": {},
   "outputs": [],
   "source": []
  },
  {
   "cell_type": "markdown",
   "metadata": {
    "heading_collapsed": true
   },
   "source": [
    "### Area charts\n",
    "\n",
    "> Area charts are just line charts, but with the bottom shaded in. That's it!"
   ]
  },
  {
   "cell_type": "code",
   "execution_count": null,
   "metadata": {
    "hidden": true
   },
   "outputs": [],
   "source": [
    "# Use numarical ordinal data\n",
    "df['YOUR_CLOUMN'].value_counts().sort_index().plot.area"
   ]
  },
  {
   "cell_type": "markdown",
   "metadata": {
    "heading_collapsed": true
   },
   "source": [
    "### Interval data\n",
    "\n",
    "Interval variables are the wind speed in a hurricane, shear strength in concrete, and the temperature of the sun. An interval variable goes beyond an ordinal categorical variable: it has a meaningful order, in the sense that we can quantify what the difference between two entries is itself an interval variable.\n",
    "\n",
    "For example, if I say that this sample of water is -20 degrees Celcius, and this other sample is 120 degrees Celcius, then I can quantify the difference between them: 140 degrees \"worth\" of heat, or such-and-such many joules of energy.\n",
    "\n",
    "- Line charts work well for interval data. Bar charts don't—unless your ability to measure it is very limited, interval data will naturally vary by quite a lot.\n",
    "\n",
    "- Use  histogram for interval variable in our dataset, price (we'll cut price off at 200$ a bottle; more on why shortly).\n"
   ]
  },
  {
   "cell_type": "markdown",
   "metadata": {
    "heading_collapsed": true
   },
   "source": [
    "### Histograms\n",
    "\n",
    "> Histogram is special kind of bar plot that splits your data into even intervals and displays how many rows are in each interval with bars. The only analytical difference is that instead of each bar representing a single value, it represents a range of values."
   ]
  },
  {
   "cell_type": "code",
   "execution_count": null,
   "metadata": {
    "hidden": true
   },
   "outputs": [],
   "source": [
    "# Calulates average data frame row values with selcted colum data \n",
    "# based on specific column data specified by the conditions (< 100 +-)\n",
    "df[df['YOUR_CLOUMN'] < 100]['YOUR_CLOUMN'].plot.hist()"
   ]
  },
  {
   "cell_type": "markdown",
   "metadata": {
    "hidden": true
   },
   "source": [
    "#### Use code below to test Histogram"
   ]
  },
  {
   "cell_type": "code",
   "execution_count": null,
   "metadata": {
    "hidden": true
   },
   "outputs": [],
   "source": [
    "\n",
    "# Not good for skewed data (Will only show one column)\n",
    "# Only use if data is numarical and not skewed!!!\n",
    "df['YOUR_CLOUMN'].plot.hist()"
   ]
  },
  {
   "cell_type": "code",
   "execution_count": null,
   "metadata": {
    "hidden": true
   },
   "outputs": [],
   "source": [
    "\n",
    "# Check dataframe column (adjust (> 2000 to any number that fits your set)\n",
    "df[df['YOUR_CLOUMN'] > 2000]"
   ]
  },
  {
   "cell_type": "markdown",
   "metadata": {
    "heading_collapsed": true
   },
   "source": [
    "### Frequency Graphs"
   ]
  },
  {
   "cell_type": "code",
   "execution_count": null,
   "metadata": {
    "hidden": true
   },
   "outputs": [],
   "source": [
    "fig, ax = plt.subplots()\n",
    "df['YOUR_CLOUMN'].value_counts().plot(ax=ax, kind='bar')"
   ]
  },
  {
   "cell_type": "markdown",
   "metadata": {
    "heading_collapsed": true
   },
   "source": [
    "### Pie Charts"
   ]
  },
  {
   "cell_type": "code",
   "execution_count": null,
   "metadata": {
    "hidden": true
   },
   "outputs": [],
   "source": [
    "# Pie chart of entire dataframe\n",
    "df.plot.pie(figsize=(6, 6))"
   ]
  },
  {
   "cell_type": "code",
   "execution_count": null,
   "metadata": {
    "hidden": true
   },
   "outputs": [],
   "source": [
    "df['YOUR_CLOUMN'].plot.pie(figsize=(6, 6))"
   ]
  },
  {
   "cell_type": "markdown",
   "metadata": {
    "heading_collapsed": true
   },
   "source": [
    "## Bivariate Plotting With Pandas"
   ]
  },
  {
   "cell_type": "markdown",
   "metadata": {
    "hidden": true
   },
   "source": [
    "### Scatter plot\n",
    ">  Bivariate plot is essntially a scatter plot. A simple scatter plot simply maps each variable X, Y of interest to a point in two-dimensional space. \n",
    "\n",
    "- Plot shows and should be used to show correlations\n",
    "- Must use numarical data\n",
    "- Category data must be encoded to numarical data and seperated to X Y varibles\n",
    "- Best results data needs to be clean and even\n",
    "- Best used with smaller datasets!!!"
   ]
  },
  {
   "cell_type": "code",
   "execution_count": null,
   "metadata": {
    "hidden": true
   },
   "outputs": [],
   "source": [
    "# selct sample size and condition to be met (<100 +-) of fetures to compare to.\n",
    "# scatter(x='YOUR_COLUMN_x', y='YOUR_COLUMN_Y') is ONLY the labels you can name them anything!!\n",
    "df[df['YOUR_COLUMN_x'] < 100].sample(100).plot.scatter(x='YOUR_COLUMN_x_label', y='YOUR_COLUMN_Y_label')"
   ]
  },
  {
   "cell_type": "code",
   "execution_count": null,
   "metadata": {
    "hidden": true
   },
   "outputs": [],
   "source": []
  },
  {
   "cell_type": "markdown",
   "metadata": {
    "hidden": true
   },
   "source": [
    "### Hexplot\n",
    "> A hex plot aggregates points in space into hexagons, and then colors those hexagons based on the values within them:"
   ]
  },
  {
   "cell_type": "code",
   "execution_count": null,
   "metadata": {
    "hidden": true
   },
   "outputs": [],
   "source": [
    "# selct sample size and condition to be met (<100 +-) of fetures to compare to.\n",
    "# scatter(x='YOUR_COLUMN_x', y='YOUR_COLUMN_Y') is ONLY the labels you can name them anything!!\n",
    "df[reviews['YOUR_COLUMN_x'] < 100].plot.hexbin(x='YOUR_COLUMN_x_label', y='YOUR_COLUMN_Y_label', gridsize=15)"
   ]
  },
  {
   "cell_type": "markdown",
   "metadata": {
    "hidden": true
   },
   "source": [
    "### Stacked plots\n",
    ">  A stacked chart is one which plots the variables one on top of the other. Many pandas multivariate plots expect input data to be in this format, with one categorical variable in the columns, one categorical variable in the rows, and counts of their intersections in the entries.\n",
    "\n",
    "- Is best to make a smaller sample dataframe frame for calualtions and visulizations"
   ]
  },
  {
   "cell_type": "code",
   "execution_count": null,
   "metadata": {
    "hidden": true
   },
   "outputs": [],
   "source": [
    "# Plots entire dataframe\n",
    "df.plot.bar(stacked=True)"
   ]
  },
  {
   "cell_type": "markdown",
   "metadata": {
    "hidden": true
   },
   "source": [
    "### Area Plot\n",
    "> Same principles as \"Stacked Plot\" mixed with a line chart instead of a bar chart"
   ]
  },
  {
   "cell_type": "markdown",
   "metadata": {
    "hidden": true
   },
   "source": [
    "Like single-variable area charts, multivariate area charts are meant for nominal categorical or interval variables.\n",
    "\n",
    "Stacked plots are visually very pretty. However, they have two major limitations.\n",
    "\n",
    "The first limitation is that the second variable in a stacked plot must be a variable with a very limited number of possible values (probably an ordinal categorical, as here). Five different types of wine is a good number because it keeps the result interpretable; eight is sometimes mentioned as a suggested upper bound. Many dataset fields will not fit this critereon naturally, so you have to \"make do\", as here, by selecting a group of interest.\n",
    "\n",
    "The second limitation is one of interpretability. As easy as they are to make, and as pretty as they look, stacked plots make it really hard to distinguish concrete values. For example, looking at the plots above, can you tell which wine got a score of 87 more often: Red Blends (in purple), Pinot Noir (in red), or Chardonnay (in green)? It's actually really hard to tell!"
   ]
  },
  {
   "cell_type": "code",
   "execution_count": 104,
   "metadata": {
    "ExecuteTime": {
     "end_time": "2020-12-17T22:14:46.020773Z",
     "start_time": "2020-12-17T22:14:45.087796Z"
    },
    "hidden": true
   },
   "outputs": [
    {
     "ename": "ValueError",
     "evalue": "When stacked is True, each column must be either all positive or negative.DEPARTURE_DELAY contains both positive and negative values",
     "output_type": "error",
     "traceback": [
      "\u001b[1;31m---------------------------------------------------------------------------\u001b[0m",
      "\u001b[1;31mValueError\u001b[0m                                Traceback (most recent call last)",
      "\u001b[1;32m<ipython-input-104-03d12369b9bb>\u001b[0m in \u001b[0;36m<module>\u001b[1;34m\u001b[0m\n\u001b[0;32m      1\u001b[0m \u001b[1;31m# Plots entire dataframe\u001b[0m\u001b[1;33m\u001b[0m\u001b[1;33m\u001b[0m\u001b[1;33m\u001b[0m\u001b[0m\n\u001b[1;32m----> 2\u001b[1;33m \u001b[0mdf\u001b[0m\u001b[1;33m.\u001b[0m\u001b[0mplot\u001b[0m\u001b[1;33m.\u001b[0m\u001b[0marea\u001b[0m\u001b[1;33m(\u001b[0m\u001b[1;33m)\u001b[0m\u001b[1;33m\u001b[0m\u001b[1;33m\u001b[0m\u001b[0m\n\u001b[0m",
      "\u001b[1;32mC:\\ProgramData\\Anaconda3\\lib\\site-packages\\pandas\\plotting\\_core.py\u001b[0m in \u001b[0;36marea\u001b[1;34m(self, x, y, **kwds)\u001b[0m\n\u001b[0;32m   3328\u001b[0m         \u001b[0maxes\u001b[0m \u001b[1;33m:\u001b[0m \u001b[1;33m:\u001b[0m\u001b[1;32mclass\u001b[0m\u001b[1;33m:\u001b[0m\u001b[0;31m`\u001b[0m\u001b[0mmatplotlib\u001b[0m\u001b[1;33m.\u001b[0m\u001b[0maxes\u001b[0m\u001b[1;33m.\u001b[0m\u001b[0mAxes\u001b[0m\u001b[0;31m`\u001b[0m \u001b[1;32mor\u001b[0m \u001b[0mnumpy\u001b[0m\u001b[1;33m.\u001b[0m\u001b[0mndarray\u001b[0m \u001b[0mof\u001b[0m \u001b[0mthem\u001b[0m\u001b[1;33m\u001b[0m\u001b[1;33m\u001b[0m\u001b[0m\n\u001b[0;32m   3329\u001b[0m         \"\"\"\n\u001b[1;32m-> 3330\u001b[1;33m         \u001b[1;32mreturn\u001b[0m \u001b[0mself\u001b[0m\u001b[1;33m(\u001b[0m\u001b[0mkind\u001b[0m\u001b[1;33m=\u001b[0m\u001b[1;34m'area'\u001b[0m\u001b[1;33m,\u001b[0m \u001b[0mx\u001b[0m\u001b[1;33m=\u001b[0m\u001b[0mx\u001b[0m\u001b[1;33m,\u001b[0m \u001b[0my\u001b[0m\u001b[1;33m=\u001b[0m\u001b[0my\u001b[0m\u001b[1;33m,\u001b[0m \u001b[1;33m**\u001b[0m\u001b[0mkwds\u001b[0m\u001b[1;33m)\u001b[0m\u001b[1;33m\u001b[0m\u001b[1;33m\u001b[0m\u001b[0m\n\u001b[0m\u001b[0;32m   3331\u001b[0m \u001b[1;33m\u001b[0m\u001b[0m\n\u001b[0;32m   3332\u001b[0m     \u001b[1;32mdef\u001b[0m \u001b[0mpie\u001b[0m\u001b[1;33m(\u001b[0m\u001b[0mself\u001b[0m\u001b[1;33m,\u001b[0m \u001b[0my\u001b[0m\u001b[1;33m=\u001b[0m\u001b[1;32mNone\u001b[0m\u001b[1;33m,\u001b[0m \u001b[1;33m**\u001b[0m\u001b[0mkwds\u001b[0m\u001b[1;33m)\u001b[0m\u001b[1;33m:\u001b[0m\u001b[1;33m\u001b[0m\u001b[1;33m\u001b[0m\u001b[0m\n",
      "\u001b[1;32mC:\\ProgramData\\Anaconda3\\lib\\site-packages\\pandas\\plotting\\_core.py\u001b[0m in \u001b[0;36m__call__\u001b[1;34m(self, x, y, kind, ax, subplots, sharex, sharey, layout, figsize, use_index, title, grid, legend, style, logx, logy, loglog, xticks, yticks, xlim, ylim, rot, fontsize, colormap, table, yerr, xerr, secondary_y, sort_columns, **kwds)\u001b[0m\n\u001b[0;32m   2939\u001b[0m                           \u001b[0mfontsize\u001b[0m\u001b[1;33m=\u001b[0m\u001b[0mfontsize\u001b[0m\u001b[1;33m,\u001b[0m \u001b[0mcolormap\u001b[0m\u001b[1;33m=\u001b[0m\u001b[0mcolormap\u001b[0m\u001b[1;33m,\u001b[0m \u001b[0mtable\u001b[0m\u001b[1;33m=\u001b[0m\u001b[0mtable\u001b[0m\u001b[1;33m,\u001b[0m\u001b[1;33m\u001b[0m\u001b[1;33m\u001b[0m\u001b[0m\n\u001b[0;32m   2940\u001b[0m                           \u001b[0myerr\u001b[0m\u001b[1;33m=\u001b[0m\u001b[0myerr\u001b[0m\u001b[1;33m,\u001b[0m \u001b[0mxerr\u001b[0m\u001b[1;33m=\u001b[0m\u001b[0mxerr\u001b[0m\u001b[1;33m,\u001b[0m \u001b[0msecondary_y\u001b[0m\u001b[1;33m=\u001b[0m\u001b[0msecondary_y\u001b[0m\u001b[1;33m,\u001b[0m\u001b[1;33m\u001b[0m\u001b[1;33m\u001b[0m\u001b[0m\n\u001b[1;32m-> 2941\u001b[1;33m                           sort_columns=sort_columns, **kwds)\n\u001b[0m\u001b[0;32m   2942\u001b[0m     \u001b[0m__call__\u001b[0m\u001b[1;33m.\u001b[0m\u001b[0m__doc__\u001b[0m \u001b[1;33m=\u001b[0m \u001b[0mplot_frame\u001b[0m\u001b[1;33m.\u001b[0m\u001b[0m__doc__\u001b[0m\u001b[1;33m\u001b[0m\u001b[1;33m\u001b[0m\u001b[0m\n\u001b[0;32m   2943\u001b[0m \u001b[1;33m\u001b[0m\u001b[0m\n",
      "\u001b[1;32mC:\\ProgramData\\Anaconda3\\lib\\site-packages\\pandas\\plotting\\_core.py\u001b[0m in \u001b[0;36mplot_frame\u001b[1;34m(data, x, y, kind, ax, subplots, sharex, sharey, layout, figsize, use_index, title, grid, legend, style, logx, logy, loglog, xticks, yticks, xlim, ylim, rot, fontsize, colormap, table, yerr, xerr, secondary_y, sort_columns, **kwds)\u001b[0m\n\u001b[0;32m   1975\u001b[0m                  \u001b[0myerr\u001b[0m\u001b[1;33m=\u001b[0m\u001b[0myerr\u001b[0m\u001b[1;33m,\u001b[0m \u001b[0mxerr\u001b[0m\u001b[1;33m=\u001b[0m\u001b[0mxerr\u001b[0m\u001b[1;33m,\u001b[0m\u001b[1;33m\u001b[0m\u001b[1;33m\u001b[0m\u001b[0m\n\u001b[0;32m   1976\u001b[0m                  \u001b[0msecondary_y\u001b[0m\u001b[1;33m=\u001b[0m\u001b[0msecondary_y\u001b[0m\u001b[1;33m,\u001b[0m \u001b[0msort_columns\u001b[0m\u001b[1;33m=\u001b[0m\u001b[0msort_columns\u001b[0m\u001b[1;33m,\u001b[0m\u001b[1;33m\u001b[0m\u001b[1;33m\u001b[0m\u001b[0m\n\u001b[1;32m-> 1977\u001b[1;33m                  **kwds)\n\u001b[0m\u001b[0;32m   1978\u001b[0m \u001b[1;33m\u001b[0m\u001b[0m\n\u001b[0;32m   1979\u001b[0m \u001b[1;33m\u001b[0m\u001b[0m\n",
      "\u001b[1;32mC:\\ProgramData\\Anaconda3\\lib\\site-packages\\pandas\\plotting\\_core.py\u001b[0m in \u001b[0;36m_plot\u001b[1;34m(data, x, y, subplots, ax, kind, **kwds)\u001b[0m\n\u001b[0;32m   1802\u001b[0m         \u001b[0mplot_obj\u001b[0m \u001b[1;33m=\u001b[0m \u001b[0mklass\u001b[0m\u001b[1;33m(\u001b[0m\u001b[0mdata\u001b[0m\u001b[1;33m,\u001b[0m \u001b[0msubplots\u001b[0m\u001b[1;33m=\u001b[0m\u001b[0msubplots\u001b[0m\u001b[1;33m,\u001b[0m \u001b[0max\u001b[0m\u001b[1;33m=\u001b[0m\u001b[0max\u001b[0m\u001b[1;33m,\u001b[0m \u001b[0mkind\u001b[0m\u001b[1;33m=\u001b[0m\u001b[0mkind\u001b[0m\u001b[1;33m,\u001b[0m \u001b[1;33m**\u001b[0m\u001b[0mkwds\u001b[0m\u001b[1;33m)\u001b[0m\u001b[1;33m\u001b[0m\u001b[1;33m\u001b[0m\u001b[0m\n\u001b[0;32m   1803\u001b[0m \u001b[1;33m\u001b[0m\u001b[0m\n\u001b[1;32m-> 1804\u001b[1;33m     \u001b[0mplot_obj\u001b[0m\u001b[1;33m.\u001b[0m\u001b[0mgenerate\u001b[0m\u001b[1;33m(\u001b[0m\u001b[1;33m)\u001b[0m\u001b[1;33m\u001b[0m\u001b[1;33m\u001b[0m\u001b[0m\n\u001b[0m\u001b[0;32m   1805\u001b[0m     \u001b[0mplot_obj\u001b[0m\u001b[1;33m.\u001b[0m\u001b[0mdraw\u001b[0m\u001b[1;33m(\u001b[0m\u001b[1;33m)\u001b[0m\u001b[1;33m\u001b[0m\u001b[1;33m\u001b[0m\u001b[0m\n\u001b[0;32m   1806\u001b[0m     \u001b[1;32mreturn\u001b[0m \u001b[0mplot_obj\u001b[0m\u001b[1;33m.\u001b[0m\u001b[0mresult\u001b[0m\u001b[1;33m\u001b[0m\u001b[1;33m\u001b[0m\u001b[0m\n",
      "\u001b[1;32mC:\\ProgramData\\Anaconda3\\lib\\site-packages\\pandas\\plotting\\_core.py\u001b[0m in \u001b[0;36mgenerate\u001b[1;34m(self)\u001b[0m\n\u001b[0;32m    258\u001b[0m         \u001b[0mself\u001b[0m\u001b[1;33m.\u001b[0m\u001b[0m_compute_plot_data\u001b[0m\u001b[1;33m(\u001b[0m\u001b[1;33m)\u001b[0m\u001b[1;33m\u001b[0m\u001b[1;33m\u001b[0m\u001b[0m\n\u001b[0;32m    259\u001b[0m         \u001b[0mself\u001b[0m\u001b[1;33m.\u001b[0m\u001b[0m_setup_subplots\u001b[0m\u001b[1;33m(\u001b[0m\u001b[1;33m)\u001b[0m\u001b[1;33m\u001b[0m\u001b[1;33m\u001b[0m\u001b[0m\n\u001b[1;32m--> 260\u001b[1;33m         \u001b[0mself\u001b[0m\u001b[1;33m.\u001b[0m\u001b[0m_make_plot\u001b[0m\u001b[1;33m(\u001b[0m\u001b[1;33m)\u001b[0m\u001b[1;33m\u001b[0m\u001b[1;33m\u001b[0m\u001b[0m\n\u001b[0m\u001b[0;32m    261\u001b[0m         \u001b[0mself\u001b[0m\u001b[1;33m.\u001b[0m\u001b[0m_add_table\u001b[0m\u001b[1;33m(\u001b[0m\u001b[1;33m)\u001b[0m\u001b[1;33m\u001b[0m\u001b[1;33m\u001b[0m\u001b[0m\n\u001b[0;32m    262\u001b[0m         \u001b[0mself\u001b[0m\u001b[1;33m.\u001b[0m\u001b[0m_make_legend\u001b[0m\u001b[1;33m(\u001b[0m\u001b[1;33m)\u001b[0m\u001b[1;33m\u001b[0m\u001b[1;33m\u001b[0m\u001b[0m\n",
      "\u001b[1;32mC:\\ProgramData\\Anaconda3\\lib\\site-packages\\pandas\\plotting\\_core.py\u001b[0m in \u001b[0;36m_make_plot\u001b[1;34m(self)\u001b[0m\n\u001b[0;32m    983\u001b[0m                              \u001b[0mstacking_id\u001b[0m\u001b[1;33m=\u001b[0m\u001b[0mstacking_id\u001b[0m\u001b[1;33m,\u001b[0m\u001b[1;33m\u001b[0m\u001b[1;33m\u001b[0m\u001b[0m\n\u001b[0;32m    984\u001b[0m                              \u001b[0mis_errorbar\u001b[0m\u001b[1;33m=\u001b[0m\u001b[0mis_errorbar\u001b[0m\u001b[1;33m,\u001b[0m\u001b[1;33m\u001b[0m\u001b[1;33m\u001b[0m\u001b[0m\n\u001b[1;32m--> 985\u001b[1;33m                              **kwds)\n\u001b[0m\u001b[0;32m    986\u001b[0m             \u001b[0mself\u001b[0m\u001b[1;33m.\u001b[0m\u001b[0m_add_legend_handle\u001b[0m\u001b[1;33m(\u001b[0m\u001b[0mnewlines\u001b[0m\u001b[1;33m[\u001b[0m\u001b[1;36m0\u001b[0m\u001b[1;33m]\u001b[0m\u001b[1;33m,\u001b[0m \u001b[0mlabel\u001b[0m\u001b[1;33m,\u001b[0m \u001b[0mindex\u001b[0m\u001b[1;33m=\u001b[0m\u001b[0mi\u001b[0m\u001b[1;33m)\u001b[0m\u001b[1;33m\u001b[0m\u001b[1;33m\u001b[0m\u001b[0m\n\u001b[0;32m    987\u001b[0m \u001b[1;33m\u001b[0m\u001b[0m\n",
      "\u001b[1;32mC:\\ProgramData\\Anaconda3\\lib\\site-packages\\pandas\\plotting\\_core.py\u001b[0m in \u001b[0;36m_plot\u001b[1;34m(cls, ax, x, y, style, column_num, stacking_id, is_errorbar, **kwds)\u001b[0m\n\u001b[0;32m   1111\u001b[0m         \u001b[1;32mif\u001b[0m \u001b[0mcolumn_num\u001b[0m \u001b[1;33m==\u001b[0m \u001b[1;36m0\u001b[0m\u001b[1;33m:\u001b[0m\u001b[1;33m\u001b[0m\u001b[1;33m\u001b[0m\u001b[0m\n\u001b[0;32m   1112\u001b[0m             \u001b[0mcls\u001b[0m\u001b[1;33m.\u001b[0m\u001b[0m_initialize_stacker\u001b[0m\u001b[1;33m(\u001b[0m\u001b[0max\u001b[0m\u001b[1;33m,\u001b[0m \u001b[0mstacking_id\u001b[0m\u001b[1;33m,\u001b[0m \u001b[0mlen\u001b[0m\u001b[1;33m(\u001b[0m\u001b[0my\u001b[0m\u001b[1;33m)\u001b[0m\u001b[1;33m)\u001b[0m\u001b[1;33m\u001b[0m\u001b[1;33m\u001b[0m\u001b[0m\n\u001b[1;32m-> 1113\u001b[1;33m         \u001b[0my_values\u001b[0m \u001b[1;33m=\u001b[0m \u001b[0mcls\u001b[0m\u001b[1;33m.\u001b[0m\u001b[0m_get_stacked_values\u001b[0m\u001b[1;33m(\u001b[0m\u001b[0max\u001b[0m\u001b[1;33m,\u001b[0m \u001b[0mstacking_id\u001b[0m\u001b[1;33m,\u001b[0m \u001b[0my\u001b[0m\u001b[1;33m,\u001b[0m \u001b[0mkwds\u001b[0m\u001b[1;33m[\u001b[0m\u001b[1;34m'label'\u001b[0m\u001b[1;33m]\u001b[0m\u001b[1;33m)\u001b[0m\u001b[1;33m\u001b[0m\u001b[1;33m\u001b[0m\u001b[0m\n\u001b[0m\u001b[0;32m   1114\u001b[0m \u001b[1;33m\u001b[0m\u001b[0m\n\u001b[0;32m   1115\u001b[0m         \u001b[1;31m# need to remove label, because subplots uses mpl legend as it is\u001b[0m\u001b[1;33m\u001b[0m\u001b[1;33m\u001b[0m\u001b[1;33m\u001b[0m\u001b[0m\n",
      "\u001b[1;32mC:\\ProgramData\\Anaconda3\\lib\\site-packages\\pandas\\plotting\\_core.py\u001b[0m in \u001b[0;36m_get_stacked_values\u001b[1;34m(cls, ax, stacking_id, values, label)\u001b[0m\n\u001b[0;32m   1060\u001b[0m                          \u001b[1;34m'all positive or negative.'\u001b[0m\u001b[1;33m\u001b[0m\u001b[1;33m\u001b[0m\u001b[0m\n\u001b[0;32m   1061\u001b[0m                          \u001b[1;34m'{0} contains both positive and negative values'\u001b[0m\u001b[1;33m\u001b[0m\u001b[1;33m\u001b[0m\u001b[0m\n\u001b[1;32m-> 1062\u001b[1;33m                          .format(label))\n\u001b[0m\u001b[0;32m   1063\u001b[0m \u001b[1;33m\u001b[0m\u001b[0m\n\u001b[0;32m   1064\u001b[0m     \u001b[1;33m@\u001b[0m\u001b[0mclassmethod\u001b[0m\u001b[1;33m\u001b[0m\u001b[1;33m\u001b[0m\u001b[0m\n",
      "\u001b[1;31mValueError\u001b[0m: When stacked is True, each column must be either all positive or negative.DEPARTURE_DELAY contains both positive and negative values"
     ]
    },
    {
     "data": {
      "image/png": "[encoded data removed]",
      "text/plain": [
       "<Figure size 432x288 with 1 Axes>"
      ]
     },
     "metadata": {
      "needs_background": "light"
     },
     "output_type": "display_data"
    }
   ],
   "source": [
    "# Plots entire dataframe\n",
    "df.plot.area()"
   ]
  },
  {
   "cell_type": "markdown",
   "metadata": {
    "hidden": true
   },
   "source": [
    "### Bivariate Line Chart\n",
    ">Bivariate Line Chat is highly effective Because the line in this chart takes up so little visual space, it's really easy and effective to overplot multiple lines on the same chart."
   ]
  },
  {
   "cell_type": "code",
   "execution_count": null,
   "metadata": {
    "hidden": true
   },
   "outputs": [],
   "source": [
    "#Plots entire dataframe\n",
    "df.plot.line()"
   ]
  },
  {
   "cell_type": "markdown",
   "metadata": {
    "heading_collapsed": true
   },
   "source": [
    "## SeaBorn Plots"
   ]
  },
  {
   "cell_type": "code",
   "execution_count": null,
   "metadata": {
    "hidden": true
   },
   "outputs": [],
   "source": [
    "# Import Seaborn agian for good measmeasure \n",
    "import seaborn as sns\n"
   ]
  },
  {
   "cell_type": "code",
   "execution_count": null,
   "metadata": {
    "hidden": true
   },
   "outputs": [],
   "source": [
    "# Set parameters and themes\n",
    "sns.set_theme(style=\"darkgrid\")\n",
    "plt.rcParams['figure.figsize'] = [6, 2]"
   ]
  },
  {
   "cell_type": "markdown",
   "metadata": {
    "heading_collapsed": true
   },
   "source": [
    "## Load DataFrame into SeaBorn\n",
    "\n",
    "> You must load datafram and colum vectors into seaborn valrible to proccess"
   ]
  },
  {
   "cell_type": "code",
   "execution_count": null,
   "metadata": {
    "hidden": true
   },
   "outputs": [],
   "source": []
  },
  {
   "cell_type": "markdown",
   "metadata": {
    "heading_collapsed": true
   },
   "source": [
    "## Join Plots\n",
    "> URL: http://seaborn.pydata.org/generated/seaborn.jointplot.html?highlight=join%20plot\n",
    "\n",
    "- requires x, y vectors or keys in data values\n",
    "- More Seaborn plots and tutorials: http://seaborn.pydata.org/tutorial.html\n"
   ]
  },
  {
   "cell_type": "code",
   "execution_count": null,
   "metadata": {
    "hidden": true
   },
   "outputs": [],
   "source": []
  },
  {
   "cell_type": "code",
   "execution_count": null,
   "metadata": {
    "hidden": true
   },
   "outputs": [],
   "source": [
    "#Purple JoinPlot (color='m')\n",
    "# USE SEABORN TO PLOT JOINGRID PLOT\n",
    "# Custom the inside plot: options are: “scatter” | “reg” | “resid” | “kde” | “hex”\n",
    "fig.set_size_inches(11.7, 8.27)\n",
    "sns.jointplot(x=obj_df[\"YOUR_COLUMN_X\"], y=obj_df[\"YOUR_COLUMN_Y\"], kind='reg', truncate=True, xlim=(0, 60), ylim=(0, 5), color=\"m\", height=10,)\n"
   ]
  },
  {
   "cell_type": "code",
   "execution_count": null,
   "metadata": {
    "hidden": true
   },
   "outputs": [],
   "source": [
    "# Blue JoinPlot (edgecolor=\"skyblue\")\n",
    "# USE SEABORN TO PLOT JOINGRID PLOT\n",
    "# Custom the inside plot: options are: “scatter” | “reg” | “resid” | “kde” | “hex”\n",
    "fig.set_size_inches(11.7, 8.27)\n",
    "sns.jointplot(x=obj_df[\"YOUR_COLUMN_X\"], y=obj_df[\"YOUR_COLUMN_Y\"], kind='scatter', height=15,linewidth=2, edgecolor=\"skyblue\")\n"
   ]
  },
  {
   "cell_type": "markdown",
   "metadata": {
    "heading_collapsed": true
   },
   "source": [
    "# Advanced Statistics and Visulization"
   ]
  },
  {
   "cell_type": "markdown",
   "metadata": {
    "hidden": true
   },
   "source": [
    "## Multiple regresion Histogram"
   ]
  },
  {
   "cell_type": "code",
   "execution_count": null,
   "metadata": {
    "hidden": true
   },
   "outputs": [],
   "source": [
    "# multiple histograms\n",
    "\n",
    "df = df.set_index(['YOUR_COLUMN'])\n",
    "df.iloc[0]=0\n",
    "df=df.cumsum()\n",
    "    \n",
    "#Create Displot loop through column data features\n",
    "for column in df.columns:\n",
    "    plt.figure()             \n",
    "    sns.distplot(df[column])"
   ]
  }
 ],
 "metadata": {
  "hide_input": false,
  "kernelspec": {
   "display_name": "Python 3",
   "language": "python",
   "name": "python3"
  },
  "language_info": {
   "codemirror_mode": {
    "name": "ipython",
    "version": 3
   },
   "file_extension": ".py",
   "mimetype": "text/x-python",
   "name": "python",
   "nbconvert_exporter": "python",
   "pygments_lexer": "ipython3",
   "version": "3.7.1"
  },
  "latex_envs": {
   "LaTeX_envs_menu_present": true,
   "autoclose": false,
   "autocomplete": true,
   "bibliofile": "biblio.bib",
   "cite_by": "apalike",
   "current_citInitial": 1,
   "eqLabelWithNumbers": true,
   "eqNumInitial": 1,
   "hotkeys": {
    "equation": "Ctrl-E",
    "itemize": "Ctrl-I"
   },
   "labels_anchors": false,
   "latex_user_defs": false,
   "report_style_numbering": false,
   "user_envs_cfg": false
  },
  "toc": {
   "base_numbering": 1,
   "nav_menu": {},
   "number_sections": true,
   "sideBar": true,
   "skip_h1_title": false,
   "title_cell": "Table of Contents",
   "title_sidebar": "Contents",
   "toc_cell": false,
   "toc_position": {},
   "toc_section_display": true,
   "toc_window_display": true
  },
  "varInspector": {
   "cols": {
    "lenName": 16,
    "lenType": 16,
    "lenVar": 40
   },
   "kernels_config": {
    "python": {
     "delete_cmd_postfix": "",
     "delete_cmd_prefix": "del ",
     "library": "var_list.py",
     "varRefreshCmd": "print(var_dic_list())"
    },
    "r": {
     "delete_cmd_postfix": ") ",
     "delete_cmd_prefix": "rm(",
     "library": "var_list.r",
     "varRefreshCmd": "cat(var_dic_list()) "
    }
   },
   "types_to_exclude": [
    "module",
    "function",
    "builtin_function_or_method",
    "instance",
    "_Feature"
   ],
   "window_display": false
  }
 },
 "nbformat": 4,
 "nbformat_minor": 2
}

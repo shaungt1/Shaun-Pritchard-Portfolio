{
  "nbformat": 4,
  "nbformat_minor": 0,
  "metadata": {
    "hide_input": false,
    "kernelspec": {
      "display_name": "Python 3",
      "language": "python",
      "name": "python3"
    },
    "language_info": {
      "codemirror_mode": {
        "name": "ipython",
        "version": 3
      },
      "file_extension": ".py",
      "mimetype": "text/x-python",
      "name": "python",
      "nbconvert_exporter": "python",
      "pygments_lexer": "ipython3",
      "version": "3.8.5"
    },
    "latex_envs": {
      "LaTeX_envs_menu_present": true,
      "autoclose": false,
      "autocomplete": true,
      "bibliofile": "biblio.bib",
      "cite_by": "apalike",
      "current_citInitial": 1,
      "eqLabelWithNumbers": true,
      "eqNumInitial": 1,
      "hotkeys": {
        "equation": "Ctrl-E",
        "itemize": "Ctrl-I"
      },
      "labels_anchors": false,
      "latex_user_defs": false,
      "report_style_numbering": false,
      "user_envs_cfg": false
    },
    "toc": {
      "base_numbering": 1,
      "nav_menu": {},
      "number_sections": true,
      "sideBar": true,
      "skip_h1_title": false,
      "title_cell": "Table of Contents",
      "title_sidebar": "Contents",
      "toc_cell": false,
      "toc_position": {},
      "toc_section_display": true,
      "toc_window_display": false
    },
    "varInspector": {
      "cols": {
        "lenName": 16,
        "lenType": 16,
        "lenVar": 40
      },
      "kernels_config": {
        "python": {
          "delete_cmd_postfix": "",
          "delete_cmd_prefix": "del ",
          "library": "var_list.py",
          "varRefreshCmd": "print(var_dic_list())"
        },
        "r": {
          "delete_cmd_postfix": ") ",
          "delete_cmd_prefix": "rm(",
          "library": "var_list.r",
          "varRefreshCmd": "cat(var_dic_list()) "
        }
      },
      "types_to_exclude": [
        "module",
        "function",
        "builtin_function_or_method",
        "instance",
        "_Feature"
      ],
      "window_display": false
    },
    "colab": {
      "name": "airport module2.ipynb",
      "provenance": [],
      "collapsed_sections": [
        "Hkf7r2b_wq0o"
      ]
    }
  },
  "cells": [
    {
      "cell_type": "markdown",
      "metadata": {
        "id": "-LTitN10qoqv"
      },
      "source": [
        "# **Module 3 Airport Data Set**"
      ]
    },
    {
      "cell_type": "markdown",
      "metadata": {
        "id": "Hkf7r2b_wq0o"
      },
      "source": [
        "# Preproccess Data"
      ]
    },
    {
      "cell_type": "code",
      "metadata": {
        "id": "t5UpazA3qTML"
      },
      "source": [
        "import pandas as pd \n",
        "#I like to use pandas to import my dataframe"
      ],
      "execution_count": 556,
      "outputs": []
    },
    {
      "cell_type": "code",
      "metadata": {
        "id": "pmnMrviyqTML"
      },
      "source": [
        "air=pd.read_csv(r'mod3Data.csv')\n",
        "#read the csv"
      ],
      "execution_count": 557,
      "outputs": []
    },
    {
      "cell_type": "code",
      "metadata": {
        "colab": {
          "base_uri": "https://localhost:8080/"
        },
        "id": "pSNTS5teqTML",
        "outputId": "e8aedea9-dd84-4d38-d2a1-835c368a91d9"
      },
      "source": [
        "print(air.head(14))\n",
        "#prints the dataframe, top 5 rows in this case, can change to larger number"
      ],
      "execution_count": 558,
      "outputs": [
        {
          "output_type": "stream",
          "text": [
            "       CAMIS  ...                          INSPECTION TYPE\n",
            "0   41701986  ...    Cycle Inspection / Initial Inspection\n",
            "1   40660748  ...    Cycle Inspection / Initial Inspection\n",
            "2   41494987  ...         Cycle Inspection / Re-inspection\n",
            "3   50050828  ...    Cycle Inspection / Initial Inspection\n",
            "4   50012518  ...  Cycle Inspection / Reopening Inspection\n",
            "5   41072888  ...    Cycle Inspection / Initial Inspection\n",
            "6   41311425  ...         Cycle Inspection / Re-inspection\n",
            "7   41373642  ...         Cycle Inspection / Re-inspection\n",
            "8   50019033  ...  Cycle Inspection / Reopening Inspection\n",
            "9   41512878  ...         Cycle Inspection / Re-inspection\n",
            "10  50037684  ...    Cycle Inspection / Initial Inspection\n",
            "11  41241636  ...         Cycle Inspection / Re-inspection\n",
            "12  41701986  ...    Cycle Inspection / Initial Inspection\n",
            "13  41139783  ...    Cycle Inspection / Initial Inspection\n",
            "\n",
            "[14 rows x 15 columns]\n"
          ],
          "name": "stdout"
        }
      ]
    },
    {
      "cell_type": "code",
      "metadata": {
        "colab": {
          "base_uri": "https://localhost:8080/"
        },
        "id": "UYpLPB9hqTMM",
        "outputId": "f915a5de-5f58-45e5-d812-43bba1806aec"
      },
      "source": [
        "print(air.isnull())\n",
        "#show null values"
      ],
      "execution_count": 559,
      "outputs": [
        {
          "output_type": "stream",
          "text": [
            "       CAMIS    DBA  AIRPORT  ...  GRADEDATE  RECORD DATE  INSPECTION TYPE\n",
            "0      False  False    False  ...      False        False            False\n",
            "1      False  False    False  ...      False        False            False\n",
            "2      False  False    False  ...      False        False            False\n",
            "3      False  False    False  ...      False        False            False\n",
            "4      False  False    False  ...      False        False            False\n",
            "...      ...    ...      ...  ...        ...          ...              ...\n",
            "18410  False  False    False  ...      False        False            False\n",
            "18411  False  False    False  ...      False        False            False\n",
            "18412  False  False    False  ...      False        False            False\n",
            "18413  False  False    False  ...      False        False            False\n",
            "18414  False  False    False  ...      False        False            False\n",
            "\n",
            "[18415 rows x 15 columns]\n"
          ],
          "name": "stdout"
        }
      ]
    },
    {
      "cell_type": "code",
      "metadata": {
        "colab": {
          "base_uri": "https://localhost:8080/"
        },
        "id": "Ks3sMu7SqTMM",
        "outputId": "e1001672-8285-4810-c82a-4d800c2f7ab5"
      },
      "source": [
        "print(air.isnull().sum().sum())\n",
        "#counts all null values in data frame (both column and rows)"
      ],
      "execution_count": 560,
      "outputs": [
        {
          "output_type": "stream",
          "text": [
            "4253\n"
          ],
          "name": "stdout"
        }
      ]
    },
    {
      "cell_type": "code",
      "metadata": {
        "colab": {
          "base_uri": "https://localhost:8080/"
        },
        "id": "nEqe9LLoqTMM",
        "outputId": "524a3caf-4e89-481b-fbf6-72637205dae0"
      },
      "source": [
        "print(air.isnull().sum())\n",
        "#counts all null values in each column"
      ],
      "execution_count": 561,
      "outputs": [
        {
          "output_type": "stream",
          "text": [
            "CAMIS                       0\n",
            "DBA                         0\n",
            "AIRPORT                  4047\n",
            "BUILDING                    8\n",
            "CUISINE DESCRIPTION         0\n",
            "INSPECTION DATE             0\n",
            "ACTION                      0\n",
            "VIOLATION CODE             89\n",
            "VIOLATION DESCRIPTION     109\n",
            "CRITICAL FLAG               0\n",
            "SCORE                       0\n",
            "GRADE                       0\n",
            "GRADEDATE                   0\n",
            "RECORD DATE                 0\n",
            "INSPECTION TYPE             0\n",
            "dtype: int64\n"
          ],
          "name": "stdout"
        }
      ]
    },
    {
      "cell_type": "code",
      "metadata": {
        "colab": {
          "base_uri": "https://localhost:8080/"
        },
        "id": "Ph0LNk-zqTMM",
        "outputId": "451a06a2-ac2c-4bc7-d1d4-3f3ec71f0d5f"
      },
      "source": [
        "print(air.DBA.describe())\n",
        "#describes the DBA column as you can see dunkin donuts is the most frequent"
      ],
      "execution_count": 562,
      "outputs": [
        {
          "output_type": "stream",
          "text": [
            "count              18415\n",
            "unique              9989\n",
            "top       DUNKIN' DONUTS\n",
            "freq                 258\n",
            "Name: DBA, dtype: object\n"
          ],
          "name": "stdout"
        }
      ]
    },
    {
      "cell_type": "code",
      "metadata": {
        "id": "Ipgb0GGRqTMM"
      },
      "source": [
        "#https://machinelearningmastery.com/handle-missing-data-python/\n",
        "\n",
        "#shows how to imput and remove missing values\n",
        "\n",
        "#imputation should be used if 10% or less of data is missing \n",
        "#is record date important? \n",
        "#removing columns depends on the analyst, one could leave it or one could remove, I would remove grade, and keep date, as some sort of tracking "
      ],
      "execution_count": null,
      "outputs": []
    },
    {
      "cell_type": "markdown",
      "metadata": {
        "id": "nONADy4Jw07A"
      },
      "source": [
        "# Data Visulization"
      ]
    },
    {
      "cell_type": "code",
      "metadata": {
        "id": "Dfvk_jqQqTMM"
      },
      "source": [
        "####MODULE 3 Presentation"
      ],
      "execution_count": null,
      "outputs": []
    },
    {
      "cell_type": "markdown",
      "metadata": {
        "id": "b75qsYkw11Bx"
      },
      "source": [
        "### Import Data Libaries"
      ]
    },
    {
      "cell_type": "code",
      "metadata": {
        "id": "QauglXqSyJ6g"
      },
      "source": [
        "# Import Data Libaries\n",
        "import numpy as np\n",
        "import matplotlib.pyplot as plt\n",
        "import pandas as pd"
      ],
      "execution_count": 564,
      "outputs": []
    },
    {
      "cell_type": "markdown",
      "metadata": {
        "id": "5m0wOytr2Evc"
      },
      "source": [
        "### Print Total Number of Airports"
      ]
    },
    {
      "cell_type": "code",
      "metadata": {
        "colab": {
          "base_uri": "https://localhost:8080/"
        },
        "id": "TrhaOQ81qTMM",
        "outputId": "445aeb1e-1cd8-4a28-fec9-c79030c835ab"
      },
      "source": [
        "#Total number of Airports, 17489, most popular airport is ABI\n",
        "print(air.AIRPORT.describe()) "
      ],
      "execution_count": 565,
      "outputs": [
        {
          "output_type": "stream",
          "text": [
            "count     14368\n",
            "unique      327\n",
            "top         ABI\n",
            "freq       1376\n",
            "Name: AIRPORT, dtype: object\n"
          ],
          "name": "stdout"
        }
      ]
    },
    {
      "cell_type": "markdown",
      "metadata": {
        "id": "egIBEXDY2Svt"
      },
      "source": [
        "### Create New Dataframe to get frequency data of Airport and DBA column"
      ]
    },
    {
      "cell_type": "code",
      "metadata": {
        "id": "vWRQf4D8qTMN"
      },
      "source": [
        "AIRPORTDBA=pd.DataFrame(air)"
      ],
      "execution_count": 566,
      "outputs": []
    },
    {
      "cell_type": "code",
      "metadata": {
        "scrolled": true,
        "colab": {
          "base_uri": "https://localhost:8080/"
        },
        "id": "reEcrq4HqTMN",
        "outputId": "6deb74ec-8ca0-4bbf-aeae-b821280b932d"
      },
      "source": [
        "AIRPORTDBA[['AIRPORT', 'DBA']].mean()"
      ],
      "execution_count": 567,
      "outputs": [
        {
          "output_type": "execute_result",
          "data": {
            "text/plain": [
              "Series([], dtype: float64)"
            ]
          },
          "metadata": {
            "tags": []
          },
          "execution_count": 567
        }
      ]
    },
    {
      "cell_type": "code",
      "metadata": {
        "colab": {
          "base_uri": "https://localhost:8080/",
          "height": 173
        },
        "id": "rPIamJzy0gWe",
        "outputId": "0b075978-58ee-41c8-bb26-a3c2e911062a"
      },
      "source": [
        "AIRPORTDBA[['AIRPORT', 'DBA']].describe()"
      ],
      "execution_count": 568,
      "outputs": [
        {
          "output_type": "execute_result",
          "data": {
            "text/html": [
              "<div>\n",
              "<style scoped>\n",
              "    .dataframe tbody tr th:only-of-type {\n",
              "        vertical-align: middle;\n",
              "    }\n",
              "\n",
              "    .dataframe tbody tr th {\n",
              "        vertical-align: top;\n",
              "    }\n",
              "\n",
              "    .dataframe thead th {\n",
              "        text-align: right;\n",
              "    }\n",
              "</style>\n",
              "<table border=\"1\" class=\"dataframe\">\n",
              "  <thead>\n",
              "    <tr style=\"text-align: right;\">\n",
              "      <th></th>\n",
              "      <th>AIRPORT</th>\n",
              "      <th>DBA</th>\n",
              "    </tr>\n",
              "  </thead>\n",
              "  <tbody>\n",
              "    <tr>\n",
              "      <th>count</th>\n",
              "      <td>14368</td>\n",
              "      <td>18415</td>\n",
              "    </tr>\n",
              "    <tr>\n",
              "      <th>unique</th>\n",
              "      <td>327</td>\n",
              "      <td>9989</td>\n",
              "    </tr>\n",
              "    <tr>\n",
              "      <th>top</th>\n",
              "      <td>ABI</td>\n",
              "      <td>DUNKIN' DONUTS</td>\n",
              "    </tr>\n",
              "    <tr>\n",
              "      <th>freq</th>\n",
              "      <td>1376</td>\n",
              "      <td>258</td>\n",
              "    </tr>\n",
              "  </tbody>\n",
              "</table>\n",
              "</div>"
            ],
            "text/plain": [
              "       AIRPORT             DBA\n",
              "count    14368           18415\n",
              "unique     327            9989\n",
              "top        ABI  DUNKIN' DONUTS\n",
              "freq      1376             258"
            ]
          },
          "metadata": {
            "tags": []
          },
          "execution_count": 568
        }
      ]
    },
    {
      "cell_type": "code",
      "metadata": {
        "id": "DLzxlPSF8fKq"
      },
      "source": [
        "import seaborn as sns\n",
        "import matplotlib.pyplot as plt\n",
        "sns.set_theme(style=\"ticks\", color_codes=True)"
      ],
      "execution_count": 569,
      "outputs": []
    },
    {
      "cell_type": "code",
      "metadata": {
        "id": "l_8Hgqp18imI"
      },
      "source": [
        ""
      ],
      "execution_count": 569,
      "outputs": []
    },
    {
      "cell_type": "markdown",
      "metadata": {
        "id": "nnoV-OTr2mbO"
      },
      "source": [
        "### Plot Airport and DBA"
      ]
    },
    {
      "cell_type": "markdown",
      "metadata": {
        "id": "AFPotPr-FsdG"
      },
      "source": [
        "Seperate vlaues into X and Y varibles"
      ]
    },
    {
      "cell_type": "code",
      "metadata": {
        "colab": {
          "base_uri": "https://localhost:8080/"
        },
        "id": "lei_sAHSEvxy",
        "outputId": "b96b165e-bb01-4dd9-d2f7-eb50dd67f535"
      },
      "source": [
        "# Set dataset as new dataframe and drop null values\n",
        "dataset = AIRPORTDBA\n",
        "df = dataset\n",
        "df.dropna()\n",
        "x = dataset.iloc[:, 1:2].values\n",
        "y = dataset.iloc[:, 2:3].values\n",
        "\n",
        "type(df)\n"
      ],
      "execution_count": 574,
      "outputs": [
        {
          "output_type": "execute_result",
          "data": {
            "text/plain": [
              "pandas.core.frame.DataFrame"
            ]
          },
          "metadata": {
            "tags": []
          },
          "execution_count": 574
        }
      ]
    },
    {
      "cell_type": "code",
      "metadata": {
        "colab": {
          "base_uri": "https://localhost:8080/"
        },
        "id": "SDef_Q18FGwS",
        "outputId": "58938c89-3756-4c3d-8819-def2cf8acd5a"
      },
      "source": [
        "print(x)"
      ],
      "execution_count": 575,
      "outputs": [
        {
          "output_type": "stream",
          "text": [
            "[['LA VILLA CAFE']\n",
            " ['ALTA']\n",
            " ['BROOKLYN FARMACY AND SODA FOUNTAIN']\n",
            " ...\n",
            " ['CARRY ON TEA & SYMPATHY']\n",
            " ['KENNEDY FRIED CHICKEN']\n",
            " ['J & M BAKERY']]\n"
          ],
          "name": "stdout"
        }
      ]
    },
    {
      "cell_type": "code",
      "metadata": {
        "colab": {
          "base_uri": "https://localhost:8080/"
        },
        "id": "LLzqV-dvFXOg",
        "outputId": "553ccb96-d184-4f74-a7a6-625603063bf9"
      },
      "source": [
        "print(y)"
      ],
      "execution_count": 572,
      "outputs": [
        {
          "output_type": "stream",
          "text": [
            "[['ABI']\n",
            " ['ABI']\n",
            " ['SPS']\n",
            " ...\n",
            " ['DEN']\n",
            " ['CWA']\n",
            " ['CRP']]\n"
          ],
          "name": "stdout"
        }
      ]
    },
    {
      "cell_type": "code",
      "metadata": {
        "colab": {
          "base_uri": "https://localhost:8080/",
          "height": 971
        },
        "id": "-s57f4b0QisL",
        "outputId": "04b3234f-2851-4860-a137-8ae70f3bb625"
      },
      "source": [
        "print(df.columns)\n",
        "df.head(10)\n"
      ],
      "execution_count": 573,
      "outputs": [
        {
          "output_type": "stream",
          "text": [
            "Index(['CAMIS', 'DBA', 'AIRPORT', 'BUILDING', 'CUISINE DESCRIPTION',\n",
            "       'INSPECTION DATE', 'ACTION', 'VIOLATION CODE', 'VIOLATION DESCRIPTION',\n",
            "       'CRITICAL FLAG', 'SCORE', 'GRADE', 'GRADEDATE', 'RECORD DATE',\n",
            "       'INSPECTION TYPE'],\n",
            "      dtype='object')\n"
          ],
          "name": "stdout"
        },
        {
          "output_type": "execute_result",
          "data": {
            "text/html": [
              "<div>\n",
              "<style scoped>\n",
              "    .dataframe tbody tr th:only-of-type {\n",
              "        vertical-align: middle;\n",
              "    }\n",
              "\n",
              "    .dataframe tbody tr th {\n",
              "        vertical-align: top;\n",
              "    }\n",
              "\n",
              "    .dataframe thead th {\n",
              "        text-align: right;\n",
              "    }\n",
              "</style>\n",
              "<table border=\"1\" class=\"dataframe\">\n",
              "  <thead>\n",
              "    <tr style=\"text-align: right;\">\n",
              "      <th></th>\n",
              "      <th>CAMIS</th>\n",
              "      <th>DBA</th>\n",
              "      <th>AIRPORT</th>\n",
              "      <th>BUILDING</th>\n",
              "      <th>CUISINE DESCRIPTION</th>\n",
              "      <th>INSPECTION DATE</th>\n",
              "      <th>ACTION</th>\n",
              "      <th>VIOLATION CODE</th>\n",
              "      <th>VIOLATION DESCRIPTION</th>\n",
              "      <th>CRITICAL FLAG</th>\n",
              "      <th>SCORE</th>\n",
              "      <th>GRADE</th>\n",
              "      <th>GRADEDATE</th>\n",
              "      <th>RECORD DATE</th>\n",
              "      <th>INSPECTION TYPE</th>\n",
              "    </tr>\n",
              "  </thead>\n",
              "  <tbody>\n",
              "    <tr>\n",
              "      <th>0</th>\n",
              "      <td>41701986</td>\n",
              "      <td>LA VILLA CAFE</td>\n",
              "      <td>ABI</td>\n",
              "      <td>505</td>\n",
              "      <td>Spanish</td>\n",
              "      <td>9/30/2016</td>\n",
              "      <td>Violations were cited in the following area(s).</td>\n",
              "      <td>04H</td>\n",
              "      <td>Raw, cooked or prepared food is adulterated, c...</td>\n",
              "      <td>Critical</td>\n",
              "      <td>12</td>\n",
              "      <td>A</td>\n",
              "      <td>9/30/2016</td>\n",
              "      <td>8/28/2017</td>\n",
              "      <td>Cycle Inspection / Initial Inspection</td>\n",
              "    </tr>\n",
              "    <tr>\n",
              "      <th>1</th>\n",
              "      <td>40660748</td>\n",
              "      <td>ALTA</td>\n",
              "      <td>ABI</td>\n",
              "      <td>64</td>\n",
              "      <td>American</td>\n",
              "      <td>9/30/2016</td>\n",
              "      <td>Violations were cited in the following area(s).</td>\n",
              "      <td>10B</td>\n",
              "      <td>Plumbing not properly installed or maintained;...</td>\n",
              "      <td>Not Critical</td>\n",
              "      <td>8</td>\n",
              "      <td>A</td>\n",
              "      <td>9/30/2016</td>\n",
              "      <td>8/28/2017</td>\n",
              "      <td>Cycle Inspection / Initial Inspection</td>\n",
              "    </tr>\n",
              "    <tr>\n",
              "      <th>2</th>\n",
              "      <td>41494987</td>\n",
              "      <td>BROOKLYN FARMACY AND SODA FOUNTAIN</td>\n",
              "      <td>SPS</td>\n",
              "      <td>513</td>\n",
              "      <td>American</td>\n",
              "      <td>9/30/2016</td>\n",
              "      <td>Violations were cited in the following area(s).</td>\n",
              "      <td>10H</td>\n",
              "      <td>Proper sanitization not provided for utensil w...</td>\n",
              "      <td>Not Critical</td>\n",
              "      <td>13</td>\n",
              "      <td>A</td>\n",
              "      <td>9/30/2016</td>\n",
              "      <td>8/28/2017</td>\n",
              "      <td>Cycle Inspection / Re-inspection</td>\n",
              "    </tr>\n",
              "    <tr>\n",
              "      <th>3</th>\n",
              "      <td>50050828</td>\n",
              "      <td>KARIBBEAN GREEN</td>\n",
              "      <td>TUS</td>\n",
              "      <td>804</td>\n",
              "      <td>Caribbean</td>\n",
              "      <td>9/30/2016</td>\n",
              "      <td>Violations were cited in the following area(s).</td>\n",
              "      <td>04N</td>\n",
              "      <td>Filth flies or food/refuse/sewage-associated (...</td>\n",
              "      <td>Critical</td>\n",
              "      <td>13</td>\n",
              "      <td>A</td>\n",
              "      <td>9/30/2016</td>\n",
              "      <td>8/28/2017</td>\n",
              "      <td>Cycle Inspection / Initial Inspection</td>\n",
              "    </tr>\n",
              "    <tr>\n",
              "      <th>4</th>\n",
              "      <td>50012518</td>\n",
              "      <td>RED STAR sandwich shop</td>\n",
              "      <td>DSM</td>\n",
              "      <td>176</td>\n",
              "      <td>Asian</td>\n",
              "      <td>9/30/2016</td>\n",
              "      <td>Establishment re-opened by DOHMH</td>\n",
              "      <td>04L</td>\n",
              "      <td>Evidence of mice or live mice present in facil...</td>\n",
              "      <td>Critical</td>\n",
              "      <td>9</td>\n",
              "      <td>P</td>\n",
              "      <td>9/30/2016</td>\n",
              "      <td>8/28/2017</td>\n",
              "      <td>Cycle Inspection / Reopening Inspection</td>\n",
              "    </tr>\n",
              "    <tr>\n",
              "      <th>5</th>\n",
              "      <td>41072888</td>\n",
              "      <td>ROSELLA'S PIZZERIA</td>\n",
              "      <td>CLL</td>\n",
              "      <td>164</td>\n",
              "      <td>Pizza</td>\n",
              "      <td>9/30/2016</td>\n",
              "      <td>Violations were cited in the following area(s).</td>\n",
              "      <td>10F</td>\n",
              "      <td>Non-food contact surface improperly constructe...</td>\n",
              "      <td>Not Critical</td>\n",
              "      <td>8</td>\n",
              "      <td>A</td>\n",
              "      <td>9/30/2016</td>\n",
              "      <td>8/28/2017</td>\n",
              "      <td>Cycle Inspection / Initial Inspection</td>\n",
              "    </tr>\n",
              "    <tr>\n",
              "      <th>6</th>\n",
              "      <td>41311425</td>\n",
              "      <td>DEAN &amp; DELUCA NEW YORK</td>\n",
              "      <td>BZN</td>\n",
              "      <td>632</td>\n",
              "      <td>American</td>\n",
              "      <td>9/30/2016</td>\n",
              "      <td>Violations were cited in the following area(s).</td>\n",
              "      <td>06A</td>\n",
              "      <td>Personal cleanliness inadequate. Outer garment...</td>\n",
              "      <td>Critical</td>\n",
              "      <td>17</td>\n",
              "      <td>B</td>\n",
              "      <td>9/30/2016</td>\n",
              "      <td>8/28/2017</td>\n",
              "      <td>Cycle Inspection / Re-inspection</td>\n",
              "    </tr>\n",
              "    <tr>\n",
              "      <th>7</th>\n",
              "      <td>41373642</td>\n",
              "      <td>SUBWAY</td>\n",
              "      <td>OAJ</td>\n",
              "      <td>21</td>\n",
              "      <td>Sandwiches</td>\n",
              "      <td>9/30/2016</td>\n",
              "      <td>Violations were cited in the following area(s).</td>\n",
              "      <td>04L</td>\n",
              "      <td>Evidence of mice or live mice present in facil...</td>\n",
              "      <td>Critical</td>\n",
              "      <td>10</td>\n",
              "      <td>A</td>\n",
              "      <td>9/30/2016</td>\n",
              "      <td>8/28/2017</td>\n",
              "      <td>Cycle Inspection / Re-inspection</td>\n",
              "    </tr>\n",
              "    <tr>\n",
              "      <th>8</th>\n",
              "      <td>50019033</td>\n",
              "      <td>DIY KARAOKE</td>\n",
              "      <td>HYA</td>\n",
              "      <td>13335</td>\n",
              "      <td>Asian</td>\n",
              "      <td>9/30/2016</td>\n",
              "      <td>Establishment re-opened by DOHMH</td>\n",
              "      <td>04L</td>\n",
              "      <td>Evidence of mice or live mice present in facil...</td>\n",
              "      <td>Critical</td>\n",
              "      <td>9</td>\n",
              "      <td>P</td>\n",
              "      <td>9/30/2016</td>\n",
              "      <td>8/28/2017</td>\n",
              "      <td>Cycle Inspection / Reopening Inspection</td>\n",
              "    </tr>\n",
              "    <tr>\n",
              "      <th>9</th>\n",
              "      <td>41512878</td>\n",
              "      <td>LA SLOWTERIA</td>\n",
              "      <td>CRP</td>\n",
              "      <td>548</td>\n",
              "      <td>American</td>\n",
              "      <td>9/30/2016</td>\n",
              "      <td>Violations were cited in the following area(s).</td>\n",
              "      <td>04L</td>\n",
              "      <td>Evidence of mice or live mice present in facil...</td>\n",
              "      <td>Critical</td>\n",
              "      <td>14</td>\n",
              "      <td>B</td>\n",
              "      <td>9/30/2016</td>\n",
              "      <td>8/28/2017</td>\n",
              "      <td>Cycle Inspection / Re-inspection</td>\n",
              "    </tr>\n",
              "  </tbody>\n",
              "</table>\n",
              "</div>"
            ],
            "text/plain": [
              "      CAMIS  ...                          INSPECTION TYPE\n",
              "0  41701986  ...    Cycle Inspection / Initial Inspection\n",
              "1  40660748  ...    Cycle Inspection / Initial Inspection\n",
              "2  41494987  ...         Cycle Inspection / Re-inspection\n",
              "3  50050828  ...    Cycle Inspection / Initial Inspection\n",
              "4  50012518  ...  Cycle Inspection / Reopening Inspection\n",
              "5  41072888  ...    Cycle Inspection / Initial Inspection\n",
              "6  41311425  ...         Cycle Inspection / Re-inspection\n",
              "7  41373642  ...         Cycle Inspection / Re-inspection\n",
              "8  50019033  ...  Cycle Inspection / Reopening Inspection\n",
              "9  41512878  ...         Cycle Inspection / Re-inspection\n",
              "\n",
              "[10 rows x 15 columns]"
            ]
          },
          "metadata": {
            "tags": []
          },
          "execution_count": 573
        }
      ]
    },
    {
      "cell_type": "markdown",
      "metadata": {
        "id": "W8itQ6Mfc4Nv"
      },
      "source": [
        "### Seperate all my posible Independant varible for calulations"
      ]
    },
    {
      "cell_type": "code",
      "metadata": {
        "id": "1FsUB3FRch2m"
      },
      "source": [
        ""
      ],
      "execution_count": null,
      "outputs": []
    },
    {
      "cell_type": "code",
      "metadata": {
        "colab": {
          "base_uri": "https://localhost:8080/"
        },
        "id": "898obUplb7iC",
        "outputId": "e1323e39-e7dd-4112-c2d3-4eaaa18dbe8d"
      },
      "source": [
        "df['AIRPORT'].describe()"
      ],
      "execution_count": 356,
      "outputs": [
        {
          "output_type": "execute_result",
          "data": {
            "text/plain": [
              "count     41186\n",
              "unique      328\n",
              "top         ABI\n",
              "freq       2078\n",
              "Name: AIRPORT, dtype: object"
            ]
          },
          "metadata": {
            "tags": []
          },
          "execution_count": 356
        }
      ]
    },
    {
      "cell_type": "code",
      "metadata": {
        "colab": {
          "base_uri": "https://localhost:8080/"
        },
        "id": "BQonplhCcst0",
        "outputId": "8c717900-de8a-4c24-f56d-f22e6e82b40d"
      },
      "source": [
        "df['DBA'].describe()"
      ],
      "execution_count": 357,
      "outputs": [
        {
          "output_type": "execute_result",
          "data": {
            "text/plain": [
              "count              41186\n",
              "unique             14781\n",
              "top       DUNKIN' DONUTS\n",
              "freq                 522\n",
              "Name: DBA, dtype: object"
            ]
          },
          "metadata": {
            "tags": []
          },
          "execution_count": 357
        }
      ]
    },
    {
      "cell_type": "code",
      "metadata": {
        "colab": {
          "base_uri": "https://localhost:8080/"
        },
        "id": "Sc9X3nfjeeGc",
        "outputId": "abdf5b96-c078-40b2-f9f8-e5cdfb73142c"
      },
      "source": [
        "df['DBA'].describe()"
      ],
      "execution_count": 358,
      "outputs": [
        {
          "output_type": "execute_result",
          "data": {
            "text/plain": [
              "count              41186\n",
              "unique             14781\n",
              "top       DUNKIN' DONUTS\n",
              "freq                 522\n",
              "Name: DBA, dtype: object"
            ]
          },
          "metadata": {
            "tags": []
          },
          "execution_count": 358
        }
      ]
    },
    {
      "cell_type": "markdown",
      "metadata": {
        "id": "YVinA29zcX6E"
      },
      "source": [
        "**Make sure there are no defined catigorical types**"
      ]
    },
    {
      "cell_type": "markdown",
      "metadata": {
        "id": "PSeiWd-PdR7Q"
      },
      "source": [
        "`### HOW DO I COMPUT MULTIPLE COLUMNS TO DROP NULL VALUES?`"
      ]
    },
    {
      "cell_type": "code",
      "metadata": {
        "id": "2fkkJs2cakBi"
      },
      "source": [
        "df = df.dropna(subset=['AIRPORT'])\n",
        "df['AIRPORT'] = df['AIRPORT'].replace(to_replace={'.*NULL.*': 'ABI'}, regex=True)"
      ],
      "execution_count": 359,
      "outputs": []
    },
    {
      "cell_type": "code",
      "metadata": {
        "id": "qGKbsBwadN54"
      },
      "source": [
        "df = df.dropna(subset=['DBA'])\n",
        "df['DBA'] = df['DBA'].replace(to_replace={'.*NULL.*': 'ABI'}, regex=True)"
      ],
      "execution_count": 360,
      "outputs": []
    },
    {
      "cell_type": "code",
      "metadata": {
        "colab": {
          "base_uri": "https://localhost:8080/"
        },
        "id": "kc5ji-uBbzjz",
        "outputId": "c5238356-1ac1-4fd6-eab5-d7137a5052b4"
      },
      "source": [
        "df = df[(df['AIRPORT'] != 'undefined')]\n",
        "df['AIRPORT'].unique()"
      ],
      "execution_count": 361,
      "outputs": [
        {
          "output_type": "execute_result",
          "data": {
            "text/plain": [
              "array(['ABE', 'ABI', 'ABQ', 'ABR', 'ABY', 'ACK', 'ACT', 'ACV', 'ACY',\n",
              "       'ADK', 'ADQ', 'AEX', 'AGS', 'AKN', 'ALB', 'AZO', 'BDL', 'BET',\n",
              "       'BFL', 'BGM', 'BGR', 'BHM', 'BIL', 'BIS', 'BJI', 'BLI', 'BMI',\n",
              "       'BNA', 'BOI', 'BOS', 'BPT', 'BQK', 'BQN', 'BRD', 'BRO', 'BRW',\n",
              "       'BTM', 'BTR', 'BTV', 'BUF', 'BUR', 'BWI', 'BZN', 'CAE', 'CAK',\n",
              "       'CDC', 'CDV', 'CEC', 'CHA', 'CHO', 'CHS', 'CID', 'CIU', 'CLD',\n",
              "       'CLE', 'CLL', 'CLT', 'CMH', 'CMI', 'CMX', 'CNY', 'COD', 'COS',\n",
              "       'COU', 'CPR', 'CRP', 'CRW', 'CSG', 'CVG', 'CWA', 'DAB', 'DAL',\n",
              "       'DAY', 'DBQ', 'DCA', 'DEN', 'DFW', 'DHN', 'DIK', 'DLG', 'DLH',\n",
              "       'DRO', 'DSM', 'DTW', 'DVL', 'EAU', 'ECP', 'EGE', 'EKO', 'ELM',\n",
              "       'ELP', 'ERI', 'ESC', 'EUG', 'EVV', 'EWN', 'EWR', 'EYW', 'FAI',\n",
              "       'FAR', 'FAT', 'FAY', 'FCA', 'FLG', 'FLL', 'FNT', 'FSD', 'FSM',\n",
              "       'FWA', 'GCC', 'GCK', 'GEG', 'GFK', 'GGG', 'GJT', 'GNV', 'GPT',\n",
              "       'GRB', 'GRI', 'GRK', 'GRR', 'GSO', 'GSP', 'GST', 'GTF', 'GTR',\n",
              "       'GUC', 'GUM', 'HDN', 'HIB', 'HLN', 'HNL', 'HOB', 'HOU', 'HPN',\n",
              "       'HRL', 'HSV', 'HYA', 'HYS', 'IAD', 'IAG', 'IAH', 'ICT', 'IDA',\n",
              "       'ILG', 'ILM', 'IMT', 'IND', 'INL', 'ISN', 'ISP', 'ITH', 'ITO',\n",
              "       'JAC', 'JAN', 'JAX', 'JFK', 'JLN', 'JMS', 'JNU', 'KOA', 'KTN',\n",
              "       'LAN', 'LAR', 'LAS', 'LAW', 'LAX', 'LBB', 'LBE', 'LCH', 'LEX',\n",
              "       'LFT', 'LGA', 'LGB', 'LIH', 'LIT', 'LNK', 'LRD', 'LSE', 'LWS',\n",
              "       'MAF', 'MBS', 'MCI', 'MCO', 'MDT', 'MDW', 'MEI', 'MEM', 'MFE',\n",
              "       'MFR', 'MGM', 'MHK', 'MHT', 'MIA', 'MKE', 'MKG', 'MLB', 'MLI',\n",
              "       'MLU', 'MMH', 'MOB', 'MOT', 'MQT', 'MRY', 'MSN', 'MSO', 'MSP',\n",
              "       'MSY', 'MTJ', 'MVY', 'MYR', 'OAJ', 'OAK', 'OGG', 'OKC', 'OMA',\n",
              "       'OME', 'ONT', 'ORD', 'ORF', 'ORH', 'OTH', 'OTZ', 'PAH', 'PBG',\n",
              "       'PBI', 'PDX', 'PHF', 'PHL', 'PHX', 'PIA', 'PIB', 'PIH', 'PIT',\n",
              "       'PLN', 'PNS', 'PPG', 'PSC', 'PSE', 'PSG', 'PSP', 'PUB', 'PVD',\n",
              "       'PWM', 'RAP', 'RDD', 'RDM', 'RDU', 'RHI', 'RIC', 'RKS', 'RNO',\n",
              "       'ROA', 'ROC', 'ROW', 'RST', 'RSW', 'SAF', 'SAN', 'SAT', 'SAV',\n",
              "       'SBA', 'SBN', 'SBP', 'SCC', 'SCE', 'SDF', 'SEA', 'SFO', 'SGF',\n",
              "       'SGU', 'SHV', 'SIT', 'SJC', 'SJT', 'SJU', 'SLC', 'SMF', 'SMX',\n",
              "       'SNA', 'SPI', 'SPS', 'SRQ', 'STC', 'STL', 'STT', 'STX', 'SUN',\n",
              "       'SUX', 'SWF', 'SYR', 'TLH', 'TOL', 'TPA', 'TRI', 'TTN', 'TUL',\n",
              "       'TUS', 'TVC', 'TWF', 'TXK', 'TYR', 'TYS', 'UST', 'VEL', 'VLD',\n",
              "       'VPS', 'WRG', 'WYS', 'XNA', 'YAK', 'YUM', 'ALO', 'AMA', 'ANC',\n",
              "       'APN', 'ASE', 'ATL', 'ATW', 'AUS', 'AVL', 'AVP', 'FEB', 'MON',\n",
              "       'MAR', 'TUE', 'APR', 'WED'], dtype=object)"
            ]
          },
          "metadata": {
            "tags": []
          },
          "execution_count": 361
        }
      ]
    },
    {
      "cell_type": "code",
      "metadata": {
        "colab": {
          "base_uri": "https://localhost:8080/"
        },
        "id": "gMm_sxakdmOI",
        "outputId": "28d8ab49-1125-4948-e86c-b3161d13d3a9"
      },
      "source": [
        "df = df[(df['DBA'] != 'undefined')]\n",
        "df['DBA'].unique()"
      ],
      "execution_count": 417,
      "outputs": [
        {
          "output_type": "execute_result",
          "data": {
            "text/plain": [
              "array(['NOTARO RESTAURANT', 'VITE BAR', \"TACK'S CHINESE TAKE OUT\", ...,\n",
              "       'PRETZEL MAKER', 'EAT-A-BAGEL (ANDREW J. BARBERI FERRY)',\n",
              "       'TWO BOOTS MIDTOWN EAST'], dtype=object)"
            ]
          },
          "metadata": {
            "tags": []
          },
          "execution_count": 417
        }
      ]
    },
    {
      "cell_type": "code",
      "metadata": {
        "id": "l0kAscxtd9Xi"
      },
      "source": [
        "gp1 = df.groupby(by=['AIRPORT'])\n",
        "dba_avg = gp1.mean()\n",
        "dba_ct = gp1.count()\n"
      ],
      "execution_count": 363,
      "outputs": []
    },
    {
      "cell_type": "code",
      "metadata": {
        "colab": {
          "base_uri": "https://localhost:8080/",
          "height": 540
        },
        "id": "3NZzmXBeeORr",
        "outputId": "4c174b7e-9220-4039-adf0-cc739b29e7cc"
      },
      "source": [
        "gp2 = df.groupby(by=['DBA'])\n",
        "\n",
        "dba_avg2 = gp2.mean()\n",
        "dba_ct2 = gp2.count()\n",
        "\n",
        "print(dba_avg2)\n",
        "dba_ct2.iloc[1:10,1].sort_values().plot(kind='barh')"
      ],
      "execution_count": 421,
      "outputs": [
        {
          "output_type": "stream",
          "text": [
            "                                     CAMIS  SCORE\n",
            "DBA                                              \n",
            "#1 GARDEN CHINESE               41568346.0  28.50\n",
            "#1 Natural Juice Bar            50051964.0  11.00\n",
            "#1 SABOR LATINO RESTAURANT      41336841.0  27.75\n",
            "$1 PIZZA                        50061194.0  28.00\n",
            "$1 PIZZA $2 BEER                41652560.0  29.50\n",
            "...                                    ...    ...\n",
            "cafe paulette                   50050281.0  13.00\n",
            "city of saints coffee roasters  50009816.0    NaN\n",
            "energy fuel                     50002105.0   7.00\n",
            "re.union                        50014243.0  38.00\n",
            "taci's beyti restaurant         50001473.0  19.00\n",
            "\n",
            "[14781 rows x 2 columns]\n"
          ],
          "name": "stdout"
        },
        {
          "output_type": "execute_result",
          "data": {
            "text/plain": [
              "<matplotlib.axes._subplots.AxesSubplot at 0x7fc4764b9748>"
            ]
          },
          "metadata": {
            "tags": []
          },
          "execution_count": 421
        },
        {
          "output_type": "display_data",
          "data": {
            "image/png": "[encoded data removed]",
            "text/plain": [
              "<Figure size 432x288 with 1 Axes>"
            ]
          },
          "metadata": {
            "tags": [],
            "needs_background": "light"
          }
        }
      ]
    },
    {
      "cell_type": "code",
      "metadata": {
        "colab": {
          "base_uri": "https://localhost:8080/"
        },
        "id": "lMlXFCWfeiN8",
        "outputId": "cccc935a-0e38-43ee-dd5a-3aa31fa33dc4"
      },
      "source": [
        "df['DBA'].head()"
      ],
      "execution_count": 365,
      "outputs": [
        {
          "output_type": "execute_result",
          "data": {
            "text/plain": [
              "0          NOTARO RESTAURANT\n",
              "1          NOTARO RESTAURANT\n",
              "2                   VITE BAR\n",
              "3    TACK'S CHINESE TAKE OUT\n",
              "4                 NO QUARTER\n",
              "Name: DBA, dtype: object"
            ]
          },
          "metadata": {
            "tags": []
          },
          "execution_count": 365
        }
      ]
    },
    {
      "cell_type": "code",
      "metadata": {
        "id": "hm_DgUZuexD6"
      },
      "source": [
        "df['AIRPORT'].head()"
      ],
      "execution_count": null,
      "outputs": []
    },
    {
      "cell_type": "code",
      "metadata": {
        "id": "NaHJuIVAe-_C"
      },
      "source": [
        "data1 = dba_ct.iloc[:,1]\n",
        "print(data1)"
      ],
      "execution_count": null,
      "outputs": []
    },
    {
      "cell_type": "code",
      "metadata": {
        "colab": {
          "base_uri": "https://localhost:8080/",
          "height": 607
        },
        "id": "5br4v7kIgAx_",
        "outputId": "c79386ef-4d50-416f-8538-58d377221fe3"
      },
      "source": [
        "count_series = dba_avg.iloc[:10,0]\n",
        "\n",
        "plt.title('Top 10 Airports With Violations')\n",
        "plt.legend('Airport')\n",
        "count_series.plot(kind='barh')\n"
      ],
      "execution_count": 422,
      "outputs": [
        {
          "output_type": "error",
          "ename": "AttributeError",
          "evalue": "ignored",
          "traceback": [
            "\u001b[0;31m---------------------------------------------------------------------------\u001b[0m",
            "\u001b[0;31mAttributeError\u001b[0m                            Traceback (most recent call last)",
            "\u001b[0;32m<ipython-input-422-5d48748ece6f>\u001b[0m in \u001b[0;36m<module>\u001b[0;34m()\u001b[0m\n\u001b[1;32m      3\u001b[0m \u001b[0mplt\u001b[0m\u001b[0;34m.\u001b[0m\u001b[0mtitle\u001b[0m\u001b[0;34m(\u001b[0m\u001b[0;34m'Top 10 Airports With Violations'\u001b[0m\u001b[0;34m)\u001b[0m\u001b[0;34m\u001b[0m\u001b[0;34m\u001b[0m\u001b[0m\n\u001b[1;32m      4\u001b[0m \u001b[0mplt\u001b[0m\u001b[0;34m.\u001b[0m\u001b[0mlegend\u001b[0m\u001b[0;34m(\u001b[0m\u001b[0;34m'Airport'\u001b[0m\u001b[0;34m)\u001b[0m\u001b[0;34m\u001b[0m\u001b[0;34m\u001b[0m\u001b[0m\n\u001b[0;32m----> 5\u001b[0;31m \u001b[0mcount_series\u001b[0m\u001b[0;34m.\u001b[0m\u001b[0mplot\u001b[0m\u001b[0;34m(\u001b[0m\u001b[0mkind\u001b[0m\u001b[0;34m=\u001b[0m\u001b[0;34m'barh'\u001b[0m \u001b[0;34m,\u001b[0m \u001b[0mdpi\u001b[0m\u001b[0;34m=\u001b[0m\u001b[0;36m100\u001b[0m\u001b[0;34m)\u001b[0m\u001b[0;34m\u001b[0m\u001b[0;34m\u001b[0m\u001b[0m\n\u001b[0m",
            "\u001b[0;32m/usr/local/lib/python3.6/dist-packages/pandas/plotting/_core.py\u001b[0m in \u001b[0;36m__call__\u001b[0;34m(self, *args, **kwargs)\u001b[0m\n\u001b[1;32m    947\u001b[0m                     \u001b[0mdata\u001b[0m\u001b[0;34m.\u001b[0m\u001b[0mcolumns\u001b[0m \u001b[0;34m=\u001b[0m \u001b[0mlabel_name\u001b[0m\u001b[0;34m\u001b[0m\u001b[0;34m\u001b[0m\u001b[0m\n\u001b[1;32m    948\u001b[0m \u001b[0;34m\u001b[0m\u001b[0m\n\u001b[0;32m--> 949\u001b[0;31m         \u001b[0;32mreturn\u001b[0m \u001b[0mplot_backend\u001b[0m\u001b[0;34m.\u001b[0m\u001b[0mplot\u001b[0m\u001b[0;34m(\u001b[0m\u001b[0mdata\u001b[0m\u001b[0;34m,\u001b[0m \u001b[0mkind\u001b[0m\u001b[0;34m=\u001b[0m\u001b[0mkind\u001b[0m\u001b[0;34m,\u001b[0m \u001b[0;34m**\u001b[0m\u001b[0mkwargs\u001b[0m\u001b[0;34m)\u001b[0m\u001b[0;34m\u001b[0m\u001b[0;34m\u001b[0m\u001b[0m\n\u001b[0m\u001b[1;32m    950\u001b[0m \u001b[0;34m\u001b[0m\u001b[0m\n\u001b[1;32m    951\u001b[0m     \u001b[0m__call__\u001b[0m\u001b[0;34m.\u001b[0m\u001b[0m__doc__\u001b[0m \u001b[0;34m=\u001b[0m \u001b[0m__doc__\u001b[0m\u001b[0;34m\u001b[0m\u001b[0;34m\u001b[0m\u001b[0m\n",
            "\u001b[0;32m/usr/local/lib/python3.6/dist-packages/pandas/plotting/_matplotlib/__init__.py\u001b[0m in \u001b[0;36mplot\u001b[0;34m(data, kind, **kwargs)\u001b[0m\n\u001b[1;32m     59\u001b[0m             \u001b[0mkwargs\u001b[0m\u001b[0;34m[\u001b[0m\u001b[0;34m\"ax\"\u001b[0m\u001b[0;34m]\u001b[0m \u001b[0;34m=\u001b[0m \u001b[0mgetattr\u001b[0m\u001b[0;34m(\u001b[0m\u001b[0max\u001b[0m\u001b[0;34m,\u001b[0m \u001b[0;34m\"left_ax\"\u001b[0m\u001b[0;34m,\u001b[0m \u001b[0max\u001b[0m\u001b[0;34m)\u001b[0m\u001b[0;34m\u001b[0m\u001b[0;34m\u001b[0m\u001b[0m\n\u001b[1;32m     60\u001b[0m     \u001b[0mplot_obj\u001b[0m \u001b[0;34m=\u001b[0m \u001b[0mPLOT_CLASSES\u001b[0m\u001b[0;34m[\u001b[0m\u001b[0mkind\u001b[0m\u001b[0;34m]\u001b[0m\u001b[0;34m(\u001b[0m\u001b[0mdata\u001b[0m\u001b[0;34m,\u001b[0m \u001b[0;34m**\u001b[0m\u001b[0mkwargs\u001b[0m\u001b[0;34m)\u001b[0m\u001b[0;34m\u001b[0m\u001b[0;34m\u001b[0m\u001b[0m\n\u001b[0;32m---> 61\u001b[0;31m     \u001b[0mplot_obj\u001b[0m\u001b[0;34m.\u001b[0m\u001b[0mgenerate\u001b[0m\u001b[0;34m(\u001b[0m\u001b[0;34m)\u001b[0m\u001b[0;34m\u001b[0m\u001b[0;34m\u001b[0m\u001b[0m\n\u001b[0m\u001b[1;32m     62\u001b[0m     \u001b[0mplot_obj\u001b[0m\u001b[0;34m.\u001b[0m\u001b[0mdraw\u001b[0m\u001b[0;34m(\u001b[0m\u001b[0;34m)\u001b[0m\u001b[0;34m\u001b[0m\u001b[0;34m\u001b[0m\u001b[0m\n\u001b[1;32m     63\u001b[0m     \u001b[0;32mreturn\u001b[0m \u001b[0mplot_obj\u001b[0m\u001b[0;34m.\u001b[0m\u001b[0mresult\u001b[0m\u001b[0;34m\u001b[0m\u001b[0;34m\u001b[0m\u001b[0m\n",
            "\u001b[0;32m/usr/local/lib/python3.6/dist-packages/pandas/plotting/_matplotlib/core.py\u001b[0m in \u001b[0;36mgenerate\u001b[0;34m(self)\u001b[0m\n\u001b[1;32m    269\u001b[0m         \u001b[0mself\u001b[0m\u001b[0;34m.\u001b[0m\u001b[0m_compute_plot_data\u001b[0m\u001b[0;34m(\u001b[0m\u001b[0;34m)\u001b[0m\u001b[0;34m\u001b[0m\u001b[0;34m\u001b[0m\u001b[0m\n\u001b[1;32m    270\u001b[0m         \u001b[0mself\u001b[0m\u001b[0;34m.\u001b[0m\u001b[0m_setup_subplots\u001b[0m\u001b[0;34m(\u001b[0m\u001b[0;34m)\u001b[0m\u001b[0;34m\u001b[0m\u001b[0;34m\u001b[0m\u001b[0m\n\u001b[0;32m--> 271\u001b[0;31m         \u001b[0mself\u001b[0m\u001b[0;34m.\u001b[0m\u001b[0m_make_plot\u001b[0m\u001b[0;34m(\u001b[0m\u001b[0;34m)\u001b[0m\u001b[0;34m\u001b[0m\u001b[0;34m\u001b[0m\u001b[0m\n\u001b[0m\u001b[1;32m    272\u001b[0m         \u001b[0mself\u001b[0m\u001b[0;34m.\u001b[0m\u001b[0m_add_table\u001b[0m\u001b[0;34m(\u001b[0m\u001b[0;34m)\u001b[0m\u001b[0;34m\u001b[0m\u001b[0;34m\u001b[0m\u001b[0m\n\u001b[1;32m    273\u001b[0m         \u001b[0mself\u001b[0m\u001b[0;34m.\u001b[0m\u001b[0m_make_legend\u001b[0m\u001b[0;34m(\u001b[0m\u001b[0;34m)\u001b[0m\u001b[0;34m\u001b[0m\u001b[0;34m\u001b[0m\u001b[0m\n",
            "\u001b[0;32m/usr/local/lib/python3.6/dist-packages/pandas/plotting/_matplotlib/core.py\u001b[0m in \u001b[0;36m_make_plot\u001b[0;34m(self)\u001b[0m\n\u001b[1;32m   1448\u001b[0m                     \u001b[0mlabel\u001b[0m\u001b[0;34m=\u001b[0m\u001b[0mlabel\u001b[0m\u001b[0;34m,\u001b[0m\u001b[0;34m\u001b[0m\u001b[0;34m\u001b[0m\u001b[0m\n\u001b[1;32m   1449\u001b[0m                     \u001b[0mlog\u001b[0m\u001b[0;34m=\u001b[0m\u001b[0mself\u001b[0m\u001b[0;34m.\u001b[0m\u001b[0mlog\u001b[0m\u001b[0;34m,\u001b[0m\u001b[0;34m\u001b[0m\u001b[0;34m\u001b[0m\u001b[0m\n\u001b[0;32m-> 1450\u001b[0;31m                     \u001b[0;34m**\u001b[0m\u001b[0mkwds\u001b[0m\u001b[0;34m,\u001b[0m\u001b[0;34m\u001b[0m\u001b[0;34m\u001b[0m\u001b[0m\n\u001b[0m\u001b[1;32m   1451\u001b[0m                 )\n\u001b[1;32m   1452\u001b[0m             \u001b[0mself\u001b[0m\u001b[0;34m.\u001b[0m\u001b[0m_add_legend_handle\u001b[0m\u001b[0;34m(\u001b[0m\u001b[0mrect\u001b[0m\u001b[0;34m,\u001b[0m \u001b[0mlabel\u001b[0m\u001b[0;34m,\u001b[0m \u001b[0mindex\u001b[0m\u001b[0;34m=\u001b[0m\u001b[0mi\u001b[0m\u001b[0;34m)\u001b[0m\u001b[0;34m\u001b[0m\u001b[0;34m\u001b[0m\u001b[0m\n",
            "\u001b[0;32m/usr/local/lib/python3.6/dist-packages/pandas/plotting/_matplotlib/core.py\u001b[0m in \u001b[0;36m_plot\u001b[0;34m(cls, ax, x, y, w, start, log, **kwds)\u001b[0m\n\u001b[1;32m   1488\u001b[0m     \u001b[0;34m@\u001b[0m\u001b[0mclassmethod\u001b[0m\u001b[0;34m\u001b[0m\u001b[0;34m\u001b[0m\u001b[0m\n\u001b[1;32m   1489\u001b[0m     \u001b[0;32mdef\u001b[0m \u001b[0m_plot\u001b[0m\u001b[0;34m(\u001b[0m\u001b[0mcls\u001b[0m\u001b[0;34m,\u001b[0m \u001b[0max\u001b[0m\u001b[0;34m,\u001b[0m \u001b[0mx\u001b[0m\u001b[0;34m,\u001b[0m \u001b[0my\u001b[0m\u001b[0;34m,\u001b[0m \u001b[0mw\u001b[0m\u001b[0;34m,\u001b[0m \u001b[0mstart\u001b[0m\u001b[0;34m=\u001b[0m\u001b[0;36m0\u001b[0m\u001b[0;34m,\u001b[0m \u001b[0mlog\u001b[0m\u001b[0;34m=\u001b[0m\u001b[0;32mFalse\u001b[0m\u001b[0;34m,\u001b[0m \u001b[0;34m**\u001b[0m\u001b[0mkwds\u001b[0m\u001b[0;34m)\u001b[0m\u001b[0;34m:\u001b[0m\u001b[0;34m\u001b[0m\u001b[0;34m\u001b[0m\u001b[0m\n\u001b[0;32m-> 1490\u001b[0;31m         \u001b[0;32mreturn\u001b[0m \u001b[0max\u001b[0m\u001b[0;34m.\u001b[0m\u001b[0mbarh\u001b[0m\u001b[0;34m(\u001b[0m\u001b[0mx\u001b[0m\u001b[0;34m,\u001b[0m \u001b[0my\u001b[0m\u001b[0;34m,\u001b[0m \u001b[0mw\u001b[0m\u001b[0;34m,\u001b[0m \u001b[0mleft\u001b[0m\u001b[0;34m=\u001b[0m\u001b[0mstart\u001b[0m\u001b[0;34m,\u001b[0m \u001b[0mlog\u001b[0m\u001b[0;34m=\u001b[0m\u001b[0mlog\u001b[0m\u001b[0;34m,\u001b[0m \u001b[0;34m**\u001b[0m\u001b[0mkwds\u001b[0m\u001b[0;34m)\u001b[0m\u001b[0;34m\u001b[0m\u001b[0;34m\u001b[0m\u001b[0m\n\u001b[0m\u001b[1;32m   1491\u001b[0m \u001b[0;34m\u001b[0m\u001b[0m\n\u001b[1;32m   1492\u001b[0m     \u001b[0;32mdef\u001b[0m \u001b[0m_decorate_ticks\u001b[0m\u001b[0;34m(\u001b[0m\u001b[0mself\u001b[0m\u001b[0;34m,\u001b[0m \u001b[0max\u001b[0m\u001b[0;34m,\u001b[0m \u001b[0mname\u001b[0m\u001b[0;34m,\u001b[0m \u001b[0mticklabels\u001b[0m\u001b[0;34m,\u001b[0m \u001b[0mstart_edge\u001b[0m\u001b[0;34m,\u001b[0m \u001b[0mend_edge\u001b[0m\u001b[0;34m)\u001b[0m\u001b[0;34m:\u001b[0m\u001b[0;34m\u001b[0m\u001b[0;34m\u001b[0m\u001b[0m\n",
            "\u001b[0;32m/usr/local/lib/python3.6/dist-packages/matplotlib/axes/_axes.py\u001b[0m in \u001b[0;36mbarh\u001b[0;34m(self, y, width, height, left, align, **kwargs)\u001b[0m\n\u001b[1;32m   2545\u001b[0m         \u001b[0mkwargs\u001b[0m\u001b[0;34m.\u001b[0m\u001b[0msetdefault\u001b[0m\u001b[0;34m(\u001b[0m\u001b[0;34m'orientation'\u001b[0m\u001b[0;34m,\u001b[0m \u001b[0;34m'horizontal'\u001b[0m\u001b[0;34m)\u001b[0m\u001b[0;34m\u001b[0m\u001b[0;34m\u001b[0m\u001b[0m\n\u001b[1;32m   2546\u001b[0m         patches = self.bar(x=left, height=height, width=width, bottom=y,\n\u001b[0;32m-> 2547\u001b[0;31m                            align=align, **kwargs)\n\u001b[0m\u001b[1;32m   2548\u001b[0m         \u001b[0;32mreturn\u001b[0m \u001b[0mpatches\u001b[0m\u001b[0;34m\u001b[0m\u001b[0;34m\u001b[0m\u001b[0m\n\u001b[1;32m   2549\u001b[0m \u001b[0;34m\u001b[0m\u001b[0m\n",
            "\u001b[0;32m/usr/local/lib/python3.6/dist-packages/matplotlib/__init__.py\u001b[0m in \u001b[0;36minner\u001b[0;34m(ax, data, *args, **kwargs)\u001b[0m\n\u001b[1;32m   1563\u001b[0m     \u001b[0;32mdef\u001b[0m \u001b[0minner\u001b[0m\u001b[0;34m(\u001b[0m\u001b[0max\u001b[0m\u001b[0;34m,\u001b[0m \u001b[0;34m*\u001b[0m\u001b[0margs\u001b[0m\u001b[0;34m,\u001b[0m \u001b[0mdata\u001b[0m\u001b[0;34m=\u001b[0m\u001b[0;32mNone\u001b[0m\u001b[0;34m,\u001b[0m \u001b[0;34m**\u001b[0m\u001b[0mkwargs\u001b[0m\u001b[0;34m)\u001b[0m\u001b[0;34m:\u001b[0m\u001b[0;34m\u001b[0m\u001b[0;34m\u001b[0m\u001b[0m\n\u001b[1;32m   1564\u001b[0m         \u001b[0;32mif\u001b[0m \u001b[0mdata\u001b[0m \u001b[0;32mis\u001b[0m \u001b[0;32mNone\u001b[0m\u001b[0;34m:\u001b[0m\u001b[0;34m\u001b[0m\u001b[0;34m\u001b[0m\u001b[0m\n\u001b[0;32m-> 1565\u001b[0;31m             \u001b[0;32mreturn\u001b[0m \u001b[0mfunc\u001b[0m\u001b[0;34m(\u001b[0m\u001b[0max\u001b[0m\u001b[0;34m,\u001b[0m \u001b[0;34m*\u001b[0m\u001b[0mmap\u001b[0m\u001b[0;34m(\u001b[0m\u001b[0msanitize_sequence\u001b[0m\u001b[0;34m,\u001b[0m \u001b[0margs\u001b[0m\u001b[0;34m)\u001b[0m\u001b[0;34m,\u001b[0m \u001b[0;34m**\u001b[0m\u001b[0mkwargs\u001b[0m\u001b[0;34m)\u001b[0m\u001b[0;34m\u001b[0m\u001b[0;34m\u001b[0m\u001b[0m\n\u001b[0m\u001b[1;32m   1566\u001b[0m \u001b[0;34m\u001b[0m\u001b[0m\n\u001b[1;32m   1567\u001b[0m         \u001b[0mbound\u001b[0m \u001b[0;34m=\u001b[0m \u001b[0mnew_sig\u001b[0m\u001b[0;34m.\u001b[0m\u001b[0mbind\u001b[0m\u001b[0;34m(\u001b[0m\u001b[0max\u001b[0m\u001b[0;34m,\u001b[0m \u001b[0;34m*\u001b[0m\u001b[0margs\u001b[0m\u001b[0;34m,\u001b[0m \u001b[0;34m**\u001b[0m\u001b[0mkwargs\u001b[0m\u001b[0;34m)\u001b[0m\u001b[0;34m\u001b[0m\u001b[0;34m\u001b[0m\u001b[0m\n",
            "\u001b[0;32m/usr/local/lib/python3.6/dist-packages/matplotlib/axes/_axes.py\u001b[0m in \u001b[0;36mbar\u001b[0;34m(self, x, height, width, bottom, align, **kwargs)\u001b[0m\n\u001b[1;32m   2396\u001b[0m                 \u001b[0mlabel\u001b[0m\u001b[0;34m=\u001b[0m\u001b[0;34m'_nolegend_'\u001b[0m\u001b[0;34m,\u001b[0m\u001b[0;34m\u001b[0m\u001b[0;34m\u001b[0m\u001b[0m\n\u001b[1;32m   2397\u001b[0m                 )\n\u001b[0;32m-> 2398\u001b[0;31m             \u001b[0mr\u001b[0m\u001b[0;34m.\u001b[0m\u001b[0mupdate\u001b[0m\u001b[0;34m(\u001b[0m\u001b[0mkwargs\u001b[0m\u001b[0;34m)\u001b[0m\u001b[0;34m\u001b[0m\u001b[0;34m\u001b[0m\u001b[0m\n\u001b[0m\u001b[1;32m   2399\u001b[0m             \u001b[0mr\u001b[0m\u001b[0;34m.\u001b[0m\u001b[0mget_path\u001b[0m\u001b[0;34m(\u001b[0m\u001b[0;34m)\u001b[0m\u001b[0;34m.\u001b[0m\u001b[0m_interpolation_steps\u001b[0m \u001b[0;34m=\u001b[0m \u001b[0;36m100\u001b[0m\u001b[0;34m\u001b[0m\u001b[0;34m\u001b[0m\u001b[0m\n\u001b[1;32m   2400\u001b[0m             \u001b[0;32mif\u001b[0m \u001b[0morientation\u001b[0m \u001b[0;34m==\u001b[0m \u001b[0;34m'vertical'\u001b[0m\u001b[0;34m:\u001b[0m\u001b[0;34m\u001b[0m\u001b[0;34m\u001b[0m\u001b[0m\n",
            "\u001b[0;32m/usr/local/lib/python3.6/dist-packages/matplotlib/artist.py\u001b[0m in \u001b[0;36mupdate\u001b[0;34m(self, props)\u001b[0m\n\u001b[1;32m   1004\u001b[0m \u001b[0;34m\u001b[0m\u001b[0m\n\u001b[1;32m   1005\u001b[0m         \u001b[0;32mwith\u001b[0m \u001b[0mcbook\u001b[0m\u001b[0;34m.\u001b[0m\u001b[0m_setattr_cm\u001b[0m\u001b[0;34m(\u001b[0m\u001b[0mself\u001b[0m\u001b[0;34m,\u001b[0m \u001b[0meventson\u001b[0m\u001b[0;34m=\u001b[0m\u001b[0;32mFalse\u001b[0m\u001b[0;34m)\u001b[0m\u001b[0;34m:\u001b[0m\u001b[0;34m\u001b[0m\u001b[0;34m\u001b[0m\u001b[0m\n\u001b[0;32m-> 1006\u001b[0;31m             \u001b[0mret\u001b[0m \u001b[0;34m=\u001b[0m \u001b[0;34m[\u001b[0m\u001b[0m_update_property\u001b[0m\u001b[0;34m(\u001b[0m\u001b[0mself\u001b[0m\u001b[0;34m,\u001b[0m \u001b[0mk\u001b[0m\u001b[0;34m,\u001b[0m \u001b[0mv\u001b[0m\u001b[0;34m)\u001b[0m \u001b[0;32mfor\u001b[0m \u001b[0mk\u001b[0m\u001b[0;34m,\u001b[0m \u001b[0mv\u001b[0m \u001b[0;32min\u001b[0m \u001b[0mprops\u001b[0m\u001b[0;34m.\u001b[0m\u001b[0mitems\u001b[0m\u001b[0;34m(\u001b[0m\u001b[0;34m)\u001b[0m\u001b[0;34m]\u001b[0m\u001b[0;34m\u001b[0m\u001b[0;34m\u001b[0m\u001b[0m\n\u001b[0m\u001b[1;32m   1007\u001b[0m \u001b[0;34m\u001b[0m\u001b[0m\n\u001b[1;32m   1008\u001b[0m         \u001b[0;32mif\u001b[0m \u001b[0mlen\u001b[0m\u001b[0;34m(\u001b[0m\u001b[0mret\u001b[0m\u001b[0;34m)\u001b[0m\u001b[0;34m:\u001b[0m\u001b[0;34m\u001b[0m\u001b[0;34m\u001b[0m\u001b[0m\n",
            "\u001b[0;32m/usr/local/lib/python3.6/dist-packages/matplotlib/artist.py\u001b[0m in \u001b[0;36m<listcomp>\u001b[0;34m(.0)\u001b[0m\n\u001b[1;32m   1004\u001b[0m \u001b[0;34m\u001b[0m\u001b[0m\n\u001b[1;32m   1005\u001b[0m         \u001b[0;32mwith\u001b[0m \u001b[0mcbook\u001b[0m\u001b[0;34m.\u001b[0m\u001b[0m_setattr_cm\u001b[0m\u001b[0;34m(\u001b[0m\u001b[0mself\u001b[0m\u001b[0;34m,\u001b[0m \u001b[0meventson\u001b[0m\u001b[0;34m=\u001b[0m\u001b[0;32mFalse\u001b[0m\u001b[0;34m)\u001b[0m\u001b[0;34m:\u001b[0m\u001b[0;34m\u001b[0m\u001b[0;34m\u001b[0m\u001b[0m\n\u001b[0;32m-> 1006\u001b[0;31m             \u001b[0mret\u001b[0m \u001b[0;34m=\u001b[0m \u001b[0;34m[\u001b[0m\u001b[0m_update_property\u001b[0m\u001b[0;34m(\u001b[0m\u001b[0mself\u001b[0m\u001b[0;34m,\u001b[0m \u001b[0mk\u001b[0m\u001b[0;34m,\u001b[0m \u001b[0mv\u001b[0m\u001b[0;34m)\u001b[0m \u001b[0;32mfor\u001b[0m \u001b[0mk\u001b[0m\u001b[0;34m,\u001b[0m \u001b[0mv\u001b[0m \u001b[0;32min\u001b[0m \u001b[0mprops\u001b[0m\u001b[0;34m.\u001b[0m\u001b[0mitems\u001b[0m\u001b[0;34m(\u001b[0m\u001b[0;34m)\u001b[0m\u001b[0;34m]\u001b[0m\u001b[0;34m\u001b[0m\u001b[0;34m\u001b[0m\u001b[0m\n\u001b[0m\u001b[1;32m   1007\u001b[0m \u001b[0;34m\u001b[0m\u001b[0m\n\u001b[1;32m   1008\u001b[0m         \u001b[0;32mif\u001b[0m \u001b[0mlen\u001b[0m\u001b[0;34m(\u001b[0m\u001b[0mret\u001b[0m\u001b[0;34m)\u001b[0m\u001b[0;34m:\u001b[0m\u001b[0;34m\u001b[0m\u001b[0;34m\u001b[0m\u001b[0m\n",
            "\u001b[0;32m/usr/local/lib/python3.6/dist-packages/matplotlib/artist.py\u001b[0m in \u001b[0;36m_update_property\u001b[0;34m(self, k, v)\u001b[0m\n\u001b[1;32m   1000\u001b[0m                 \u001b[0;32mif\u001b[0m \u001b[0;32mnot\u001b[0m \u001b[0mcallable\u001b[0m\u001b[0;34m(\u001b[0m\u001b[0mfunc\u001b[0m\u001b[0;34m)\u001b[0m\u001b[0;34m:\u001b[0m\u001b[0;34m\u001b[0m\u001b[0;34m\u001b[0m\u001b[0m\n\u001b[1;32m   1001\u001b[0m                     raise AttributeError('{!r} object has no property {!r}'\n\u001b[0;32m-> 1002\u001b[0;31m                                          .format(type(self).__name__, k))\n\u001b[0m\u001b[1;32m   1003\u001b[0m                 \u001b[0;32mreturn\u001b[0m \u001b[0mfunc\u001b[0m\u001b[0;34m(\u001b[0m\u001b[0mv\u001b[0m\u001b[0;34m)\u001b[0m\u001b[0;34m\u001b[0m\u001b[0;34m\u001b[0m\u001b[0m\n\u001b[1;32m   1004\u001b[0m \u001b[0;34m\u001b[0m\u001b[0m\n",
            "\u001b[0;31mAttributeError\u001b[0m: 'Rectangle' object has no property 'dpi'"
          ]
        },
        {
          "output_type": "display_data",
          "data": {
            "image/png": "[encoded data removed]",
            "text/plain": [
              "<Figure size 432x288 with 1 Axes>"
            ]
          },
          "metadata": {
            "tags": [],
            "needs_background": "light"
          }
        }
      ]
    },
    {
      "cell_type": "code",
      "metadata": {
        "id": "YEkJiBoqi1Tl"
      },
      "source": [
        "import numpy as np\n",
        "import matplotlib.pyplot as plt\n",
        "import statistics\n",
        "\n",
        "\n",
        "N = 5\n",
        "x = dba_avg\n",
        "y = dba_ct\n",
        "\n",
        "std = statistics.variance(dba_avg)\n",
        "\n",
        "ind = np.arange(N)    # the x locations for the groups\n",
        "width = 0.35       # the width of the bars: can also be len(x) sequence\n",
        "\n",
        "p1 = plt.bar(ind, x, width, yerr=std)\n",
        "p2 = plt.bar(ind, y, width,\n",
        "             bottom=x, yerr=y)\n",
        "\n",
        "plt.ylabel('Scores')\n",
        "plt.title('Scores by group and gender')\n",
        "plt.xticks(ind, ('G1', 'G2', 'G3', 'G4', 'G5'))\n",
        "plt.yticks(np.arange(0, 81, 10))\n",
        "plt.legend((p1[0], p2[0]), ('Men', 'Women'))\n",
        "\n",
        "plt.show()"
      ],
      "execution_count": null,
      "outputs": []
    },
    {
      "cell_type": "markdown",
      "metadata": {
        "id": "rP5qgHVXdEjf"
      },
      "source": [
        "**One Hot encode X vairibles**"
      ]
    },
    {
      "cell_type": "code",
      "metadata": {
        "id": "SNRM0ikqI9EQ"
      },
      "source": [
        "from sklearn.compose import ColumnTransformer\n",
        "from sklearn.preprocessing import OneHotEncoder\n",
        "ct = ColumnTransformer(transformers=[('encoder', OneHotEncoder(), [0])], remainder='passthrough')\n",
        "x = np.array(ct.fit_transform(x))\n"
      ],
      "execution_count": 346,
      "outputs": []
    },
    {
      "cell_type": "code",
      "metadata": {
        "id": "uSvhDxjb6Iin"
      },
      "source": [
        "tgrouped=.groupby(['AIRPORT']).count()"
      ],
      "execution_count": 152,
      "outputs": []
    },
    {
      "cell_type": "code",
      "metadata": {
        "colab": {
          "base_uri": "https://localhost:8080/",
          "height": 235
        },
        "id": "LLRN0X5N042n",
        "outputId": "20178bea-94bb-4ef9-db34-2cf40261cc12"
      },
      "source": [
        "tgrouped.head(5)"
      ],
      "execution_count": 153,
      "outputs": [
        {
          "output_type": "execute_result",
          "data": {
            "text/html": [
              "<div>\n",
              "<style scoped>\n",
              "    .dataframe tbody tr th:only-of-type {\n",
              "        vertical-align: middle;\n",
              "    }\n",
              "\n",
              "    .dataframe tbody tr th {\n",
              "        vertical-align: top;\n",
              "    }\n",
              "\n",
              "    .dataframe thead th {\n",
              "        text-align: right;\n",
              "    }\n",
              "</style>\n",
              "<table border=\"1\" class=\"dataframe\">\n",
              "  <thead>\n",
              "    <tr style=\"text-align: right;\">\n",
              "      <th></th>\n",
              "      <th>CAMIS</th>\n",
              "      <th>DBA</th>\n",
              "      <th>BUILDING</th>\n",
              "      <th>CUISINE DESCRIPTION</th>\n",
              "      <th>INSPECTION DATE</th>\n",
              "      <th>ACTION</th>\n",
              "      <th>VIOLATION CODE</th>\n",
              "      <th>VIOLATION DESCRIPTION</th>\n",
              "      <th>CRITICAL FLAG</th>\n",
              "      <th>SCORE</th>\n",
              "      <th>GRADE</th>\n",
              "      <th>GRADE DATE</th>\n",
              "      <th>RECORD DATE</th>\n",
              "      <th>INSPECTION TYPE</th>\n",
              "    </tr>\n",
              "    <tr>\n",
              "      <th>AIRPORT</th>\n",
              "      <th></th>\n",
              "      <th></th>\n",
              "      <th></th>\n",
              "      <th></th>\n",
              "      <th></th>\n",
              "      <th></th>\n",
              "      <th></th>\n",
              "      <th></th>\n",
              "      <th></th>\n",
              "      <th></th>\n",
              "      <th></th>\n",
              "      <th></th>\n",
              "      <th></th>\n",
              "      <th></th>\n",
              "    </tr>\n",
              "  </thead>\n",
              "  <tbody>\n",
              "    <tr>\n",
              "      <th>ABE</th>\n",
              "      <td>1504</td>\n",
              "      <td>1504</td>\n",
              "      <td>1503</td>\n",
              "      <td>1504</td>\n",
              "      <td>1504</td>\n",
              "      <td>1501</td>\n",
              "      <td>1478</td>\n",
              "      <td>1504</td>\n",
              "      <td>1504</td>\n",
              "      <td>1416</td>\n",
              "      <td>748</td>\n",
              "      <td>739</td>\n",
              "      <td>1504</td>\n",
              "      <td>1501</td>\n",
              "    </tr>\n",
              "    <tr>\n",
              "      <th>ABI</th>\n",
              "      <td>2078</td>\n",
              "      <td>2078</td>\n",
              "      <td>2078</td>\n",
              "      <td>2078</td>\n",
              "      <td>2078</td>\n",
              "      <td>2070</td>\n",
              "      <td>2030</td>\n",
              "      <td>2078</td>\n",
              "      <td>2078</td>\n",
              "      <td>1934</td>\n",
              "      <td>963</td>\n",
              "      <td>950</td>\n",
              "      <td>2078</td>\n",
              "      <td>2070</td>\n",
              "    </tr>\n",
              "    <tr>\n",
              "      <th>ABQ</th>\n",
              "      <td>18</td>\n",
              "      <td>18</td>\n",
              "      <td>18</td>\n",
              "      <td>18</td>\n",
              "      <td>18</td>\n",
              "      <td>18</td>\n",
              "      <td>18</td>\n",
              "      <td>18</td>\n",
              "      <td>18</td>\n",
              "      <td>18</td>\n",
              "      <td>10</td>\n",
              "      <td>10</td>\n",
              "      <td>18</td>\n",
              "      <td>18</td>\n",
              "    </tr>\n",
              "    <tr>\n",
              "      <th>ABR</th>\n",
              "      <td>18</td>\n",
              "      <td>18</td>\n",
              "      <td>18</td>\n",
              "      <td>18</td>\n",
              "      <td>18</td>\n",
              "      <td>18</td>\n",
              "      <td>18</td>\n",
              "      <td>18</td>\n",
              "      <td>18</td>\n",
              "      <td>17</td>\n",
              "      <td>8</td>\n",
              "      <td>8</td>\n",
              "      <td>18</td>\n",
              "      <td>18</td>\n",
              "    </tr>\n",
              "    <tr>\n",
              "      <th>ABY</th>\n",
              "      <td>18</td>\n",
              "      <td>18</td>\n",
              "      <td>18</td>\n",
              "      <td>18</td>\n",
              "      <td>18</td>\n",
              "      <td>18</td>\n",
              "      <td>18</td>\n",
              "      <td>18</td>\n",
              "      <td>18</td>\n",
              "      <td>17</td>\n",
              "      <td>6</td>\n",
              "      <td>6</td>\n",
              "      <td>18</td>\n",
              "      <td>18</td>\n",
              "    </tr>\n",
              "  </tbody>\n",
              "</table>\n",
              "</div>"
            ],
            "text/plain": [
              "         CAMIS   DBA  BUILDING  ...  GRADE DATE  RECORD DATE  INSPECTION TYPE\n",
              "AIRPORT                         ...                                          \n",
              "ABE       1504  1504      1503  ...         739         1504             1501\n",
              "ABI       2078  2078      2078  ...         950         2078             2070\n",
              "ABQ         18    18        18  ...          10           18               18\n",
              "ABR         18    18        18  ...           8           18               18\n",
              "ABY         18    18        18  ...           6           18               18\n",
              "\n",
              "[5 rows x 14 columns]"
            ]
          },
          "metadata": {
            "tags": []
          },
          "execution_count": 153
        }
      ]
    },
    {
      "cell_type": "code",
      "metadata": {
        "id": "kckRdQqNDtj7"
      },
      "source": [
        "t = tgrouped.sort_values(by='AIRPORT', ascending=False)[2:10]"
      ],
      "execution_count": 313,
      "outputs": []
    },
    {
      "cell_type": "code",
      "metadata": {
        "colab": {
          "base_uri": "https://localhost:8080/"
        },
        "id": "7-VzK7ew3oRZ",
        "outputId": "9cf0f2db-f0ae-4338-bebd-4a91a07b1664"
      },
      "source": [
        "print(t)"
      ],
      "execution_count": 314,
      "outputs": [
        {
          "output_type": "stream",
          "text": [
            "         CAMIS  DBA  BUILDING  ...  GRADE DATE  RECORD DATE  INSPECTION TYPE\n",
            "AIRPORT                        ...                                          \n",
            "XNA         72   72        72  ...          38           72               71\n",
            "WYS         87   87        87  ...          34           87               87\n",
            "WRG         75   75        75  ...          33           75               75\n",
            "WED          9    9         9  ...           3            9                9\n",
            "VPS         75   75        75  ...          32           75               74\n",
            "VLD         75   75        75  ...          30           75               75\n",
            "VEL         78   78        78  ...          40           78               78\n",
            "UST         75   75        75  ...          36           75               74\n",
            "\n",
            "[8 rows x 14 columns]\n"
          ],
          "name": "stdout"
        }
      ]
    },
    {
      "cell_type": "code",
      "metadata": {
        "colab": {
          "base_uri": "https://localhost:8080/",
          "height": 428
        },
        "id": "IVvuvrggD68X",
        "outputId": "a0d3d694-730d-4333-b7b9-bb8eb75a9908"
      },
      "source": [
        "t['DBA'].plot(kind='bar', stacked=True, figsize=[16,6], colormap='winter') "
      ],
      "execution_count": 315,
      "outputs": [
        {
          "output_type": "execute_result",
          "data": {
            "text/plain": [
              "<matplotlib.axes._subplots.AxesSubplot at 0x7fc4884d1438>"
            ]
          },
          "metadata": {
            "tags": []
          },
          "execution_count": 315
        },
        {
          "output_type": "display_data",
          "data": {
            "image/png": "[encoded data removed]",
            "text/plain": [
              "<Figure size 1152x432 with 1 Axes>"
            ]
          },
          "metadata": {
            "tags": [],
            "needs_background": "light"
          }
        }
      ]
    },
    {
      "cell_type": "code",
      "metadata": {
        "id": "RVMn5SE2Eojq"
      },
      "source": [
        ""
      ],
      "execution_count": null,
      "outputs": []
    },
    {
      "cell_type": "code",
      "metadata": {
        "id": "roiq1izZqTMN"
      },
      "source": [
        "# AIRPORTDBA.groupby('AIRPORT')['DBA'].mean()"
      ],
      "execution_count": null,
      "outputs": []
    },
    {
      "cell_type": "markdown",
      "metadata": {
        "id": "m-s9Us2B4Hld"
      },
      "source": [
        "### Imputate values in Violation description Column"
      ]
    },
    {
      "cell_type": "code",
      "metadata": {
        "scrolled": true,
        "id": "jzBKb4mgqTMN"
      },
      "source": [
        "import matplotlib.pyplot as plt"
      ],
      "execution_count": 18,
      "outputs": []
    },
    {
      "cell_type": "code",
      "metadata": {
        "id": "PgXwwGS2qTMN"
      },
      "source": [
        "# Replace missing values with a value\n",
        "AIRPORTDBA['VIOLATION DESCRIPTION'].fillna('non-contact surface', inplace=True)"
      ],
      "execution_count": 455,
      "outputs": []
    },
    {
      "cell_type": "code",
      "metadata": {
        "id": "xkJH-KVeqTMN"
      },
      "source": [
        "AIRPORTDBA['DBA'].fillna(\"DUNKIN' DONUTS\", inplace=True)"
      ],
      "execution_count": 456,
      "outputs": []
    },
    {
      "cell_type": "markdown",
      "metadata": {
        "id": "5FBG2pNC4Qb_"
      },
      "source": [
        "### Import SeaBorn Libary"
      ]
    },
    {
      "cell_type": "code",
      "metadata": {
        "id": "Zs9Ts6nGqTMN"
      },
      "source": [
        "import seaborn as sns\n",
        "%matplotlib inline \n",
        "#to plot the graphs inline on jupyter notebook"
      ],
      "execution_count": 58,
      "outputs": []
    },
    {
      "cell_type": "markdown",
      "metadata": {
        "id": "kj_oIpfECMRJ"
      },
      "source": [
        "### Save data frame into a varible"
      ]
    },
    {
      "cell_type": "code",
      "metadata": {
        "id": "dKpwOdsZqTMN"
      },
      "source": [
        "t=AIRPORTDBA"
      ],
      "execution_count": 59,
      "outputs": []
    },
    {
      "cell_type": "markdown",
      "metadata": {
        "id": "kELanLV2CVcr"
      },
      "source": [
        "### Print Data Frame T"
      ]
    },
    {
      "cell_type": "code",
      "metadata": {
        "id": "7Z_sStRuqTMN"
      },
      "source": [
        "t.head()"
      ],
      "execution_count": null,
      "outputs": []
    },
    {
      "cell_type": "markdown",
      "metadata": {
        "id": "b2BTkVBBCbt-"
      },
      "source": [
        "### Group column VOLATION DESCRIPTION as Independant varable"
      ]
    },
    {
      "cell_type": "code",
      "metadata": {
        "id": "uHKju4PDqTMN"
      },
      "source": [
        "tgrouped=AIRPORTDBA.groupby(['CUISINE DESCRIPTION']).count()"
      ],
      "execution_count": 449,
      "outputs": []
    },
    {
      "cell_type": "markdown",
      "metadata": {
        "id": "i1lrGqgUCu-s"
      },
      "source": [
        "### Print Dependant head"
      ]
    },
    {
      "cell_type": "code",
      "metadata": {
        "colab": {
          "base_uri": "https://localhost:8080/",
          "height": 734
        },
        "id": "conReEm1qTMN",
        "outputId": "fc637ed2-ad88-417a-9d1d-5753c9316d9b"
      },
      "source": [
        "tgrouped.head(20)"
      ],
      "execution_count": 450,
      "outputs": [
        {
          "output_type": "execute_result",
          "data": {
            "text/html": [
              "<div>\n",
              "<style scoped>\n",
              "    .dataframe tbody tr th:only-of-type {\n",
              "        vertical-align: middle;\n",
              "    }\n",
              "\n",
              "    .dataframe tbody tr th {\n",
              "        vertical-align: top;\n",
              "    }\n",
              "\n",
              "    .dataframe thead th {\n",
              "        text-align: right;\n",
              "    }\n",
              "</style>\n",
              "<table border=\"1\" class=\"dataframe\">\n",
              "  <thead>\n",
              "    <tr style=\"text-align: right;\">\n",
              "      <th></th>\n",
              "      <th>CAMIS</th>\n",
              "      <th>DBA</th>\n",
              "      <th>AIRPORT</th>\n",
              "      <th>BUILDING</th>\n",
              "      <th>INSPECTION DATE</th>\n",
              "      <th>ACTION</th>\n",
              "      <th>VIOLATION CODE</th>\n",
              "      <th>VIOLATION DESCRIPTION</th>\n",
              "      <th>CRITICAL FLAG</th>\n",
              "      <th>SCORE</th>\n",
              "      <th>GRADE</th>\n",
              "      <th>GRADE DATE</th>\n",
              "      <th>RECORD DATE</th>\n",
              "      <th>INSPECTION TYPE</th>\n",
              "    </tr>\n",
              "    <tr>\n",
              "      <th>CUISINE DESCRIPTION</th>\n",
              "      <th></th>\n",
              "      <th></th>\n",
              "      <th></th>\n",
              "      <th></th>\n",
              "      <th></th>\n",
              "      <th></th>\n",
              "      <th></th>\n",
              "      <th></th>\n",
              "      <th></th>\n",
              "      <th></th>\n",
              "      <th></th>\n",
              "      <th></th>\n",
              "      <th></th>\n",
              "      <th></th>\n",
              "    </tr>\n",
              "  </thead>\n",
              "  <tbody>\n",
              "    <tr>\n",
              "      <th>Afghan</th>\n",
              "      <td>21</td>\n",
              "      <td>21</td>\n",
              "      <td>18</td>\n",
              "      <td>21</td>\n",
              "      <td>21</td>\n",
              "      <td>21</td>\n",
              "      <td>21</td>\n",
              "      <td>21</td>\n",
              "      <td>21</td>\n",
              "      <td>20</td>\n",
              "      <td>12</td>\n",
              "      <td>12</td>\n",
              "      <td>21</td>\n",
              "      <td>21</td>\n",
              "    </tr>\n",
              "    <tr>\n",
              "      <th>African</th>\n",
              "      <td>180</td>\n",
              "      <td>180</td>\n",
              "      <td>141</td>\n",
              "      <td>180</td>\n",
              "      <td>180</td>\n",
              "      <td>180</td>\n",
              "      <td>179</td>\n",
              "      <td>180</td>\n",
              "      <td>180</td>\n",
              "      <td>169</td>\n",
              "      <td>81</td>\n",
              "      <td>80</td>\n",
              "      <td>180</td>\n",
              "      <td>180</td>\n",
              "    </tr>\n",
              "    <tr>\n",
              "      <th>American</th>\n",
              "      <td>11577</td>\n",
              "      <td>11577</td>\n",
              "      <td>9369</td>\n",
              "      <td>11569</td>\n",
              "      <td>11577</td>\n",
              "      <td>11575</td>\n",
              "      <td>11418</td>\n",
              "      <td>11577</td>\n",
              "      <td>11577</td>\n",
              "      <td>10878</td>\n",
              "      <td>5843</td>\n",
              "      <td>5774</td>\n",
              "      <td>11577</td>\n",
              "      <td>11575</td>\n",
              "    </tr>\n",
              "    <tr>\n",
              "      <th>Armenian</th>\n",
              "      <td>65</td>\n",
              "      <td>65</td>\n",
              "      <td>53</td>\n",
              "      <td>65</td>\n",
              "      <td>65</td>\n",
              "      <td>65</td>\n",
              "      <td>65</td>\n",
              "      <td>65</td>\n",
              "      <td>65</td>\n",
              "      <td>63</td>\n",
              "      <td>29</td>\n",
              "      <td>28</td>\n",
              "      <td>65</td>\n",
              "      <td>65</td>\n",
              "    </tr>\n",
              "    <tr>\n",
              "      <th>Asian</th>\n",
              "      <td>824</td>\n",
              "      <td>824</td>\n",
              "      <td>656</td>\n",
              "      <td>824</td>\n",
              "      <td>824</td>\n",
              "      <td>823</td>\n",
              "      <td>814</td>\n",
              "      <td>824</td>\n",
              "      <td>824</td>\n",
              "      <td>783</td>\n",
              "      <td>376</td>\n",
              "      <td>368</td>\n",
              "      <td>824</td>\n",
              "      <td>823</td>\n",
              "    </tr>\n",
              "    <tr>\n",
              "      <th>Australian</th>\n",
              "      <td>36</td>\n",
              "      <td>36</td>\n",
              "      <td>33</td>\n",
              "      <td>36</td>\n",
              "      <td>36</td>\n",
              "      <td>36</td>\n",
              "      <td>35</td>\n",
              "      <td>36</td>\n",
              "      <td>36</td>\n",
              "      <td>35</td>\n",
              "      <td>19</td>\n",
              "      <td>19</td>\n",
              "      <td>36</td>\n",
              "      <td>36</td>\n",
              "    </tr>\n",
              "    <tr>\n",
              "      <th>Bagels/Pretzels</th>\n",
              "      <td>357</td>\n",
              "      <td>357</td>\n",
              "      <td>297</td>\n",
              "      <td>357</td>\n",
              "      <td>357</td>\n",
              "      <td>357</td>\n",
              "      <td>353</td>\n",
              "      <td>357</td>\n",
              "      <td>357</td>\n",
              "      <td>339</td>\n",
              "      <td>179</td>\n",
              "      <td>176</td>\n",
              "      <td>357</td>\n",
              "      <td>357</td>\n",
              "    </tr>\n",
              "    <tr>\n",
              "      <th>Bakery</th>\n",
              "      <td>1485</td>\n",
              "      <td>1485</td>\n",
              "      <td>1236</td>\n",
              "      <td>1485</td>\n",
              "      <td>1485</td>\n",
              "      <td>1484</td>\n",
              "      <td>1462</td>\n",
              "      <td>1485</td>\n",
              "      <td>1485</td>\n",
              "      <td>1408</td>\n",
              "      <td>728</td>\n",
              "      <td>720</td>\n",
              "      <td>1485</td>\n",
              "      <td>1484</td>\n",
              "    </tr>\n",
              "    <tr>\n",
              "      <th>Bangladeshi</th>\n",
              "      <td>106</td>\n",
              "      <td>106</td>\n",
              "      <td>86</td>\n",
              "      <td>106</td>\n",
              "      <td>106</td>\n",
              "      <td>106</td>\n",
              "      <td>103</td>\n",
              "      <td>106</td>\n",
              "      <td>106</td>\n",
              "      <td>99</td>\n",
              "      <td>40</td>\n",
              "      <td>40</td>\n",
              "      <td>106</td>\n",
              "      <td>106</td>\n",
              "    </tr>\n",
              "    <tr>\n",
              "      <th>Barbecue</th>\n",
              "      <td>121</td>\n",
              "      <td>121</td>\n",
              "      <td>105</td>\n",
              "      <td>121</td>\n",
              "      <td>121</td>\n",
              "      <td>121</td>\n",
              "      <td>116</td>\n",
              "      <td>121</td>\n",
              "      <td>121</td>\n",
              "      <td>113</td>\n",
              "      <td>68</td>\n",
              "      <td>65</td>\n",
              "      <td>121</td>\n",
              "      <td>121</td>\n",
              "    </tr>\n",
              "    <tr>\n",
              "      <th>Bottled beverages, including water, sodas, juices, etc.</th>\n",
              "      <td>138</td>\n",
              "      <td>138</td>\n",
              "      <td>114</td>\n",
              "      <td>138</td>\n",
              "      <td>138</td>\n",
              "      <td>138</td>\n",
              "      <td>132</td>\n",
              "      <td>138</td>\n",
              "      <td>138</td>\n",
              "      <td>122</td>\n",
              "      <td>72</td>\n",
              "      <td>71</td>\n",
              "      <td>138</td>\n",
              "      <td>138</td>\n",
              "    </tr>\n",
              "    <tr>\n",
              "      <th>Brazilian</th>\n",
              "      <td>59</td>\n",
              "      <td>59</td>\n",
              "      <td>48</td>\n",
              "      <td>59</td>\n",
              "      <td>59</td>\n",
              "      <td>59</td>\n",
              "      <td>59</td>\n",
              "      <td>59</td>\n",
              "      <td>59</td>\n",
              "      <td>55</td>\n",
              "      <td>34</td>\n",
              "      <td>33</td>\n",
              "      <td>59</td>\n",
              "      <td>59</td>\n",
              "    </tr>\n",
              "    <tr>\n",
              "      <th>CafÃ©/Coffee/Tea</th>\n",
              "      <td>1988</td>\n",
              "      <td>1988</td>\n",
              "      <td>1577</td>\n",
              "      <td>1988</td>\n",
              "      <td>1988</td>\n",
              "      <td>1988</td>\n",
              "      <td>1960</td>\n",
              "      <td>1988</td>\n",
              "      <td>1988</td>\n",
              "      <td>1876</td>\n",
              "      <td>1142</td>\n",
              "      <td>1121</td>\n",
              "      <td>1988</td>\n",
              "      <td>1988</td>\n",
              "    </tr>\n",
              "    <tr>\n",
              "      <th>Cajun</th>\n",
              "      <td>16</td>\n",
              "      <td>16</td>\n",
              "      <td>13</td>\n",
              "      <td>16</td>\n",
              "      <td>16</td>\n",
              "      <td>16</td>\n",
              "      <td>15</td>\n",
              "      <td>16</td>\n",
              "      <td>16</td>\n",
              "      <td>16</td>\n",
              "      <td>8</td>\n",
              "      <td>8</td>\n",
              "      <td>16</td>\n",
              "      <td>16</td>\n",
              "    </tr>\n",
              "    <tr>\n",
              "      <th>Californian</th>\n",
              "      <td>1</td>\n",
              "      <td>1</td>\n",
              "      <td>1</td>\n",
              "      <td>1</td>\n",
              "      <td>1</td>\n",
              "      <td>1</td>\n",
              "      <td>1</td>\n",
              "      <td>1</td>\n",
              "      <td>1</td>\n",
              "      <td>1</td>\n",
              "      <td>1</td>\n",
              "      <td>1</td>\n",
              "      <td>1</td>\n",
              "      <td>1</td>\n",
              "    </tr>\n",
              "    <tr>\n",
              "      <th>Caribbean</th>\n",
              "      <td>1622</td>\n",
              "      <td>1622</td>\n",
              "      <td>1319</td>\n",
              "      <td>1622</td>\n",
              "      <td>1622</td>\n",
              "      <td>1622</td>\n",
              "      <td>1603</td>\n",
              "      <td>1622</td>\n",
              "      <td>1622</td>\n",
              "      <td>1541</td>\n",
              "      <td>718</td>\n",
              "      <td>709</td>\n",
              "      <td>1622</td>\n",
              "      <td>1622</td>\n",
              "    </tr>\n",
              "    <tr>\n",
              "      <th>Chicken</th>\n",
              "      <td>759</td>\n",
              "      <td>759</td>\n",
              "      <td>606</td>\n",
              "      <td>759</td>\n",
              "      <td>759</td>\n",
              "      <td>759</td>\n",
              "      <td>747</td>\n",
              "      <td>759</td>\n",
              "      <td>759</td>\n",
              "      <td>707</td>\n",
              "      <td>395</td>\n",
              "      <td>389</td>\n",
              "      <td>759</td>\n",
              "      <td>759</td>\n",
              "    </tr>\n",
              "    <tr>\n",
              "      <th>Chilean</th>\n",
              "      <td>12</td>\n",
              "      <td>12</td>\n",
              "      <td>11</td>\n",
              "      <td>12</td>\n",
              "      <td>12</td>\n",
              "      <td>12</td>\n",
              "      <td>12</td>\n",
              "      <td>12</td>\n",
              "      <td>12</td>\n",
              "      <td>12</td>\n",
              "      <td>4</td>\n",
              "      <td>4</td>\n",
              "      <td>12</td>\n",
              "      <td>12</td>\n",
              "    </tr>\n",
              "    <tr>\n",
              "      <th>Chinese</th>\n",
              "      <td>5343</td>\n",
              "      <td>5343</td>\n",
              "      <td>4255</td>\n",
              "      <td>5343</td>\n",
              "      <td>5343</td>\n",
              "      <td>5343</td>\n",
              "      <td>5285</td>\n",
              "      <td>5343</td>\n",
              "      <td>5343</td>\n",
              "      <td>5106</td>\n",
              "      <td>2541</td>\n",
              "      <td>2501</td>\n",
              "      <td>5343</td>\n",
              "      <td>5343</td>\n",
              "    </tr>\n",
              "    <tr>\n",
              "      <th>Chinese/Cuban</th>\n",
              "      <td>54</td>\n",
              "      <td>54</td>\n",
              "      <td>40</td>\n",
              "      <td>54</td>\n",
              "      <td>54</td>\n",
              "      <td>54</td>\n",
              "      <td>53</td>\n",
              "      <td>54</td>\n",
              "      <td>54</td>\n",
              "      <td>53</td>\n",
              "      <td>28</td>\n",
              "      <td>28</td>\n",
              "      <td>54</td>\n",
              "      <td>54</td>\n",
              "    </tr>\n",
              "  </tbody>\n",
              "</table>\n",
              "</div>"
            ],
            "text/plain": [
              "                                                    CAMIS  ...  INSPECTION TYPE\n",
              "CUISINE DESCRIPTION                                        ...                 \n",
              "Afghan                                                 21  ...               21\n",
              "African                                               180  ...              180\n",
              "American                                            11577  ...            11575\n",
              "Armenian                                               65  ...               65\n",
              "Asian                                                 824  ...              823\n",
              "Australian                                             36  ...               36\n",
              "Bagels/Pretzels                                       357  ...              357\n",
              "Bakery                                               1485  ...             1484\n",
              "Bangladeshi                                           106  ...              106\n",
              "Barbecue                                              121  ...              121\n",
              "Bottled beverages, including water, sodas, juic...    138  ...              138\n",
              "Brazilian                                              59  ...               59\n",
              "CafÃ©/Coffee/Tea                                     1988  ...             1988\n",
              "Cajun                                                  16  ...               16\n",
              "Californian                                             1  ...                1\n",
              "Caribbean                                            1622  ...             1622\n",
              "Chicken                                               759  ...              759\n",
              "Chilean                                                12  ...               12\n",
              "Chinese                                              5343  ...             5343\n",
              "Chinese/Cuban                                          54  ...               54\n",
              "\n",
              "[20 rows x 14 columns]"
            ]
          },
          "metadata": {
            "tags": []
          },
          "execution_count": 450
        }
      ]
    },
    {
      "cell_type": "markdown",
      "metadata": {
        "id": "ojXcDgMzC3DI"
      },
      "source": [
        "### Sort new dataframe by violations for first 3 colums"
      ]
    },
    {
      "cell_type": "code",
      "metadata": {
        "id": "IiU9A5npqTMN"
      },
      "source": [
        "test=tgrouped.sort_values(by='VIOLATION DESCRIPTION', ascending=False)[:3]"
      ],
      "execution_count": 452,
      "outputs": []
    },
    {
      "cell_type": "code",
      "metadata": {
        "colab": {
          "base_uri": "https://localhost:8080/"
        },
        "id": "cJEy4AsXqTMN",
        "outputId": "31af62da-7283-4aa8-af05-cff85d9ef8a0"
      },
      "source": [
        "print(test)"
      ],
      "execution_count": 453,
      "outputs": [
        {
          "output_type": "stream",
          "text": [
            "                                                    CAMIS  ...  INSPECTION TYPE\n",
            "CUISINE DESCRIPTION                                        ...                 \n",
            "American                                            11577  ...            11575\n",
            "Chinese                                              5343  ...             5343\n",
            "Latin (Cuban, Dominican, Puerto Rican, South & ...   2474  ...             2474\n",
            "\n",
            "[3 rows x 14 columns]\n"
          ],
          "name": "stdout"
        }
      ]
    },
    {
      "cell_type": "markdown",
      "metadata": {
        "id": "85CVPiJqDA-y"
      },
      "source": [
        "### Plot 2 columns of new data frame"
      ]
    },
    {
      "cell_type": "code",
      "metadata": {
        "colab": {
          "base_uri": "https://localhost:8080/",
          "height": 393
        },
        "id": "RtYisCUAqTMN",
        "outputId": "6c655a6f-cad0-4822-ded5-1ba01f3976e2"
      },
      "source": [
        "test['VIOLATION DESCRIPTION'].plot(kind='barh', stacked=False, figsize=[6,6], colormap='winter',  style='g',  subplots=True) \n",
        "ax.invert_xaxis()"
      ],
      "execution_count": 454,
      "outputs": [
        {
          "output_type": "display_data",
          "data": {
            "image/png": "[encoded data removed]",
            "text/plain": [
              "<Figure size 432x432 with 1 Axes>"
            ]
          },
          "metadata": {
            "tags": [],
            "needs_background": "light"
          }
        }
      ]
    },
    {
      "cell_type": "markdown",
      "metadata": {
        "id": "EiwA8CEo-mGh"
      },
      "source": [
        "# **Total Number of restaurants at Each airport**"
      ]
    },
    {
      "cell_type": "code",
      "metadata": {
        "colab": {
          "base_uri": "https://localhost:8080/",
          "height": 173
        },
        "id": "3rIuzXay-zqL",
        "outputId": "08a7a0ce-2082-4068-bc37-23cf5b715749"
      },
      "source": [
        "# Get stat data on columns used for calulations\n",
        "df[['DBA', 'AIRPORT']].describe()"
      ],
      "execution_count": 563,
      "outputs": [
        {
          "output_type": "execute_result",
          "data": {
            "text/html": [
              "<div>\n",
              "<style scoped>\n",
              "    .dataframe tbody tr th:only-of-type {\n",
              "        vertical-align: middle;\n",
              "    }\n",
              "\n",
              "    .dataframe tbody tr th {\n",
              "        vertical-align: top;\n",
              "    }\n",
              "\n",
              "    .dataframe thead th {\n",
              "        text-align: right;\n",
              "    }\n",
              "</style>\n",
              "<table border=\"1\" class=\"dataframe\">\n",
              "  <thead>\n",
              "    <tr style=\"text-align: right;\">\n",
              "      <th></th>\n",
              "      <th>DBA</th>\n",
              "      <th>AIRPORT</th>\n",
              "    </tr>\n",
              "  </thead>\n",
              "  <tbody>\n",
              "    <tr>\n",
              "      <th>count</th>\n",
              "      <td>51097</td>\n",
              "      <td>41186</td>\n",
              "    </tr>\n",
              "    <tr>\n",
              "      <th>unique</th>\n",
              "      <td>15866</td>\n",
              "      <td>328</td>\n",
              "    </tr>\n",
              "    <tr>\n",
              "      <th>top</th>\n",
              "      <td>DUNKIN' DONUTS</td>\n",
              "      <td>ABI</td>\n",
              "    </tr>\n",
              "    <tr>\n",
              "      <th>freq</th>\n",
              "      <td>633</td>\n",
              "      <td>2078</td>\n",
              "    </tr>\n",
              "  </tbody>\n",
              "</table>\n",
              "</div>"
            ],
            "text/plain": [
              "                   DBA AIRPORT\n",
              "count            51097   41186\n",
              "unique           15866     328\n",
              "top     DUNKIN' DONUTS     ABI\n",
              "freq               633    2078"
            ]
          },
          "metadata": {
            "tags": []
          },
          "execution_count": 563
        }
      ]
    },
    {
      "cell_type": "markdown",
      "metadata": {
        "id": "YA8xseGU1EC6"
      },
      "source": [
        "# **Restaurants With Highest Grade**"
      ]
    },
    {
      "cell_type": "code",
      "metadata": {
        "id": "ga9wVT4m1XQl"
      },
      "source": [
        "# Import Data Libaries\n",
        "import numpy as np\n",
        "import matplotlib.pyplot as plt\n",
        "import pandas as pd\n",
        "import seaborn as sns\n",
        "%matplotlib inline \n",
        "#to plot the graphs inline on jupyter notebook"
      ],
      "execution_count": null,
      "outputs": []
    },
    {
      "cell_type": "code",
      "metadata": {
        "id": "3tLV1Is923b-"
      },
      "source": [
        "# Label new dataframe\n",
        "df = AIRPORTDBA"
      ],
      "execution_count": null,
      "outputs": []
    },
    {
      "cell_type": "markdown",
      "metadata": {
        "id": "ulPISfDp6LLT"
      },
      "source": [
        "In this section we will check the resaurants that have the highest grades"
      ]
    },
    {
      "cell_type": "code",
      "metadata": {
        "id": "y7aogJFN4NGK"
      },
      "source": [
        "# Get stat data on columns used for calulations\n",
        "df[['GRADE', 'DBA']].describe()"
      ],
      "execution_count": null,
      "outputs": []
    },
    {
      "cell_type": "code",
      "metadata": {
        "id": "yH-6h7JD2FsH"
      },
      "source": [
        "# Replace missing values in column 1 with most frequent feature\n",
        "df['GRADE'].fillna('B', inplace=True)"
      ],
      "execution_count": 469,
      "outputs": []
    },
    {
      "cell_type": "code",
      "metadata": {
        "id": "P011-Gzs2cLu"
      },
      "source": [
        "# Replace missing value in column 2 with most frequent feature\n",
        "df['DBA'].fillna(\"DUNKIN' DONUTS\", inplace=True)"
      ],
      "execution_count": 470,
      "outputs": []
    },
    {
      "cell_type": "code",
      "metadata": {
        "id": "uNoXxQKb2gxJ"
      },
      "source": [
        "# Check head table info\n",
        "df.head()"
      ],
      "execution_count": null,
      "outputs": []
    },
    {
      "cell_type": "code",
      "metadata": {
        "id": "-zu9KHct2h03"
      },
      "source": [
        "# Group and sort colum data\n",
        "gp=df.groupby(['DBA']).count()"
      ],
      "execution_count": 473,
      "outputs": []
    },
    {
      "cell_type": "code",
      "metadata": {
        "id": "vad5XmIZ2h4d"
      },
      "source": [
        "# Check grouped head table info\n",
        "gp.head(10)"
      ],
      "execution_count": null,
      "outputs": []
    },
    {
      "cell_type": "code",
      "metadata": {
        "id": "2feRBJDA2h7i"
      },
      "source": [
        "# Sort values by column\n",
        "test=gp.sort_values(by='GRADE', ascending=False)[:3]"
      ],
      "execution_count": 475,
      "outputs": []
    },
    {
      "cell_type": "code",
      "metadata": {
        "id": "hfHOjiaL2x3Q"
      },
      "source": [
        "# Print test sample of sorted grouped data\n",
        "print(test)"
      ],
      "execution_count": null,
      "outputs": []
    },
    {
      "cell_type": "code",
      "metadata": {
        "id": "6Amnjb6u2x6m"
      },
      "source": [
        "# calualte and plot results\n",
        "fig, axes = plt.subplots(nrows=1, ncols=1)\n",
        "\n",
        "test['GRADE'].plot(kind='bar', stacked=False, figsize=[15,8], colormap='gist_rainbow',  style='g',  subplots=True, title=\"Restaurant with most violations\")"
      ],
      "execution_count": null,
      "outputs": []
    },
    {
      "cell_type": "code",
      "metadata": {
        "id": "p8vpYZXL2x9x"
      },
      "source": [
        ""
      ],
      "execution_count": null,
      "outputs": []
    },
    {
      "cell_type": "markdown",
      "metadata": {
        "id": "la1I-3DP_oA8"
      },
      "source": [
        "# **Restaurants with most recurring violations**"
      ]
    },
    {
      "cell_type": "code",
      "metadata": {
        "id": "w0w74Rdk_oA8"
      },
      "source": [
        "# Import Data Libaries\n",
        "import numpy as np\n",
        "import matplotlib.pyplot as plt\n",
        "import pandas as pd\n",
        "import seaborn as sns\n",
        "%matplotlib inline \n",
        "#to plot the graphs inline on jupyter notebook"
      ],
      "execution_count": null,
      "outputs": []
    },
    {
      "cell_type": "code",
      "metadata": {
        "id": "4Y1EqiyH_oA8"
      },
      "source": [
        "# Label new dataframe\n",
        "df = AIRPORTDBA"
      ],
      "execution_count": null,
      "outputs": []
    },
    {
      "cell_type": "markdown",
      "metadata": {
        "id": "KtOqsCan_oA8"
      },
      "source": [
        "In this section we will check the resaurants With most violations"
      ]
    },
    {
      "cell_type": "code",
      "metadata": {
        "id": "V2d41EJs_oA8"
      },
      "source": [
        "# Get stat data on columns used for calulations\n",
        "df[['VIOLATION CODE', 'DBA']].describe()"
      ],
      "execution_count": null,
      "outputs": []
    },
    {
      "cell_type": "code",
      "metadata": {
        "id": "E4ynwJ9g_oA8"
      },
      "source": [
        "# Replace missing values in column 1 with most frequent feature\n",
        "df['VIOLATION CODE'].fillna('10F', inplace=True)"
      ],
      "execution_count": 499,
      "outputs": []
    },
    {
      "cell_type": "code",
      "metadata": {
        "id": "C5wpr7sv_oA8"
      },
      "source": [
        "# Replace missing value in column 2 with most frequent feature\n",
        "df['DBA'].fillna(\"DUNKIN' DONUTS\", inplace=True)"
      ],
      "execution_count": 500,
      "outputs": []
    },
    {
      "cell_type": "code",
      "metadata": {
        "id": "rmudtK9o_oA8"
      },
      "source": [
        "# Check head table info\n",
        "df.head()"
      ],
      "execution_count": null,
      "outputs": []
    },
    {
      "cell_type": "code",
      "metadata": {
        "id": "ssLLOEoR_oA8"
      },
      "source": [
        "# Group and sort colum data\n",
        "gp=df.groupby(['DBA']).count()  "
      ],
      "execution_count": 502,
      "outputs": []
    },
    {
      "cell_type": "code",
      "metadata": {
        "id": "lpvT0LdI_oA8"
      },
      "source": [
        "# Check grouped head table info\n",
        "gp.head(10)"
      ],
      "execution_count": null,
      "outputs": []
    },
    {
      "cell_type": "code",
      "metadata": {
        "id": "lljIhK9Z_oA8"
      },
      "source": [
        "# Sort values by column\n",
        "test=gp.sort_values(by='VIOLATION CODE', ascending=False)[:10]"
      ],
      "execution_count": 511,
      "outputs": []
    },
    {
      "cell_type": "code",
      "metadata": {
        "id": "I7ch0j8I_oA8"
      },
      "source": [
        "# Print test sample of sorted grouped data\n",
        "print(test)"
      ],
      "execution_count": null,
      "outputs": []
    },
    {
      "cell_type": "code",
      "metadata": {
        "colab": {
          "base_uri": "https://localhost:8080/",
          "height": 665
        },
        "id": "0aO2i9zC_oA8",
        "outputId": "a0b2a130-0dbd-4991-a915-a0a5ba05b746"
      },
      "source": [
        "# calualte and plot results\n",
        "fig, axes = plt.subplots(nrows=1, ncols=1)\n",
        "\n",
        "test['VIOLATION CODE'].plot(kind='bar', stacked=False, figsize=[16,6], colormap='gist_rainbow', title=\"Restaurant with most violations\")"
      ],
      "execution_count": 517,
      "outputs": [
        {
          "output_type": "execute_result",
          "data": {
            "text/plain": [
              "<matplotlib.axes._subplots.AxesSubplot at 0x7fc4633fd438>"
            ]
          },
          "metadata": {
            "tags": []
          },
          "execution_count": 517
        },
        {
          "output_type": "display_data",
          "data": {
            "image/png": "[encoded data removed]",
            "text/plain": [
              "<Figure size 1152x432 with 1 Axes>"
            ]
          },
          "metadata": {
            "tags": [],
            "needs_background": "light"
          }
        }
      ]
    },
    {
      "cell_type": "code",
      "metadata": {
        "id": "gaDAoEyp_oA8"
      },
      "source": [
        ""
      ],
      "execution_count": null,
      "outputs": []
    },
    {
      "cell_type": "markdown",
      "metadata": {
        "id": "Y6VkyXY81Mpm"
      },
      "source": [
        "# **Dates That Highest Violations Occurred# New Section**"
      ]
    },
    {
      "cell_type": "code",
      "metadata": {
        "id": "X86_Nv6A1Wu4"
      },
      "source": [
        "# Import Data Libaries\n",
        "import numpy as np\n",
        "import matplotlib.pyplot as plt\n",
        "import pandas as pd\n",
        "import seaborn as sns\n",
        "%matplotlib inline \n",
        "#to plot the graphs inline on jupyter notebook"
      ],
      "execution_count": 605,
      "outputs": []
    },
    {
      "cell_type": "code",
      "metadata": {
        "id": "84sYGTevCntd"
      },
      "source": [
        "# Import a scoring metric to compare methods\n",
        "from sklearn.metrics import r2_score"
      ],
      "execution_count": 606,
      "outputs": []
    },
    {
      "cell_type": "code",
      "metadata": {
        "id": "3eYRmaM0C1ch"
      },
      "source": [
        "# Label new dataframe\n",
        "df = AIRPORTDBA"
      ],
      "execution_count": 612,
      "outputs": []
    },
    {
      "cell_type": "code",
      "metadata": {
        "colab": {
          "base_uri": "https://localhost:8080/",
          "height": 476
        },
        "id": "n-kSAkOJ2H2D",
        "outputId": "633a4526-424e-49e7-ae0f-cbe59701fa1f"
      },
      "source": [
        "df.head()"
      ],
      "execution_count": 613,
      "outputs": [
        {
          "output_type": "execute_result",
          "data": {
            "text/html": [
              "<div>\n",
              "<style scoped>\n",
              "    .dataframe tbody tr th:only-of-type {\n",
              "        vertical-align: middle;\n",
              "    }\n",
              "\n",
              "    .dataframe tbody tr th {\n",
              "        vertical-align: top;\n",
              "    }\n",
              "\n",
              "    .dataframe thead th {\n",
              "        text-align: right;\n",
              "    }\n",
              "</style>\n",
              "<table border=\"1\" class=\"dataframe\">\n",
              "  <thead>\n",
              "    <tr style=\"text-align: right;\">\n",
              "      <th></th>\n",
              "      <th>CAMIS</th>\n",
              "      <th>DBA</th>\n",
              "      <th>AIRPORT</th>\n",
              "      <th>BUILDING</th>\n",
              "      <th>CUISINE DESCRIPTION</th>\n",
              "      <th>INSPECTION DATE</th>\n",
              "      <th>ACTION</th>\n",
              "      <th>VIOLATION CODE</th>\n",
              "      <th>VIOLATION DESCRIPTION</th>\n",
              "      <th>CRITICAL FLAG</th>\n",
              "      <th>SCORE</th>\n",
              "      <th>GRADE</th>\n",
              "      <th>GRADEDATE</th>\n",
              "      <th>RECORD DATE</th>\n",
              "      <th>INSPECTION TYPE</th>\n",
              "    </tr>\n",
              "  </thead>\n",
              "  <tbody>\n",
              "    <tr>\n",
              "      <th>0</th>\n",
              "      <td>41701986</td>\n",
              "      <td>LA VILLA CAFE</td>\n",
              "      <td>ABI</td>\n",
              "      <td>505</td>\n",
              "      <td>Spanish</td>\n",
              "      <td>9/30/2016</td>\n",
              "      <td>Violations were cited in the following area(s).</td>\n",
              "      <td>04H</td>\n",
              "      <td>Raw, cooked or prepared food is adulterated, c...</td>\n",
              "      <td>Critical</td>\n",
              "      <td>12</td>\n",
              "      <td>A</td>\n",
              "      <td>2016-09-30</td>\n",
              "      <td>8/28/2017</td>\n",
              "      <td>Cycle Inspection / Initial Inspection</td>\n",
              "    </tr>\n",
              "    <tr>\n",
              "      <th>1</th>\n",
              "      <td>40660748</td>\n",
              "      <td>ALTA</td>\n",
              "      <td>ABI</td>\n",
              "      <td>64</td>\n",
              "      <td>American</td>\n",
              "      <td>9/30/2016</td>\n",
              "      <td>Violations were cited in the following area(s).</td>\n",
              "      <td>10B</td>\n",
              "      <td>Plumbing not properly installed or maintained;...</td>\n",
              "      <td>Not Critical</td>\n",
              "      <td>8</td>\n",
              "      <td>A</td>\n",
              "      <td>2016-09-30</td>\n",
              "      <td>8/28/2017</td>\n",
              "      <td>Cycle Inspection / Initial Inspection</td>\n",
              "    </tr>\n",
              "    <tr>\n",
              "      <th>2</th>\n",
              "      <td>41494987</td>\n",
              "      <td>BROOKLYN FARMACY AND SODA FOUNTAIN</td>\n",
              "      <td>SPS</td>\n",
              "      <td>513</td>\n",
              "      <td>American</td>\n",
              "      <td>9/30/2016</td>\n",
              "      <td>Violations were cited in the following area(s).</td>\n",
              "      <td>10H</td>\n",
              "      <td>Proper sanitization not provided for utensil w...</td>\n",
              "      <td>Not Critical</td>\n",
              "      <td>13</td>\n",
              "      <td>A</td>\n",
              "      <td>2016-09-30</td>\n",
              "      <td>8/28/2017</td>\n",
              "      <td>Cycle Inspection / Re-inspection</td>\n",
              "    </tr>\n",
              "    <tr>\n",
              "      <th>3</th>\n",
              "      <td>50050828</td>\n",
              "      <td>KARIBBEAN GREEN</td>\n",
              "      <td>TUS</td>\n",
              "      <td>804</td>\n",
              "      <td>Caribbean</td>\n",
              "      <td>9/30/2016</td>\n",
              "      <td>Violations were cited in the following area(s).</td>\n",
              "      <td>04N</td>\n",
              "      <td>Filth flies or food/refuse/sewage-associated (...</td>\n",
              "      <td>Critical</td>\n",
              "      <td>13</td>\n",
              "      <td>A</td>\n",
              "      <td>2016-09-30</td>\n",
              "      <td>8/28/2017</td>\n",
              "      <td>Cycle Inspection / Initial Inspection</td>\n",
              "    </tr>\n",
              "    <tr>\n",
              "      <th>4</th>\n",
              "      <td>50012518</td>\n",
              "      <td>RED STAR sandwich shop</td>\n",
              "      <td>DSM</td>\n",
              "      <td>176</td>\n",
              "      <td>Asian</td>\n",
              "      <td>9/30/2016</td>\n",
              "      <td>Establishment re-opened by DOHMH</td>\n",
              "      <td>04L</td>\n",
              "      <td>Evidence of mice or live mice present in facil...</td>\n",
              "      <td>Critical</td>\n",
              "      <td>9</td>\n",
              "      <td>P</td>\n",
              "      <td>2016-09-30</td>\n",
              "      <td>8/28/2017</td>\n",
              "      <td>Cycle Inspection / Reopening Inspection</td>\n",
              "    </tr>\n",
              "  </tbody>\n",
              "</table>\n",
              "</div>"
            ],
            "text/plain": [
              "      CAMIS  ...                          INSPECTION TYPE\n",
              "0  41701986  ...    Cycle Inspection / Initial Inspection\n",
              "1  40660748  ...    Cycle Inspection / Initial Inspection\n",
              "2  41494987  ...         Cycle Inspection / Re-inspection\n",
              "3  50050828  ...    Cycle Inspection / Initial Inspection\n",
              "4  50012518  ...  Cycle Inspection / Reopening Inspection\n",
              "\n",
              "[5 rows x 15 columns]"
            ]
          },
          "metadata": {
            "tags": []
          },
          "execution_count": 613
        }
      ]
    },
    {
      "cell_type": "code",
      "metadata": {
        "colab": {
          "base_uri": "https://localhost:8080/",
          "height": 507
        },
        "id": "XG5wwVY0C1ch",
        "outputId": "8f6d3e70-09af-49ea-ecd0-cb484807d154"
      },
      "source": [
        "# Converting the column to DateTime format\n",
        "df['GRADEDATE'] = pd.to_datetime(df['GRADEDATE'], format='%m/%d/%Y')\n",
        "df = df.set_index('GRADEDATE')\n",
        "df.head()"
      ],
      "execution_count": 614,
      "outputs": [
        {
          "output_type": "execute_result",
          "data": {
            "text/html": [
              "<div>\n",
              "<style scoped>\n",
              "    .dataframe tbody tr th:only-of-type {\n",
              "        vertical-align: middle;\n",
              "    }\n",
              "\n",
              "    .dataframe tbody tr th {\n",
              "        vertical-align: top;\n",
              "    }\n",
              "\n",
              "    .dataframe thead th {\n",
              "        text-align: right;\n",
              "    }\n",
              "</style>\n",
              "<table border=\"1\" class=\"dataframe\">\n",
              "  <thead>\n",
              "    <tr style=\"text-align: right;\">\n",
              "      <th></th>\n",
              "      <th>CAMIS</th>\n",
              "      <th>DBA</th>\n",
              "      <th>AIRPORT</th>\n",
              "      <th>BUILDING</th>\n",
              "      <th>CUISINE DESCRIPTION</th>\n",
              "      <th>INSPECTION DATE</th>\n",
              "      <th>ACTION</th>\n",
              "      <th>VIOLATION CODE</th>\n",
              "      <th>VIOLATION DESCRIPTION</th>\n",
              "      <th>CRITICAL FLAG</th>\n",
              "      <th>SCORE</th>\n",
              "      <th>GRADE</th>\n",
              "      <th>RECORD DATE</th>\n",
              "      <th>INSPECTION TYPE</th>\n",
              "    </tr>\n",
              "    <tr>\n",
              "      <th>GRADEDATE</th>\n",
              "      <th></th>\n",
              "      <th></th>\n",
              "      <th></th>\n",
              "      <th></th>\n",
              "      <th></th>\n",
              "      <th></th>\n",
              "      <th></th>\n",
              "      <th></th>\n",
              "      <th></th>\n",
              "      <th></th>\n",
              "      <th></th>\n",
              "      <th></th>\n",
              "      <th></th>\n",
              "      <th></th>\n",
              "    </tr>\n",
              "  </thead>\n",
              "  <tbody>\n",
              "    <tr>\n",
              "      <th>2016-09-30</th>\n",
              "      <td>41701986</td>\n",
              "      <td>LA VILLA CAFE</td>\n",
              "      <td>ABI</td>\n",
              "      <td>505</td>\n",
              "      <td>Spanish</td>\n",
              "      <td>9/30/2016</td>\n",
              "      <td>Violations were cited in the following area(s).</td>\n",
              "      <td>04H</td>\n",
              "      <td>Raw, cooked or prepared food is adulterated, c...</td>\n",
              "      <td>Critical</td>\n",
              "      <td>12</td>\n",
              "      <td>A</td>\n",
              "      <td>8/28/2017</td>\n",
              "      <td>Cycle Inspection / Initial Inspection</td>\n",
              "    </tr>\n",
              "    <tr>\n",
              "      <th>2016-09-30</th>\n",
              "      <td>40660748</td>\n",
              "      <td>ALTA</td>\n",
              "      <td>ABI</td>\n",
              "      <td>64</td>\n",
              "      <td>American</td>\n",
              "      <td>9/30/2016</td>\n",
              "      <td>Violations were cited in the following area(s).</td>\n",
              "      <td>10B</td>\n",
              "      <td>Plumbing not properly installed or maintained;...</td>\n",
              "      <td>Not Critical</td>\n",
              "      <td>8</td>\n",
              "      <td>A</td>\n",
              "      <td>8/28/2017</td>\n",
              "      <td>Cycle Inspection / Initial Inspection</td>\n",
              "    </tr>\n",
              "    <tr>\n",
              "      <th>2016-09-30</th>\n",
              "      <td>41494987</td>\n",
              "      <td>BROOKLYN FARMACY AND SODA FOUNTAIN</td>\n",
              "      <td>SPS</td>\n",
              "      <td>513</td>\n",
              "      <td>American</td>\n",
              "      <td>9/30/2016</td>\n",
              "      <td>Violations were cited in the following area(s).</td>\n",
              "      <td>10H</td>\n",
              "      <td>Proper sanitization not provided for utensil w...</td>\n",
              "      <td>Not Critical</td>\n",
              "      <td>13</td>\n",
              "      <td>A</td>\n",
              "      <td>8/28/2017</td>\n",
              "      <td>Cycle Inspection / Re-inspection</td>\n",
              "    </tr>\n",
              "    <tr>\n",
              "      <th>2016-09-30</th>\n",
              "      <td>50050828</td>\n",
              "      <td>KARIBBEAN GREEN</td>\n",
              "      <td>TUS</td>\n",
              "      <td>804</td>\n",
              "      <td>Caribbean</td>\n",
              "      <td>9/30/2016</td>\n",
              "      <td>Violations were cited in the following area(s).</td>\n",
              "      <td>04N</td>\n",
              "      <td>Filth flies or food/refuse/sewage-associated (...</td>\n",
              "      <td>Critical</td>\n",
              "      <td>13</td>\n",
              "      <td>A</td>\n",
              "      <td>8/28/2017</td>\n",
              "      <td>Cycle Inspection / Initial Inspection</td>\n",
              "    </tr>\n",
              "    <tr>\n",
              "      <th>2016-09-30</th>\n",
              "      <td>50012518</td>\n",
              "      <td>RED STAR sandwich shop</td>\n",
              "      <td>DSM</td>\n",
              "      <td>176</td>\n",
              "      <td>Asian</td>\n",
              "      <td>9/30/2016</td>\n",
              "      <td>Establishment re-opened by DOHMH</td>\n",
              "      <td>04L</td>\n",
              "      <td>Evidence of mice or live mice present in facil...</td>\n",
              "      <td>Critical</td>\n",
              "      <td>9</td>\n",
              "      <td>P</td>\n",
              "      <td>8/28/2017</td>\n",
              "      <td>Cycle Inspection / Reopening Inspection</td>\n",
              "    </tr>\n",
              "  </tbody>\n",
              "</table>\n",
              "</div>"
            ],
            "text/plain": [
              "               CAMIS  ...                          INSPECTION TYPE\n",
              "GRADEDATE             ...                                         \n",
              "2016-09-30  41701986  ...    Cycle Inspection / Initial Inspection\n",
              "2016-09-30  40660748  ...    Cycle Inspection / Initial Inspection\n",
              "2016-09-30  41494987  ...         Cycle Inspection / Re-inspection\n",
              "2016-09-30  50050828  ...    Cycle Inspection / Initial Inspection\n",
              "2016-09-30  50012518  ...  Cycle Inspection / Reopening Inspection\n",
              "\n",
              "[5 rows x 14 columns]"
            ]
          },
          "metadata": {
            "tags": []
          },
          "execution_count": 614
        }
      ]
    },
    {
      "cell_type": "code",
      "metadata": {
        "id": "FI7rE3YqGYUd"
      },
      "source": [
        "# Group and sort colum data\n",
        "gp=df.groupby(['GRADEDATE']).count()  "
      ],
      "execution_count": 630,
      "outputs": []
    },
    {
      "cell_type": "code",
      "metadata": {
        "id": "xMsP5-wbKz5u"
      },
      "source": [
        "# Check grouped head table info\n",
        "gp.head(10)"
      ],
      "execution_count": null,
      "outputs": []
    },
    {
      "cell_type": "code",
      "metadata": {
        "id": "MO3iSYLEKz5u"
      },
      "source": [
        "# Sort values by column\n",
        "test=gp.sort_values(by='GRADEDATE', ascending=False)[:10]"
      ],
      "execution_count": 634,
      "outputs": []
    },
    {
      "cell_type": "code",
      "metadata": {
        "id": "MbOL9Q2gKz5u"
      },
      "source": [
        "# Print test sample of sorted grouped data\n",
        "print(test)"
      ],
      "execution_count": null,
      "outputs": []
    },
    {
      "cell_type": "code",
      "metadata": {
        "id": "n8nfHglFKz5u"
      },
      "source": [
        "# calualte and plot results\n",
        "fig, axes = plt.subplots(nrows=1, ncols=1)\n",
        "\n",
        "test['DBA'].plot(kind='barh', stacked=False, figsize=[16,6], colormap='gist_rainbow', title=\"Violation Dates\")"
      ],
      "execution_count": null,
      "outputs": []
    },
    {
      "cell_type": "code",
      "metadata": {
        "colab": {
          "base_uri": "https://localhost:8080/"
        },
        "id": "HVPZsHHXIRMW",
        "outputId": "865d11b3-3ad8-407e-e6ec-04a3b3168b05"
      },
      "source": [
        "print(date)"
      ],
      "execution_count": 585,
      "outputs": [
        {
          "output_type": "stream",
          "text": [
            "0       2016-09-30\n",
            "1       2016-09-30\n",
            "2       2016-09-30\n",
            "3       2016-09-30\n",
            "4       2016-09-30\n",
            "           ...    \n",
            "18410   2015-01-28\n",
            "18411   2015-01-28\n",
            "18412   2015-01-28\n",
            "18413   2015-01-28\n",
            "18414   2015-01-28\n",
            "Name: GRADEDATE, Length: 18415, dtype: datetime64[ns]\n"
          ],
          "name": "stdout"
        }
      ]
    },
    {
      "cell_type": "code",
      "metadata": {
        "colab": {
          "base_uri": "https://localhost:8080/"
        },
        "id": "tvGc0F5-IYnk",
        "outputId": "806f5f05-d605-4845-c007-5bbaf7f79b03"
      },
      "source": [
        "# Get stat data on columns used for calulations\n",
        "print(air.GRADEDATE.describe()) \n",
        "\n",
        "date = air.GRADEDATE"
      ],
      "execution_count": null,
      "outputs": [
        {
          "output_type": "stream",
          "text": [
            "count                   18415\n",
            "unique                    713\n",
            "top       2015-05-20 00:00:00\n",
            "freq                       83\n",
            "first     2013-03-14 00:00:00\n",
            "last      2017-08-25 00:00:00\n",
            "Name: GRADEDATE, dtype: object\n"
          ],
          "name": "stdout"
        },
        {
          "output_type": "stream",
          "text": [
            "/usr/local/lib/python3.6/dist-packages/ipykernel_launcher.py:2: FutureWarning: Treating datetime data as categorical rather than numeric in `.describe` is deprecated and will be removed in a future version of pandas. Specify `datetime_is_numeric=True` to silence this warning and adopt the future behavior now.\n",
            "  \n"
          ],
          "name": "stderr"
        }
      ]
    },
    {
      "cell_type": "code",
      "metadata": {
        "colab": {
          "base_uri": "https://localhost:8080/"
        },
        "id": "d1D5AKt8GZZ2",
        "outputId": "2fd07a45-4ff0-4659-c24a-a11fd923f7dd"
      },
      "source": [
        "# Replace missing values in column 1 with most frequent feature\n",
        "date.fillna('2015-05-20', inplace=True)\n",
        "print(date)"
      ],
      "execution_count": 591,
      "outputs": [
        {
          "output_type": "stream",
          "text": [
            "0       2016-09-30\n",
            "1       2016-09-30\n",
            "2       2016-09-30\n",
            "3       2016-09-30\n",
            "4       2016-09-30\n",
            "           ...    \n",
            "18410   2015-01-28\n",
            "18411   2015-01-28\n",
            "18412   2015-01-28\n",
            "18413   2015-01-28\n",
            "18414   2015-01-28\n",
            "Name: GRADEDATE, Length: 18415, dtype: datetime64[ns]\n"
          ],
          "name": "stdout"
        }
      ]
    },
    {
      "cell_type": "code",
      "metadata": {
        "colab": {
          "base_uri": "https://localhost:8080/",
          "height": 719
        },
        "id": "p9XNaG-NJEHX",
        "outputId": "051cf7f6-a612-48ed-fe99-7c902012fd0b"
      },
      "source": [
        "date.plot(style=['b-','ko', 'r', 'rx*'], figsize=(20, 12), title='Airport Restaraunt Time Line Trends');"
      ],
      "execution_count": 650,
      "outputs": [
        {
          "output_type": "display_data",
          "data": {
            "image/png": "[encoded data removed]",
            "text/plain": [
              "<Figure size 1440x864 with 1 Axes>"
            ]
          },
          "metadata": {
            "tags": [],
            "needs_background": "light"
          }
        }
      ]
    },
    {
      "cell_type": "code",
      "metadata": {
        "id": "R6nmnUSsJRj5"
      },
      "source": [
        "# Filling using mean or median\n",
        "# Creating a column in the dataframe\n",
        "# instead of : df['NewCol']=0, we use\n",
        "# df = df.assign(NewCol=default_value)\n",
        "# to avoid pandas warning.\n",
        "\n",
        "# date = date.assign(FillMean=date.target.fillna(date.target.mean()))\n",
        "# date = date.assign(FillMedian=date.target.fillna(date.target.median()))"
      ],
      "execution_count": null,
      "outputs": []
    },
    {
      "cell_type": "code",
      "metadata": {
        "id": "ySefdCZvJkGg"
      },
      "source": [
        "# # imputing using the rolling average\n",
        "# df = df.assign(RollingMean=df.target.fillna(df.target.rolling(24,min_periods=1,).mean()))\n",
        "# # imputing using the rolling median\n",
        "# df = df.assign(RollingMedian=df.target.fillna(df.target.rolling(24,min_periods=1,).median()))# imputing using the median"
      ],
      "execution_count": null,
      "outputs": []
    },
    {
      "cell_type": "code",
      "metadata": {
        "id": "yQ0zurqnJ2oT"
      },
      "source": [
        "# Check grouped head table info\n",
        "gp.head(10)"
      ],
      "execution_count": null,
      "outputs": []
    },
    {
      "cell_type": "code",
      "metadata": {
        "id": "7Elmp8sEJ2oT"
      },
      "source": [
        "# Sort values by column\n",
        "test=gp.sort_values(by='VIOLATION CODE', ascending=False)[:10]"
      ],
      "execution_count": null,
      "outputs": []
    },
    {
      "cell_type": "code",
      "metadata": {
        "id": "hy12ZljFJ2oT"
      },
      "source": [
        "# Print test sample of sorted grouped data\n",
        "print(test)"
      ],
      "execution_count": null,
      "outputs": []
    },
    {
      "cell_type": "code",
      "metadata": {
        "id": "-MSyc1_bJ2oT"
      },
      "source": [
        "# calualte and plot results\n",
        "fig, axes = plt.subplots(nrows=1, ncols=1)\n",
        "\n",
        "test['VIOLATION CODE'].plot(kind='bar', stacked=False, figsize=[16,6], colormap='gist_rainbow', title=\"Restaurant with most violations\")"
      ],
      "execution_count": null,
      "outputs": []
    },
    {
      "cell_type": "markdown",
      "metadata": {
        "id": "Un02YIZA1Rl6"
      },
      "source": [
        "# **Restaurant With Most Recurring Violations.**"
      ]
    },
    {
      "cell_type": "code",
      "metadata": {
        "id": "bCDnfzse1VnA"
      },
      "source": [
        "# Import Data Libaries\n",
        "import numpy as np\n",
        "import matplotlib.pyplot as plt\n",
        "import pandas as pd\n",
        "import seaborn as sns\n",
        "%matplotlib inline \n",
        "#to plot the graphs inline on jupyter notebook"
      ],
      "execution_count": 518,
      "outputs": []
    },
    {
      "cell_type": "markdown",
      "metadata": {
        "id": "Cx6q2LKg0_St"
      },
      "source": [
        "# **Departure Delay**"
      ]
    },
    {
      "cell_type": "code",
      "metadata": {
        "id": "6cVyypJLqTMN"
      },
      "source": [
        "flight=pd.read_csv(r'C:\\Users\\b.tasker\\Desktop\\MODULE 6 Flight Data.csv')"
      ],
      "execution_count": null,
      "outputs": []
    },
    {
      "cell_type": "code",
      "metadata": {
        "id": "en-ddh9dqTMN"
      },
      "source": [
        "delay=flight.groupby('AIRLINE', as_index=False)['DEPARTURE_DELAY'].mean()"
      ],
      "execution_count": null,
      "outputs": []
    },
    {
      "cell_type": "code",
      "metadata": {
        "id": "fiZZzN6QqTMN"
      },
      "source": [
        "print(delay)"
      ],
      "execution_count": null,
      "outputs": []
    },
    {
      "cell_type": "code",
      "metadata": {
        "id": "7uf8d5eWqTMN"
      },
      "source": [
        "print(delay['DEPARTURE_DELAY'].plot(kind='bar', stacked=False, figsize=[16,6], colormap='winter'))"
      ],
      "execution_count": null,
      "outputs": []
    },
    {
      "cell_type": "code",
      "metadata": {
        "id": "9lIL2GLEqTMN"
      },
      "source": [
        "which origin and destination airports have the longest delayed flight times on average. "
      ],
      "execution_count": null,
      "outputs": []
    },
    {
      "cell_type": "code",
      "metadata": {
        "id": "I4HxqdgLqTMN"
      },
      "source": [
        "airz=flight.groupby(['ORIGIN_AIRPORT','DESTINATION_AIRPORT'], as_index=False)['ARRIVAL_DELAY'].mean().max()"
      ],
      "execution_count": null,
      "outputs": []
    },
    {
      "cell_type": "code",
      "metadata": {
        "id": "gyBLjqesqTMN",
        "outputId": "8dffd681-9b68-4ad2-e58d-83d021c4d058"
      },
      "source": [
        "print(airz)"
      ],
      "execution_count": null,
      "outputs": [
        {
          "output_type": "stream",
          "text": [
            "ORIGIN_AIRPORT         YUM\n",
            "DESTINATION_AIRPORT    YUM\n",
            "ARRIVAL_DELAY          381\n",
            "dtype: object\n"
          ],
          "name": "stdout"
        }
      ]
    },
    {
      "cell_type": "code",
      "metadata": {
        "id": "6G0rQWpAqTMN"
      },
      "source": [
        "Lastly they would like to know the average delay in departure time per airport by starting destination. "
      ],
      "execution_count": null,
      "outputs": []
    },
    {
      "cell_type": "code",
      "metadata": {
        "id": "2qhz6NQ-qTMN"
      },
      "source": [
        "delay2=flight.groupby(['AIRLINE','ORIGIN_AIRPORT'], as_index=False)['DEPARTURE_DELAY'].mean()"
      ],
      "execution_count": null,
      "outputs": []
    },
    {
      "cell_type": "code",
      "metadata": {
        "id": "bfZ7WWHxqTMN"
      },
      "source": [
        "print(delay2.describe())"
      ],
      "execution_count": null,
      "outputs": []
    },
    {
      "cell_type": "code",
      "metadata": {
        "id": "HWAE7ov1qTMO"
      },
      "source": [
        "A=delay2.sort_values(\"DEPARTURE_DELAY\", axis = 0, ascending = False, \n",
        "                 inplace = False, na_position ='last') "
      ],
      "execution_count": null,
      "outputs": []
    },
    {
      "cell_type": "code",
      "metadata": {
        "id": "Bzgkat00qTMO"
      },
      "source": [
        "B=A[:15]"
      ],
      "execution_count": null,
      "outputs": []
    },
    {
      "cell_type": "code",
      "metadata": {
        "id": "Iy70dbUeqTMO"
      },
      "source": [
        ""
      ],
      "execution_count": null,
      "outputs": []
    },
    {
      "cell_type": "code",
      "metadata": {
        "id": "U7ltcSc72JdX"
      },
      "source": [
        ""
      ],
      "execution_count": null,
      "outputs": []
    },
    {
      "cell_type": "markdown",
      "metadata": {
        "id": "JGcM6bLa1Zu2"
      },
      "source": [
        "# LINKS AND **RESOURCES**"
      ]
    },
    {
      "cell_type": "code",
      "metadata": {
        "id": "ooJGhXy-qTMN"
      },
      "source": [
        "#https://mode.com/python-tutorial/pandas-groupby-and-python-lambda-functions/"
      ],
      "execution_count": null,
      "outputs": []
    },
    {
      "cell_type": "code",
      "metadata": {
        "id": "k7QN4fD6qTMN"
      },
      "source": [
        "#https://towardsdatascience.com/data-cleaning-with-python-and-pandas-detecting-missing-values-3e9c6ebcf78b"
      ],
      "execution_count": null,
      "outputs": []
    },
    {
      "cell_type": "code",
      "metadata": {
        "id": "mBPozL-eqTMN"
      },
      "source": [
        "#http://jalammar.github.io/gentle-visual-intro-to-data-analysis-python-pandas/"
      ],
      "execution_count": null,
      "outputs": []
    },
    {
      "cell_type": "code",
      "metadata": {
        "id": "gtepGweGqTMN"
      },
      "source": [
        "#https://towardsdatascience.com/data-visualization-exploration-using-pandas-only-beginner-a0a52eb723d5"
      ],
      "execution_count": null,
      "outputs": []
    },
    {
      "cell_type": "code",
      "metadata": {
        "id": "Ubxzz-9yqTMN"
      },
      "source": [
        ""
      ],
      "execution_count": null,
      "outputs": []
    },
    {
      "cell_type": "code",
      "metadata": {
        "id": "V0B9xofpqTMN"
      },
      "source": [
        ""
      ],
      "execution_count": null,
      "outputs": []
    }
  ]
}
{
 "cells": [
  {
   "cell_type": "markdown",
   "metadata": {},
   "source": [
    "# MySQL Data Elements QMB400"
   ]
  },
  {
   "cell_type": "markdown",
   "metadata": {
    "ExecuteTime": {
     "end_time": "2020-12-08T19:53:04.581887Z",
     "start_time": "2020-12-08T19:53:04.576928Z"
    },
    "hide_input": false
   },
   "source": [
    "### Sources:\n",
    "\n",
    "https://medium.com/@tattwei46/how-to-use-python-with-mysql-79304bee8753"
   ]
  },
  {
   "cell_type": "markdown",
   "metadata": {},
   "source": [
    "### Connecting to MySQL database"
   ]
  },
  {
   "cell_type": "code",
   "execution_count": 82,
   "metadata": {
    "ExecuteTime": {
     "end_time": "2020-12-08T20:36:02.505343Z",
     "start_time": "2020-12-08T20:36:02.501871Z"
    },
    "run_control": {
     "marked": true
    }
   },
   "outputs": [],
   "source": [
    "#import MySQl Libaries\n",
    "import mysql.connector\n",
    "# Import Data Libaries\n",
    "import numpy as np\n",
    "import matplotlib.pyplot as plt\n",
    "import pandas as pd\n",
    "import seaborn as sns\n",
    "\n"
   ]
  },
  {
   "cell_type": "code",
   "execution_count": 83,
   "metadata": {
    "ExecuteTime": {
     "end_time": "2020-12-08T20:36:02.962159Z",
     "start_time": "2020-12-08T20:36:02.955710Z"
    }
   },
   "outputs": [
    {
     "name": "stdout",
     "output_type": "stream",
     "text": [
      "<mysql.connector.connection.MySQLConnection object at 0x0000026841AE3C50>\n"
     ]
    }
   ],
   "source": [
    "# Check connection to MySQL DB\n",
    "db_connection = mysql.connector.connect(\n",
    "  host=\"localhost\",\n",
    "  user=\"root\",\n",
    "  password=\"*******\",\n",
    "  database=\"data_elements_class\"\n",
    ")\n",
    "\n",
    "print(db_connection)"
   ]
  },
  {
   "cell_type": "code",
   "execution_count": 84,
   "metadata": {
    "ExecuteTime": {
     "end_time": "2020-12-08T20:36:03.408557Z",
     "start_time": "2020-12-08T20:36:03.405085Z"
    }
   },
   "outputs": [],
   "source": [
    "# Create Cursor object  \n",
    "db_cursor = db_connection.cursor()"
   ]
  },
  {
   "cell_type": "code",
   "execution_count": 85,
   "metadata": {
    "ExecuteTime": {
     "end_time": "2020-12-08T20:36:04.630700Z",
     "start_time": "2020-12-08T20:36:04.624251Z"
    }
   },
   "outputs": [
    {
     "name": "stdout",
     "output_type": "stream",
     "text": [
      "40511702\n",
      "NOTARO RESTAURANT\n",
      "ABE\n",
      "635\n",
      "Italian\n",
      "15/06/2015\n",
      "Violations were cited in the following area(s).\n",
      "02B\n",
      "Hot food item not held at or above 140Âº F.\n",
      "Critical\n",
      "30\n",
      "\n",
      "\n",
      "28/08/2017\n",
      "Cycle Inspection / Initial Inspection\n"
     ]
    }
   ],
   "source": [
    "# select my schema table\n",
    "sql = \"SELECT * FROM data_elements_class.airport_data_mod_4\"\n",
    "db_cursor.execute(sql)\n",
    "\n",
    "myresult = db_cursor.fetchone()\n",
    "\n",
    "for x in myresult:\n",
    "  print(x)\n",
    "\n"
   ]
  },
  {
   "cell_type": "code",
   "execution_count": 86,
   "metadata": {
    "ExecuteTime": {
     "end_time": "2020-12-08T20:36:19.889121Z",
     "start_time": "2020-12-08T20:36:19.885650Z"
    }
   },
   "outputs": [
    {
     "name": "stdout",
     "output_type": "stream",
     "text": [
      "<mysql.connector.connection.MySQLConnection object at 0x0000026841AE3C50>\n"
     ]
    }
   ],
   "source": [
    "\n",
    "print(db_connection)"
   ]
  },
  {
   "cell_type": "markdown",
   "metadata": {},
   "source": [
    "### Importing MySQL for Preporccessing"
   ]
  },
  {
   "cell_type": "code",
   "execution_count": 88,
   "metadata": {
    "ExecuteTime": {
     "end_time": "2020-12-08T20:38:33.730036Z",
     "start_time": "2020-12-08T20:38:27.714062Z"
    }
   },
   "outputs": [],
   "source": [
    "# Import MySQL into a dataframe\n",
    "import mysql.connector as sql\n",
    "import pandas as pd\n",
    "\n",
    "db_connection = sql.connect(host='localhost', database='data_elements_class', user='root', password='Sp111579')\n",
    "\n",
    "db_cursor = db_connection.cursor()\n",
    "\n",
    "db_cursor.execute('SELECT * FROM airport_data_mod_4')\n",
    "\n",
    "table_rows = db_cursor.fetchall()\n",
    "\n",
    "df = pd.DataFrame(table_rows)\n",
    "\n",
    "df = pd.read_sql('SELECT * FROM airport_data_mod_4', con=db_connection)"
   ]
  },
  {
   "cell_type": "code",
   "execution_count": 90,
   "metadata": {
    "ExecuteTime": {
     "end_time": "2020-12-08T20:39:44.392560Z",
     "start_time": "2020-12-08T20:39:44.385120Z"
    }
   },
   "outputs": [
    {
     "name": "stdout",
     "output_type": "stream",
     "text": [
      "      CAMIS                      DBA AIRPORT BUILDING CUISINE DESCRIPTION  \\\n",
      "0  40511702        NOTARO RESTAURANT     ABE      635             Italian   \n",
      "1  40511702        NOTARO RESTAURANT     ABE      635             Italian   \n",
      "2  50046354                 VITE BAR     ABE     2507             Italian   \n",
      "3  50061389  TACK'S CHINESE TAKE OUT     ABE      11C             Chinese   \n",
      "4  41516263               NO QUARTER     ABE     8015            American   \n",
      "\n",
      "  INSPECTION DATE                                           ACTION  \\\n",
      "0      15/06/2015  Violations were cited in the following area(s).   \n",
      "1      25/11/2014  Violations were cited in the following area(s).   \n",
      "2       3/10/2016  Violations were cited in the following area(s).   \n",
      "3      17/05/2017  Violations were cited in the following area(s).   \n",
      "4      30/03/2017  Violations were cited in the following area(s).   \n",
      "\n",
      "  VIOLATION CODE                              VIOLATION DESCRIPTION  \\\n",
      "0            02B        Hot food item not held at or above 140Âº F.   \n",
      "1            20F              Current letter grade card not posted.   \n",
      "2            10F  Non-food contact surface improperly constructe...   \n",
      "3            02G  Cold food item held above 41Âº F (smoked fish ...   \n",
      "4            04M  Live roaches present in facility's food and/or...   \n",
      "\n",
      "  CRITICAL FLAG SCORE GRADE GRADE DATE RECORD DATE  \\\n",
      "0      Critical    30                   28/08/2017   \n",
      "1  Not Critical                         28/08/2017   \n",
      "2  Not Critical     2                   28/08/2017   \n",
      "3      Critical    46                   28/08/2017   \n",
      "4      Critical    18                   28/08/2017   \n",
      "\n",
      "                                     INSPECTION TYPE  \n",
      "0              Cycle Inspection / Initial Inspection  \n",
      "1  Administrative Miscellaneous / Initial Inspection  \n",
      "2      Pre-permit (Operational) / Initial Inspection  \n",
      "3      Pre-permit (Operational) / Initial Inspection  \n",
      "4              Cycle Inspection / Initial Inspection  \n"
     ]
    }
   ],
   "source": [
    "# Print head of MySQL database\n",
    "\n",
    "print(df.head(5))"
   ]
  },
  {
   "cell_type": "code",
   "execution_count": 91,
   "metadata": {
    "ExecuteTime": {
     "end_time": "2020-12-08T20:40:20.317285Z",
     "start_time": "2020-12-08T20:40:20.243875Z"
    }
   },
   "outputs": [
    {
     "name": "stdout",
     "output_type": "stream",
     "text": [
      "       CAMIS    DBA  AIRPORT  BUILDING  CUISINE DESCRIPTION  INSPECTION DATE  \\\n",
      "0      False  False    False     False                False            False   \n",
      "1      False  False    False     False                False            False   \n",
      "2      False  False    False     False                False            False   \n",
      "3      False  False    False     False                False            False   \n",
      "4      False  False    False     False                False            False   \n",
      "5      False  False    False     False                False            False   \n",
      "6      False  False    False     False                False            False   \n",
      "7      False  False    False     False                False            False   \n",
      "8      False  False    False     False                False            False   \n",
      "9      False  False    False     False                False            False   \n",
      "10     False  False    False     False                False            False   \n",
      "11     False  False    False     False                False            False   \n",
      "12     False  False    False     False                False            False   \n",
      "13     False  False    False     False                False            False   \n",
      "14     False  False    False     False                False            False   \n",
      "15     False  False    False     False                False            False   \n",
      "16     False  False    False     False                False            False   \n",
      "17     False  False    False     False                False            False   \n",
      "18     False  False    False     False                False            False   \n",
      "19     False  False    False     False                False            False   \n",
      "20     False  False    False     False                False            False   \n",
      "21     False  False    False     False                False            False   \n",
      "22     False  False    False     False                False            False   \n",
      "23     False  False    False     False                False            False   \n",
      "24     False  False    False     False                False            False   \n",
      "25     False  False    False     False                False            False   \n",
      "26     False  False    False     False                False            False   \n",
      "27     False  False    False     False                False            False   \n",
      "28     False  False    False     False                False            False   \n",
      "29     False  False    False     False                False            False   \n",
      "...      ...    ...      ...       ...                  ...              ...   \n",
      "67253  False  False    False     False                False            False   \n",
      "67254  False  False    False     False                False            False   \n",
      "67255  False  False    False     False                False            False   \n",
      "67256  False  False    False     False                False            False   \n",
      "67257  False  False    False     False                False            False   \n",
      "67258  False  False    False     False                False            False   \n",
      "67259  False  False    False     False                False            False   \n",
      "67260  False  False    False     False                False            False   \n",
      "67261  False  False    False     False                False            False   \n",
      "67262  False  False    False     False                False            False   \n",
      "67263  False  False    False     False                False            False   \n",
      "67264  False  False    False     False                False            False   \n",
      "67265  False  False    False     False                False            False   \n",
      "67266  False  False    False     False                False            False   \n",
      "67267  False  False    False     False                False            False   \n",
      "67268  False  False    False     False                False            False   \n",
      "67269  False  False    False     False                False            False   \n",
      "67270  False  False    False     False                False            False   \n",
      "67271  False  False    False     False                False            False   \n",
      "67272  False  False    False     False                False            False   \n",
      "67273  False  False    False     False                False            False   \n",
      "67274  False  False    False     False                False            False   \n",
      "67275  False  False    False     False                False            False   \n",
      "67276  False  False    False     False                False            False   \n",
      "67277  False  False    False     False                False            False   \n",
      "67278  False  False    False     False                False            False   \n",
      "67279  False  False    False     False                False            False   \n",
      "67280  False  False    False     False                False            False   \n",
      "67281  False  False    False     False                False            False   \n",
      "67282  False  False    False     False                False            False   \n",
      "\n",
      "       ACTION  VIOLATION CODE  VIOLATION DESCRIPTION  CRITICAL FLAG  SCORE  \\\n",
      "0       False           False                  False          False  False   \n",
      "1       False           False                  False          False  False   \n",
      "2       False           False                  False          False  False   \n",
      "3       False           False                  False          False  False   \n",
      "4       False           False                  False          False  False   \n",
      "5       False           False                  False          False  False   \n",
      "6       False           False                  False          False  False   \n",
      "7       False           False                  False          False  False   \n",
      "8       False           False                  False          False  False   \n",
      "9       False           False                  False          False  False   \n",
      "10      False           False                  False          False  False   \n",
      "11      False           False                  False          False  False   \n",
      "12      False           False                  False          False  False   \n",
      "13      False           False                  False          False  False   \n",
      "14      False           False                  False          False  False   \n",
      "15      False           False                  False          False  False   \n",
      "16      False           False                  False          False  False   \n",
      "17      False           False                  False          False  False   \n",
      "18      False           False                  False          False  False   \n",
      "19      False           False                  False          False  False   \n",
      "20      False           False                  False          False  False   \n",
      "21      False           False                  False          False  False   \n",
      "22      False           False                  False          False  False   \n",
      "23      False           False                  False          False  False   \n",
      "24      False           False                  False          False  False   \n",
      "25      False           False                  False          False  False   \n",
      "26      False           False                  False          False  False   \n",
      "27      False           False                  False          False  False   \n",
      "28      False           False                  False          False  False   \n",
      "29      False           False                  False          False  False   \n",
      "...       ...             ...                    ...            ...    ...   \n",
      "67253   False           False                  False          False  False   \n",
      "67254   False           False                  False          False  False   \n",
      "67255   False           False                  False          False  False   \n",
      "67256   False           False                  False          False  False   \n",
      "67257   False           False                  False          False  False   \n",
      "67258   False           False                  False          False  False   \n",
      "67259   False           False                  False          False  False   \n",
      "67260   False           False                  False          False  False   \n",
      "67261   False           False                  False          False  False   \n",
      "67262   False           False                  False          False  False   \n",
      "67263   False           False                  False          False  False   \n",
      "67264   False           False                  False          False  False   \n",
      "67265   False           False                  False          False  False   \n",
      "67266   False           False                  False          False  False   \n",
      "67267   False           False                  False          False  False   \n",
      "67268   False           False                  False          False  False   \n",
      "67269   False           False                  False          False  False   \n",
      "67270   False           False                  False          False  False   \n",
      "67271   False           False                  False          False  False   \n",
      "67272   False           False                  False          False  False   \n",
      "67273   False           False                  False          False  False   \n",
      "67274   False           False                  False          False  False   \n",
      "67275   False           False                  False          False  False   \n",
      "67276   False           False                  False          False  False   \n",
      "67277   False           False                  False          False  False   \n",
      "67278   False           False                  False          False  False   \n",
      "67279   False           False                  False          False  False   \n",
      "67280   False           False                  False          False  False   \n",
      "67281   False           False                  False          False  False   \n",
      "67282   False           False                  False          False  False   \n",
      "\n",
      "       GRADE  GRADE DATE  RECORD DATE  INSPECTION TYPE  \n",
      "0      False       False        False            False  \n",
      "1      False       False        False            False  \n",
      "2      False       False        False            False  \n",
      "3      False       False        False            False  \n",
      "4      False       False        False            False  \n",
      "5      False       False        False            False  \n",
      "6      False       False        False            False  \n",
      "7      False       False        False            False  \n",
      "8      False       False        False            False  \n",
      "9      False       False        False            False  \n",
      "10     False       False        False            False  \n",
      "11     False       False        False            False  \n",
      "12     False       False        False            False  \n",
      "13     False       False        False            False  \n",
      "14     False       False        False            False  \n",
      "15     False       False        False            False  \n",
      "16     False       False        False            False  \n",
      "17     False       False        False            False  \n",
      "18     False       False        False            False  \n",
      "19     False       False        False            False  \n",
      "20     False       False        False            False  \n",
      "21     False       False        False            False  \n",
      "22     False       False        False            False  \n",
      "23     False       False        False            False  \n",
      "24     False       False        False            False  \n",
      "25     False       False        False            False  \n",
      "26     False       False        False            False  \n",
      "27     False       False        False            False  \n",
      "28     False       False        False            False  \n",
      "29     False       False        False            False  \n",
      "...      ...         ...          ...              ...  \n",
      "67253  False       False        False            False  \n",
      "67254  False       False        False            False  \n",
      "67255  False       False        False            False  \n",
      "67256  False       False        False            False  \n",
      "67257  False       False        False            False  \n",
      "67258  False       False        False            False  \n",
      "67259  False       False        False            False  \n",
      "67260  False       False        False            False  \n",
      "67261  False       False        False            False  \n",
      "67262  False       False        False            False  \n",
      "67263  False       False        False            False  \n",
      "67264  False       False        False            False  \n",
      "67265  False       False        False            False  \n",
      "67266  False       False        False            False  \n",
      "67267  False       False        False            False  \n",
      "67268  False       False        False            False  \n",
      "67269  False       False        False            False  \n",
      "67270  False       False        False            False  \n",
      "67271  False       False        False            False  \n",
      "67272  False       False        False            False  \n",
      "67273  False       False        False            False  \n",
      "67274  False       False        False            False  \n",
      "67275  False       False        False            False  \n",
      "67276  False       False        False            False  \n",
      "67277  False       False        False            False  \n",
      "67278  False       False        False            False  \n",
      "67279  False       False        False            False  \n",
      "67280  False       False        False            False  \n",
      "67281  False       False        False            False  \n",
      "67282  False       False        False            False  \n",
      "\n",
      "[67283 rows x 15 columns]\n"
     ]
    }
   ],
   "source": [
    "print(df.isnull())\n",
    "#show null values"
   ]
  },
  {
   "cell_type": "code",
   "execution_count": 93,
   "metadata": {
    "ExecuteTime": {
     "end_time": "2020-12-08T20:42:12.187419Z",
     "start_time": "2020-12-08T20:42:12.121450Z"
    }
   },
   "outputs": [
    {
     "name": "stdout",
     "output_type": "stream",
     "text": [
      "CAMIS                       0\n",
      "DBA                         0\n",
      "AIRPORT                  9309\n",
      "BUILDING                    0\n",
      "CUISINE DESCRIPTION         0\n",
      "INSPECTION DATE             0\n",
      "ACTION                      0\n",
      "VIOLATION CODE              0\n",
      "VIOLATION DESCRIPTION       0\n",
      "CRITICAL FLAG               0\n",
      "SCORE                       0\n",
      "GRADE                       0\n",
      "GRADE DATE                  0\n",
      "RECORD DATE                 0\n",
      "INSPECTION TYPE             0\n",
      "dtype: int64\n"
     ]
    }
   ],
   "source": [
    "print(df.isnull().sum())\n",
    "#counts all null values in each column"
   ]
  },
  {
   "cell_type": "code",
   "execution_count": 94,
   "metadata": {
    "ExecuteTime": {
     "end_time": "2020-12-08T20:43:20.483530Z",
     "start_time": "2020-12-08T20:43:20.441369Z"
    }
   },
   "outputs": [
    {
     "name": "stdout",
     "output_type": "stream",
     "text": [
      "count              67283\n",
      "unique             17105\n",
      "top       DUNKIN' DONUTS\n",
      "freq                 736\n",
      "Name: DBA, dtype: object\n"
     ]
    }
   ],
   "source": [
    "# Get inference data from columns\n",
    "print(df.DBA.describe())"
   ]
  },
  {
   "cell_type": "code",
   "execution_count": 95,
   "metadata": {
    "ExecuteTime": {
     "end_time": "2020-12-08T22:00:54.391413Z",
     "start_time": "2020-12-08T22:00:54.386949Z"
    }
   },
   "outputs": [
    {
     "ename": "SyntaxError",
     "evalue": "EOL while scanning string literal (<ipython-input-95-e8cbfb693525>, line 1)",
     "output_type": "error",
     "traceback": [
      "\u001b[1;36m  File \u001b[1;32m\"<ipython-input-95-e8cbfb693525>\"\u001b[1;36m, line \u001b[1;32m1\u001b[0m\n\u001b[1;33m    db_cursor.execute('SELECT max(`INSPECTION DATE`) ,count(`VIOLATION DESCRIPTION`) as Number_of_violations,`AIRPORT`\u001b[0m\n\u001b[1;37m                                                                                                                      ^\u001b[0m\n\u001b[1;31mSyntaxError\u001b[0m\u001b[1;31m:\u001b[0m EOL while scanning string literal\n"
     ]
    }
   ],
   "source": []
  },
  {
   "cell_type": "code",
   "execution_count": 198,
   "metadata": {
    "ExecuteTime": {
     "end_time": "2020-12-09T00:30:28.120072Z",
     "start_time": "2020-12-09T00:30:27.939031Z"
    },
    "run_control": {
     "marked": true
    },
    "scrolled": true
   },
   "outputs": [
    {
     "data": {
      "text/plain": [
       "<matplotlib.axes._subplots.AxesSubplot at 0x2685818bb70>"
      ]
     },
     "execution_count": 198,
     "metadata": {},
     "output_type": "execute_result"
    },
    {
     "data": {
      "image/png": "[encoded data removed]",
      "text/plain": [
       "<Figure size 720x360 with 1 Axes>"
      ]
     },
     "metadata": {
      "needs_background": "light"
     },
     "output_type": "display_data"
    }
   ],
   "source": [
    "gp = df.groupby(by=['GRADE'])\n",
    "dba_avg = gp.mean()\n",
    "dba_ct = gp.count()\n",
    "# print(dba_ct)\n",
    "dba_ct.iloc[1:10, 1].sort_values( ascending=True).plot(figsize=(10,5), kind='barh')"
   ]
  },
  {
   "cell_type": "code",
   "execution_count": 192,
   "metadata": {
    "ExecuteTime": {
     "end_time": "2020-12-09T00:04:11.467425Z",
     "start_time": "2020-12-09T00:04:11.357313Z"
    }
   },
   "outputs": [],
   "source": [
    "tgrouped=df.groupby(['DBA']).count()\n"
   ]
  },
  {
   "cell_type": "code",
   "execution_count": 193,
   "metadata": {
    "ExecuteTime": {
     "end_time": "2020-12-09T00:04:20.741620Z",
     "start_time": "2020-12-09T00:04:20.733186Z"
    }
   },
   "outputs": [],
   "source": [
    "test=tgrouped.sort_values(by='AIRPORT', ascending=False)[:10]"
   ]
  },
  {
   "cell_type": "code",
   "execution_count": 194,
   "metadata": {
    "ExecuteTime": {
     "end_time": "2020-12-09T00:04:23.796973Z",
     "start_time": "2020-12-09T00:04:23.791518Z"
    }
   },
   "outputs": [],
   "source": [
    "test2 =test.groupby(['AIRPORT']).max(min_count=- 1)"
   ]
  },
  {
   "cell_type": "code",
   "execution_count": 196,
   "metadata": {
    "ExecuteTime": {
     "end_time": "2020-12-09T00:04:39.851970Z",
     "start_time": "2020-12-09T00:04:39.689285Z"
    }
   },
   "outputs": [
    {
     "ename": "NameError",
     "evalue": "name 'ax' is not defined",
     "output_type": "error",
     "traceback": [
      "\u001b[1;31m---------------------------------------------------------------------------\u001b[0m",
      "\u001b[1;31mNameError\u001b[0m                                 Traceback (most recent call last)",
      "\u001b[1;32m<ipython-input-196-447a58c671fa>\u001b[0m in \u001b[0;36m<module>\u001b[1;34m\u001b[0m\n\u001b[0;32m      1\u001b[0m \u001b[0mtest\u001b[0m\u001b[1;33m[\u001b[0m\u001b[1;34m'AIRPORT'\u001b[0m\u001b[1;33m]\u001b[0m\u001b[1;33m.\u001b[0m\u001b[0mplot\u001b[0m\u001b[1;33m(\u001b[0m\u001b[0mkind\u001b[0m\u001b[1;33m=\u001b[0m\u001b[1;34m'barh'\u001b[0m\u001b[1;33m,\u001b[0m \u001b[0mstacked\u001b[0m\u001b[1;33m=\u001b[0m\u001b[1;32mFalse\u001b[0m\u001b[1;33m,\u001b[0m \u001b[0mfigsize\u001b[0m\u001b[1;33m=\u001b[0m\u001b[1;33m[\u001b[0m\u001b[1;36m15\u001b[0m\u001b[1;33m,\u001b[0m\u001b[1;36m6\u001b[0m\u001b[1;33m]\u001b[0m\u001b[1;33m,\u001b[0m \u001b[0mcolormap\u001b[0m\u001b[1;33m=\u001b[0m\u001b[1;34m'winter'\u001b[0m\u001b[1;33m,\u001b[0m  \u001b[0mstyle\u001b[0m\u001b[1;33m=\u001b[0m\u001b[1;34m'g'\u001b[0m\u001b[1;33m,\u001b[0m  \u001b[0msubplots\u001b[0m\u001b[1;33m=\u001b[0m\u001b[1;32mTrue\u001b[0m\u001b[1;33m)\u001b[0m\u001b[1;33m\u001b[0m\u001b[1;33m\u001b[0m\u001b[0m\n\u001b[1;32m----> 2\u001b[1;33m \u001b[0max\u001b[0m\u001b[1;33m.\u001b[0m\u001b[0minvert_xaxis\u001b[0m\u001b[1;33m(\u001b[0m\u001b[1;33m)\u001b[0m\u001b[1;33m\u001b[0m\u001b[1;33m\u001b[0m\u001b[0m\n\u001b[0m",
      "\u001b[1;31mNameError\u001b[0m: name 'ax' is not defined"
     ]
    },
    {
     "data": {
      "image/png": "[encoded data removed]",
      "text/plain": [
       "<Figure size 1080x432 with 1 Axes>"
      ]
     },
     "metadata": {
      "needs_background": "light"
     },
     "output_type": "display_data"
    }
   ],
   "source": [
    "test['AIRPORT'].plot(kind='barh', stacked=False, figsize=[15,6], colormap='winter',  style='g',  subplots=True) \n",
    "ax.invert_xaxis()"
   ]
  },
  {
   "cell_type": "code",
   "execution_count": null,
   "metadata": {},
   "outputs": [],
   "source": []
  }
 ],
 "metadata": {
  "hide_input": false,
  "kernelspec": {
   "display_name": "Python 3",
   "language": "python",
   "name": "python3"
  },
  "language_info": {
   "codemirror_mode": {
    "name": "ipython",
    "version": 3
   },
   "file_extension": ".py",
   "mimetype": "text/x-python",
   "name": "python",
   "nbconvert_exporter": "python",
   "pygments_lexer": "ipython3",
   "version": "3.7.1"
  },
  "latex_envs": {
   "LaTeX_envs_menu_present": true,
   "autoclose": false,
   "autocomplete": true,
   "bibliofile": "biblio.bib",
   "cite_by": "apalike",
   "current_citInitial": 1,
   "eqLabelWithNumbers": true,
   "eqNumInitial": 1,
   "hotkeys": {
    "equation": "Ctrl-E",
    "itemize": "Ctrl-I"
   },
   "labels_anchors": false,
   "latex_user_defs": false,
   "report_style_numbering": false,
   "user_envs_cfg": false
  },
  "toc": {
   "base_numbering": 1,
   "nav_menu": {},
   "number_sections": true,
   "sideBar": true,
   "skip_h1_title": false,
   "title_cell": "Table of Contents",
   "title_sidebar": "Contents",
   "toc_cell": false,
   "toc_position": {},
   "toc_section_display": true,
   "toc_window_display": false
  },
  "varInspector": {
   "cols": {
    "lenName": 16,
    "lenType": 16,
    "lenVar": 40
   },
   "kernels_config": {
    "python": {
     "delete_cmd_postfix": "",
     "delete_cmd_prefix": "del ",
     "library": "var_list.py",
     "varRefreshCmd": "print(var_dic_list())"
    },
    "r": {
     "delete_cmd_postfix": ") ",
     "delete_cmd_prefix": "rm(",
     "library": "var_list.r",
     "varRefreshCmd": "cat(var_dic_list()) "
    }
   },
   "types_to_exclude": [
    "module",
    "function",
    "builtin_function_or_method",
    "instance",
    "_Feature"
   ],
   "window_display": false
  }
 },
 "nbformat": 4,
 "nbformat_minor": 4
}

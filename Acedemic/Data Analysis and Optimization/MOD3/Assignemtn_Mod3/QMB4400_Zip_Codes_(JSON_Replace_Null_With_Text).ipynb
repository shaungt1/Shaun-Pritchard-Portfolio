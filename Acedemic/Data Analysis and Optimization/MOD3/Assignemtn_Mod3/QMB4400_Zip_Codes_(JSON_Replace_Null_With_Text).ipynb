{
  "nbformat": 4,
  "nbformat_minor": 0,
  "metadata": {
    "colab": {
      "name": "QMB4400-Zip Codes (JSON-Replace Null With Text).ipynb",
      "private_outputs": true,
      "provenance": []
    },
    "kernelspec": {
      "name": "python3",
      "display_name": "Python 3"
    },
    "language_info": {
      "name": "python"
    }
  },
  "cells": [
    {
      "cell_type": "markdown",
      "metadata": {
        "id": "V5jygiL5ZdHi"
      },
      "source": [
        "# **Module 03 QMB 4400**\n",
        "\n",
        "<hr>\n",
        "\n",
        "### Asignment Module 3:\n",
        "Step 1: Use Pandas to read the JSON file.\n",
        "Step 2: Analyze the data.\n",
        "Step 3: Update the zip code = blank or null to something meaningful such as Not Available.\n",
        "Step 4: Write the JSON file using the Pandas."
      ]
    },
    {
      "cell_type": "code",
      "metadata": {
        "id": "b1ohIPZWZLVr"
      },
      "source": [
        "# loading libraries\n",
        "import pandas as pd\n",
        "import numpy as np\n",
        "import matplotlib.pyplot as plt"
      ],
      "execution_count": null,
      "outputs": []
    },
    {
      "cell_type": "code",
      "metadata": {
        "id": "BCUU5hujZvOv"
      },
      "source": [
        "#Creating a dataframe 1\n",
        "df = pd.read_json('/content/zips.json',lines=True)"
      ],
      "execution_count": null,
      "outputs": []
    },
    {
      "cell_type": "code",
      "metadata": {
        "id": "KUSj0BeOaPSA"
      },
      "source": [
        "df.head(10)"
      ],
      "execution_count": null,
      "outputs": []
    },
    {
      "cell_type": "code",
      "metadata": {
        "id": "DVbW7eLqxjow"
      },
      "source": [
        "#counts all null values in each column\n",
        "print(df.isnull().sum())"
      ],
      "execution_count": null,
      "outputs": []
    },
    {
      "cell_type": "code",
      "metadata": {
        "id": "TYJsFEmYx5vh"
      },
      "source": [
        "# step 2 - Replace vlaues with NAN\n",
        "df.replace(r'', np.NaN)"
      ],
      "execution_count": null,
      "outputs": []
    },
    {
      "cell_type": "code",
      "metadata": {
        "id": "6hpFiX2YylQ3"
      },
      "source": [
        "df.replace(r'', 'Not Here')"
      ],
      "execution_count": null,
      "outputs": []
    },
    {
      "cell_type": "code",
      "metadata": {
        "id": "sgXIJ9nGZvjs"
      },
      "source": [
        "# Write data to JSON file\n",
        "df.to_json(r'/content/ZipOutput.json')"
      ],
      "execution_count": null,
      "outputs": []
    }
  ]
}
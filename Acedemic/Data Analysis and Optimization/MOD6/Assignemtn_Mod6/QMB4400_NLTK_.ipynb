{
  "nbformat": 4,
  "nbformat_minor": 0,
  "metadata": {
    "colab": {
      "name": "QMB4400-NLTK .ipynb",
      "private_outputs": true,
      "provenance": [],
      "collapsed_sections": [],
      "toc_visible": true
    },
    "kernelspec": {
      "name": "python3",
      "display_name": "Python 3"
    },
    "language_info": {
      "name": "python"
    }
  },
  "cells": [
    {
      "cell_type": "markdown",
      "metadata": {
        "id": "V5jygiL5ZdHi"
      },
      "source": [
        "# **Module 06 QMB 4400**\n",
        "\n",
        "<hr>\n",
        "\n",
        "### Asignment Module 6:\n",
        "You recently started working as a data analyst and need to analyze the data using NLTK. You need to analyze the paragraph below and assign a “Minnesota” keyword as a stop words.\n",
        "\n",
        "**You need to perform following tasks:**\n",
        "- Tokenized words\n",
        "- Print the filtered list without “Minnesota” keyword.\n",
        "\n",
        "\n",
        "**For your submission, include the following:**\n",
        "- The original script.\n",
        "- An output screenshot."
      ]
    },
    {
      "cell_type": "code",
      "metadata": {
        "id": "FiRs6FxxTGjf"
      },
      "source": [
        "# Install NLTK packages\n",
        "! pip install nltk"
      ],
      "execution_count": null,
      "outputs": []
    },
    {
      "cell_type": "code",
      "metadata": {
        "id": "xlOUcto1XP-y"
      },
      "source": [
        "# Download NLTK resources\n",
        "nltk.download('stopwords')"
      ],
      "execution_count": null,
      "outputs": []
    },
    {
      "cell_type": "code",
      "metadata": {
        "id": "b1ohIPZWZLVr"
      },
      "source": [
        "# Assign import variables \n",
        "from nltk import word_tokenize\n",
        "from nltk.corpus import stopwords\n",
        "import pandas as pd\n",
        "import numpy as np"
      ],
      "execution_count": null,
      "outputs": []
    },
    {
      "cell_type": "code",
      "metadata": {
        "id": "YMffniWdaQc-"
      },
      "source": [
        "# Add Minnesota to stop words list\n",
        "all_stopwords = stopwords.words('english')\n",
        "all_stopwords.append('Minnesota')"
      ],
      "execution_count": null,
      "outputs": []
    },
    {
      "cell_type": "code",
      "metadata": {
        "id": "stOfw_h9c4vc"
      },
      "source": [
        "# verify new stopwords list\n",
        "print(all_stopwords)"
      ],
      "execution_count": null,
      "outputs": []
    },
    {
      "cell_type": "code",
      "metadata": {
        "id": "KUSj0BeOaPSA"
      },
      "source": [
        "# Add assignment paragraph to a variable \n",
        "text = \"\"\" This school was founded in 1900 by Peter Mullin as the Mullin Practical School of Business located in Stillwater Minnesota Mullin believed that the need for skilled professionals by the local business community was not being met\n",
        "The first classes were held in September 1900 With the advent of women's suffrage in 1920 through the passage of the Nineteenth Amendment the school’s female enrollment began to increase\n",
        "\"\"\""
      ],
      "execution_count": null,
      "outputs": []
    },
    {
      "cell_type": "code",
      "metadata": {
        "id": "eyUVzzx07sdI"
      },
      "source": [
        "# tokenize data\n",
        "tko = word_tokenize(text)"
      ],
      "execution_count": null,
      "outputs": []
    },
    {
      "cell_type": "code",
      "metadata": {
        "id": "DVbW7eLqxjow"
      },
      "source": [
        "# Validate tokinized data\n",
        "print(tko)"
      ],
      "execution_count": null,
      "outputs": []
    },
    {
      "cell_type": "code",
      "metadata": {
        "id": "TYJsFEmYx5vh"
      },
      "source": [
        "# loop through NLTK and proccess data\n",
        "stopwords = [x for x in tko if x not in all_stopwords]\n",
        "# Print filtered list without stop words\n",
        "print(stopwords)"
      ],
      "execution_count": null,
      "outputs": []
    },
    {
      "cell_type": "code",
      "metadata": {
        "id": "5K1Ht_dtdYMP"
      },
      "source": [
        "# Add Final stopwords to a dataframe to validate assignment\n",
        "df = pd. DataFrame(stopwords)\n",
        "print(\n",
        "df.describe() ,\n",
        "\"\\n List of tokinized words without Minnesota \\n\",\n",
        "df.value_counts())"
      ],
      "execution_count": null,
      "outputs": []
    }
  ]
}
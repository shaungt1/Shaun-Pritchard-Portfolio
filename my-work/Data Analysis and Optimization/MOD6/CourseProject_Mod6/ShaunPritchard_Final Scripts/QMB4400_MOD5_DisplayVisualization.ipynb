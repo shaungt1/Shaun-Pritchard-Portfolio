{
  "nbformat": 4,
  "nbformat_minor": 0,
  "metadata": {
    "colab": {
      "name": "QMB4400_MOD5_DisplayVisualization.ipynb",
      "private_outputs": true,
      "provenance": [],
      "collapsed_sections": [],
      "toc_visible": true
    },
    "kernelspec": {
      "name": "python3",
      "display_name": "Python 3"
    },
    "language_info": {
      "name": "python"
    }
  },
  "cells": [
    {
      "cell_type": "markdown",
      "metadata": {
        "id": "LIgFti04kpWN"
      },
      "source": [
        "# **Module 05 Course Project - Display Visualization**\n",
        "\n",
        "<hr>\n",
        "\n",
        "### Course Project Module 5:\n",
        "Write a Python script that can perform following tasks.\n",
        "\n",
        "- Step 1: Group Neighbourhood and display the count(No-Show=Yes)\n",
        "- Step 2: Use matplotlib to draw line chart (x-axis Neighbourhood and y-axis count)"
      ]
    },
    {
      "cell_type": "markdown",
      "metadata": {
        "id": "M2P4c76Yk95V"
      },
      "source": [
        "### **Import Libaries**"
      ]
    },
    {
      "cell_type": "code",
      "metadata": {
        "id": "7ZCvaOo0lCHD"
      },
      "source": [
        "# loading libraries\n",
        "import pandas as pd\n",
        "import numpy as np\n",
        "import matplotlib.pyplot as plt\n",
        "import seaborn as sn\n",
        "from matplotlib.backends.backend_pdf import PdfPages\n",
        "import matplotlib\n",
        "# Customize matplotlib\n",
        "matplotlib.rcParams.update(\n",
        "    {\n",
        "        'text.usetex': False,\n",
        "        'font.family': 'stixgeneral',\n",
        "        'mathtext.fontset': 'stix',\n",
        "    }\n",
        ")\n",
        "from matplotlib import font_manager as fm, rcParams\n",
        "# import warnings\n",
        "# warnings.filterwarnings('ignore')"
      ],
      "execution_count": null,
      "outputs": []
    },
    {
      "cell_type": "markdown",
      "metadata": {
        "id": "fjo2MRbMk4M-"
      },
      "source": [
        "### **Import Data**"
      ]
    },
    {
      "cell_type": "code",
      "metadata": {
        "id": "wztBPDMtXDKM"
      },
      "source": [
        "# Load data to dataframe\n",
        "df = pd.read_csv('/content/noshowappointments.csv', encoding='iso-8859-1')"
      ],
      "execution_count": null,
      "outputs": []
    },
    {
      "cell_type": "code",
      "metadata": {
        "id": "KU0VGKq8C-oJ"
      },
      "source": [
        "# Check Data\n",
        "df.head()"
      ],
      "execution_count": null,
      "outputs": []
    },
    {
      "cell_type": "markdown",
      "metadata": {
        "id": "kjc0rBOqlC5E"
      },
      "source": [
        "### **Process Data**"
      ]
    },
    {
      "cell_type": "code",
      "metadata": {
        "id": "SZuVgSmWEkVS"
      },
      "source": [
        "# Create new dataframe wiht only YES values in feature column No-Show\n",
        "df1 = df[df['No-show']==\"Yes\"]"
      ],
      "execution_count": null,
      "outputs": []
    },
    {
      "cell_type": "code",
      "metadata": {
        "id": "DpHIrai7Eu6w"
      },
      "source": [
        "# Total number of patients with No-Show equal to Yes \n",
        "df1.shape"
      ],
      "execution_count": null,
      "outputs": []
    },
    {
      "cell_type": "code",
      "metadata": {
        "id": "yDBXBz9lpGC0"
      },
      "source": [
        "# Check new dataframe validation No-show = Yes\n",
        "df1.head()"
      ],
      "execution_count": null,
      "outputs": []
    },
    {
      "cell_type": "code",
      "metadata": {
        "id": "IDbvU06y04Qj"
      },
      "source": [
        ""
      ],
      "execution_count": null,
      "outputs": []
    },
    {
      "cell_type": "markdown",
      "metadata": {
        "id": "oZd0eYL405VR"
      },
      "source": [
        "### **Clean Data**"
      ]
    },
    {
      "cell_type": "code",
      "metadata": {
        "id": "CWDiscS1EyaG"
      },
      "source": [
        "# Drop null values\n",
        "df1.dropna()\n",
        "df1.count(0)"
      ],
      "execution_count": null,
      "outputs": []
    },
    {
      "cell_type": "markdown",
      "metadata": {
        "id": "9n_QbWZ41mcu"
      },
      "source": [
        "### **Encode Feature Colums X & Y**"
      ]
    },
    {
      "cell_type": "code",
      "metadata": {
        "id": "6iGCXFBto-R7"
      },
      "source": [
        "# Seperate categorical Varibles\n",
        "obj_df = df1.select_dtypes(include=['object']).copy()\n",
        "obj_df.head()"
      ],
      "execution_count": null,
      "outputs": []
    },
    {
      "cell_type": "code",
      "metadata": {
        "id": "qEhPUjSDrhT5"
      },
      "source": [
        "#  Convert Neighbourhood & Count column to a category\n",
        "obj_df[\"Neighbourhood\"] = obj_df[\"Neighbourhood\"].astype('category')\n",
        "obj_df[\"Count\"] = obj_df[\"Neighbourhood\"].value_counts().astype('category')\n",
        "obj_df.dtypes"
      ],
      "execution_count": null,
      "outputs": []
    },
    {
      "cell_type": "code",
      "metadata": {
        "id": "wS44j63sbisv"
      },
      "source": [
        "# Encode Neighbourhood and count column feature\n",
        "obj_df[\"Neighbourhood_cat\"] = obj_df[\"Neighbourhood\"].cat.codes\n",
        "obj_df[\"Count\"] = obj_df[\"Neighbourhood\"].cat.codes\n",
        "obj_df.head(5)"
      ],
      "execution_count": null,
      "outputs": []
    },
    {
      "cell_type": "markdown",
      "metadata": {
        "id": "TAVNrVY3eJ0E"
      },
      "source": [
        "### **Pre-Proccess Visual Data**"
      ]
    },
    {
      "cell_type": "code",
      "metadata": {
        "id": "xN18XuCLVo0C"
      },
      "source": [
        "# Use encoded column vector to set X & Y varibles for trend line\n",
        "x = obj_df['Neighbourhood_cat']\n",
        "y = obj_df['Count']"
      ],
      "execution_count": null,
      "outputs": []
    },
    {
      "cell_type": "code",
      "metadata": {
        "id": "InSPLzk22OCg"
      },
      "source": [
        ""
      ],
      "execution_count": null,
      "outputs": []
    },
    {
      "cell_type": "markdown",
      "metadata": {
        "id": "wk2IFoB72L38"
      },
      "source": [
        ""
      ]
    },
    {
      "cell_type": "markdown",
      "metadata": {
        "id": "s9dAcFJ4lF9P"
      },
      "source": [
        "### **Visualize Data**"
      ]
    },
    {
      "cell_type": "code",
      "metadata": {
        "id": "Pn-pn9nslGYd"
      },
      "source": [
        "# Setup PDF output file for chart\n",
        "with PdfPages(r'/content/Mod5CourseProjectChartpdf') as export_pdf:\n",
        "  # Plot line graph with trend line for better visulization\n",
        "  df1['Neighbourhood'].value_counts().plot.line(x= 'Neighbourhood', y= 'Count',  figsize=[18,8], colormap='spring', title=\"Neighbourhood Count\")\n",
        " \n",
        " \n",
        "\n",
        "  #Plot Trend Line\n",
        "  z = np.polyfit(x, y, 1)\n",
        "  p = np.poly1d(z)\n",
        "  plt.plot(x,p(x),\"r--\")\n",
        "\n",
        "  #Plot X & Y Axis labels\n",
        "  plt.xlabel('Neighbourhood', fontsize=14)\n",
        "  plt.ylabel('Count', fontsize=14)\n",
        "\n",
        "  # Plot grid\n",
        "  plt.grid(True)\n",
        "  # Send plot to PDF with data output:\n",
        "  export_pdf.savefig()"
      ],
      "execution_count": null,
      "outputs": []
    }
  ]
}
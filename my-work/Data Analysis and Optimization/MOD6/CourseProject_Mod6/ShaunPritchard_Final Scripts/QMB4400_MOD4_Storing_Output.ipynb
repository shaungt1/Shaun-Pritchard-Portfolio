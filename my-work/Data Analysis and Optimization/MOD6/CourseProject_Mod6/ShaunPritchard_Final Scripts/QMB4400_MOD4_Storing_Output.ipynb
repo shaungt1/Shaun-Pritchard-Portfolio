{
  "nbformat": 4,
  "nbformat_minor": 0,
  "metadata": {
    "colab": {
      "name": "QMB4400-MOD4_Storing Output.ipynb",
      "private_outputs": true,
      "provenance": [],
      "collapsed_sections": []
    },
    "kernelspec": {
      "name": "python3",
      "display_name": "Python 3"
    }
  },
  "cells": [
    {
      "cell_type": "markdown",
      "metadata": {
        "id": "77d886rCWawp"
      },
      "source": [
        "# **Storing Output**"
      ]
    },
    {
      "cell_type": "markdown",
      "metadata": {
        "id": "VrQGRnlDWAYb"
      },
      "source": [
        "# **Module 04 Course Project - Storing Output**\n",
        "\n",
        "<hr>\n",
        "\n",
        "### Course Project Module 4:\n",
        "Then write a Python script that can perform following tasks.\n",
        "\n",
        "- Step 1: Create two tables inside SQLite database\n",
        "- Step 2: Store following outputs\n",
        "\n",
        "\n",
        "Neighbourhood, count(No-Shows=Yes)\n",
        "\n",
        "PatientID, count(No-Shows=Yes)"
      ]
    },
    {
      "cell_type": "markdown",
      "metadata": {
        "id": "VuJDrsGFW4jW"
      },
      "source": [
        "## **Importing Libaries**"
      ]
    },
    {
      "cell_type": "code",
      "metadata": {
        "id": "wfFEXZC0WS-V"
      },
      "source": [
        "# loading libraries\n",
        "import sqlite3 as sql\n",
        "import pandas as pd\n",
        "import numpy as np"
      ],
      "execution_count": null,
      "outputs": []
    },
    {
      "cell_type": "markdown",
      "metadata": {
        "id": "9asN9rcgXJmI"
      },
      "source": [
        "## **Importing the Dataset**"
      ]
    },
    {
      "cell_type": "code",
      "metadata": {
        "id": "wztBPDMtXDKM"
      },
      "source": [
        "# Load data to dataframe\n",
        "df = pd.read_csv('/content/noshowappointments.csv', encoding='iso-8859-1')"
      ],
      "execution_count": null,
      "outputs": []
    },
    {
      "cell_type": "code",
      "metadata": {
        "id": "KU0VGKq8C-oJ"
      },
      "source": [
        "# Check Data\n",
        "df.head()"
      ],
      "execution_count": null,
      "outputs": []
    },
    {
      "cell_type": "code",
      "metadata": {
        "id": "SZuVgSmWEkVS"
      },
      "source": [
        "# Create new dataframe wiht only YES values in feature column No-Show\n",
        "df1 = df[df['No-show']==\"Yes\"]"
      ],
      "execution_count": null,
      "outputs": []
    },
    {
      "cell_type": "code",
      "metadata": {
        "id": "DpHIrai7Eu6w"
      },
      "source": [
        "# Total number of patients with No-Show equal to Yes \n",
        "df1.shape"
      ],
      "execution_count": null,
      "outputs": []
    },
    {
      "cell_type": "code",
      "metadata": {
        "id": "CWDiscS1EyaG"
      },
      "source": [
        "tb1 = df1.PatientId.value_counts(dropna=True)"
      ],
      "execution_count": null,
      "outputs": []
    },
    {
      "cell_type": "code",
      "metadata": {
        "id": "0WXWsPyoFS_b"
      },
      "source": [
        "# Check Data tb1\n",
        "tb1.head()"
      ],
      "execution_count": null,
      "outputs": []
    },
    {
      "cell_type": "code",
      "metadata": {
        "id": "44MNxd1eE0kK"
      },
      "source": [
        "tb2 = df1.Neighbourhood.value_counts(dropna=True)"
      ],
      "execution_count": null,
      "outputs": []
    },
    {
      "cell_type": "code",
      "metadata": {
        "id": "WSkjMPwIFTmz"
      },
      "source": [
        "# Check Data tb2\n",
        "tb2.head()"
      ],
      "execution_count": null,
      "outputs": []
    },
    {
      "cell_type": "code",
      "metadata": {
        "id": "hWoWjiNyFEKh"
      },
      "source": [
        "# Create Mysql Connection\n",
        "conn = sql.connect('apt.db')"
      ],
      "execution_count": null,
      "outputs": []
    },
    {
      "cell_type": "code",
      "metadata": {
        "id": "3VgkP4oiFEOT"
      },
      "source": [
        "# Create table 1 PatientId\n",
        "df1.to_sql('PatientId', conn)\n"
      ],
      "execution_count": null,
      "outputs": []
    },
    {
      "cell_type": "code",
      "metadata": {
        "id": "a30pwo_pFER0"
      },
      "source": [
        "# Create table 1 PatientId\n",
        "df1.to_sql('Neighbourhood', conn)"
      ],
      "execution_count": null,
      "outputs": []
    },
    {
      "cell_type": "code",
      "metadata": {
        "id": "ASrMdyGhHIpO"
      },
      "source": [
        "# Read SQL data into a new variable select all collumns and rows\n",
        "sql1 = pd.read_sql('SELECT * FROM PatientId', conn)"
      ],
      "execution_count": null,
      "outputs": []
    },
    {
      "cell_type": "code",
      "metadata": {
        "id": "oLo1_mJvHIsU"
      },
      "source": [
        "# Read SQL data into a new variable select all collumns and rows\n",
        "sql2 = pd.read_sql('SELECT * FROM Neighbourhood', conn)"
      ],
      "execution_count": null,
      "outputs": []
    },
    {
      "cell_type": "code",
      "metadata": {
        "id": "Cx5--zqKHIux"
      },
      "source": [
        "# Check Data sql 1\n",
        "sql1.head()"
      ],
      "execution_count": null,
      "outputs": []
    },
    {
      "cell_type": "code",
      "metadata": {
        "id": "FjVVtXckHd4K"
      },
      "source": [
        "# Check Data sql 2\n",
        "sql2.head()"
      ],
      "execution_count": null,
      "outputs": []
    },
    {
      "cell_type": "code",
      "metadata": {
        "id": "b8Lv9qAIHy0D"
      },
      "source": [
        "# Join tables for easy visulization\n",
        "output = pd.concat([sql1, sql2], axis=0)"
      ],
      "execution_count": null,
      "outputs": []
    },
    {
      "cell_type": "code",
      "metadata": {
        "id": "JlFHn4nNIUxh"
      },
      "source": [
        "# Check final output\n",
        "output.head()"
      ],
      "execution_count": null,
      "outputs": []
    },
    {
      "cell_type": "code",
      "metadata": {
        "id": "MZ7kRPCzJPKR"
      },
      "source": [
        "# Verify Join of output\n",
        "output.shape"
      ],
      "execution_count": null,
      "outputs": []
    },
    {
      "cell_type": "code",
      "metadata": {
        "id": "lmvDEw6MJfMI"
      },
      "source": [
        "# Print SQL joined tables to an output File\n",
        "output.to_csv(r'NoShowOutput_mod4.csv', header=True, index=False, sep=',', mode='w', encoding= 'UTF8')"
      ],
      "execution_count": null,
      "outputs": []
    }
  ]
}
{
  "nbformat": 4,
  "nbformat_minor": 0,
  "metadata": {
    "colab": {
      "name": "United States Government Assignment_QMB4400.ipynb",
      "private_outputs": true,
      "provenance": [],
      "toc_visible": true
    },
    "kernelspec": {
      "name": "python3",
      "display_name": "Python 3"
    },
    "language_info": {
      "name": "python"
    }
  },
  "cells": [
    {
      "cell_type": "markdown",
      "metadata": {
        "id": "V5jygiL5ZdHi"
      },
      "source": [
        "# **Module 02 QMB 4400**\n",
        "\n",
        "<hr>\n",
        "\n",
        "### Assignment Module 2:\n",
        "Step 1: Read trump_forbes_richest_americans.csv file using NumPy.\n",
        "\n",
        "Step 2: Use masked array concept to mask the array value where value=NA.\n",
        "\n",
        "Step 3: Calculate average using masked.Mean function.\n"
      ]
    },
    {
      "cell_type": "code",
      "metadata": {
        "id": "b1ohIPZWZLVr"
      },
      "source": [
        "# loading libraries\n",
        "import pandas as pd\n",
        "import numpy as np\n",
        "import matplotlib.pyplot as plt\n",
        "import numpy as geek \n",
        "import numpy.ma as ma "
      ],
      "execution_count": null,
      "outputs": []
    },
    {
      "cell_type": "code",
      "metadata": {
        "id": "BCUU5hujZvOv"
      },
      "source": [
        "#Creating a dataframe 1\n",
        "df = pd.read_csv('/content/trump_forbes_richest_americans.csv', encoding='iso-8859-1') "
      ],
      "execution_count": null,
      "outputs": []
    },
    {
      "cell_type": "code",
      "metadata": {
        "id": "aACvlmbBaPVM"
      },
      "source": [
        "# Check for Null and missing values\n",
        "df.isnull()[:10]"
      ],
      "execution_count": null,
      "outputs": []
    },
    {
      "cell_type": "code",
      "metadata": {
        "id": "tRKYtq-H-an-"
      },
      "source": [
        "# Count NUll values\n",
        "df.isnull().count()"
      ],
      "execution_count": null,
      "outputs": []
    },
    {
      "cell_type": "code",
      "metadata": {
        "id": "DsMPbBFaZvcy"
      },
      "source": [
        "# Drop Missiong values in a new dataframe\n",
        "df1 = df.dropna()"
      ],
      "execution_count": null,
      "outputs": []
    },
    {
      "cell_type": "code",
      "metadata": {
        "id": "kgJISBSI-JHj"
      },
      "source": [
        "# Verify all null vlaues are droped\n",
        "df1.isnull()[:10]"
      ],
      "execution_count": null,
      "outputs": []
    },
    {
      "cell_type": "code",
      "metadata": {
        "id": "Vuib97M0-QuI"
      },
      "source": [
        "# Count Masked values for verification\n",
        "df1.count()"
      ],
      "execution_count": null,
      "outputs": []
    },
    {
      "cell_type": "code",
      "metadata": {
        "id": "sgXIJ9nGZvjs"
      },
      "source": [
        "# Use masked mean to calualte meand statistics\n",
        "df1.mean()"
      ],
      "execution_count": null,
      "outputs": []
    }
  ]
}
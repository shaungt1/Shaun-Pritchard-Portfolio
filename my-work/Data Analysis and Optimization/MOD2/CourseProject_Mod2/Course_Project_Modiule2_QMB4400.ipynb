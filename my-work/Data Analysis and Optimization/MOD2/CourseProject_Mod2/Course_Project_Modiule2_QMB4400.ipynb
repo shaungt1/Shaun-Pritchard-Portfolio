{
  "nbformat": 4,
  "nbformat_minor": 0,
  "metadata": {
    "colab": {
      "name": "Course_Project_Modiule2_QMB4400.ipynb",
      "private_outputs": true,
      "provenance": [],
      "toc_visible": true
    },
    "kernelspec": {
      "name": "python3",
      "display_name": "Python 3"
    },
    "language_info": {
      "name": "python"
    }
  },
  "cells": [
    {
      "cell_type": "markdown",
      "metadata": {
        "id": "V5jygiL5ZdHi"
      },
      "source": [
        "# **Module 02 QMB 4400**\n",
        "\n",
        "<hr>\n",
        "\n",
        "### Course Project Module 2:\n",
        "Then write a Python script that can perform following tasks.\n",
        "\n",
        "- Step 1: Read the CSV data into NumPy and Pandas.\n",
        "- Step 2: Use Statistics/Linear Algebra concepts and determine PatientID, count (No-Shows=Yes).\n",
        "- Step 3: Calculate Neighbourhood, count (No-Shows=Yes).\n",
        "- Step 4: Create output dataset."
      ]
    },
    {
      "cell_type": "code",
      "metadata": {
        "id": "b1ohIPZWZLVr"
      },
      "source": [
        "# loading libraries\n",
        "import pandas as pd\n",
        "import numpy as np\n",
        "import matplotlib.pyplot as plt"
      ],
      "execution_count": null,
      "outputs": []
    },
    {
      "cell_type": "code",
      "metadata": {
        "id": "bZCOqqmdzRfD"
      },
      "source": [
        "#Creating a dataframe 1\n",
        "df = pd.read_csv('/content/noshowappointments.csv', encoding='iso-8859-1') "
      ],
      "execution_count": null,
      "outputs": []
    },
    {
      "cell_type": "code",
      "metadata": {
        "id": "KUSj0BeOaPSA"
      },
      "source": [
        "df.head()"
      ],
      "execution_count": null,
      "outputs": []
    },
    {
      "cell_type": "code",
      "metadata": {
        "id": "aACvlmbBaPVM"
      },
      "source": [
        "# Create new dataframe wiht only YES values in feature column No-Show\n",
        "df1 = df[df['No-show']==\"Yes\"]"
      ],
      "execution_count": null,
      "outputs": []
    },
    {
      "cell_type": "code",
      "metadata": {
        "id": "89tY2VRpzfHX"
      },
      "source": [
        "# Verify colum is only showing YES varibles\n",
        "df1['No-show'].head(10)"
      ],
      "execution_count": null,
      "outputs": []
    },
    {
      "cell_type": "code",
      "metadata": {
        "id": "DsMPbBFaZvcy"
      },
      "source": [
        "# Total number of patients with No-Show equal to Yes \n",
        "df1.shape"
      ],
      "execution_count": null,
      "outputs": []
    },
    {
      "cell_type": "code",
      "metadata": {
        "id": "sgXIJ9nGZvjs"
      },
      "source": [
        "df1.PatientId.value_counts(dropna=True)\n"
      ],
      "execution_count": null,
      "outputs": []
    },
    {
      "cell_type": "code",
      "metadata": {
        "id": "w2qLwhMX2qjx"
      },
      "source": [
        "# Print dataset output File\n",
        "df1.to_csv(r'No_Show_Dataset.csv', header=True, index=False, sep=',', mode='w', encoding= 'UTF8')"
      ],
      "execution_count": null,
      "outputs": []
    }
  ]
}
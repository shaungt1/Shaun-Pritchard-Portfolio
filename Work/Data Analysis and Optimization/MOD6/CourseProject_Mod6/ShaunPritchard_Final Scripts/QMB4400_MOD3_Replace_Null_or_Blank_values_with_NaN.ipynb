{
  "nbformat": 4,
  "nbformat_minor": 0,
  "metadata": {
    "colab": {
      "name": "QMB4400-MOD3_Replace Null or Blank values with NaN.ipynb",
      "private_outputs": true,
      "provenance": [],
      "collapsed_sections": [],
      "toc_visible": true
    },
    "kernelspec": {
      "name": "python3",
      "display_name": "Python 3"
    }
  },
  "cells": [
    {
      "cell_type": "markdown",
      "metadata": {
        "id": "77d886rCWawp"
      },
      "source": [
        "# **Replace Null or Blank values with NaN**"
      ]
    },
    {
      "cell_type": "markdown",
      "metadata": {
        "id": "VrQGRnlDWAYb"
      },
      "source": [
        "# **Module 03 Course Project -  Remove Duplicate Data NAN**\n",
        "\n",
        "<hr>\n",
        "\n",
        "### Course Project Module 3:\n",
        "Step 1: Find out all the occurrences where No-Show record is either blank or Missing\n",
        "\n",
        "Step 2: Replace it with NaN values\n",
        "\n",
        "Step 3: Ignore NaN values from the calculation and determine PatientID, Count(No-Show=Yes)\n",
        "\n",
        "Step 4: Ignore NaN values from the calculation and determine Calculate Neighbourhood, count(No-Shows=Yes)\n",
        "<hr>\n"
      ]
    },
    {
      "cell_type": "markdown",
      "metadata": {
        "id": "VuJDrsGFW4jW"
      },
      "source": [
        "## **Importing Libaries**"
      ]
    },
    {
      "cell_type": "code",
      "metadata": {
        "id": "wfFEXZC0WS-V"
      },
      "source": [
        "from io import StringIO\n",
        "from scipy import misc\n",
        "import numpy as np\n",
        "import matplotlib.pyplot as plt\n",
        "import pandas as pd"
      ],
      "execution_count": null,
      "outputs": []
    },
    {
      "cell_type": "markdown",
      "metadata": {
        "id": "9asN9rcgXJmI"
      },
      "source": [
        "## **Importing the Dataset**"
      ]
    },
    {
      "cell_type": "code",
      "metadata": {
        "id": "wztBPDMtXDKM"
      },
      "source": [
        "df = pd.read_csv('/content/noshowappointments.csv', encoding='iso-8859-1')"
      ],
      "execution_count": null,
      "outputs": []
    },
    {
      "cell_type": "markdown",
      "metadata": {
        "id": "XgBJJYHFXg2S"
      },
      "source": [
        "## **Check DataFrame**"
      ]
    },
    {
      "cell_type": "code",
      "metadata": {
        "id": "QwWZIvLmXvHD"
      },
      "source": [
        "print(df.head(5))"
      ],
      "execution_count": null,
      "outputs": []
    },
    {
      "cell_type": "markdown",
      "metadata": {
        "id": "grPCGr65Xv7v"
      },
      "source": [
        "## **PreProccess Data**"
      ]
    },
    {
      "cell_type": "code",
      "metadata": {
        "id": "23XrU7gzehnB"
      },
      "source": [
        "#counts all null values in data frame (both column and rows)\n",
        "print(df.isnull().sum().sum())"
      ],
      "execution_count": null,
      "outputs": []
    },
    {
      "cell_type": "code",
      "metadata": {
        "id": "uvegNcahX2VY"
      },
      "source": [
        "#show null values\n",
        "print(df.isnull())"
      ],
      "execution_count": null,
      "outputs": []
    },
    {
      "cell_type": "code",
      "metadata": {
        "id": "txbTIGwRelro"
      },
      "source": [
        "#counts all null values in each column\n",
        "print(df.isnull().sum())"
      ],
      "execution_count": null,
      "outputs": []
    },
    {
      "cell_type": "markdown",
      "metadata": {
        "id": "0UAHDSTlX3Hi"
      },
      "source": [
        "## **Taking care of missing data**\n",
        "\n",
        ">** Replace missing blank values with NAN **\n",
        "\n",
        "\n"
      ]
    },
    {
      "cell_type": "code",
      "metadata": {
        "id": "GRlL3EU3YDPq"
      },
      "source": [
        "# step 1 - Replace vlaues with NAN\n",
        "df1 = df.replace(r'^\\s*$', np.nan, regex=True)"
      ],
      "execution_count": null,
      "outputs": []
    },
    {
      "cell_type": "code",
      "metadata": {
        "id": "Of9U3PjXhLYP"
      },
      "source": [
        "# step 2 - Replace vlaues with NAN\n",
        "df1.replace(r'', np.NaN)"
      ],
      "execution_count": null,
      "outputs": []
    },
    {
      "cell_type": "code",
      "metadata": {
        "id": "2O8qUkNvrXGP"
      },
      "source": [
        "# step 3 - Replace vlaues with NAN\n",
        "df1 = df.apply(lambda x: x.str.strip() if isinstance(x, str) else x).replace('', np.nan)"
      ],
      "execution_count": null,
      "outputs": []
    },
    {
      "cell_type": "code",
      "metadata": {
        "id": "8NFILbCJpWoN"
      },
      "source": [
        "# Verify data was changed to NaN\n",
        "print(df1.head(50))"
      ],
      "execution_count": null,
      "outputs": []
    },
    {
      "cell_type": "code",
      "metadata": {
        "id": "irdO1dlxo9Id"
      },
      "source": [
        "# Create new dataframe YES values in feature column showing only \"yes\"\n",
        "df2 = df1[df['No-show']==\"Yes\"]"
      ],
      "execution_count": null,
      "outputs": []
    },
    {
      "cell_type": "code",
      "metadata": {
        "id": "UEJqgUZdo9M5"
      },
      "source": [
        "# Verify colum is only showing YES varibles\n",
        "df2['No-show'].head(10)"
      ],
      "execution_count": null,
      "outputs": []
    },
    {
      "cell_type": "markdown",
      "metadata": {
        "id": "Gr57ElroYD8v"
      },
      "source": [
        "## **Check Data Output**"
      ]
    },
    {
      "cell_type": "code",
      "metadata": {
        "id": "Wwow20xthPfO"
      },
      "source": [
        "print(df2.head(10))"
      ],
      "execution_count": null,
      "outputs": []
    },
    {
      "cell_type": "markdown",
      "metadata": {
        "id": "J9h0hAh8xHB0"
      },
      "source": [
        "**Ignore NaN values from the calculation and determine PatientID, Count(No-Show=Yes)**"
      ]
    },
    {
      "cell_type": "code",
      "metadata": {
        "id": "40bXhNNFxMGE"
      },
      "source": [
        "df2.PatientId.value_counts(dropna=True)"
      ],
      "execution_count": null,
      "outputs": []
    },
    {
      "cell_type": "markdown",
      "metadata": {
        "id": "BNzMiofumh5z"
      },
      "source": [
        "**Ignore NaN values from the calculation and determine Calculate Neighbourhood, count(No-Shows=Yes)**"
      ]
    },
    {
      "cell_type": "code",
      "metadata": {
        "id": "FQIHYujzmmMP"
      },
      "source": [
        "df2.Neighbourhood.value_counts(dropna=True)"
      ],
      "execution_count": null,
      "outputs": []
    }
  ]
}
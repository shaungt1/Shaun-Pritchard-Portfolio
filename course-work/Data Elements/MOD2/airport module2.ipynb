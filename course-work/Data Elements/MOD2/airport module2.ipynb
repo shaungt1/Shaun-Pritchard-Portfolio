{
 "cells": [
  {
   "cell_type": "code",
   "execution_count": 1,
   "metadata": {},
   "outputs": [],
   "source": [
    "import pandas as pd \n",
    "#I like to use pandas to import my dataframe"
   ]
  },
  {
   "cell_type": "code",
   "execution_count": 2,
   "metadata": {},
   "outputs": [],
   "source": [
    "air=pd.read_csv(r'C:\\Users\\b.tasker\\Desktop\\flight restaurant dataset.csv')\n",
    "#read the csv"
   ]
  },
  {
   "cell_type": "code",
   "execution_count": 3,
   "metadata": {},
   "outputs": [
    {
     "name": "stdout",
     "output_type": "stream",
     "text": [
      "      CAMIS                      DBA AIRPORT BUILDING CUISINE DESCRIPTION  \\\n",
      "0  40511702        NOTARO RESTAURANT     ABE      635             Italian   \n",
      "1  40511702        NOTARO RESTAURANT     ABE      635             Italian   \n",
      "2  50046354                 VITE BAR     ABE     2507             Italian   \n",
      "3  50061389  TACK'S CHINESE TAKE OUT     ABE      11C             Chinese   \n",
      "4  41516263               NO QUARTER     ABE     8015            American   \n",
      "\n",
      "  INSPECTION DATE                                           ACTION  \\\n",
      "0       6/15/2015  Violations were cited in the following area(s).   \n",
      "1      11/25/2014  Violations were cited in the following area(s).   \n",
      "2       10/3/2016  Violations were cited in the following area(s).   \n",
      "3       5/17/2017  Violations were cited in the following area(s).   \n",
      "4       3/30/2017  Violations were cited in the following area(s).   \n",
      "\n",
      "  VIOLATION CODE                               VIOLATIONDESCRIPTION  \\\n",
      "0            02B      Hot food item not held at or above 140Ã‚Âº F.   \n",
      "1            20F              Current letter grade card not posted.   \n",
      "2            10F  Non-food contact surface improperly constructe...   \n",
      "3            02G  Cold food item held above 41Ã‚Âº F (smoked fis...   \n",
      "4            04M  Live roaches present in facility's food and/or...   \n",
      "\n",
      "  CRITICAL FLAG  SCORE GRADE GRADE DATE RECORD DATE  \\\n",
      "0      Critical   30.0   NaN        NaN   8/28/2017   \n",
      "1  Not Critical    NaN   NaN        NaN   8/28/2017   \n",
      "2  Not Critical    2.0   NaN        NaN   8/28/2017   \n",
      "3      Critical   46.0   NaN        NaN   8/28/2017   \n",
      "4      Critical   18.0   NaN        NaN   8/28/2017   \n",
      "\n",
      "                                     INSPECTION TYPE  \n",
      "0              Cycle Inspection / Initial Inspection  \n",
      "1  Administrative Miscellaneous / Initial Inspection  \n",
      "2      Pre-permit (Operational) / Initial Inspection  \n",
      "3      Pre-permit (Operational) / Initial Inspection  \n",
      "4              Cycle Inspection / Initial Inspection  \n"
     ]
    }
   ],
   "source": [
    "print(air.head(5))\n",
    "#prints the dataframe, top 5 rows in this case, can change to larger number"
   ]
  },
  {
   "cell_type": "code",
   "execution_count": 4,
   "metadata": {},
   "outputs": [
    {
     "name": "stdout",
     "output_type": "stream",
     "text": [
      "       CAMIS    DBA  AIRPORT  BUILDING  CUISINE DESCRIPTION  INSPECTION DATE  \\\n",
      "0      False  False    False     False                False            False   \n",
      "1      False  False    False     False                False            False   \n",
      "2      False  False    False     False                False            False   \n",
      "3      False  False    False     False                False            False   \n",
      "4      False  False    False     False                False            False   \n",
      "...      ...    ...      ...       ...                  ...              ...   \n",
      "19796  False  False    False     False                False            False   \n",
      "19797  False  False    False     False                False            False   \n",
      "19798  False  False    False     False                False            False   \n",
      "19799  False  False    False     False                False            False   \n",
      "19800  False  False    False     False                False            False   \n",
      "\n",
      "       ACTION  VIOLATION CODE  VIOLATIONDESCRIPTION  CRITICAL FLAG  SCORE  \\\n",
      "0       False           False                 False          False  False   \n",
      "1       False           False                 False          False   True   \n",
      "2       False           False                 False          False  False   \n",
      "3       False           False                 False          False  False   \n",
      "4       False           False                 False          False  False   \n",
      "...       ...             ...                   ...            ...    ...   \n",
      "19796   False           False                 False          False  False   \n",
      "19797   False           False                 False          False  False   \n",
      "19798   False           False                 False          False  False   \n",
      "19799   False           False                 False          False  False   \n",
      "19800   False           False                 False          False  False   \n",
      "\n",
      "       GRADE  GRADE DATE  RECORD DATE  INSPECTION TYPE  \n",
      "0       True        True        False            False  \n",
      "1       True        True        False            False  \n",
      "2       True        True        False            False  \n",
      "3       True        True        False            False  \n",
      "4       True        True        False            False  \n",
      "...      ...         ...          ...              ...  \n",
      "19796   True        True        False            False  \n",
      "19797   True        True        False            False  \n",
      "19798   True        True        False            False  \n",
      "19799  False       False        False            False  \n",
      "19800   True        True        False            False  \n",
      "\n",
      "[19801 rows x 15 columns]\n"
     ]
    }
   ],
   "source": [
    "print(air.isnull())\n",
    "#show null values"
   ]
  },
  {
   "cell_type": "code",
   "execution_count": 5,
   "metadata": {},
   "outputs": [
    {
     "name": "stdout",
     "output_type": "stream",
     "text": [
      "24605\n"
     ]
    }
   ],
   "source": [
    "print(air.isnull().sum().sum())\n",
    "#counts all null values in data frame (both column and rows)"
   ]
  },
  {
   "cell_type": "code",
   "execution_count": 6,
   "metadata": {},
   "outputs": [
    {
     "name": "stdout",
     "output_type": "stream",
     "text": [
      "CAMIS                       0\n",
      "DBA                        21\n",
      "AIRPORT                  2312\n",
      "BUILDING                    4\n",
      "CUISINE DESCRIPTION         0\n",
      "INSPECTION DATE             0\n",
      "ACTION                     57\n",
      "VIOLATION CODE            322\n",
      "VIOLATIONDESCRIPTION      351\n",
      "CRITICAL FLAG               0\n",
      "SCORE                    1222\n",
      "GRADE                   10070\n",
      "GRADE DATE              10189\n",
      "RECORD DATE                 0\n",
      "INSPECTION TYPE            57\n",
      "dtype: int64\n"
     ]
    }
   ],
   "source": [
    "print(air.isnull().sum())\n",
    "#counts all null values in each column"
   ]
  },
  {
   "cell_type": "code",
   "execution_count": 7,
   "metadata": {},
   "outputs": [
    {
     "name": "stdout",
     "output_type": "stream",
     "text": [
      "count              19780\n",
      "unique             10535\n",
      "top       DUNKIN' DONUTS\n",
      "freq                 225\n",
      "Name: DBA, dtype: object\n"
     ]
    }
   ],
   "source": [
    "print(air.DBA.describe())\n",
    "#describes the DBA column as you can see dunkin donuts is the most frequent"
   ]
  },
  {
   "cell_type": "code",
   "execution_count": null,
   "metadata": {},
   "outputs": [],
   "source": [
    "#https://machinelearningmastery.com/handle-missing-data-python/\n",
    "\n",
    "#shows how to imput and remove missing values\n",
    "\n",
    "#imputation should be used if 10% or less of data is missing \n",
    "#is record date important? \n",
    "#removing columns depends on the analyst, one could leave it or one could remove, I would remove grade, and keep date, as some sort of tracking "
   ]
  },
  {
   "cell_type": "code",
   "execution_count": null,
   "metadata": {},
   "outputs": [],
   "source": [
    "####MODULE 3 Presentation"
   ]
  },
  {
   "cell_type": "code",
   "execution_count": 8,
   "metadata": {},
   "outputs": [
    {
     "name": "stdout",
     "output_type": "stream",
     "text": [
      "count     17489\n",
      "unique      328\n",
      "top         ABI\n",
      "freq       1043\n",
      "Name: AIRPORT, dtype: object\n"
     ]
    }
   ],
   "source": [
    "#Total number of Airports, 17489, most popular airport is ABI\n",
    "print(air.AIRPORT.describe())"
   ]
  },
  {
   "cell_type": "code",
   "execution_count": 9,
   "metadata": {},
   "outputs": [],
   "source": [
    "AIRPORTDBA=pd.DataFrame(air)"
   ]
  },
  {
   "cell_type": "code",
   "execution_count": 10,
   "metadata": {
    "scrolled": true
   },
   "outputs": [
    {
     "data": {
      "text/plain": [
       "Series([], dtype: float64)"
      ]
     },
     "execution_count": 10,
     "metadata": {},
     "output_type": "execute_result"
    }
   ],
   "source": [
    "AIRPORTDBA[['AIRPORT', 'DBA']].mean()"
   ]
  },
  {
   "cell_type": "code",
   "execution_count": 19,
   "metadata": {},
   "outputs": [
    {
     "ename": "DataError",
     "evalue": "No numeric types to aggregate",
     "output_type": "error",
     "traceback": [
      "\u001b[1;31m---------------------------------------------------------------------------\u001b[0m",
      "\u001b[1;31mDataError\u001b[0m                                 Traceback (most recent call last)",
      "\u001b[1;32m<ipython-input-19-46d365e5c7ee>\u001b[0m in \u001b[0;36m<module>\u001b[1;34m\u001b[0m\n\u001b[1;32m----> 1\u001b[1;33m \u001b[0mAIRPORTDBA\u001b[0m\u001b[1;33m.\u001b[0m\u001b[0mgroupby\u001b[0m\u001b[1;33m(\u001b[0m\u001b[1;34m'AIRPORT'\u001b[0m\u001b[1;33m,\u001b[0m \u001b[0mas_index\u001b[0m\u001b[1;33m=\u001b[0m\u001b[1;32mFalse\u001b[0m\u001b[1;33m)\u001b[0m\u001b[1;33m[\u001b[0m\u001b[1;34m'DBA'\u001b[0m\u001b[1;33m]\u001b[0m\u001b[1;33m.\u001b[0m\u001b[0mmean\u001b[0m\u001b[1;33m(\u001b[0m\u001b[1;33m)\u001b[0m\u001b[1;33m\u001b[0m\u001b[1;33m\u001b[0m\u001b[0m\n\u001b[0m",
      "\u001b[1;32m~\\AppData\\Local\\Continuum\\anaconda3\\lib\\site-packages\\pandas\\core\\groupby\\groupby.py\u001b[0m in \u001b[0;36mmean\u001b[1;34m(self, *args, **kwargs)\u001b[0m\n\u001b[0;32m   1203\u001b[0m         \u001b[1;32mtry\u001b[0m\u001b[1;33m:\u001b[0m\u001b[1;33m\u001b[0m\u001b[1;33m\u001b[0m\u001b[0m\n\u001b[0;32m   1204\u001b[0m             return self._cython_agg_general(\n\u001b[1;32m-> 1205\u001b[1;33m                 \u001b[1;34m\"mean\"\u001b[0m\u001b[1;33m,\u001b[0m \u001b[0malt\u001b[0m\u001b[1;33m=\u001b[0m\u001b[1;32mlambda\u001b[0m \u001b[0mx\u001b[0m\u001b[1;33m,\u001b[0m \u001b[0maxis\u001b[0m\u001b[1;33m:\u001b[0m \u001b[0mSeries\u001b[0m\u001b[1;33m(\u001b[0m\u001b[0mx\u001b[0m\u001b[1;33m)\u001b[0m\u001b[1;33m.\u001b[0m\u001b[0mmean\u001b[0m\u001b[1;33m(\u001b[0m\u001b[1;33m**\u001b[0m\u001b[0mkwargs\u001b[0m\u001b[1;33m)\u001b[0m\u001b[1;33m,\u001b[0m \u001b[1;33m**\u001b[0m\u001b[0mkwargs\u001b[0m\u001b[1;33m\u001b[0m\u001b[1;33m\u001b[0m\u001b[0m\n\u001b[0m\u001b[0;32m   1206\u001b[0m             )\n\u001b[0;32m   1207\u001b[0m         \u001b[1;32mexcept\u001b[0m \u001b[0mGroupByError\u001b[0m\u001b[1;33m:\u001b[0m\u001b[1;33m\u001b[0m\u001b[1;33m\u001b[0m\u001b[0m\n",
      "\u001b[1;32m~\\AppData\\Local\\Continuum\\anaconda3\\lib\\site-packages\\pandas\\core\\groupby\\generic.py\u001b[0m in \u001b[0;36m_cython_agg_general\u001b[1;34m(self, how, alt, numeric_only, min_count)\u001b[0m\n\u001b[0;32m    126\u001b[0m     \u001b[1;32mdef\u001b[0m \u001b[0m_cython_agg_general\u001b[0m\u001b[1;33m(\u001b[0m\u001b[0mself\u001b[0m\u001b[1;33m,\u001b[0m \u001b[0mhow\u001b[0m\u001b[1;33m,\u001b[0m \u001b[0malt\u001b[0m\u001b[1;33m=\u001b[0m\u001b[1;32mNone\u001b[0m\u001b[1;33m,\u001b[0m \u001b[0mnumeric_only\u001b[0m\u001b[1;33m=\u001b[0m\u001b[1;32mTrue\u001b[0m\u001b[1;33m,\u001b[0m \u001b[0mmin_count\u001b[0m\u001b[1;33m=\u001b[0m\u001b[1;33m-\u001b[0m\u001b[1;36m1\u001b[0m\u001b[1;33m)\u001b[0m\u001b[1;33m:\u001b[0m\u001b[1;33m\u001b[0m\u001b[1;33m\u001b[0m\u001b[0m\n\u001b[0;32m    127\u001b[0m         new_items, new_blocks = self._cython_agg_blocks(\n\u001b[1;32m--> 128\u001b[1;33m             \u001b[0mhow\u001b[0m\u001b[1;33m,\u001b[0m \u001b[0malt\u001b[0m\u001b[1;33m=\u001b[0m\u001b[0malt\u001b[0m\u001b[1;33m,\u001b[0m \u001b[0mnumeric_only\u001b[0m\u001b[1;33m=\u001b[0m\u001b[0mnumeric_only\u001b[0m\u001b[1;33m,\u001b[0m \u001b[0mmin_count\u001b[0m\u001b[1;33m=\u001b[0m\u001b[0mmin_count\u001b[0m\u001b[1;33m\u001b[0m\u001b[1;33m\u001b[0m\u001b[0m\n\u001b[0m\u001b[0;32m    129\u001b[0m         )\n\u001b[0;32m    130\u001b[0m         \u001b[1;32mreturn\u001b[0m \u001b[0mself\u001b[0m\u001b[1;33m.\u001b[0m\u001b[0m_wrap_agged_blocks\u001b[0m\u001b[1;33m(\u001b[0m\u001b[0mnew_items\u001b[0m\u001b[1;33m,\u001b[0m \u001b[0mnew_blocks\u001b[0m\u001b[1;33m)\u001b[0m\u001b[1;33m\u001b[0m\u001b[1;33m\u001b[0m\u001b[0m\n",
      "\u001b[1;32m~\\AppData\\Local\\Continuum\\anaconda3\\lib\\site-packages\\pandas\\core\\groupby\\generic.py\u001b[0m in \u001b[0;36m_cython_agg_blocks\u001b[1;34m(self, how, alt, numeric_only, min_count)\u001b[0m\n\u001b[0;32m    186\u001b[0m \u001b[1;33m\u001b[0m\u001b[0m\n\u001b[0;32m    187\u001b[0m         \u001b[1;32mif\u001b[0m \u001b[0mlen\u001b[0m\u001b[1;33m(\u001b[0m\u001b[0mnew_blocks\u001b[0m\u001b[1;33m)\u001b[0m \u001b[1;33m==\u001b[0m \u001b[1;36m0\u001b[0m\u001b[1;33m:\u001b[0m\u001b[1;33m\u001b[0m\u001b[1;33m\u001b[0m\u001b[0m\n\u001b[1;32m--> 188\u001b[1;33m             \u001b[1;32mraise\u001b[0m \u001b[0mDataError\u001b[0m\u001b[1;33m(\u001b[0m\u001b[1;34m\"No numeric types to aggregate\"\u001b[0m\u001b[1;33m)\u001b[0m\u001b[1;33m\u001b[0m\u001b[1;33m\u001b[0m\u001b[0m\n\u001b[0m\u001b[0;32m    189\u001b[0m \u001b[1;33m\u001b[0m\u001b[0m\n\u001b[0;32m    190\u001b[0m         \u001b[1;31m# reset the locs in the blocks to correspond to our\u001b[0m\u001b[1;33m\u001b[0m\u001b[1;33m\u001b[0m\u001b[1;33m\u001b[0m\u001b[0m\n",
      "\u001b[1;31mDataError\u001b[0m: No numeric types to aggregate"
     ]
    }
   ],
   "source": [
    "AIRPORTDBA.groupby('StationID', as_index=False)['BiasTemp'].mean()"
   ]
  },
  {
   "cell_type": "code",
   "execution_count": null,
   "metadata": {},
   "outputs": [],
   "source": [
    "pip install matplotlib"
   ]
  },
  {
   "cell_type": "code",
   "execution_count": 11,
   "metadata": {
    "scrolled": true
   },
   "outputs": [],
   "source": [
    "import matplotlib.pyplot as plt"
   ]
  },
  {
   "cell_type": "code",
   "execution_count": 13,
   "metadata": {},
   "outputs": [],
   "source": [
    "# Replace missing values with a value\n",
    "AIRPORTDBA['VIOLATIONDESCRIPTION'].fillna('non-contact surface', inplace=True)"
   ]
  },
  {
   "cell_type": "code",
   "execution_count": 14,
   "metadata": {},
   "outputs": [],
   "source": [
    "AIRPORTDBA['DBA'].fillna(\"DUNKIN' DONUTS\", inplace=True)"
   ]
  },
  {
   "cell_type": "code",
   "execution_count": 62,
   "metadata": {},
   "outputs": [],
   "source": [
    "import seaborn as sns\n",
    "%matplotlib inline \n",
    "#to plot the graphs inline on jupyter notebook"
   ]
  },
  {
   "cell_type": "code",
   "execution_count": 64,
   "metadata": {},
   "outputs": [],
   "source": [
    "t=AIRPORTDBA"
   ]
  },
  {
   "cell_type": "code",
   "execution_count": 65,
   "metadata": {},
   "outputs": [
    {
     "data": {
      "text/html": [
       "<div>\n",
       "<style scoped>\n",
       "    .dataframe tbody tr th:only-of-type {\n",
       "        vertical-align: middle;\n",
       "    }\n",
       "\n",
       "    .dataframe tbody tr th {\n",
       "        vertical-align: top;\n",
       "    }\n",
       "\n",
       "    .dataframe thead th {\n",
       "        text-align: right;\n",
       "    }\n",
       "</style>\n",
       "<table border=\"1\" class=\"dataframe\">\n",
       "  <thead>\n",
       "    <tr style=\"text-align: right;\">\n",
       "      <th></th>\n",
       "      <th>CAMIS</th>\n",
       "      <th>DBA</th>\n",
       "      <th>AIRPORT</th>\n",
       "      <th>BUILDING</th>\n",
       "      <th>CUISINE DESCRIPTION</th>\n",
       "      <th>INSPECTION DATE</th>\n",
       "      <th>ACTION</th>\n",
       "      <th>VIOLATION CODE</th>\n",
       "      <th>VIOLATION DESCRIPTION</th>\n",
       "      <th>CRITICAL FLAG</th>\n",
       "      <th>SCORE</th>\n",
       "      <th>GRADE</th>\n",
       "      <th>GRADE DATE</th>\n",
       "      <th>RECORD DATE</th>\n",
       "      <th>INSPECTION TYPE</th>\n",
       "    </tr>\n",
       "  </thead>\n",
       "  <tbody>\n",
       "    <tr>\n",
       "      <td>0</td>\n",
       "      <td>40511702</td>\n",
       "      <td>NOTARO RESTAURANT</td>\n",
       "      <td>ABE</td>\n",
       "      <td>635</td>\n",
       "      <td>Italian</td>\n",
       "      <td>6/15/2015</td>\n",
       "      <td>Violations were cited in the following area(s).</td>\n",
       "      <td>02B</td>\n",
       "      <td>Hot food item not held at or above 140Ã‚Âº F.</td>\n",
       "      <td>Critical</td>\n",
       "      <td>30.0</td>\n",
       "      <td>NaN</td>\n",
       "      <td>NaN</td>\n",
       "      <td>8/28/2017</td>\n",
       "      <td>Cycle Inspection / Initial Inspection</td>\n",
       "    </tr>\n",
       "    <tr>\n",
       "      <td>1</td>\n",
       "      <td>40511702</td>\n",
       "      <td>NOTARO RESTAURANT</td>\n",
       "      <td>ABE</td>\n",
       "      <td>635</td>\n",
       "      <td>Italian</td>\n",
       "      <td>11/25/2014</td>\n",
       "      <td>Violations were cited in the following area(s).</td>\n",
       "      <td>20F</td>\n",
       "      <td>Current letter grade card not posted.</td>\n",
       "      <td>Not Critical</td>\n",
       "      <td>NaN</td>\n",
       "      <td>NaN</td>\n",
       "      <td>NaN</td>\n",
       "      <td>8/28/2017</td>\n",
       "      <td>Administrative Miscellaneous / Initial Inspection</td>\n",
       "    </tr>\n",
       "    <tr>\n",
       "      <td>2</td>\n",
       "      <td>50046354</td>\n",
       "      <td>VITE BAR</td>\n",
       "      <td>ABE</td>\n",
       "      <td>2507</td>\n",
       "      <td>Italian</td>\n",
       "      <td>10/3/2016</td>\n",
       "      <td>Violations were cited in the following area(s).</td>\n",
       "      <td>10F</td>\n",
       "      <td>Non-food contact surface improperly constructe...</td>\n",
       "      <td>Not Critical</td>\n",
       "      <td>2.0</td>\n",
       "      <td>NaN</td>\n",
       "      <td>NaN</td>\n",
       "      <td>8/28/2017</td>\n",
       "      <td>Pre-permit (Operational) / Initial Inspection</td>\n",
       "    </tr>\n",
       "    <tr>\n",
       "      <td>3</td>\n",
       "      <td>50061389</td>\n",
       "      <td>TACK'S CHINESE TAKE OUT</td>\n",
       "      <td>ABE</td>\n",
       "      <td>11C</td>\n",
       "      <td>Chinese</td>\n",
       "      <td>5/17/2017</td>\n",
       "      <td>Violations were cited in the following area(s).</td>\n",
       "      <td>02G</td>\n",
       "      <td>Cold food item held above 41Ã‚Âº F (smoked fis...</td>\n",
       "      <td>Critical</td>\n",
       "      <td>46.0</td>\n",
       "      <td>NaN</td>\n",
       "      <td>NaN</td>\n",
       "      <td>8/28/2017</td>\n",
       "      <td>Pre-permit (Operational) / Initial Inspection</td>\n",
       "    </tr>\n",
       "    <tr>\n",
       "      <td>4</td>\n",
       "      <td>41516263</td>\n",
       "      <td>NO QUARTER</td>\n",
       "      <td>ABE</td>\n",
       "      <td>8015</td>\n",
       "      <td>American</td>\n",
       "      <td>3/30/2017</td>\n",
       "      <td>Violations were cited in the following area(s).</td>\n",
       "      <td>04M</td>\n",
       "      <td>Live roaches present in facility's food and/or...</td>\n",
       "      <td>Critical</td>\n",
       "      <td>18.0</td>\n",
       "      <td>NaN</td>\n",
       "      <td>NaN</td>\n",
       "      <td>8/28/2017</td>\n",
       "      <td>Cycle Inspection / Initial Inspection</td>\n",
       "    </tr>\n",
       "  </tbody>\n",
       "</table>\n",
       "</div>"
      ],
      "text/plain": [
       "      CAMIS                      DBA AIRPORT BUILDING CUISINE DESCRIPTION  \\\n",
       "0  40511702        NOTARO RESTAURANT     ABE      635             Italian   \n",
       "1  40511702        NOTARO RESTAURANT     ABE      635             Italian   \n",
       "2  50046354                 VITE BAR     ABE     2507             Italian   \n",
       "3  50061389  TACK'S CHINESE TAKE OUT     ABE      11C             Chinese   \n",
       "4  41516263               NO QUARTER     ABE     8015            American   \n",
       "\n",
       "  INSPECTION DATE                                           ACTION  \\\n",
       "0       6/15/2015  Violations were cited in the following area(s).   \n",
       "1      11/25/2014  Violations were cited in the following area(s).   \n",
       "2       10/3/2016  Violations were cited in the following area(s).   \n",
       "3       5/17/2017  Violations were cited in the following area(s).   \n",
       "4       3/30/2017  Violations were cited in the following area(s).   \n",
       "\n",
       "  VIOLATION CODE                              VIOLATION DESCRIPTION  \\\n",
       "0            02B      Hot food item not held at or above 140Ã‚Âº F.   \n",
       "1            20F              Current letter grade card not posted.   \n",
       "2            10F  Non-food contact surface improperly constructe...   \n",
       "3            02G  Cold food item held above 41Ã‚Âº F (smoked fis...   \n",
       "4            04M  Live roaches present in facility's food and/or...   \n",
       "\n",
       "  CRITICAL FLAG  SCORE GRADE GRADE DATE RECORD DATE  \\\n",
       "0      Critical   30.0   NaN        NaN   8/28/2017   \n",
       "1  Not Critical    NaN   NaN        NaN   8/28/2017   \n",
       "2  Not Critical    2.0   NaN        NaN   8/28/2017   \n",
       "3      Critical   46.0   NaN        NaN   8/28/2017   \n",
       "4      Critical   18.0   NaN        NaN   8/28/2017   \n",
       "\n",
       "                                     INSPECTION TYPE  \n",
       "0              Cycle Inspection / Initial Inspection  \n",
       "1  Administrative Miscellaneous / Initial Inspection  \n",
       "2      Pre-permit (Operational) / Initial Inspection  \n",
       "3      Pre-permit (Operational) / Initial Inspection  \n",
       "4              Cycle Inspection / Initial Inspection  "
      ]
     },
     "execution_count": 65,
     "metadata": {},
     "output_type": "execute_result"
    }
   ],
   "source": [
    "t.head()"
   ]
  },
  {
   "cell_type": "code",
   "execution_count": 78,
   "metadata": {},
   "outputs": [],
   "source": [
    "tgrouped=AIRPORTDBA.groupby(['CUISINE DESCRIPTION']).count()"
   ]
  },
  {
   "cell_type": "code",
   "execution_count": 82,
   "metadata": {},
   "outputs": [
    {
     "data": {
      "text/html": [
       "<div>\n",
       "<style scoped>\n",
       "    .dataframe tbody tr th:only-of-type {\n",
       "        vertical-align: middle;\n",
       "    }\n",
       "\n",
       "    .dataframe tbody tr th {\n",
       "        vertical-align: top;\n",
       "    }\n",
       "\n",
       "    .dataframe thead th {\n",
       "        text-align: right;\n",
       "    }\n",
       "</style>\n",
       "<table border=\"1\" class=\"dataframe\">\n",
       "  <thead>\n",
       "    <tr style=\"text-align: right;\">\n",
       "      <th></th>\n",
       "      <th>CAMIS</th>\n",
       "      <th>DBA</th>\n",
       "      <th>AIRPORT</th>\n",
       "      <th>BUILDING</th>\n",
       "      <th>INSPECTION DATE</th>\n",
       "      <th>ACTION</th>\n",
       "      <th>VIOLATION CODE</th>\n",
       "      <th>VIOLATION DESCRIPTION</th>\n",
       "      <th>CRITICAL FLAG</th>\n",
       "      <th>SCORE</th>\n",
       "      <th>GRADE</th>\n",
       "      <th>GRADE DATE</th>\n",
       "      <th>RECORD DATE</th>\n",
       "      <th>INSPECTION TYPE</th>\n",
       "    </tr>\n",
       "    <tr>\n",
       "      <th>CUISINE DESCRIPTION</th>\n",
       "      <th></th>\n",
       "      <th></th>\n",
       "      <th></th>\n",
       "      <th></th>\n",
       "      <th></th>\n",
       "      <th></th>\n",
       "      <th></th>\n",
       "      <th></th>\n",
       "      <th></th>\n",
       "      <th></th>\n",
       "      <th></th>\n",
       "      <th></th>\n",
       "      <th></th>\n",
       "      <th></th>\n",
       "    </tr>\n",
       "  </thead>\n",
       "  <tbody>\n",
       "    <tr>\n",
       "      <td>Afghan</td>\n",
       "      <td>12</td>\n",
       "      <td>12</td>\n",
       "      <td>9</td>\n",
       "      <td>12</td>\n",
       "      <td>12</td>\n",
       "      <td>12</td>\n",
       "      <td>12</td>\n",
       "      <td>12</td>\n",
       "      <td>12</td>\n",
       "      <td>11</td>\n",
       "      <td>5</td>\n",
       "      <td>5</td>\n",
       "      <td>12</td>\n",
       "      <td>12</td>\n",
       "    </tr>\n",
       "    <tr>\n",
       "      <td>African</td>\n",
       "      <td>71</td>\n",
       "      <td>71</td>\n",
       "      <td>61</td>\n",
       "      <td>71</td>\n",
       "      <td>71</td>\n",
       "      <td>71</td>\n",
       "      <td>70</td>\n",
       "      <td>71</td>\n",
       "      <td>71</td>\n",
       "      <td>67</td>\n",
       "      <td>32</td>\n",
       "      <td>31</td>\n",
       "      <td>71</td>\n",
       "      <td>71</td>\n",
       "    </tr>\n",
       "    <tr>\n",
       "      <td>American</td>\n",
       "      <td>4423</td>\n",
       "      <td>4423</td>\n",
       "      <td>3921</td>\n",
       "      <td>4422</td>\n",
       "      <td>4423</td>\n",
       "      <td>4423</td>\n",
       "      <td>4366</td>\n",
       "      <td>4423</td>\n",
       "      <td>4423</td>\n",
       "      <td>4167</td>\n",
       "      <td>2259</td>\n",
       "      <td>2231</td>\n",
       "      <td>4423</td>\n",
       "      <td>4423</td>\n",
       "    </tr>\n",
       "    <tr>\n",
       "      <td>Armenian</td>\n",
       "      <td>19</td>\n",
       "      <td>19</td>\n",
       "      <td>16</td>\n",
       "      <td>19</td>\n",
       "      <td>19</td>\n",
       "      <td>19</td>\n",
       "      <td>19</td>\n",
       "      <td>19</td>\n",
       "      <td>19</td>\n",
       "      <td>19</td>\n",
       "      <td>8</td>\n",
       "      <td>7</td>\n",
       "      <td>19</td>\n",
       "      <td>19</td>\n",
       "    </tr>\n",
       "    <tr>\n",
       "      <td>Asian</td>\n",
       "      <td>351</td>\n",
       "      <td>351</td>\n",
       "      <td>305</td>\n",
       "      <td>351</td>\n",
       "      <td>351</td>\n",
       "      <td>351</td>\n",
       "      <td>346</td>\n",
       "      <td>351</td>\n",
       "      <td>351</td>\n",
       "      <td>335</td>\n",
       "      <td>165</td>\n",
       "      <td>160</td>\n",
       "      <td>351</td>\n",
       "      <td>351</td>\n",
       "    </tr>\n",
       "    <tr>\n",
       "      <td>Australian</td>\n",
       "      <td>13</td>\n",
       "      <td>13</td>\n",
       "      <td>12</td>\n",
       "      <td>13</td>\n",
       "      <td>13</td>\n",
       "      <td>13</td>\n",
       "      <td>13</td>\n",
       "      <td>13</td>\n",
       "      <td>13</td>\n",
       "      <td>13</td>\n",
       "      <td>8</td>\n",
       "      <td>8</td>\n",
       "      <td>13</td>\n",
       "      <td>13</td>\n",
       "    </tr>\n",
       "    <tr>\n",
       "      <td>Bagels/Pretzels</td>\n",
       "      <td>139</td>\n",
       "      <td>139</td>\n",
       "      <td>123</td>\n",
       "      <td>139</td>\n",
       "      <td>139</td>\n",
       "      <td>139</td>\n",
       "      <td>137</td>\n",
       "      <td>139</td>\n",
       "      <td>139</td>\n",
       "      <td>129</td>\n",
       "      <td>69</td>\n",
       "      <td>67</td>\n",
       "      <td>139</td>\n",
       "      <td>139</td>\n",
       "    </tr>\n",
       "    <tr>\n",
       "      <td>Bakery</td>\n",
       "      <td>581</td>\n",
       "      <td>581</td>\n",
       "      <td>525</td>\n",
       "      <td>581</td>\n",
       "      <td>581</td>\n",
       "      <td>581</td>\n",
       "      <td>573</td>\n",
       "      <td>581</td>\n",
       "      <td>581</td>\n",
       "      <td>546</td>\n",
       "      <td>283</td>\n",
       "      <td>283</td>\n",
       "      <td>581</td>\n",
       "      <td>581</td>\n",
       "    </tr>\n",
       "    <tr>\n",
       "      <td>Bangladeshi</td>\n",
       "      <td>53</td>\n",
       "      <td>53</td>\n",
       "      <td>48</td>\n",
       "      <td>53</td>\n",
       "      <td>53</td>\n",
       "      <td>53</td>\n",
       "      <td>52</td>\n",
       "      <td>53</td>\n",
       "      <td>53</td>\n",
       "      <td>51</td>\n",
       "      <td>22</td>\n",
       "      <td>22</td>\n",
       "      <td>53</td>\n",
       "      <td>53</td>\n",
       "    </tr>\n",
       "    <tr>\n",
       "      <td>Barbecue</td>\n",
       "      <td>39</td>\n",
       "      <td>39</td>\n",
       "      <td>34</td>\n",
       "      <td>39</td>\n",
       "      <td>39</td>\n",
       "      <td>39</td>\n",
       "      <td>36</td>\n",
       "      <td>39</td>\n",
       "      <td>39</td>\n",
       "      <td>36</td>\n",
       "      <td>22</td>\n",
       "      <td>20</td>\n",
       "      <td>39</td>\n",
       "      <td>39</td>\n",
       "    </tr>\n",
       "    <tr>\n",
       "      <td>Bottled beverages, including water, sodas, juices, etc.</td>\n",
       "      <td>57</td>\n",
       "      <td>57</td>\n",
       "      <td>49</td>\n",
       "      <td>57</td>\n",
       "      <td>57</td>\n",
       "      <td>57</td>\n",
       "      <td>55</td>\n",
       "      <td>57</td>\n",
       "      <td>57</td>\n",
       "      <td>50</td>\n",
       "      <td>31</td>\n",
       "      <td>30</td>\n",
       "      <td>57</td>\n",
       "      <td>57</td>\n",
       "    </tr>\n",
       "    <tr>\n",
       "      <td>Brazilian</td>\n",
       "      <td>25</td>\n",
       "      <td>25</td>\n",
       "      <td>18</td>\n",
       "      <td>25</td>\n",
       "      <td>25</td>\n",
       "      <td>25</td>\n",
       "      <td>25</td>\n",
       "      <td>25</td>\n",
       "      <td>25</td>\n",
       "      <td>22</td>\n",
       "      <td>14</td>\n",
       "      <td>14</td>\n",
       "      <td>25</td>\n",
       "      <td>25</td>\n",
       "    </tr>\n",
       "    <tr>\n",
       "      <td>CafÃƒÂ©/Coffee/Tea</td>\n",
       "      <td>771</td>\n",
       "      <td>771</td>\n",
       "      <td>688</td>\n",
       "      <td>771</td>\n",
       "      <td>771</td>\n",
       "      <td>771</td>\n",
       "      <td>757</td>\n",
       "      <td>771</td>\n",
       "      <td>771</td>\n",
       "      <td>724</td>\n",
       "      <td>443</td>\n",
       "      <td>437</td>\n",
       "      <td>771</td>\n",
       "      <td>771</td>\n",
       "    </tr>\n",
       "    <tr>\n",
       "      <td>Cajun</td>\n",
       "      <td>5</td>\n",
       "      <td>5</td>\n",
       "      <td>4</td>\n",
       "      <td>5</td>\n",
       "      <td>5</td>\n",
       "      <td>5</td>\n",
       "      <td>5</td>\n",
       "      <td>5</td>\n",
       "      <td>5</td>\n",
       "      <td>5</td>\n",
       "      <td>2</td>\n",
       "      <td>2</td>\n",
       "      <td>5</td>\n",
       "      <td>5</td>\n",
       "    </tr>\n",
       "    <tr>\n",
       "      <td>Californian</td>\n",
       "      <td>1</td>\n",
       "      <td>1</td>\n",
       "      <td>1</td>\n",
       "      <td>1</td>\n",
       "      <td>1</td>\n",
       "      <td>1</td>\n",
       "      <td>1</td>\n",
       "      <td>1</td>\n",
       "      <td>1</td>\n",
       "      <td>1</td>\n",
       "      <td>1</td>\n",
       "      <td>1</td>\n",
       "      <td>1</td>\n",
       "      <td>1</td>\n",
       "    </tr>\n",
       "    <tr>\n",
       "      <td>Caribbean</td>\n",
       "      <td>614</td>\n",
       "      <td>614</td>\n",
       "      <td>554</td>\n",
       "      <td>614</td>\n",
       "      <td>614</td>\n",
       "      <td>614</td>\n",
       "      <td>607</td>\n",
       "      <td>614</td>\n",
       "      <td>614</td>\n",
       "      <td>583</td>\n",
       "      <td>277</td>\n",
       "      <td>275</td>\n",
       "      <td>614</td>\n",
       "      <td>614</td>\n",
       "    </tr>\n",
       "    <tr>\n",
       "      <td>Chicken</td>\n",
       "      <td>301</td>\n",
       "      <td>301</td>\n",
       "      <td>264</td>\n",
       "      <td>301</td>\n",
       "      <td>301</td>\n",
       "      <td>301</td>\n",
       "      <td>298</td>\n",
       "      <td>301</td>\n",
       "      <td>301</td>\n",
       "      <td>283</td>\n",
       "      <td>153</td>\n",
       "      <td>151</td>\n",
       "      <td>301</td>\n",
       "      <td>301</td>\n",
       "    </tr>\n",
       "    <tr>\n",
       "      <td>Chilean</td>\n",
       "      <td>5</td>\n",
       "      <td>5</td>\n",
       "      <td>5</td>\n",
       "      <td>5</td>\n",
       "      <td>5</td>\n",
       "      <td>5</td>\n",
       "      <td>5</td>\n",
       "      <td>5</td>\n",
       "      <td>5</td>\n",
       "      <td>5</td>\n",
       "      <td>2</td>\n",
       "      <td>2</td>\n",
       "      <td>5</td>\n",
       "      <td>5</td>\n",
       "    </tr>\n",
       "    <tr>\n",
       "      <td>Chinese</td>\n",
       "      <td>2094</td>\n",
       "      <td>2094</td>\n",
       "      <td>1844</td>\n",
       "      <td>2094</td>\n",
       "      <td>2094</td>\n",
       "      <td>2094</td>\n",
       "      <td>2069</td>\n",
       "      <td>2094</td>\n",
       "      <td>2094</td>\n",
       "      <td>1997</td>\n",
       "      <td>1030</td>\n",
       "      <td>1014</td>\n",
       "      <td>2094</td>\n",
       "      <td>2094</td>\n",
       "    </tr>\n",
       "    <tr>\n",
       "      <td>Chinese/Cuban</td>\n",
       "      <td>15</td>\n",
       "      <td>15</td>\n",
       "      <td>13</td>\n",
       "      <td>15</td>\n",
       "      <td>15</td>\n",
       "      <td>15</td>\n",
       "      <td>15</td>\n",
       "      <td>15</td>\n",
       "      <td>15</td>\n",
       "      <td>15</td>\n",
       "      <td>4</td>\n",
       "      <td>4</td>\n",
       "      <td>15</td>\n",
       "      <td>15</td>\n",
       "    </tr>\n",
       "  </tbody>\n",
       "</table>\n",
       "</div>"
      ],
      "text/plain": [
       "                                                    CAMIS   DBA  AIRPORT  \\\n",
       "CUISINE DESCRIPTION                                                        \n",
       "Afghan                                                 12    12        9   \n",
       "African                                                71    71       61   \n",
       "American                                             4423  4423     3921   \n",
       "Armenian                                               19    19       16   \n",
       "Asian                                                 351   351      305   \n",
       "Australian                                             13    13       12   \n",
       "Bagels/Pretzels                                       139   139      123   \n",
       "Bakery                                                581   581      525   \n",
       "Bangladeshi                                            53    53       48   \n",
       "Barbecue                                               39    39       34   \n",
       "Bottled beverages, including water, sodas, juic...     57    57       49   \n",
       "Brazilian                                              25    25       18   \n",
       "CafÃƒÂ©/Coffee/Tea                                    771   771      688   \n",
       "Cajun                                                   5     5        4   \n",
       "Californian                                             1     1        1   \n",
       "Caribbean                                             614   614      554   \n",
       "Chicken                                               301   301      264   \n",
       "Chilean                                                 5     5        5   \n",
       "Chinese                                              2094  2094     1844   \n",
       "Chinese/Cuban                                          15    15       13   \n",
       "\n",
       "                                                    BUILDING  INSPECTION DATE  \\\n",
       "CUISINE DESCRIPTION                                                             \n",
       "Afghan                                                    12               12   \n",
       "African                                                   71               71   \n",
       "American                                                4422             4423   \n",
       "Armenian                                                  19               19   \n",
       "Asian                                                    351              351   \n",
       "Australian                                                13               13   \n",
       "Bagels/Pretzels                                          139              139   \n",
       "Bakery                                                   581              581   \n",
       "Bangladeshi                                               53               53   \n",
       "Barbecue                                                  39               39   \n",
       "Bottled beverages, including water, sodas, juic...        57               57   \n",
       "Brazilian                                                 25               25   \n",
       "CafÃƒÂ©/Coffee/Tea                                       771              771   \n",
       "Cajun                                                      5                5   \n",
       "Californian                                                1                1   \n",
       "Caribbean                                                614              614   \n",
       "Chicken                                                  301              301   \n",
       "Chilean                                                    5                5   \n",
       "Chinese                                                 2094             2094   \n",
       "Chinese/Cuban                                             15               15   \n",
       "\n",
       "                                                    ACTION  VIOLATION CODE  \\\n",
       "CUISINE DESCRIPTION                                                          \n",
       "Afghan                                                  12              12   \n",
       "African                                                 71              70   \n",
       "American                                              4423            4366   \n",
       "Armenian                                                19              19   \n",
       "Asian                                                  351             346   \n",
       "Australian                                              13              13   \n",
       "Bagels/Pretzels                                        139             137   \n",
       "Bakery                                                 581             573   \n",
       "Bangladeshi                                             53              52   \n",
       "Barbecue                                                39              36   \n",
       "Bottled beverages, including water, sodas, juic...      57              55   \n",
       "Brazilian                                               25              25   \n",
       "CafÃƒÂ©/Coffee/Tea                                     771             757   \n",
       "Cajun                                                    5               5   \n",
       "Californian                                              1               1   \n",
       "Caribbean                                              614             607   \n",
       "Chicken                                                301             298   \n",
       "Chilean                                                  5               5   \n",
       "Chinese                                               2094            2069   \n",
       "Chinese/Cuban                                           15              15   \n",
       "\n",
       "                                                    VIOLATION DESCRIPTION  \\\n",
       "CUISINE DESCRIPTION                                                         \n",
       "Afghan                                                                 12   \n",
       "African                                                                71   \n",
       "American                                                             4423   \n",
       "Armenian                                                               19   \n",
       "Asian                                                                 351   \n",
       "Australian                                                             13   \n",
       "Bagels/Pretzels                                                       139   \n",
       "Bakery                                                                581   \n",
       "Bangladeshi                                                            53   \n",
       "Barbecue                                                               39   \n",
       "Bottled beverages, including water, sodas, juic...                     57   \n",
       "Brazilian                                                              25   \n",
       "CafÃƒÂ©/Coffee/Tea                                                    771   \n",
       "Cajun                                                                   5   \n",
       "Californian                                                             1   \n",
       "Caribbean                                                             614   \n",
       "Chicken                                                               301   \n",
       "Chilean                                                                 5   \n",
       "Chinese                                                              2094   \n",
       "Chinese/Cuban                                                          15   \n",
       "\n",
       "                                                    CRITICAL FLAG  SCORE  \\\n",
       "CUISINE DESCRIPTION                                                        \n",
       "Afghan                                                         12     11   \n",
       "African                                                        71     67   \n",
       "American                                                     4423   4167   \n",
       "Armenian                                                       19     19   \n",
       "Asian                                                         351    335   \n",
       "Australian                                                     13     13   \n",
       "Bagels/Pretzels                                               139    129   \n",
       "Bakery                                                        581    546   \n",
       "Bangladeshi                                                    53     51   \n",
       "Barbecue                                                       39     36   \n",
       "Bottled beverages, including water, sodas, juic...             57     50   \n",
       "Brazilian                                                      25     22   \n",
       "CafÃƒÂ©/Coffee/Tea                                            771    724   \n",
       "Cajun                                                           5      5   \n",
       "Californian                                                     1      1   \n",
       "Caribbean                                                     614    583   \n",
       "Chicken                                                       301    283   \n",
       "Chilean                                                         5      5   \n",
       "Chinese                                                      2094   1997   \n",
       "Chinese/Cuban                                                  15     15   \n",
       "\n",
       "                                                    GRADE  GRADE DATE  \\\n",
       "CUISINE DESCRIPTION                                                     \n",
       "Afghan                                                  5           5   \n",
       "African                                                32          31   \n",
       "American                                             2259        2231   \n",
       "Armenian                                                8           7   \n",
       "Asian                                                 165         160   \n",
       "Australian                                              8           8   \n",
       "Bagels/Pretzels                                        69          67   \n",
       "Bakery                                                283         283   \n",
       "Bangladeshi                                            22          22   \n",
       "Barbecue                                               22          20   \n",
       "Bottled beverages, including water, sodas, juic...     31          30   \n",
       "Brazilian                                              14          14   \n",
       "CafÃƒÂ©/Coffee/Tea                                    443         437   \n",
       "Cajun                                                   2           2   \n",
       "Californian                                             1           1   \n",
       "Caribbean                                             277         275   \n",
       "Chicken                                               153         151   \n",
       "Chilean                                                 2           2   \n",
       "Chinese                                              1030        1014   \n",
       "Chinese/Cuban                                           4           4   \n",
       "\n",
       "                                                    RECORD DATE  \\\n",
       "CUISINE DESCRIPTION                                               \n",
       "Afghan                                                       12   \n",
       "African                                                      71   \n",
       "American                                                   4423   \n",
       "Armenian                                                     19   \n",
       "Asian                                                       351   \n",
       "Australian                                                   13   \n",
       "Bagels/Pretzels                                             139   \n",
       "Bakery                                                      581   \n",
       "Bangladeshi                                                  53   \n",
       "Barbecue                                                     39   \n",
       "Bottled beverages, including water, sodas, juic...           57   \n",
       "Brazilian                                                    25   \n",
       "CafÃƒÂ©/Coffee/Tea                                          771   \n",
       "Cajun                                                         5   \n",
       "Californian                                                   1   \n",
       "Caribbean                                                   614   \n",
       "Chicken                                                     301   \n",
       "Chilean                                                       5   \n",
       "Chinese                                                    2094   \n",
       "Chinese/Cuban                                                15   \n",
       "\n",
       "                                                    INSPECTION TYPE  \n",
       "CUISINE DESCRIPTION                                                  \n",
       "Afghan                                                           12  \n",
       "African                                                          71  \n",
       "American                                                       4423  \n",
       "Armenian                                                         19  \n",
       "Asian                                                           351  \n",
       "Australian                                                       13  \n",
       "Bagels/Pretzels                                                 139  \n",
       "Bakery                                                          581  \n",
       "Bangladeshi                                                      53  \n",
       "Barbecue                                                         39  \n",
       "Bottled beverages, including water, sodas, juic...               57  \n",
       "Brazilian                                                        25  \n",
       "CafÃƒÂ©/Coffee/Tea                                              771  \n",
       "Cajun                                                             5  \n",
       "Californian                                                       1  \n",
       "Caribbean                                                       614  \n",
       "Chicken                                                         301  \n",
       "Chilean                                                           5  \n",
       "Chinese                                                        2094  \n",
       "Chinese/Cuban                                                    15  "
      ]
     },
     "execution_count": 82,
     "metadata": {},
     "output_type": "execute_result"
    }
   ],
   "source": [
    "tgrouped.head(20)"
   ]
  },
  {
   "cell_type": "code",
   "execution_count": 92,
   "metadata": {},
   "outputs": [],
   "source": [
    "test=tgrouped.sort_values(by='VIOLATION DESCRIPTION', ascending=False)[:3]"
   ]
  },
  {
   "cell_type": "code",
   "execution_count": 93,
   "metadata": {},
   "outputs": [
    {
     "name": "stdout",
     "output_type": "stream",
     "text": [
      "                                                    CAMIS   DBA  AIRPORT  \\\n",
      "CUISINE DESCRIPTION                                                        \n",
      "American                                             4423  4423     3921   \n",
      "Chinese                                              2094  2094     1844   \n",
      "Latin (Cuban, Dominican, Puerto Rican, South & ...    980   980      854   \n",
      "\n",
      "                                                    BUILDING  INSPECTION DATE  \\\n",
      "CUISINE DESCRIPTION                                                             \n",
      "American                                                4422             4423   \n",
      "Chinese                                                 2094             2094   \n",
      "Latin (Cuban, Dominican, Puerto Rican, South & ...       980              980   \n",
      "\n",
      "                                                    ACTION  VIOLATION CODE  \\\n",
      "CUISINE DESCRIPTION                                                          \n",
      "American                                              4423            4366   \n",
      "Chinese                                               2094            2069   \n",
      "Latin (Cuban, Dominican, Puerto Rican, South & ...     980             967   \n",
      "\n",
      "                                                    VIOLATION DESCRIPTION  \\\n",
      "CUISINE DESCRIPTION                                                         \n",
      "American                                                             4423   \n",
      "Chinese                                                              2094   \n",
      "Latin (Cuban, Dominican, Puerto Rican, South & ...                    980   \n",
      "\n",
      "                                                    CRITICAL FLAG  SCORE  \\\n",
      "CUISINE DESCRIPTION                                                        \n",
      "American                                                     4423   4167   \n",
      "Chinese                                                      2094   1997   \n",
      "Latin (Cuban, Dominican, Puerto Rican, South & ...            980    922   \n",
      "\n",
      "                                                    GRADE  GRADE DATE  \\\n",
      "CUISINE DESCRIPTION                                                     \n",
      "American                                             2259        2231   \n",
      "Chinese                                              1030        1014   \n",
      "Latin (Cuban, Dominican, Puerto Rican, South & ...    444         443   \n",
      "\n",
      "                                                    RECORD DATE  \\\n",
      "CUISINE DESCRIPTION                                               \n",
      "American                                                   4423   \n",
      "Chinese                                                    2094   \n",
      "Latin (Cuban, Dominican, Puerto Rican, South & ...          980   \n",
      "\n",
      "                                                    INSPECTION TYPE  \n",
      "CUISINE DESCRIPTION                                                  \n",
      "American                                                       4423  \n",
      "Chinese                                                        2094  \n",
      "Latin (Cuban, Dominican, Puerto Rican, South & ...              980  \n"
     ]
    }
   ],
   "source": [
    "print(test)"
   ]
  },
  {
   "cell_type": "code",
   "execution_count": 97,
   "metadata": {},
   "outputs": [
    {
     "data": {
      "text/plain": [
       "<matplotlib.axes._subplots.AxesSubplot at 0x145faff5448>"
      ]
     },
     "execution_count": 97,
     "metadata": {},
     "output_type": "execute_result"
    },
    {
     "data": {
      "image/png": "[encoded data removed]",
      "text/plain": [
       "<Figure size 1152x432 with 1 Axes>"
      ]
     },
     "metadata": {
      "needs_background": "light"
     },
     "output_type": "display_data"
    }
   ],
   "source": [
    "test['VIOLATION DESCRIPTION'].plot(kind='bar', stacked=False, figsize=[16,6], colormap='winter') "
   ]
  },
  {
   "cell_type": "code",
   "execution_count": null,
   "metadata": {},
   "outputs": [],
   "source": [
    "#https://mode.com/python-tutorial/pandas-groupby-and-python-lambda-functions/"
   ]
  },
  {
   "cell_type": "code",
   "execution_count": null,
   "metadata": {},
   "outputs": [],
   "source": [
    "#https://towardsdatascience.com/data-cleaning-with-python-and-pandas-detecting-missing-values-3e9c6ebcf78b"
   ]
  },
  {
   "cell_type": "code",
   "execution_count": null,
   "metadata": {},
   "outputs": [],
   "source": [
    "#http://jalammar.github.io/gentle-visual-intro-to-data-analysis-python-pandas/"
   ]
  },
  {
   "cell_type": "code",
   "execution_count": null,
   "metadata": {},
   "outputs": [],
   "source": [
    "#https://towardsdatascience.com/data-visualization-exploration-using-pandas-only-beginner-a0a52eb723d5"
   ]
  },
  {
   "cell_type": "code",
   "execution_count": null,
   "metadata": {},
   "outputs": [],
   "source": []
  },
  {
   "cell_type": "code",
   "execution_count": null,
   "metadata": {},
   "outputs": [],
   "source": []
  },
  {
   "cell_type": "code",
   "execution_count": 21,
   "metadata": {},
   "outputs": [],
   "source": [
    "flight=pd.read_csv(r'C:\\Users\\b.tasker\\Desktop\\MODULE 6 Flight Data.csv')"
   ]
  },
  {
   "cell_type": "code",
   "execution_count": 23,
   "metadata": {},
   "outputs": [],
   "source": [
    "delay=flight.groupby('AIRLINE', as_index=False)['DEPARTURE_DELAY'].mean()"
   ]
  },
  {
   "cell_type": "code",
   "execution_count": 24,
   "metadata": {},
   "outputs": [
    {
     "name": "stdout",
     "output_type": "stream",
     "text": [
      "   AIRLINE  DEPARTURE_DELAY\n",
      "0       AA        11.329539\n",
      "1       AS         2.902882\n",
      "2       B6        15.913243\n",
      "3       DL         9.665130\n",
      "4       EV        11.323789\n",
      "5       F9        23.179170\n",
      "6       HA         1.549380\n",
      "7       MQ        18.151813\n",
      "8       NK        16.076289\n",
      "9       OO        11.261990\n",
      "10      UA        15.114108\n",
      "11      US         7.565493\n",
      "12      VX        10.297641\n",
      "13      WN        10.063417\n"
     ]
    }
   ],
   "source": [
    "print(delay)"
   ]
  },
  {
   "cell_type": "code",
   "execution_count": 30,
   "metadata": {},
   "outputs": [
    {
     "name": "stdout",
     "output_type": "stream",
     "text": [
      "AxesSubplot(0.125,0.125;0.775x0.755)\n"
     ]
    },
    {
     "data": {
      "image/png": "[encoded data removed]",
      "text/plain": [
       "<Figure size 1152x432 with 1 Axes>"
      ]
     },
     "metadata": {
      "needs_background": "light"
     },
     "output_type": "display_data"
    }
   ],
   "source": [
    "print(delay['DEPARTURE_DELAY'].plot(kind='bar', stacked=False, figsize=[16,6], colormap='winter'))"
   ]
  },
  {
   "cell_type": "code",
   "execution_count": null,
   "metadata": {},
   "outputs": [],
   "source": [
    "which origin and destination airports have the longest delayed flight times on average. "
   ]
  },
  {
   "cell_type": "code",
   "execution_count": 53,
   "metadata": {},
   "outputs": [],
   "source": [
    "airz=flight.groupby(['ORIGIN_AIRPORT','DESTINATION_AIRPORT'], as_index=False)['ARRIVAL_DELAY'].mean().max()"
   ]
  },
  {
   "cell_type": "code",
   "execution_count": 54,
   "metadata": {},
   "outputs": [
    {
     "name": "stdout",
     "output_type": "stream",
     "text": [
      "ORIGIN_AIRPORT         YUM\n",
      "DESTINATION_AIRPORT    YUM\n",
      "ARRIVAL_DELAY          381\n",
      "dtype: object\n"
     ]
    }
   ],
   "source": [
    "print(airz)"
   ]
  },
  {
   "cell_type": "code",
   "execution_count": null,
   "metadata": {},
   "outputs": [],
   "source": [
    "Lastly they would like to know the average delay in departure time per airport by starting destination. "
   ]
  },
  {
   "cell_type": "code",
   "execution_count": 55,
   "metadata": {},
   "outputs": [],
   "source": [
    "delay2=flight.groupby(['AIRLINE','ORIGIN_AIRPORT'], as_index=False)['DEPARTURE_DELAY'].mean()"
   ]
  },
  {
   "cell_type": "code",
   "execution_count": 59,
   "metadata": {},
   "outputs": [
    {
     "name": "stdout",
     "output_type": "stream",
     "text": [
      "       DEPARTURE_DELAY\n",
      "count      1195.000000\n",
      "mean         12.373524\n",
      "std          13.758249\n",
      "min         -10.632353\n",
      "25%           6.320392\n",
      "50%          10.107143\n",
      "75%          16.035842\n",
      "max         299.500000\n"
     ]
    }
   ],
   "source": [
    "print(delay2.describe())"
   ]
  },
  {
   "cell_type": "code",
   "execution_count": 67,
   "metadata": {},
   "outputs": [],
   "source": [
    "A=delay2.sort_values(\"DEPARTURE_DELAY\", axis = 0, ascending = False, \n",
    "                 inplace = False, na_position ='last') "
   ]
  },
  {
   "cell_type": "code",
   "execution_count": 74,
   "metadata": {},
   "outputs": [],
   "source": [
    "B=A[:15]"
   ]
  },
  {
   "cell_type": "code",
   "execution_count": 75,
   "metadata": {},
   "outputs": [
    {
     "name": "stdout",
     "output_type": "stream",
     "text": [
      "AxesSubplot(0.125,0.125;0.775x0.755)\n"
     ]
    },
    {
     "data": {
      "image/png": "[encoded data removed]",
      "text/plain": [
       "<Figure size 1152x432 with 1 Axes>"
      ]
     },
     "metadata": {
      "needs_background": "light"
     },
     "output_type": "display_data"
    }
   ],
   "source": [
    "print(B['DEPARTURE_DELAY'].plot(kind='bar', stacked=False, figsize=[16,6], colormap='winter'))"
   ]
  },
  {
   "cell_type": "code",
   "execution_count": null,
   "metadata": {},
   "outputs": [],
   "source": []
  }
 ],
 "metadata": {
  "kernelspec": {
   "display_name": "Python 3",
   "language": "python",
   "name": "python3"
  },
  "language_info": {
   "codemirror_mode": {
    "name": "ipython",
    "version": 3
   },
   "file_extension": ".py",
   "mimetype": "text/x-python",
   "name": "python",
   "nbconvert_exporter": "python",
   "pygments_lexer": "ipython3",
   "version": "3.7.4"
  }
 },
 "nbformat": 4,
 "nbformat_minor": 2
}

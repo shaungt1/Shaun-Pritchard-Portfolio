{
  "nbformat": 4,
  "nbformat_minor": 0,
  "metadata": {
    "colab": {
      "name": "QMB4400-MOD5_DisplayingDataVisulizations.ipynb",
      "private_outputs": true,
      "provenance": [],
      "collapsed_sections": []
    },
    "kernelspec": {
      "name": "python3",
      "display_name": "Python 3"
    }
  },
  "cells": [
    {
      "cell_type": "markdown",
      "metadata": {
        "id": "77d886rCWawp"
      },
      "source": [
        "# **Displaying Data Visulizations**"
      ]
    },
    {
      "cell_type": "markdown",
      "metadata": {
        "id": "VrQGRnlDWAYb"
      },
      "source": [
        "# **Module 05 Assignment - Storing Output**\n",
        "\n",
        "<hr>\n",
        "\n",
        "### Assignment Module 5:\n",
        "You are working as a software developer for the FDA. You need to determine the highest calories in the McDonald's menu. Please use Module_4_Assignment Dataset to complete, which is located on the Course Files page. \n",
        "\n",
        "You need to create a script that can perform following tasks.\n",
        "\n",
        "- Step 1: Read the data from CSV file.\n",
        "- Step 2: Use matplotlib to generate the chart.\n",
        "- Step 3: X-axis should be Item and Y axis should be total Calories from Fat.\n",
        "- Step 4: Draw the line chart using matplotlib."
      ]
    },
    {
      "cell_type": "markdown",
      "metadata": {
        "id": "VuJDrsGFW4jW"
      },
      "source": [
        "### **Importing Libaries**"
      ]
    },
    {
      "cell_type": "code",
      "metadata": {
        "id": "wfFEXZC0WS-V"
      },
      "source": [
        "# loading libraries\n",
        "import sqlite3 as sql\n",
        "import pandas as pd\n",
        "import numpy as np\n",
        "import matplotlib.pyplot as plt\n",
        "import seaborn as sn\n",
        "from matplotlib.backends.backend_pdf import PdfPages\n"
      ],
      "execution_count": null,
      "outputs": []
    },
    {
      "cell_type": "markdown",
      "metadata": {
        "id": "9asN9rcgXJmI"
      },
      "source": [
        "### **Import Dataset**"
      ]
    },
    {
      "cell_type": "code",
      "metadata": {
        "id": "wztBPDMtXDKM"
      },
      "source": [
        "# Load data to dataframe\n",
        "df = pd.read_csv('/content/menu.csv', encoding='iso-8859-1')"
      ],
      "execution_count": null,
      "outputs": []
    },
    {
      "cell_type": "markdown",
      "metadata": {
        "id": "xGlrAeNud4Y5"
      },
      "source": [
        "### **Check Data**"
      ]
    },
    {
      "cell_type": "code",
      "metadata": {
        "id": "KU0VGKq8C-oJ"
      },
      "source": [
        "# Check Data\n",
        "df.head()"
      ],
      "execution_count": null,
      "outputs": []
    },
    {
      "cell_type": "code",
      "metadata": {
        "id": "R-3VRNEZVVji"
      },
      "source": [
        "#Double Check DataTypes\n",
        "df.dtypes"
      ],
      "execution_count": null,
      "outputs": []
    },
    {
      "cell_type": "markdown",
      "metadata": {
        "id": "zgT1bOWmf2Ma"
      },
      "source": [
        "### **Clean Data**"
      ]
    },
    {
      "cell_type": "code",
      "metadata": {
        "id": "SZuVgSmWEkVS"
      },
      "source": [
        "#counts all null values in data frame (both column and rows)\n",
        "print('Total NaN Values in Dataframe:' , df.isnull().sum().sum())"
      ],
      "execution_count": null,
      "outputs": []
    },
    {
      "cell_type": "markdown",
      "metadata": {
        "id": "DT8ZmvJrd-sR"
      },
      "source": [
        "### **Transform and Proccess Data**"
      ]
    },
    {
      "cell_type": "code",
      "metadata": {
        "id": "KVJAJoFVbA4F"
      },
      "source": [
        "# Seperate categorical Varibles\n",
        "obj_df = df.select_dtypes(include=['object']).copy()\n",
        "obj_df.head()"
      ],
      "execution_count": null,
      "outputs": []
    },
    {
      "cell_type": "code",
      "metadata": {
        "id": "Mb-JmI4SbJmn"
      },
      "source": [
        "#  Convert a column to a category\n",
        "obj_df[\"Item\"] = obj_df[\"Item\"].astype('category')\n",
        "obj_df.dtypes"
      ],
      "execution_count": null,
      "outputs": []
    },
    {
      "cell_type": "code",
      "metadata": {
        "id": "wS44j63sbisv"
      },
      "source": [
        "# Encode category colum feature\n",
        "obj_df[\"Item_cat\"] = obj_df[\"Item\"].cat.codes\n",
        "obj_df.head()"
      ],
      "execution_count": null,
      "outputs": []
    },
    {
      "cell_type": "markdown",
      "metadata": {
        "id": "TAVNrVY3eJ0E"
      },
      "source": [
        "### **Visulize Data**"
      ]
    },
    {
      "cell_type": "code",
      "metadata": {
        "id": "xN18XuCLVo0C"
      },
      "source": [
        "# Use encoded column vector and orginal feeature Calories as X & Y varibles\n",
        "x = obj_df['Item_cat']\n",
        "y = df['Calories']"
      ],
      "execution_count": null,
      "outputs": []
    },
    {
      "cell_type": "code",
      "metadata": {
        "id": "mHj9KVpWffAC"
      },
      "source": [
        ""
      ],
      "execution_count": null,
      "outputs": []
    },
    {
      "cell_type": "code",
      "metadata": {
        "id": "nz6wc1WBTT3M"
      },
      "source": [
        "# Setup PDF output file for chart\n",
        "with PdfPages(r'/content/Mod5Chartpdf') as export_pdf:\n",
        "  # Plot line graph with trend line for better visulization\n",
        "  plot = df.plot.line(x='Item', y='Calories',  figsize=[18,8], colormap='spring', title=\"Highest calories in the McDonald's menu\")\n",
        "  #Plot Trend Line\n",
        "  z = np.polyfit(x, y, 1)\n",
        "  p = np.poly1d(z)\n",
        "  plt.plot(x,p(x),\"r--\")\n",
        "  #Plot X & Y Axis labels\n",
        "  plt.xlabel('Items', fontsize=14)\n",
        "  plt.ylabel('Total Calories', fontsize=14)\n",
        "  # Plot grid\n",
        "  plt.grid(True)\n",
        "  # Send plot to PDF with data output:\n",
        "  export_pdf.savefig()"
      ],
      "execution_count": null,
      "outputs": []
    }
  ]
}
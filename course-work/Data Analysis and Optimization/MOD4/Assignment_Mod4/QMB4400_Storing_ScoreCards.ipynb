{
  "nbformat": 4,
  "nbformat_minor": 0,
  "metadata": {
    "colab": {
      "name": "QMB4400-Storing-ScoreCards.ipynb",
      "private_outputs": true,
      "provenance": [],
      "collapsed_sections": [],
      "toc_visible": true
    },
    "kernelspec": {
      "name": "python3",
      "display_name": "Python 3"
    },
    "language_info": {
      "name": "python"
    }
  },
  "cells": [
    {
      "cell_type": "markdown",
      "metadata": {
        "id": "V5jygiL5ZdHi"
      },
      "source": [
        "# **Module 04 QMB 4400**\n",
        "\n",
        "<hr>\n",
        "\n",
        "### Asignment Module 4:\n",
        "You need to create a Python script that should perform following tasks.\n",
        "\n",
        "- Create a SQLite table with following columns as described in the csv file and name it as Cohorts table\n",
        "- Insert data into the SQLite table\n",
        "- Store the data into the Pandas DataFrame\n",
        "Print the result using read_sql statement."
      ]
    },
    {
      "cell_type": "code",
      "metadata": {
        "id": "b1ohIPZWZLVr"
      },
      "source": [
        "# loading libraries\n",
        "import sqlite3 as sql\n",
        "import pandas as pd\n",
        "import numpy as np\n",
        "import matplotlib.pyplot as plt"
      ],
      "execution_count": null,
      "outputs": []
    },
    {
      "cell_type": "code",
      "metadata": {
        "id": "BCUU5hujZvOv"
      },
      "source": [
        "#Creating a dataframe 1\n",
        "df = pd.read_csv('//content/Most-Recent-Cohorts-Scorecard-Elements.csv', encoding='iso-8859-1')"
      ],
      "execution_count": null,
      "outputs": []
    },
    {
      "cell_type": "code",
      "metadata": {
        "id": "KUSj0BeOaPSA"
      },
      "source": [
        "#Check Data\n",
        "df"
      ],
      "execution_count": null,
      "outputs": []
    },
    {
      "cell_type": "code",
      "metadata": {
        "id": "eyUVzzx07sdI"
      },
      "source": [
        "# Create connection to database and set a table for csv data\n",
        "conn = sql.connect('cohorts.db')\n",
        "df.to_sql('cohorts', conn)"
      ],
      "execution_count": null,
      "outputs": []
    },
    {
      "cell_type": "code",
      "metadata": {
        "id": "DVbW7eLqxjow"
      },
      "source": [
        "# Read SQL data into a new variable select all collumns and rows\n",
        "cohorts = pd.read_sql('SELECT * FROM cohorts', conn)"
      ],
      "execution_count": null,
      "outputs": []
    },
    {
      "cell_type": "code",
      "metadata": {
        "id": "TYJsFEmYx5vh"
      },
      "source": [
        "#Output SQL data\n",
        "cohorts.head()"
      ],
      "execution_count": null,
      "outputs": []
    },
    {
      "cell_type": "code",
      "metadata": {
        "id": "i3FkVFbx-zbd"
      },
      "source": [
        "# Describe Data\n",
        "cohorts.describe()"
      ],
      "execution_count": null,
      "outputs": []
    },
    {
      "cell_type": "code",
      "metadata": {
        "id": "sgXIJ9nGZvjs"
      },
      "source": [
        "\n",
        "# Write data to JSON filecohorts.to_json(r'/content/ZipOutput.json')"
      ],
      "execution_count": null,
      "outputs": []
    }
  ]
}
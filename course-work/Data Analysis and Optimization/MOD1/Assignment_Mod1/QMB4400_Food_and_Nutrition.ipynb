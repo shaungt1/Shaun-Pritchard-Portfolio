{
  "nbformat": 4,
  "nbformat_minor": 0,
  "metadata": {
    "colab": {
      "name": "QMB4400-Food and Nutrition.ipynb",
      "private_outputs": true,
      "provenance": [],
      "toc_visible": true
    },
    "kernelspec": {
      "name": "python3",
      "display_name": "Python 3"
    },
    "language_info": {
      "name": "python"
    }
  },
  "cells": [
    {
      "cell_type": "markdown",
      "metadata": {
        "id": "5RNc6derAeey"
      },
      "source": [
        "# **Module 06 Final Course Project -  Remove Duplicate Data**\n",
        "\n",
        "<hr>\n",
        "\n",
        "### Final Course Project Module 6:\n",
        "- Final Python Scripts with following things.\n",
        "-Improve quality of input data using Python libraries\n",
        "- Country and number of shark attack using Python libraries\n",
        "- Line, Pie and Bar charts using Matplotlib\n",
        "- Overall architecture diagram\n",
        "- Apply scripting standards\n",
        "- It must be original work and include comments throughout your code."
      ]
    },
    {
      "cell_type": "markdown",
      "metadata": {
        "id": "V5jygiL5ZdHi"
      },
      "source": [
        "# **Module 01 QMB 4400**\n",
        "\n",
        "<hr>\n",
        "\n",
        "### Asignment Module 1:\n",
        "-You are working as a contractor on a Python script developed by a Food and Nutrition Department at a company. You need to determine to provide nutrition data on 80 cereal products. Data is stored in two different files, cereal and Cereal_MFRCategorical, which are located in the Course Files folder.\n",
        "\n",
        "Cereal_MFRCategorical.csv: It contains Manufacturing company category.\n",
        "Cereal.csv: It contains remaining data for each cereal.\n",
        "\n",
        "You need to load CSV files into the Pandas and then append both the CSV files using name column."
      ]
    },
    {
      "cell_type": "code",
      "metadata": {
        "id": "b1ohIPZWZLVr"
      },
      "source": [
        "# loading libraries\n",
        "import pandas as pd\n",
        "import numpy as np\n",
        "import matplotlib.pyplot as plt"
      ],
      "execution_count": null,
      "outputs": []
    },
    {
      "cell_type": "code",
      "metadata": {
        "id": "BCUU5hujZvOv"
      },
      "source": [
        "#Creating a dataframe 1\n",
        "df1 = pd.read_csv('/content/Cereal_MFRCategorical.csv', encoding='iso-8859-1') \n",
        "#Creating a dataframe 2\n",
        "df2 = pd.read_csv('/content/Cereal_MFRCategorical.csv', encoding='iso-8859-1') "
      ],
      "execution_count": null,
      "outputs": []
    },
    {
      "cell_type": "code",
      "metadata": {
        "id": "KUSj0BeOaPSA"
      },
      "source": [
        "df1.head()"
      ],
      "execution_count": null,
      "outputs": []
    },
    {
      "cell_type": "code",
      "metadata": {
        "id": "aACvlmbBaPVM"
      },
      "source": [
        "df2.head()"
      ],
      "execution_count": null,
      "outputs": []
    },
    {
      "cell_type": "code",
      "metadata": {
        "id": "DsMPbBFaZvcy"
      },
      "source": [
        "df = pd.merge(df1,df2, how = 'inner', on = 'ï»¿name')"
      ],
      "execution_count": null,
      "outputs": []
    },
    {
      "cell_type": "code",
      "metadata": {
        "id": "sgXIJ9nGZvjs"
      },
      "source": [
        "df.head()"
      ],
      "execution_count": null,
      "outputs": []
    }
  ]
}
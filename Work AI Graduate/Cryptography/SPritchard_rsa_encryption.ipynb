{
  "nbformat": 4,
  "nbformat_minor": 0,
  "metadata": {
    "kernelspec": {
      "display_name": "Python 3",
      "language": "python",
      "name": "python3"
    },
    "language_info": {
      "codemirror_mode": {
        "name": "ipython",
        "version": 3
      },
      "file_extension": ".py",
      "mimetype": "text/x-python",
      "name": "python",
      "nbconvert_exporter": "python",
      "pygments_lexer": "ipython3",
      "version": "3.7.3"
    },
    "colab": {
      "provenance": []
    }
  },
  "cells": [
    {
      "cell_type": "markdown",
      "metadata": {
        "id": "jKAkxLLauQFB"
      },
      "source": [
        "# Shaun Pritchard\n",
        "### 02/16/2022\n",
        "**This article outlines the basic ideas of encryption and explains uses Python's pseudorandom generator which is not cryptographically secure."
      ]
    },
    {
      "cell_type": "markdown",
      "metadata": {
        "id": "Dfk6phD1lXuZ"
      },
      "source": [
        "# What is encryption?\n",
        "**Encryption** is a function or a mapping that takes in your message (plain text) and converts it into garbled text (sequence of numbers) that you can send over servers without anyone being able to figure out what does it mean.\n",
        "\n",
        "\n",
        "\n",
        "![alt text](https://4.bp.blogspot.com/-6X64g4j2yIo/W4LIHKSfyuI/AAAAAAAABKc/eoO50t7cJC4agNkXSaMAfvK-17eyIytogCLcBGAs/s1600/Symmetric%2Bkey.PNG)"
      ]
    },
    {
      "cell_type": "markdown",
      "metadata": {
        "id": "8oY2z-c8o0NL"
      },
      "source": [
        "eg. You want to send a message to your friend. You both decide that you will replace all the letters to their position in the alphabet.\n",
        "\n",
        "Say you want to send \"hey have you got weed\", you can instead send:"
      ]
    },
    {
      "cell_type": "code",
      "metadata": {
        "id": "pa0VFGcPmzwI"
      },
      "source": [
        "#@title\n",
        "message = \"hey have you got weed\"\n",
        "cipher = [ord(l)-96 for l in message]\n",
        "print(cipher)"
      ],
      "execution_count": null,
      "outputs": []
    },
    {
      "cell_type": "markdown",
      "metadata": {
        "id": "5xT3GuRfoYAy"
      },
      "source": [
        "Now your friend receives this list of numbers, looks up in the Alphabet and replaces each number back to the alphabet."
      ]
    },
    {
      "cell_type": "code",
      "metadata": {
        "id": "yA_LoLLgpFjp"
      },
      "source": [
        "#@title\n",
        "message_decrypted = [chr(l+96) for l in cipher]\n",
        "print(''.join(message_decrypted))"
      ],
      "execution_count": null,
      "outputs": []
    },
    {
      "cell_type": "markdown",
      "metadata": {
        "id": "2TVoyRUZqSan"
      },
      "source": [
        "He replies back:"
      ]
    },
    {
      "cell_type": "code",
      "metadata": {
        "id": "0-G1iA-MqVxR",
        "cellView": "form"
      },
      "source": [
        "#@title\n",
        "message = \"yes\"\n",
        "cipher = [ord(l)-96 for l in message]\n",
        "print(cipher)"
      ],
      "execution_count": null,
      "outputs": []
    },
    {
      "cell_type": "markdown",
      "metadata": {
        "id": "7Og5y4BjoK9g"
      },
      "source": [
        "\n",
        "\n",
        "---\n",
        "\n",
        "# RSA encryption\n",
        "RSA is a similar function that it takes each character in your message and maps it to a number and sends this number over the server.\n",
        "\n",
        "This is an asymmetric key algorithm where there is an encryption and decryption key. Since it is slow to implemenet, it is used to send the symmetric keys instead of encrypting the data.\n",
        "\n",
        "\n",
        "Let's go through some Maths basics first to refresh what we learned in school."
      ]
    },
    {
      "cell_type": "markdown",
      "metadata": {
        "id": "JInKmo_QrLrv"
      },
      "source": [
        "# Greatest Common Divisor\n",
        "\n",
        "**Euclid's algorithm** for determining the greatest common divisor (GCD).\n",
        "\n",
        "a is larger than b, divide a by b, divide quotient by remainder, repeat till remainder is 0\n"
      ]
    },
    {
      "cell_type": "code",
      "metadata": {
        "id": "KkbTeoSSijGa"
      },
      "source": [
        "#@title\n",
        "'''\n",
        "Euclid's algorithm for determining the greatest common divisor\n",
        "Use iteration to make it faster for larger integers\n",
        "a is larger than b, divide a by b, divide quotient by remainder, repeat till remainder is 0\n",
        "'''\n",
        "def gcd(a, b):\n",
        "    while b != 0:\n",
        "        a, b = b, a % b\n",
        "    return a"
      ],
      "execution_count": null,
      "outputs": []
    },
    {
      "cell_type": "code",
      "metadata": {
        "id": "ESkC60fXoiMY"
      },
      "source": [
        "gcd(5,10)"
      ],
      "execution_count": null,
      "outputs": []
    },
    {
      "cell_type": "markdown",
      "metadata": {
        "id": "VpdkZHRe1f1J"
      },
      "source": [
        "# Relatively prime or coprimes\n",
        "Two numbers a and b are relatively primes iff $gcd(a,b) = 1$ which means that they only share $1$ as their common factor.\n",
        "\n",
        "For example, 14 and 15 are relatively primes"
      ]
    },
    {
      "cell_type": "markdown",
      "metadata": {
        "id": "F_WYBk6uu36s"
      },
      "source": [
        "# Congurent numbers\n",
        "\n",
        "> $a ≡ b  (\\text{mod m})$ ---> a is congruent to b modulo m\n",
        "\n",
        "which implies m divides a-b\n",
        "\n",
        "> $a - b = m * Factor$\n",
        "\n",
        "> $b = remainder(a,m)$"
      ]
    },
    {
      "cell_type": "markdown",
      "metadata": {
        "id": "WjF3yxgcrjZX"
      },
      "source": [
        "# Multliplicative inverse\n",
        "\n",
        "x and a are multiplicate inverse of each other mod m if\n",
        "\n",
        "> $a * x ≡ 1 (\\text{mod m})$, where x lies in [1, .. , m-1]\n",
        "\n",
        "which means m divides a * x - 1\n",
        "\n",
        "> $a*x - 1 = m * Factor$\n",
        "\n",
        "> $a*x = m * Factor + 1$\n",
        "\n",
        "> $1 = remainder(ax,m)$\n",
        "\n",
        "*It can be shown that if $GCD(n,k) =1$, then $k$ has a multiplicative inverse mod n*"
      ]
    },
    {
      "cell_type": "code",
      "metadata": {
        "id": "oIskXnuxijGk"
      },
      "source": [
        "#@title\n",
        "'''\n",
        "Euclid's extended algorithm for finding the multiplicative inverse of two numbers\n",
        "ax ≡ 1 (mod m), x lies in [1, .. , m-1]\n",
        "'''\n",
        "def multiplicative_inverse(a, m):\n",
        "    a = a % m; \n",
        "    for x in range(1, m) : \n",
        "        if ((a * x) % m == 1) : \n",
        "            return x \n",
        "    return 1"
      ],
      "execution_count": null,
      "outputs": []
    },
    {
      "cell_type": "code",
      "metadata": {
        "id": "9fT44t0WijGr"
      },
      "source": [
        "# example test"
      ],
      "execution_count": null,
      "outputs": []
    },
    {
      "cell_type": "markdown",
      "metadata": {
        "id": "xBPvOknLxK-I"
      },
      "source": [
        "# Prime number\n",
        "\n",
        "In order to check if a number N is prime, we start dividing it with numbers from 2 onwards. Since\n",
        "\n",
        "$N = \\sqrt{N} * \\sqrt{N} $\n",
        "\n",
        "the factor can't be greater than $\\sqrt{N}$\n",
        "\n",
        "So we only have to check numbers till then."
      ]
    },
    {
      "cell_type": "code",
      "metadata": {
        "id": "vvT__qzvijGw"
      },
      "source": [
        "'''\n",
        "Tests to see if a number is prime.\n",
        "'''\n",
        "def is_prime(num):\n",
        "    if num == 2:\n",
        "        return True\n",
        "    if num < 2 or num % 2 == 0:\n",
        "        return False\n",
        "    for n in range(3, int(num**0.5)+2, 2): # cool trick here...\n",
        "        if num % n == 0:\n",
        "            return False\n",
        "    return True"
      ],
      "execution_count": null,
      "outputs": []
    },
    {
      "cell_type": "code",
      "metadata": {
        "id": "ArwHymVzijG3"
      },
      "source": [
        "# example\n",
        "is_prime(13441)"
      ],
      "execution_count": null,
      "outputs": []
    },
    {
      "cell_type": "markdown",
      "metadata": {
        "id": "8pDjlRE10VuR"
      },
      "source": [
        "# RSA - Rivest–Shamir–Adleman\n",
        "Published in 1977 in MIT [pdf](https://people.csail.mit.edu/rivest/Rsapaper.pdf)\n",
        "\n",
        "# Generation of public and private keys\n",
        "\n",
        "1.   Generate two prime numbers $p$ and $q$\n",
        "\n",
        "2.   Define $N = p * q$ called a *semiprime* (product of two primes)\n",
        "\n",
        "3.   Define $ \\phi =  (p-1) * (q-1)$ which is Euler Totient function (see Euler's theorem)\n",
        "\n",
        "4.   Generate encryption key $e$ such that $gcd(e, \\phi) = 1 $ where e lies between $1$ to $\\phi -1 $\n",
        "\n",
        "    i.e. e is relatively prime to $\\phi$\n",
        "\n",
        "   **Public key**: $(e, N)$ visible to everyone\n",
        "\n",
        "5.   Generate decryption key $d$ such that $d$ is multiplicate inverse of $e$ module $\\phi$\n",
        "\n",
        "    $d*e ≡ 1  (mod \\phi)$\n",
        "\n",
        "    **Private key**: $(d, N)$ visible only to sender and your receiver.\n"
      ]
    },
    {
      "cell_type": "code",
      "metadata": {
        "id": "PXy8P0huijG8"
      },
      "source": [
        "def generate_keypair(p, q):\n",
        "    if not (is_prime(p) and is_prime(q)):\n",
        "        raise ValueError('Both numbers must be prime.')\n",
        "    elif p == q:\n",
        "        raise ValueError('p and q cannot be equal')\n",
        "    #n = pq\n",
        "    n = p * q\n",
        "\n",
        "    #Phi is the totient of n\n",
        "    phi = (p-1) * (q-1)\n",
        "\n",
        "    #Choose an integer e such that e and phi(n) are coprime or relatively prime\n",
        "    e = random.randrange(1, phi)\n",
        "\n",
        "    #Use Euclid's Algorithm to verify that e and phi(n) are coprime\n",
        "    g = gcd(e, phi)\n",
        "    while g != 1:\n",
        "        e = random.randrange(1, phi)\n",
        "        g = gcd(e, phi)\n",
        "\n",
        "    #Use Extended Euclid's Algorithm to generate the private key de ≡ 1 (mod phi)\n",
        "    d = multiplicative_inverse(e, phi)\n",
        "    \n",
        "    #Return public and private keypair\n",
        "    #Public key is (e, n) and private key is (d, n)\n",
        "    return ((e, n), (d, n))"
      ],
      "execution_count": null,
      "outputs": []
    },
    {
      "cell_type": "code",
      "metadata": {
        "id": "V83pgmbBi-ES",
        "outputId": "91532478-2ac7-49db-aea0-1db808886256",
        "colab": {
          "base_uri": "https://localhost:8080/",
          "height": 108
        }
      },
      "source": [
        "#@title\n",
        "import random\n",
        "print(\"RSA Encrypter/ Decrypter\")\n",
        "p = int(input(\"Enter a prime number (17, 19, 23, etc): \"))\n",
        "q = int(input(\"Enter another prime number (Not one you entered above): \"))\n",
        "\n",
        "print(\"Generating your public/private keypairs now . . .\")\n",
        "public, private = generate_keypair(p, q)\n",
        "print(\"Your public key is \", public ,\" and your private key is \", private)"
      ],
      "execution_count": null,
      "outputs": [
        {
          "output_type": "stream",
          "text": [
            "RSA Encrypter/ Decrypter\n",
            "Enter a prime number (17, 19, 23, etc): 23\n",
            "Enter another prime number (Not one you entered above): 331\n",
            "Generating your public/private keypairs now . . .\n",
            "Your public key is  (3653, 7613)  and your private key is  (4577, 7613)\n"
          ],
          "name": "stdout"
        }
      ]
    },
    {
      "cell_type": "markdown",
      "metadata": {
        "id": "Wi8B_TCc3oPh"
      },
      "source": [
        "# Encryption step\n",
        "Message $m$ -> cipher $m'$\n",
        "\n",
        "\n",
        ">   $m' = remainder(m^e, N)$\n",
        "\n"
      ]
    },
    {
      "cell_type": "code",
      "metadata": {
        "id": "0-9lV5pjijHC"
      },
      "source": [
        "def encrypt(pk, plaintext):\n",
        "    #Unpack the key into it's components\n",
        "    key, n = pk\n",
        "    #Convert each letter in the plaintext to numbers based on the character using rem(m^e,n) i.e. m^e mod n\n",
        "    cipher = [(ord(char) ** key) % n for char in plaintext]\n",
        "    #Return the array of bytes\n",
        "    return cipher"
      ],
      "execution_count": null,
      "outputs": []
    },
    {
      "cell_type": "code",
      "metadata": {
        "id": "Dyv9O09sjv9T",
        "colab": {
          "base_uri": "https://localhost:8080/",
          "height": 72
        },
        "outputId": "6446fd38-3ef1-40a1-d618-f7f986288fd5"
      },
      "source": [
        "message = input(\"Enter a message to encrypt with your public key: \")\n",
        "encrypted_msg = encrypt(public, message)\n",
        "print(\"Your encrypted message is: \")\n",
        "print(''.join(map(lambda x: str(x), encrypted_msg)))"
      ],
      "execution_count": null,
      "outputs": [
        {
          "output_type": "stream",
          "text": [
            "Enter a message to encrypt with your public key: hello\n",
            "Your encrypted message is: \n",
            "1116426458125812111\n"
          ],
          "name": "stdout"
        }
      ]
    },
    {
      "cell_type": "markdown",
      "metadata": {
        "id": "1iAorvMZ5N1-"
      },
      "source": [
        "# Decryption step\n",
        "cipher $m'$ -> message $m$\n",
        "\n",
        "\n",
        ">   $m = remainder(m'^d, N)$\n"
      ]
    },
    {
      "cell_type": "code",
      "metadata": {
        "id": "gtTRMJCS5K01"
      },
      "source": [
        "def decrypt(pk, ciphertext):\n",
        "    #Unpack the key into its components\n",
        "    key, n = pk\n",
        "    #Generate the plaintext based on the ciphertext and key using rem(m'^d,n)\n",
        "    plain = [chr((char ** key) % n) for char in ciphertext]\n",
        "    #Return the array of bytes as a string\n",
        "    return ''.join(plain)"
      ],
      "execution_count": null,
      "outputs": []
    },
    {
      "cell_type": "code",
      "metadata": {
        "id": "BAjTfzQFijHL",
        "colab": {
          "base_uri": "https://localhost:8080/",
          "height": 72
        },
        "outputId": "7d752bfe-bd87-4552-a1dc-f16713f11e17"
      },
      "source": [
        "print(\"Decrypting message with private key \", public ,\" . . .\")\n",
        "print(\"Your message is:\")\n",
        "print(decrypt(private, encrypted_msg))"
      ],
      "execution_count": null,
      "outputs": [
        {
          "output_type": "stream",
          "text": [
            "Decrypting message with private key  (3653, 7613)  . . .\n",
            "Your message is:\n",
            "hello\n"
          ],
          "name": "stdout"
        }
      ]
    },
    {
      "cell_type": "markdown",
      "metadata": {
        "id": "9WklelNeEfJP"
      },
      "source": [
        "# Euler's theorems and Fermat's Little theorem\n",
        "\n",
        "Euler totient function $\\phi(n)$ is defined as the number of integers in $[1,2,3....,n-1]$ that are relatively prime to $n$\n",
        "\n",
        "\n",
        "\n",
        "1.   If $p1, p2, ..., pj$ are the prime factors of $n$, then\n",
        "$\\phi(n) = n (1 - \\frac{1}{p1}) ..  (1 - \\frac{1}{pj}) $\n",
        "\n",
        "2.   If $n = p * q$ where $p$ and $q$ are prime (n is called semiprime) then it can be show that $\\phi(n) = (p-1) (q-1)$\n",
        "\n",
        "3.   For all $n,k$ s.t. $GCD(n,k)=1$, then it can be shown that $k^{\\phi(n)} ≡  1 (\\text{mod n)}$\n",
        "\n",
        "4.   If $n$ is prime s.t. $n = p$, then $k^{p-1} ≡  1 (\\text{mod p)}$\n",
        "\n"
      ]
    },
    {
      "cell_type": "markdown",
      "metadata": {
        "id": "GISObDPS7OuA"
      },
      "source": [
        "# More on RSA\n",
        "\n",
        "*    RSA on [Wiki](https://en.wikipedia.org/wiki/RSA_(cryptosystem))\n",
        "\n",
        "*    Code used was modified from [here](https://gist.github.com/JonCooperWorks/5314103)\n",
        "*    [RSA challenges](https://en.wikipedia.org/wiki/RSA_numbers) How many years does it take to find the prime factors of a xxx-bit semiprimes\n",
        "\n",
        "*    Shor's algorithm to break RSA using quantum computers (fast) or classical computers (slow) ([youtube](https://www.youtube.com/watch?v=lvTqbM5Dq4Q))\n",
        "\n"
      ]
    },
    {
      "cell_type": "markdown",
      "metadata": {
        "id": "WKVPVIxLpVA6"
      },
      "source": [
        "# More on prime numbers\n",
        "*    **Prime number theorem ([wiki](https://en.wikipedia.org/wiki/Prime_number_theorem#Proof_sketch)):**  It formalizes the intuitive idea that primes become less common as they become larger by precisely quantifying the rate at which this occurs. Specifically $pi(N) \\approx \\frac{N}{log(N)}$\n",
        "\n",
        "*    Database of primes upto $10^{12}$ [here](https://primes.utm.edu/nthprime/index.php#nth)\n",
        "\n",
        "*    MIT lecture [notes](https://ocw.mit.edu/courses/electrical-engineering-and-computer-science/6-042j-mathematics-for-computer-science-fall-2010/readings/MIT6_042JF10_chap04.pdf) on proofs"
      ]
    }
  ]
}
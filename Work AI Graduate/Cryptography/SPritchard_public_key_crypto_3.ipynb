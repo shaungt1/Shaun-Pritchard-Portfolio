{
  "cells": [
    {
      "cell_type": "markdown",
      "metadata": {
        "id": "PqcaepJzX7JD"
      },
      "source": [
        "# Shaun Pritchard\n",
        "\n",
        "### Cryptography\n",
        "### Public key cryptography\n",
        "### Diffie-Hellman Key Exchange + ElGamal Encryption"
      ]
    },
    {
      "cell_type": "markdown",
      "metadata": {
        "id": "XNrwFhXJX7JI"
      },
      "source": [
        "Formuation of propositions, lemmas, definitions comes from:\n",
        "**Introduction to modern cryptography** by *Jonathan Katz* and *Yehuda Lindell*"
      ]
    },
    {
      "cell_type": "markdown",
      "metadata": {
        "id": "DiB2_56dX7JJ"
      },
      "source": [
        "To see the notebook as a slide-show, use [RISE](https://rise.readthedocs.io/en/stable/)"
      ]
    },
    {
      "cell_type": "code",
      "execution_count": null,
      "metadata": {
        "id": "o6xNtoj2X7JJ"
      },
      "outputs": [],
      "source": [
        "import math\n",
        "import random\n",
        "from sympy import randprime, isprime, Mod\n",
        "import hashlib"
      ]
    },
    {
      "cell_type": "markdown",
      "metadata": {
        "id": "ijxoRU55X7JL"
      },
      "source": [
        "**Proposition 7.2** Let $a, b$ be positive integers. Then there exists integers $X, Y$ such that $Xa + Yb = \\gcd(a, b)$. \n",
        "\n",
        "Furthermore, $\\gcd(a, b)$ is the smallest positive integer that can be expressed in this way."
      ]
    },
    {
      "cell_type": "code",
      "execution_count": null,
      "metadata": {
        "cell_style": "split",
        "id": "NpZtVdwsX7JL"
      },
      "outputs": [],
      "source": [
        "def egcd(a, b):\n",
        "    x,y, u,v = 0,1, 1,0\n",
        "    while a != 0:\n",
        "        q, r = b//a, b%a\n",
        "        m, n = x-u*q, y-v*q\n",
        "        b,a, x,y, u,v = a,r, u,v, m,n\n",
        "    gcd = b\n",
        "    return gcd, x, y"
      ]
    },
    {
      "cell_type": "code",
      "execution_count": null,
      "metadata": {
        "cell_style": "split",
        "id": "5TO9w4CnX7JM"
      },
      "outputs": [],
      "source": [
        "a = 10\n",
        "b = 21\n",
        "\n",
        "gcd, x, y = egcd(a, b)"
      ]
    },
    {
      "cell_type": "code",
      "execution_count": null,
      "metadata": {
        "cell_style": "split",
        "id": "5ru8kr6RX7JM"
      },
      "outputs": [],
      "source": [
        "print(a, \"*\", x, \"+\", b, \"*\", y, \"=\", math.gcd(a,b))\n",
        "a * x + b * y"
      ]
    },
    {
      "cell_type": "markdown",
      "metadata": {
        "cell_style": "split",
        "id": "ox8x9bIzX7JN"
      },
      "source": [
        "If for $b$ there exists an integer $b^{-1}$ such that $b b^{-1} = 1 \\bmod N$ then we call:\n",
        "\n",
        "* $b$ invertible\n",
        "\n",
        "* $b^{-1}$ modular inverse of $b$ modulo $N$"
      ]
    },
    {
      "cell_type": "markdown",
      "metadata": {
        "cell_style": "split",
        "id": "VXbynRPRX7JO"
      },
      "source": [
        "**Proposition 7.7** Let $a, N$ be integers, with $N > 1$. Then $a$ is invertible modulo $N$ if and only if $\\gcd(a, N) = 1$."
      ]
    },
    {
      "cell_type": "code",
      "execution_count": null,
      "metadata": {
        "id": "IZNPLt_kX7JO"
      },
      "outputs": [],
      "source": []
    },
    {
      "cell_type": "markdown",
      "metadata": {
        "cell_style": "split",
        "id": "r4KSkD-1X7JO"
      },
      "source": [
        "**Definition 7.9** A group is a set $\\mathbf{G}$ along with a binary operation $\\oplus$ for which the following conditions hold:\n",
        "\n",
        "* (Closure:) For all $g, h \\in \\mathbf{G}$, $g \\oplus h \\in \\mathbf{G}$\n",
        "\n",
        "* (Existance of an Identity:) There exists an **identity** $e \\in \\mathbf{G}$ such that for all $g \\in \\mathcal{G}$, $e \\oplus g = g = g \\oplus e$.\n",
        "\n",
        "* (Existence of Inverses:) For all $g \\in \\mathbf{G}$ there exists an element $h \\in \\mathbf G$ such that $g \\oplus h = e$\n",
        "\n",
        "* (Associativity:) For all $g_1, g_2, g_3 \\in \\mathbf{G}$, $(g_1 \\oplus g_2) \\oplus g_3 = g_1 \\oplus (g_2 \\oplus g_3)$.\n",
        "\n",
        "If $\\mathbf{G}$ has finite number of elements $\\rightarrow \\mathbf{G}$ is a *finite group*\n",
        "\n",
        "$|\\mathbf{G}|$ - order of the group - number of elements in $\\mathbf{G}$\n",
        "\n",
        "$\\mathbf{G}$ is **abelian** if\n",
        "for all $g, h \\in \\mathbf{G}, g \\oplus h = h \\oplus g$"
      ]
    },
    {
      "cell_type": "markdown",
      "metadata": {
        "cell_style": "split",
        "id": "_EReBDPMX7JP"
      },
      "source": [
        "$Z^+_n = (Z_n, +) = (\\{0, 1, \\ldots, n-1\\}, +_{ \\bmod n})$ for $n \\geq 2$ is an abelian group of order $|Z_n^+| = n$"
      ]
    },
    {
      "cell_type": "markdown",
      "metadata": {
        "cell_style": "split",
        "id": "51NbpLipX7JP"
      },
      "source": [
        "$Z_n^* = (\\{a: \\gcd(a, n) = 1\\}, \\cdot_{ \\bmod n})$. If $n$ is prime:\n",
        "$Z_p^* = (Z_p, \\cdot) = (\\{1, \\ldots, p-1\\}, \\cdot_{ \\bmod p})$ for $p$ prime is an abelian group of order $|Z_p^*| = p - 1$"
      ]
    },
    {
      "cell_type": "markdown",
      "metadata": {
        "cell_style": "split",
        "id": "hv8LUEpSX7JQ"
      },
      "source": [
        "$Z_n^* = (\\{a: \\gcd(a, n) = 1\\}, \\cdot_{ \\bmod n})$. \n",
        "\n",
        "Let $n = p \\cdot q$, $\\qquad p, q$ are primes -- an abelian group of order $|Z_{pq}^*| = (p - 1)(q-1)$"
      ]
    },
    {
      "cell_type": "code",
      "execution_count": null,
      "metadata": {
        "id": "Brwv9VwMX7JQ"
      },
      "outputs": [],
      "source": []
    },
    {
      "cell_type": "markdown",
      "metadata": {
        "id": "Jjo4Z8TKX7JQ"
      },
      "source": [
        "# Cyclic groups"
      ]
    },
    {
      "cell_type": "markdown",
      "metadata": {
        "cell_style": "split",
        "id": "iuFiWC_DX7JR"
      },
      "source": [
        "Let $\\mathbf{G}$ be a finite group of order $m$.\n",
        "\n",
        "Let $g \\in \\mathbf{G}$, consider the set:\n",
        "$$\\langle g \\rangle = \\{g^0, g^1, \\ldots \\}$$"
      ]
    },
    {
      "cell_type": "markdown",
      "metadata": {
        "cell_style": "split",
        "id": "e_k5Q2SVX7JR"
      },
      "source": [
        "From *Theorem 7.14* we have $g^m = 1$.\n",
        "\n",
        "Let $i \\leq m$ be the smallest positive integer for which $g^i = 1$.\n",
        "\n",
        "Then the sequence repeats after $i$ terms, so:\n",
        "$$\\langle g \\rangle = \\{g^0, \\ldots, g^{i-1}\\}$$"
      ]
    },
    {
      "cell_type": "markdown",
      "metadata": {
        "cell_style": "split",
        "id": "_jPTH-FpX7JR"
      },
      "source": [
        "The set contains exactly $i$ elements since:\n",
        "\n",
        "if $g^j = g^k$ with $0 \\leq j < k < i$\n",
        "\n",
        "then $g^{k-j} = 1$ and $0 < k - j < i$ (contradicting choice of $i$).\n",
        "\n",
        "\n",
        "$G = Z_{11}^*$\n",
        "\n",
        "$\\langle 2 \\rangle = \\langle 6 \\rangle = \\langle 7 \\rangle = \\langle 8 \\rangle = G$\n",
        "\n",
        "Def: A **primitive root** of $G$ is such a $g \\in G$ that $\\langle g \\rangle = G$"
      ]
    },
    {
      "cell_type": "markdown",
      "metadata": {
        "cell_style": "split",
        "id": "TWNbdBBmX7JS"
      },
      "source": [
        "$\\langle g \\rangle$ is a subgroup of $\\mathbf{G}$\n",
        "\n",
        "inverse of $g^x$ is $g^{i-x}$\n",
        "\n",
        "$Z_n^* = (\\{a: \\gcd(a, n) = 1\\}, \\cdot_{ \\bmod n})$. \n"
      ]
    },
    {
      "cell_type": "code",
      "execution_count": null,
      "metadata": {
        "cell_style": "split",
        "id": "hC5LKX9pX7JS",
        "outputId": "8e48cbf9-512c-4890-d561-ad795e5565eb"
      },
      "outputs": [
        {
          "data": {
            "text/plain": [
              "([1, 2, 3, 4, 5, 6, 7, 8, 9, 10], 10)"
            ]
          },
          "execution_count": 36,
          "metadata": {},
          "output_type": "execute_result"
        }
      ],
      "source": [
        "def group(n):\n",
        "    G = []\n",
        "    m = 0\n",
        "    for a in range(n):\n",
        "        if math.gcd(a, n) == 1:\n",
        "            G.append(a)\n",
        "            m = m + 1\n",
        "    return G, m\n",
        "\n",
        "n = 11\n",
        "group(n)"
      ]
    },
    {
      "cell_type": "code",
      "execution_count": null,
      "metadata": {
        "cell_style": "split",
        "id": "eu3eX5m6X7JT",
        "outputId": "c6d78c4f-85e2-4f8c-b0df-d22ea8f45a34"
      },
      "outputs": [
        {
          "name": "stdout",
          "output_type": "stream",
          "text": [
            "dict_keys([1, 2, 4, 8, 5, 10, 9, 7, 3, 6]) 10\n"
          ]
        }
      ],
      "source": [
        "def subgroup(g, n, m):\n",
        "    H = {}\n",
        "    for i in range(m):\n",
        "        H[(g ** i % n)] = 1\n",
        "    return H\n",
        "\n",
        "p = 11\n",
        "gs = subgroup(2, p, p-1)\n",
        "\n",
        "print(gs.keys(), len(gs))"
      ]
    },
    {
      "cell_type": "code",
      "execution_count": null,
      "metadata": {
        "cell_style": "split",
        "id": "TLb11D57X7JU"
      },
      "outputs": [],
      "source": [
        "p, q = 11, 13\n",
        "n, m = p * q, (p-1)*(q-1)\n",
        "#n = 11\n",
        "#m = n - 1\n",
        "print(\"Group Z\",n,\"* order: \", m)\n",
        "#pint(group(n))\n",
        "for i in range(n):\n",
        "    if math.gcd(i, n) == 1:\n",
        "        w = subgroup(i, n, m)\n",
        "        print(\"Element \", i, \"order:\", len(w))\n",
        "        #print(w.keys())"
      ]
    },
    {
      "cell_type": "code",
      "execution_count": null,
      "metadata": {
        "id": "OvioqvfcX7JU"
      },
      "outputs": [],
      "source": []
    },
    {
      "cell_type": "markdown",
      "metadata": {
        "cell_style": "split",
        "id": "wUp5Qw-IX7JU"
      },
      "source": [
        "*Definition 7.48* Let $\\mathbf{G}$ be a finite group and $g \\in \\mathbf{G}$. The **order** of $g$ is the smallest positive integer $i$ with $g^i = 1$."
      ]
    },
    {
      "cell_type": "code",
      "execution_count": null,
      "metadata": {
        "cell_style": "split",
        "id": "MqPBaxKFX7JU",
        "outputId": "21af4b88-bd3e-4d73-9d4f-095b868e2fb5"
      },
      "outputs": [
        {
          "data": {
            "text/plain": [
              "2"
            ]
          },
          "execution_count": 38,
          "metadata": {},
          "output_type": "execute_result"
        }
      ],
      "source": [
        "def order(g, n):\n",
        "    o = 1\n",
        "    while g ** o % n != 1:\n",
        "        o = o + 1\n",
        "    return o\n",
        "\n",
        "order(10, 11)"
      ]
    },
    {
      "cell_type": "code",
      "execution_count": null,
      "metadata": {
        "id": "OiZmTug6X7JV",
        "outputId": "ac351339-f8a6-4044-ee9d-5dce05242220"
      },
      "outputs": [
        {
          "name": "stdout",
          "output_type": "stream",
          "text": [
            "18 2\n",
            "([1, 2, 3, 4, 5, 6, 7, 8, 9, 10, 11, 12, 13, 14, 15, 16, 17, 18, 19, 20, 21, 22], 22)\n",
            "11\n",
            "[1, 2, 4, 8, 16, 9, 18, 13, 3, 6, 12]\n"
          ]
        }
      ],
      "source": [
        "x = random.randint(2, 2*q - 1)\n",
        "q = 11\n",
        "p = 2 * q  + 1\n",
        "g = x ** 2 % p\n",
        "print(x, g)\n",
        "#groupOrder = p - 1\n",
        "#subgroup orders: divisors of p - 1 = 2q -> 1, 2, q, 2q\n",
        "print(group(p))\n",
        "print(order(g, p))\n",
        "print(list(subgroup(g, p, p-1).keys()))"
      ]
    },
    {
      "cell_type": "code",
      "execution_count": null,
      "metadata": {
        "id": "CP-6YedWX7JV",
        "outputId": "4f4e9597-7054-4e21-92c0-b0c24c2dd853"
      },
      "outputs": [
        {
          "name": "stdout",
          "output_type": "stream",
          "text": [
            "[1, 3, 9, 4, 12, 13, 16, 2, 6, 18, 8]\n",
            "[1, 9, 12, 16, 6, 8, 3, 4, 13, 2, 18]\n",
            "[1, 4, 16, 18, 3, 12, 2, 8, 9, 13, 6]\n",
            "[1, 12, 6, 3, 13, 18, 9, 16, 8, 4, 2]\n",
            "[1, 13, 8, 12, 18, 4, 6, 9, 2, 3, 16]\n",
            "[1, 16, 3, 2, 9, 6, 4, 18, 12, 8, 13]\n",
            "[1, 2, 4, 8, 16, 9, 18, 13, 3, 6, 12]\n",
            "[1, 6, 13, 9, 8, 2, 12, 3, 18, 16, 4]\n",
            "[1, 18, 2, 13, 4, 3, 8, 6, 16, 12, 9]\n",
            "[1, 8, 18, 6, 2, 16, 13, 12, 4, 9, 3]\n"
          ]
        }
      ],
      "source": [
        "for g in [3, 9, 4, 12, 13, 16, 2, 6, 18, 8]:\n",
        "    print(list(subgroup(g, p, p - 1).keys()))\n",
        "    "
      ]
    },
    {
      "cell_type": "markdown",
      "metadata": {
        "cell_style": "split",
        "id": "JX2NLBmVX7JV"
      },
      "source": [
        "Proposition 7.51 Let $\\mathbf{G}$ be a finite group of order $m$, and say $g \\in \\mathbf{G}$ has order $i$ then $i | m$.\n",
        "\n",
        "\n",
        "Def. Let $G$ be a group of order $m$, if there exists an element $g \\in G$ such that order of $g$ is equal $m$ then we call $g$ a **group generator** and we call $G$ a **cyclic group**."
      ]
    },
    {
      "cell_type": "markdown",
      "metadata": {
        "cell_style": "split",
        "id": "4bDnCLf2X7JW"
      },
      "source": [
        "Corollary 7.52 If $\\mathbf{G}$ is a group of prime order $p$, then $\\mathbf{G}$ is cyclic.\n",
        "\n",
        "Furthermore, all elements of $\\mathbf{G}$ except the identity are generators of $\\mathbf{G}$."
      ]
    },
    {
      "cell_type": "markdown",
      "metadata": {
        "cell_style": "split",
        "id": "sZuenOcgX7JW"
      },
      "source": [
        "Theorem 7.53 If $p$ is prime then $\\mathbf{Z}_p^*$ is cyclic."
      ]
    },
    {
      "cell_type": "markdown",
      "metadata": {
        "cell_style": "split",
        "id": "iCVuHTsBX7JW"
      },
      "source": [
        "$n = p$, $p$ prime; the group order $m = p-1$\n",
        "\n",
        "what if we find $g$ such that $ord(g)$ is prime?\n",
        "\n",
        "\"recipe\":\n",
        "* $q$ - prime\n",
        "* $p = 2 q + 1$ be sure that is prime\n",
        "* then go with $Z_p^*$"
      ]
    },
    {
      "cell_type": "code",
      "execution_count": null,
      "metadata": {
        "cell_style": "split",
        "id": "fcdlORNLX7JW"
      },
      "outputs": [],
      "source": [
        "q = 11\n",
        "p = 2 * q + 1\n",
        "m = 2 * q\n",
        "print(q, p)\n",
        "g = 2\n",
        "#print(group(p))\n",
        "print(subgroup(g, p, p-1).keys())\n",
        "print(order(g, p))"
      ]
    },
    {
      "cell_type": "code",
      "execution_count": null,
      "metadata": {
        "cell_style": "center",
        "id": "m-vFCxpEX7JW"
      },
      "outputs": [],
      "source": [
        "for g in [2, 4, 8, 16, 9, 18, 13, 3, 6, 12]:\n",
        "    print(list(subgroup(g, p, p-1).keys()), len(subgroup(g, p, p-1)))"
      ]
    },
    {
      "cell_type": "code",
      "execution_count": null,
      "metadata": {
        "cell_style": "center",
        "id": "jjFCZM-KX7JX"
      },
      "outputs": [],
      "source": [
        "p = 23\n",
        "for a in range(2,p-1):\n",
        "    aa = a ** 2 % p\n",
        "    print(a, \"->\", aa, \"<\",aa,\"> = \", list(subgroup(aa, p, p-1)) )"
      ]
    },
    {
      "cell_type": "markdown",
      "metadata": {
        "id": "jec6iptDX7JX"
      },
      "source": [
        "$QR_p^* = \\{a: \\left(\\exists g \\in Z_p^*\\right) a = g^2 \\bmod p\\}$"
      ]
    },
    {
      "cell_type": "markdown",
      "metadata": {
        "cell_style": "split",
        "id": "iei5YlNYX7JX"
      },
      "source": [
        "$DLOG_{\\mathcal{A}, G}(n)$:\n",
        "1. Run $\\mathcal{G}(1^n)$ to obtain $(G, q, g)$:\n",
        "    * $\\mathcal{G}$ - cyclic group \n",
        "    * $q$ - group order\n",
        "    * $g$ - generator\n",
        "2. Choose $h \\leftarrow \\mathcal{G}$\n",
        "3. $x \\leftarrow \\mathcal{A}(\\mathcal{G}, q, g, h)$\n",
        "4. Output is $1$ if $g^x = h$"
      ]
    },
    {
      "cell_type": "markdown",
      "metadata": {
        "cell_style": "split",
        "id": "EbvC_LZTX7JX"
      },
      "source": [
        "Definintion 7.59 We say that the **discrete logarithm problem is hard relative to $\\mathcal{G}$** if for all PPT algorithms $\\mathcal{A}$ there exists a negligible function $\\mathsf{negl}$ such that \n",
        "$$P[DLOG_{\\mathcal{A}, G}(n) = 1] \\leq \\mathsf{negl}.$$"
      ]
    },
    {
      "cell_type": "markdown",
      "metadata": {
        "cell_style": "split",
        "id": "DZ4fbhV_X7JY"
      },
      "source": [
        "**Computational Diffie-Hellman (CDH)**\n",
        "\n",
        "Fix a cyclic group $\\mathbf{G}$ and a generator $g \\in \\mathbf{G}$. Given $h_1, h_2$, define\n",
        "$$DH_g(h_1, h_2) = g^{\\log_g h_1 \\cdot \\log_g h_2}$$\n",
        "\n",
        "If $X = g^x$ and $Y = g^y$ then \n",
        "$$DH_g(X, Y) = g^{x \\cdot y} = X^y = Y^x.$$"
      ]
    },
    {
      "cell_type": "markdown",
      "metadata": {
        "id": "UfbkySMcX7JY"
      },
      "source": [
        "Definition 7.60 We say that DDH problem is hard relative to $\\mathbf{G}$ if for all PPT algorithms $\\mathcal{A}$ there exists a negligible function $\\mathsf{negl}$ such that\n",
        "$$\\left|P\\left[\\mathcal{A}(\\mathbf{G}, q, g, g^x, g^y, g^z) = 1\\right] - P\\left[\\mathcal{A}(\\mathbf{G}, q, g, g^x, g^y, g^{xy}\\right) = 1\\right| \\leq \\mathsf{negl},$$\n",
        "where in each case the probabilities are taken over the experiment in which $\\mathcal{G}(1^n)$ outputs $(\\mathbf{G}, q, g)$, and then random $x, y, z \\in \\mathbf{Z}_q$ are chosen."
      ]
    },
    {
      "cell_type": "code",
      "execution_count": null,
      "metadata": {
        "id": "2ftebTj1X7JY"
      },
      "outputs": [],
      "source": []
    },
    {
      "cell_type": "markdown",
      "metadata": {
        "cell_style": "center",
        "id": "qQWWTicmX7JY"
      },
      "source": [
        "# Prime-Order Groups"
      ]
    },
    {
      "cell_type": "markdown",
      "metadata": {
        "cell_style": "split",
        "id": "fxJYXGvmX7JY"
      },
      "source": [
        "Cyclic groups:\n",
        "\n",
        "* prime order\n",
        "* non-prime order"
      ]
    },
    {
      "cell_type": "markdown",
      "metadata": {
        "cell_style": "split",
        "id": "IbG810GsX7JZ"
      },
      "source": [
        "Pohling-Hellman algorithm for Discrete Log\n",
        "\n",
        "group of order $q = q_1 \\cdot q_2 \\rightarrow$ Discrete Log Problem in $q_1$ and $q_2$"
      ]
    },
    {
      "cell_type": "markdown",
      "metadata": {
        "id": "Bw4MfgTnX7JZ"
      },
      "source": [
        "# Generator generation"
      ]
    },
    {
      "cell_type": "code",
      "execution_count": null,
      "metadata": {
        "cell_style": "split",
        "id": "4-uQ_MZyX7JZ",
        "outputId": "f9de9e1d-29d6-4489-aebf-a20af5a03092"
      },
      "outputs": [
        {
          "name": "stdout",
          "output_type": "stream",
          "text": [
            "191 383\n"
          ]
        }
      ],
      "source": [
        "def genSecurePrime(a, b):\n",
        "    a = False\n",
        "    while a is False:\n",
        "        p = randprime(a, b)\n",
        "        q = 2 * p  + 1\n",
        "        a = isprime(q)\n",
        "    return p, q\n",
        "\n",
        "p, q = genSecurePrime(30, 200)\n",
        "print(p, q)"
      ]
    },
    {
      "cell_type": "code",
      "execution_count": null,
      "metadata": {
        "cell_style": "split",
        "id": "pur1aqy7X7JZ",
        "outputId": "cd69682b-0cfb-49f3-9019-a5b90813465d"
      },
      "outputs": [
        {
          "name": "stdout",
          "output_type": "stream",
          "text": [
            "Group:  ([1, 2, 3, 4, 5, 6, 7, 8, 9, 10, 11, 12, 13, 14, 15, 16, 17, 18, 19, 20, 21, 22, 23, 24, 25, 26, 27, 28, 29, 30, 31, 32, 33, 34, 35, 36, 37, 38, 39, 40, 41, 42, 43, 44, 45, 46, 47, 48, 49, 50, 51, 52, 53, 54, 55, 56, 57, 58, 59, 60, 61, 62, 63, 64, 65, 66, 67, 68, 69, 70, 71, 72, 73, 74, 75, 76, 77, 78, 79, 80, 81, 82, 83, 84, 85, 86, 87, 88, 89, 90, 91, 92, 93, 94, 95, 96, 97, 98, 99, 100, 101, 102, 103, 104, 105, 106, 107, 108, 109, 110, 111, 112, 113, 114, 115, 116, 117, 118, 119, 120, 121, 122, 123, 124, 125, 126, 127, 128, 129, 130, 131, 132, 133, 134, 135, 136, 137, 138, 139, 140, 141, 142, 143, 144, 145, 146, 147, 148, 149, 150, 151, 152, 153, 154, 155, 156, 157, 158, 159, 160, 161, 162, 163, 164, 165, 166, 167, 168, 169, 170, 171, 172, 173, 174, 175, 176, 177, 178, 179, 180, 181, 182, 183, 184, 185, 186, 187, 188, 189, 190, 191, 192, 193, 194, 195, 196, 197, 198, 199, 200, 201, 202, 203, 204, 205, 206, 207, 208, 209, 210, 211, 212, 213, 214, 215, 216, 217, 218, 219, 220, 221, 222, 223, 224, 225, 226, 227, 228, 229, 230, 231, 232, 233, 234, 235, 236, 237, 238, 239, 240, 241, 242, 243, 244, 245, 246, 247, 248, 249, 250, 251, 252, 253, 254, 255, 256, 257, 258, 259, 260, 261, 262, 263, 264, 265, 266, 267, 268, 269, 270, 271, 272, 273, 274, 275, 276, 277, 278, 279, 280, 281, 282, 283, 284, 285, 286, 287, 288, 289, 290, 291, 292, 293, 294, 295, 296, 297, 298, 299, 300, 301, 302, 303, 304, 305, 306, 307, 308, 309, 310, 311, 312, 313, 314, 315, 316, 317, 318, 319, 320, 321, 322, 323, 324, 325, 326, 327, 328, 329, 330, 331, 332, 333, 334, 335, 336, 337, 338, 339, 340, 341, 342, 343, 344, 345, 346, 347, 348, 349, 350, 351, 352, 353, 354, 355, 356, 357, 358, 359, 360, 361, 362, 363, 364, 365, 366, 367, 368, 369, 370, 371, 372, 373, 374, 375, 376, 377, 378, 379, 380, 381, 382], 382)\n",
            "Random:  341\n",
            "Random generator:  232 ?\n",
            "Generated subgroup:  dict_keys([1, 232, 204, 219, 252, 248, 86, 36, 309, 67, 224, 263, 119, 32, 147, 17, 114, 21, 276, 71, 3, 313, 229, 274, 373, 361, 258, 108, 161, 201, 289, 23, 357, 96, 58, 51, 342, 63, 62, 213, 9, 173, 304, 56, 353, 317, 8, 324, 100, 220, 101, 69, 305, 288, 174, 153, 260, 189, 186, 256, 27, 136, 146, 168, 293, 185, 24, 206, 300, 277, 303, 207, 149, 98, 139, 76, 14, 184, 175, 2, 81, 25, 55, 121, 113, 172, 72, 235, 134, 65, 143, 238, 64, 294, 34, 228, 42, 169, 142, 6, 243, 75, 165, 363, 339, 133, 216, 322, 19, 195, 46, 331, 192, 116, 102, 301, 126, 124, 43, 18, 346, 225, 112, 323, 251, 16, 265, 200, 57, 202, 138, 227, 193, 348, 306, 137, 378, 372, 129, 54, 272, 292, 336, 203, 370, 48, 29, 217, 171, 223, 31, 298, 196, 278, 152, 28, 368, 350, 4, 162, 50, 110, 242, 226, 344, 144, 87, 268, 130, 286, 93, 128, 205, 68, 73, 84, 338, 284, 12, 103, 150, 330, 343, 295, 266, 49, 261, 38, 7, 92, 279])\n",
            "(sub)group order:  191\n",
            "191\n"
          ]
        }
      ],
      "source": [
        "print(\"Group: \", group(q))\n",
        "\n",
        "x = random.randint(2, 2 * p - 1)\n",
        "print(\"Random: \", x)\n",
        "g = x ** 2 % q\n",
        "print(\"Random generator: \", g, \"?\")\n",
        "\n",
        "S = subgroup(g, q, q -1)\n",
        "print(\"Generated subgroup: \", S.keys())\n",
        "print(\"(sub)group order: \", len(S))\n",
        "print(order(g, q))"
      ]
    },
    {
      "cell_type": "markdown",
      "metadata": {
        "id": "GtT7PJDgX7Ja"
      },
      "source": [
        "# Diffie-Hellman Key Exchange"
      ]
    },
    {
      "cell_type": "markdown",
      "metadata": {
        "cell_style": "split",
        "id": "IaPdGPEHX7Ja"
      },
      "source": [
        "Diffie Hellman Key Exchange\n",
        "$G$ - cyclic group of order $p$\n",
        "$g$ - a group generator\n",
        "\n",
        "1. Alice:\n",
        "    * $x \\leftarrow_{R} \\{1, \\ldots, p\\}$\n",
        "    * $X = g^x$\n",
        "    * $Alice \\xrightarrow{X} Bob$\n",
        "2. Bob:\n",
        "    * $y \\leftarrow_{R} \\{1, \\ldots, p\\}$\n",
        "    * $Y = g^y$\n",
        "    * $Alice \\xleftarrow{Y} Bob$\n",
        "3. Alice:\n",
        "    * $z_a = Y^x = (g^y)^x = g^{y x}$\n",
        "4. Bob:\n",
        "    * $z_b = X^y = (g^x)^y = g^{x y}$\n",
        "\n",
        "**Computational Diffie-Hellman (CDH)**\n",
        "\n",
        "Fix a cyclic group $\\mathbf{G}$ and a generator $g \\in \\mathbf{G}$. Given $h_1, h_2$, define\n",
        "$$DH_g(h_1, h_2) = g^{\\log_g h_1 \\cdot \\log_g h_2}$$\n",
        "\n",
        "If $X = g^x$ and $Y = g^y$ then \n",
        "$$DH_g(X, Y) = g^{x \\cdot y} = X^y = Y^x.$$\n",
        "\n",
        "Shared key:\n",
        "* $k_a = h(z_a)$\n",
        "* $k_b = h(z_b)$\n",
        "\n",
        "\"Magic\":\n",
        "* $k_a = k_b$"
      ]
    },
    {
      "cell_type": "code",
      "execution_count": null,
      "metadata": {
        "cell_style": "split",
        "id": "5QgNGiNYX7Ja"
      },
      "outputs": [],
      "source": [
        "def genGen(q):\n",
        "    x = random.randint(2, q - 2)\n",
        "    return x ** 2 % q"
      ]
    },
    {
      "cell_type": "code",
      "execution_count": null,
      "metadata": {
        "cell_style": "split",
        "id": "2kBeaiUgX7Jb",
        "outputId": "f49d62c0-71fc-4c07-9541-08fa93cb69f5"
      },
      "outputs": [
        {
          "name": "stdout",
          "output_type": "stream",
          "text": [
            "8\n",
            "191\n"
          ]
        }
      ],
      "source": [
        "g = genGen(q)\n",
        "print(g)\n",
        "print(order(g, q))"
      ]
    },
    {
      "cell_type": "code",
      "execution_count": null,
      "metadata": {
        "cell_style": "split",
        "id": "DCGoJ3RJX7Jb"
      },
      "outputs": [],
      "source": [
        "def DH_Key_Gen(g, q):\n",
        "        x = random.randint(1, (q - 1) // 2)\n",
        "        return x, g ** x % q"
      ]
    },
    {
      "cell_type": "code",
      "execution_count": null,
      "metadata": {
        "cell_style": "split",
        "id": "2CzM7_cEX7Jb",
        "outputId": "28b9c01c-0f41-41e6-e372-c798634a32cc"
      },
      "outputs": [
        {
          "name": "stdout",
          "output_type": "stream",
          "text": [
            "8 383\n",
            "346 161\n"
          ]
        }
      ],
      "source": [
        "x, X = DH_Key_Gen(g, q) # Alice\n",
        "\n",
        "y, Y = DH_Key_Gen(g, q) # Bob\n",
        "\n",
        "za = Y ** x % q # Alice computes\n",
        "\n",
        "zb = X ** y % q # Bob computes\n",
        "\n",
        "print(g, q) # Eve knows\n",
        "print(X, Y) # Eve knows"
      ]
    },
    {
      "cell_type": "markdown",
      "metadata": {
        "cell_style": "split",
        "id": "yLOnmzlGX7Jb"
      },
      "source": [
        "A passive adversary's view:\n",
        "* $G, g, X, Y$\n",
        "\n",
        "Security:\n",
        "* Can an adversary compute $k$?"
      ]
    },
    {
      "cell_type": "code",
      "execution_count": null,
      "metadata": {
        "cell_style": "split",
        "id": "-ntnq6mDX7Jc",
        "outputId": "13ff2ddc-e438-4652-ad6d-29b4dd58b0fd"
      },
      "outputs": [
        {
          "name": "stdout",
          "output_type": "stream",
          "text": [
            "755e05b471611f06ac2f07123f9011b29eccabe727a9d542d2945efc953ad592\n",
            "755e05b471611f06ac2f07123f9011b29eccabe727a9d542d2945efc953ad592\n"
          ]
        }
      ],
      "source": [
        "ha = hashlib.new('sha3_256')\n",
        "hb = hashlib.new('sha3_256')\n",
        "\n",
        "ha.update(za.to_bytes(2, 'big'))\n",
        "hb.update(zb.to_bytes(2, 'big'))\n",
        "\n",
        "print(ha.hexdigest())\n",
        "print(hb.hexdigest())"
      ]
    },
    {
      "cell_type": "markdown",
      "metadata": {
        "id": "j-EBpzeaX7Jc"
      },
      "source": [
        "# ElGamal encryption"
      ]
    },
    {
      "cell_type": "markdown",
      "metadata": {
        "cell_style": "split",
        "id": "5AkTtYnEX7Jc"
      },
      "source": [
        "KeyGen($1^n$):\n",
        "* $p \\leftarrow_R \\mathbf{Primes}(n)$\n",
        "* $x \\leftarrow_R \\{1, \\ldots, p-2\\}$\n",
        "* $g \\leftarrow PrimitiveRoots(p)$\n",
        "* $X \\leftarrow g^x \\bmod p$\n",
        "privKey = $x$ / pubKey = $p, g, X$"
      ]
    },
    {
      "cell_type": "code",
      "execution_count": null,
      "metadata": {
        "cell_style": "split",
        "id": "jX2gMyESX7Jc"
      },
      "outputs": [],
      "source": [
        "def gen(sec):\n",
        "    n = len(sec)\n",
        "    pp, p = genSecurePrime(2 ** n, 2 ** (n+1) - 1)\n",
        "    g = 3\n",
        "    while order(g, p) < (p-2)//2:\n",
        "        g = random.randint(2, p-1)\n",
        "    x = random.randint(1, p - 2)\n",
        "    X = (g ** x) % p\n",
        "    return g, X, p, x\n",
        "    \n",
        "def genP(sec, p):\n",
        "    g = 3\n",
        "    while order(g, p) < (p-2)//2:\n",
        "        g = random.randint(2, p-1)\n",
        "    x = random.randint(1, p - 2)\n",
        "    X = (g ** x) % p\n",
        "    return g, X, p, x    \n",
        "    \n",
        "    \n",
        "    \n",
        "    \n",
        "    "
      ]
    },
    {
      "cell_type": "markdown",
      "metadata": {
        "cell_style": "split",
        "id": "vvmtgz7rX7Jd"
      },
      "source": [
        "$Enc(m, pubKey)$:\n",
        "\n",
        "1. $y \\leftarrow_R \\{1, \\ldots, p - 2\\}$\n",
        "2. return $(g^y, m X^y)$"
      ]
    },
    {
      "cell_type": "code",
      "execution_count": null,
      "metadata": {
        "cell_style": "split",
        "id": "Csj9cI2UX7Jd"
      },
      "outputs": [],
      "source": [
        "def enc(m, pub_key):\n",
        "    g, X, p = pub_key\n",
        "    y = random.randint(1, p-2)\n",
        "    Y = g ** y % p\n",
        "    return Y, m * (X ** y % p) % p\n",
        "\n",
        "\n",
        "\n"
      ]
    },
    {
      "cell_type": "markdown",
      "metadata": {
        "cell_style": "split",
        "id": "hv8y6s2JX7Jd"
      },
      "source": [
        "Dec($\\alpha, \\beta)$, privKey, pubKey):\n",
        "    \n",
        "1. a = p - 1 - x\n",
        "2. return $\\alpha^a \\beta \\bmod p$\n",
        "\n",
        "\n",
        "$\\alpha^a \\beta = Y^a m X^y = m g^{y a} g^{x y} = m g^{- y x} g^{x y} = m$"
      ]
    },
    {
      "cell_type": "code",
      "execution_count": null,
      "metadata": {
        "cell_style": "split",
        "id": "nIjMd0NMX7Jd"
      },
      "outputs": [],
      "source": [
        "def dec(c, priv_key):\n",
        "    g, X, p, x = priv_key\n",
        "    alpha, beta = c\n",
        "    a = 2 * p - 2 - x\n",
        "    return (((alpha ** a) % p) * beta) % p"
      ]
    },
    {
      "cell_type": "code",
      "execution_count": null,
      "metadata": {
        "cell_style": "split",
        "id": "NAQ0Gc3-X7Je",
        "outputId": "bf6bdf6f-67dd-4c70-962d-5457d36c8833"
      },
      "outputs": [
        {
          "name": "stdout",
          "output_type": "stream",
          "text": [
            "3 57 107 96\n"
          ]
        }
      ],
      "source": [
        "g, X, p, x = gen(\"111111\")\n",
        "\n",
        "print(g, X, p, x)"
      ]
    },
    {
      "cell_type": "code",
      "execution_count": null,
      "metadata": {
        "cell_style": "split",
        "id": "uzlwHAOAX7Je",
        "outputId": "b6a36c52-9c13-4398-9a39-b83d12661a3b"
      },
      "outputs": [
        {
          "name": "stdout",
          "output_type": "stream",
          "text": [
            "3 85 107 45\n"
          ]
        }
      ],
      "source": [
        "p = 107\n",
        "g, X, p, x = genP(\"asd\", p)\n",
        "print(g, X, p, x)\n",
        "\n",
        "#plaintext = random.randint(1, p-1)\n",
        "#print(plaintext)\n",
        "plaintext = 73\n"
      ]
    },
    {
      "cell_type": "code",
      "execution_count": null,
      "metadata": {
        "cell_style": "split",
        "id": "Rotk2rnfX7Je",
        "outputId": "f232817e-b2ae-46ee-e12b-135823356598"
      },
      "outputs": [
        {
          "name": "stdout",
          "output_type": "stream",
          "text": [
            "(2, 10)\n"
          ]
        }
      ],
      "source": [
        "ct = enc(plaintext, [g, X, p])\n",
        "print(ct)\n",
        "\n"
      ]
    },
    {
      "cell_type": "code",
      "execution_count": null,
      "metadata": {
        "cell_style": "split",
        "id": "XQeSSucyX7Jf",
        "outputId": "e6e90fef-d88d-4988-b558-810c13c6b2ec"
      },
      "outputs": [
        {
          "name": "stdout",
          "output_type": "stream",
          "text": [
            "80\n"
          ]
        }
      ],
      "source": [
        "decrypted = dec(ct, [g, X, p, x])\n",
        "print(decrypted)"
      ]
    },
    {
      "cell_type": "code",
      "execution_count": null,
      "metadata": {
        "cell_style": "split",
        "id": "5INtdBc4X7Jf"
      },
      "outputs": [],
      "source": [
        "x, y = [], []\n",
        "t = 2000\n",
        "for i in range(t):\n",
        "    ct = enc(plaintext, [g, X, p])\n",
        "    xa, ya = ct\n",
        "    x.append(xa)\n",
        "    y.append(ya)\n",
        "    \n",
        "    \n",
        "    \n",
        "    \n"
      ]
    },
    {
      "cell_type": "code",
      "execution_count": null,
      "metadata": {
        "id": "wHMY24BvX7Jf"
      },
      "outputs": [],
      "source": []
    },
    {
      "cell_type": "code",
      "execution_count": null,
      "metadata": {
        "cell_style": "split",
        "id": "WyzAI0umX7Jf",
        "outputId": "68b7581b-482b-4058-f82c-cf26ebcf1918"
      },
      "outputs": [
        {
          "data": {
            "text/plain": [
              "Text(0, 0.5, 'Counts')"
            ]
          },
          "execution_count": 120,
          "metadata": {},
          "output_type": "execute_result"
        },
        {
          "data": {
            "image/png": "[encoded data removed]",
            "text/plain": [
              "<Figure size 432x288 with 2 Axes>"
            ]
          },
          "metadata": {
            "needs_background": "light"
          },
          "output_type": "display_data"
        }
      ],
      "source": [
        "import matplotlib.pyplot as plt\n",
        "fig = plt.figure()\n",
        "#plt.plot(x, y, '.r')\n",
        "plt.hist2d(x, y, bins=(p, p))\n",
        "cbar = plt.colorbar()\n",
        "cbar.ax.set_ylabel('Counts')"
      ]
    },
    {
      "cell_type": "code",
      "execution_count": null,
      "metadata": {
        "cell_style": "split",
        "id": "shJDiO4SX7Jg",
        "outputId": "8b5a394f-3b88-4ecc-d9c5-34ea7d678706"
      },
      "outputs": [
        {
          "data": {
            "text/plain": [
              "Text(0, 0.5, 'Counts')"
            ]
          },
          "execution_count": 123,
          "metadata": {},
          "output_type": "execute_result"
        },
        {
          "data": {
            "image/png": "[encoded data removed]",
            "text/plain": [
              "<Figure size 432x288 with 2 Axes>"
            ]
          },
          "metadata": {
            "needs_background": "light"
          },
          "output_type": "display_data"
        }
      ],
      "source": [
        "import matplotlib.pyplot as plt\n",
        "fig = plt.figure()\n",
        "#plt.plot(x, y, '.r')\n",
        "plt.hist2d(x, y, bins=(p, p))\n",
        "cbar = plt.colorbar()\n",
        "cbar.ax.set_ylabel('Counts')"
      ]
    },
    {
      "cell_type": "markdown",
      "metadata": {
        "id": "xX-L215yX7Jg"
      },
      "source": [
        "# Generalized ElGamal\n",
        "\n",
        "1. multiplicative group $Z_p^*$\n",
        "2. multiplicative group $F_{2^m}^*$ of the finite field $F_{2^m}$ of characteristic two\n",
        "3. group of points on an elliptic curve over a finite field\n",
        "4. multiplicative group $F_q^*$ of the finite field $F_q$ where $q = p^m$, $p$ is a prime\n",
        "5. the group of units $Z_n^*$ where $n$ is a composite integer\n",
        "6. the jacobian of a hyperelliptic curve defined over a finite field\n",
        "7. the class group of an imaginary quadratic number field"
      ]
    },
    {
      "cell_type": "markdown",
      "metadata": {
        "id": "KNerVC0IX7Jg"
      },
      "source": [
        "\n",
        "# Cryptographic commitments"
      ]
    },
    {
      "cell_type": "markdown",
      "metadata": {
        "cell_style": "split",
        "id": "_SxfwlxEX7Jh"
      },
      "source": [
        "## Example\n",
        "\n",
        "### Coin tossing over the internet\n",
        "\n",
        "Participants:\n",
        "\n",
        "* $\\mathcal{A}$\n",
        "* $\\mathcal{B}$\n",
        "\n",
        "Goal:\n",
        "\n",
        "* select uniformly at random a bit $b \\leftarrow_R \\{0, 1\\}$\n",
        "\n",
        "Naive apprach (does not work):\n",
        "\n",
        "1. $\\mathcal{A}(b_{\\mathcal{A}}) \\xrightarrow{b_{\\mathcal{A}}} \\mathcal{B}$\n",
        "2. $\\mathcal{A} \\xleftarrow{b_{\\mathcal{B}}} \\mathcal{B}(b_{\\mathcal{B}})$\n",
        "3. both compute $b = b_{\\mathcal{A}} \\oplus b_{\\mathcal{B}}$\n",
        "\n",
        "\n",
        "\n",
        "Why it is not secure? \n",
        "\n",
        "What does secure mean in this context?\n",
        "\n",
        "\n",
        "\n",
        "\n"
      ]
    },
    {
      "cell_type": "markdown",
      "metadata": {
        "cell_style": "split",
        "id": "v9ilmNh0X7Jh"
      },
      "source": [
        "1. $\\mathcal{A}:$ commits to $b_{\\mathcal{A}}$, sends $c =$ Comm($b_{\\mathcal{A}}, r$) to $\\mathcal{B}$\n",
        "\n",
        "$\\mathcal{A} \\xrightarrow{c} \\mathcal{B}$"
      ]
    },
    {
      "cell_type": "markdown",
      "metadata": {
        "cell_style": "split",
        "id": "5PkwtFv7X7Jh"
      },
      "source": [
        "$\\mathcal{A}$'s security perspective: is $b_{\\mathcal{A}}$ **hidding** value of $x$?"
      ]
    },
    {
      "cell_type": "markdown",
      "metadata": {
        "cell_style": "split",
        "id": "aQuHzY6qX7Jh"
      },
      "source": [
        "2. $\\mathcal{A} \\xleftarrow{b_{\\mathcal{B}}} \\mathcal{B}$"
      ]
    },
    {
      "cell_type": "markdown",
      "metadata": {
        "cell_style": "split",
        "id": "3mU1Q4OoX7Ji"
      },
      "source": [
        "3. $\\mathcal{A} \\xrightarrow{r, b_{\\mathcal{A}}} \\mathcal{B}$"
      ]
    },
    {
      "cell_type": "markdown",
      "metadata": {
        "cell_style": "split",
        "id": "9KI4-bqqX7Ji"
      },
      "source": [
        "$\\mathcal{B}$'s security concerns:\n",
        "\n",
        "* $\\mathcal{A}$ may leave the protocol after step 2\n",
        "* $\\mathcal{A}$ may send a different $r, b_{\\mathcal{A}}$ then the one he commited to. Is commitment scheme **binding**?"
      ]
    },
    {
      "cell_type": "markdown",
      "metadata": {
        "id": "R3DnEO1vX7Ji"
      },
      "source": [
        "# Oblivious transfer"
      ]
    },
    {
      "cell_type": "code",
      "execution_count": null,
      "metadata": {
        "id": "fHjix2iZX7Ji"
      },
      "outputs": [],
      "source": []
    }
  ],
  "metadata": {
    "celltoolbar": "Slideshow",
    "kernelspec": {
      "display_name": "Python 3",
      "language": "python",
      "name": "python3"
    },
    "language_info": {
      "codemirror_mode": {
        "name": "ipython",
        "version": 3
      },
      "file_extension": ".py",
      "mimetype": "text/x-python",
      "name": "python",
      "nbconvert_exporter": "python",
      "pygments_lexer": "ipython3",
      "version": "3.7.6"
    },
    "colab": {
      "provenance": []
    }
  },
  "nbformat": 4,
  "nbformat_minor": 0
}
{
  "nbformat": 4,
  "nbformat_minor": 0,
  "metadata": {
    "colab": {
      "provenance": []
    },
    "kernelspec": {
      "name": "python3",
      "display_name": "Python 3"
    },
    "language_info": {
      "name": "python"
    }
  },
  "cells": [
    {
      "cell_type": "markdown",
      "source": [
        "- **Engineer: Shaun Pritchard**\n",
        "- **Date: 1/27/2023**\n",
        "- **Task: vacuum-cleaner agent Pseduo code** \n",
        "- **Artifical Intellgence CAP 6635**"
      ],
      "metadata": {
        "id": "IZGVKJeVd9qt"
      }
    },
    {
      "cell_type": "markdown",
      "source": [
        "The sense_environment() function calls the get_current_location() function to determine the agent's current location. Then it calls the get_environment_state(location) function to determine the state of the environment at that location and returns the current state. The specific implementation of get_current_location() and get_environment_state(location) will depend on the specific details of the agent's task environment."
      ],
      "metadata": {
        "id": "2Wqv_M7rfv5y"
      }
    },
    {
      "cell_type": "code",
      "execution_count": null,
      "metadata": {
        "id": "92UigHSAd3c7"
      },
      "outputs": [],
      "source": [
        "def sense_environment():\n",
        "    current_location = get_current_location()\n",
        "    current_state = get_environment_state(current_location)\n",
        "    return current_state\n",
        "\n",
        "def get_current_location():\n",
        "    # code to determine the agent's current location\n",
        "    return current_location\n",
        "\n",
        "def get_environment_state(location):\n",
        "    # code to determine the state of the environment at the given location\n",
        "    return environment_state"
      ]
    },
    {
      "cell_type": "markdown",
      "source": [
        "The vacuum-cleaner agent starts at location A and initially perceives the environment as \"Unknown\". It enters a continuous loop where it senses the environment, checks the current state and takes appropriate action. If the environment is dirty, it takes the \"Suck\" action. If the environment is clean, it checks how long it has been clean and if it's been clean for two consecutive time steps, it will move to a different location based on its current location, and reset the consecutive_clean_time variable. If the environment is unknown, it will check how long it has been unknown and if it's been unknown for two consecutive time steps, it will move to a different location based on its current location, and reset the consecutive_unknown_time variable."
      ],
      "metadata": {
        "id": "Jb87c7JxfyZN"
      }
    },
    {
      "cell_type": "code",
      "source": [
        "# Start at location A\n",
        "current_location = A\n",
        "previous_location = \"Clean\"\n",
        "consecutive_clean_time = 0\n",
        "\n",
        "while True:\n",
        "    environment_state = sense_environment() # function to sense the environment and return state (Clean, Dirty, Unknown)\n",
        "    \n",
        "    if environment_state == \"Dirty\":\n",
        "        action = \"Suck\"\n",
        "    elif environment_state == \"Clean\":\n",
        "        action = \"Idle\"\n",
        "        consecutive_clean_time += 1\n",
        "        if consecutive_clean_time == 2:\n",
        "            if current_location == \"A\":\n",
        "                action = \"Right\"\n",
        "            elif current_location == \"B\":\n",
        "                action = random.choice([\"Left\", \"Right\"])\n",
        "            elif current_location == \"C\":\n",
        "                action = \"Left\"\n",
        "            previous_location = \"Clean\"\n",
        "            consecutive_clean_time = 0\n",
        "    elif environment_state == \"Unknown\":\n",
        "        action = \"Idle\"\n",
        "        if previous_location == \"Unknown\":\n",
        "            consecutive_unknown_time += 1\n",
        "            if consecutive_unknown_time == 2:\n",
        "                if current_location == \"A\":\n",
        "                    action = \"Right\"\n",
        "                elif current_location == \"B\":\n",
        "                    action = random.choice([\"Left\", \"Right\"])\n",
        "                elif current_location == \"C\":\n",
        "                    action = \"Left\"\n",
        "                previous_location = \"Unknown\"\n",
        "                consecutive_unknown_time = 0\n",
        "        else:\n",
        "            previous_location = \"Unknown\"\n",
        "            consecutive_unknown_time = 0\n",
        "    else:\n",
        "        print(\"Error: Invalid environment state\")\n",
        "        break\n",
        "        \n",
        "    execute_action(action) # function to execute the chosen action\n",
        "    current_location = update_location(current_location, action) # function to update the current location based on the action taken"
      ],
      "metadata": {
        "id": "1F82to_PfNWd"
      },
      "execution_count": null,
      "outputs": []
    }
  ]
}
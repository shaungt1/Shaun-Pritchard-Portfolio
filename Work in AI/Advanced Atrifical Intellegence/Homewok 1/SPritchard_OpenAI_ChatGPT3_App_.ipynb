{
  "nbformat": 4,
  "nbformat_minor": 0,
  "metadata": {
    "colab": {
      "provenance": []
    },
    "kernelspec": {
      "name": "python3",
      "display_name": "Python 3"
    },
    "language_info": {
      "name": "python"
    }
  },
  "cells": [
    {
      "cell_type": "code",
      "source": [
        "!pip install openai\n",
        "!pip3 install --upgrade revChatGPT"
      ],
      "metadata": {
        "id": "YCO4eZhy47kZ"
      },
      "execution_count": null,
      "outputs": []
    },
    {
      "cell_type": "code",
      "execution_count": 2,
      "metadata": {
        "id": "Dl8mvSpN4u-Z"
      },
      "outputs": [],
      "source": [
        "# Imports \n",
        "import os\n",
        "import openai"
      ]
    },
    {
      "cell_type": "code",
      "source": [
        "# I had to use my credit card to access the API and get a working key\n",
        "# API keys for Open AI models access\n",
        "openai.organization =''\n",
        "openai.api_key = ''"
      ],
      "metadata": {
        "id": "gWPEN9Rk40zA"
      },
      "execution_count": 10,
      "outputs": []
    },
    {
      "cell_type": "code",
      "source": [
        "# Printlist of OIpenAI models \n",
        "openai.Model.list()"
      ],
      "metadata": {
        "id": "K7eEp6jG5LIw"
      },
      "execution_count": null,
      "outputs": []
    },
    {
      "cell_type": "code",
      "source": [
        "# 1,000 tokens is about 750 words\n",
        "# 35 tokens  = 1,000 tokens is about 750 words"
      ],
      "metadata": {
        "id": "PPMSXjRoDrY5"
      },
      "execution_count": null,
      "outputs": []
    },
    {
      "cell_type": "code",
      "source": [
        "sec_key=\"eyJhbGciOiJkaXIiLCJlbmMiOiJBMjU2R0NNIn0..PSNBF8MB7lq0138m.jbbACqa_q9Z-BHqtr5rpQv2K7iCR7Z7kkOP5CNYWbSuT1PzxxgmttP5iNrUNVPb4fA3HBAN7E7uJtU_Mf-RL5BIny31sxs9zNXGWwsQfN9do1MVSdCGMlHnKgHG_qLOdfI4LKz6NqFspyXiTLbvUXN7KldzsEvCaA_NeuWGoO1DHD5KACNTxu2kKjPr-PFn1n-vual-7n_fVe-yqn-DigPaSiz-FSOQaW4uVWYs7w2pbN_SD-qw7EIFJDuMc8PfO6_P673NJTzWUIkw6RV5cBv7MvS3QKz8ObWvtggAHVdOGcjYlX27rbJfeP-nHelsj-IBgyKB5blPRU3f2NxCwAe-NwzzJxusGMFkyfvczfYG6B2yi_SI3IAsTMbN3y5oaZSK85OxDgtEC7bsZmWeREq_oivRxzS07O0zZtDtzJ-QzADmz0Bbd62X_vt3lYehW-WnihhZumRy33W-2wfSg60A9hKIsgL1KpfAVu8-4Ne7fhr2iMx8Z8_rhxOQCo_4u4lDNDiKi_56lnRfmvQCWHY___gT6MDsVz8m0yVt2JpI8TD3CM5lZbpGGwLWvrS0AM687XiW5EQ9fDpKJehvl9UwXq-s-hoeuJEsSU6WiOiztmkzyMPTdpSVt-_9T-vrmE1dTWAXmbv9w-07a3z24fBWhUk03voLeNgfD43GiCHcf5SryeaKuWBfeuqFT8REmNvVicAh6wMI4z8LTke6BqhUn8ufvMgnaox3PKWA5chAyohyxCpQC6ygs8YYOlDbWQRwZsNz1MVY-x3C9eBo1TYhdb-4ETrTSR9uGFRCRLFzAcwhJozzTUB1hJWzKFYXdbBqpDMOtlkpW6PrthPTEWhg9e_hw-BNITAzcfjJ-5sN_Q36J6Y1oLaT_9tlDQVa-8uZLfwqLJbHt3uzyhwb5ydJ0VZSJMatVCaPamMvvtHnU2NddiSunG-novH7z1rTC3IaxrGPOtoGw-lgK6kpdshtIbs4ygJ6pEbFSxAsVGfL2CllSVUU_0jKLr7VW7RvFifPtU_822b4C9tRUE1cwhkM6bKHkFDjM2UfNe-1toJB1ues1In5eW6GWwGIACbPIPqtro4mabE171kjQEDiM2YgqD71EH1xjIhPZwfcB1XSNP6_Mkb3aXo0ce9eF-0DNbfHu_bIuTfTYE9P8FYMEYrlSibyfzXEoMFBDn8JJmQHAWViA_OyJ8ydm4DDtu60gRhcgXk6j9FBCmrIIiPQgZSIgETWtfDvZ-TWVEilso2RGp1-Wqi_ZWEliMP54Ebdkr7J4wWOfWtX0KL3Wn-68U8aL58ynP1ej3D0J0uuRhTgwqe2oLt9j5B9wntjNM_wlMugNJivII7MnzNZi2K1EH2FXzRMxpnx5es9l2r0v_axfr9sr9GNir8z-BiKlVBfOqMh3qj8SGh1Pci71Ul31ER0ZkjjxAmHOxcEKj5bQjh61FLmjOoEy_gnRh2q56QiOjmC1bExMgafgPQFz0hlUyF4h_b3UXrl510f6evrsdTlHkaP85N-sVdM2SUH-brzvxATb11tbp4CZMGc0YTywfSieghlyiSkD5apyiyk2Z7QnqWwKVQOEFIEglybx-S0it_fHQn4OIEG61VuD8HCNkKzcdNmUqgZjFgg5fDPaBpRcotPrNNKc1sa0c7CAVpo3A4t1kMYPlfiJ6KOR5jRmOKXyVTeu3_uiHZYdAitUmT5YlGuMxnL9Hi4-qUC6YyyodrSXJK2pcBES4Q-hhIiCeOxNM9pM1pGdjKjwG01pfslM2yqRCe62zuWJWyp43nUAKgkloLkw9uF4pwUPKeLJsuxpj1L-CmDvmI4DeUJmMnp6-X7cqWD88i357VsNkNpv5jR2qSK8paMSlyFTJM0VF80AME39cQOtAy-Fo_ztFiTWg1sfoFP6DpMPatfKYExVHc56OlMTwqMTXAUxAHWK7x1tWaJQlCaVGXSVintHQ7-AY2ymqS6m4cjhejUchQ68fdUzfXSS1yKk3FNIAb5JnVIXdWP7x0Psm4617hv4b1lPbWTLt0DjVnBBnLMDeErhQPCrEpDJ666NrCS84yAeQc59OpXv7XsUwy3qfHy0rfHkDYKgaHqV_q-59V9V8SHd6ni5XZI0_uT_bAEZ2sLOTrfXpyMQHQlK7slddH4ejsZm6i3-aNy4hA14P3EHoZzA5x3k7V3cUC9Qnhck39VWHpBRGvhL7ZnSoKo40Evp8ebrxyRLC8w_pRRAZ5xGLDTvbw9Wl7cuRzWivNA-Hfd1evUhSVN2K_ZUYOVLvoEeleAsmOhgvKxPbi-1ozRbMLmA8I0HLnlQNfAR7F2qdCHOZwcwY91bX9EgT_bvrMeIR2ZtNMaSUNpf3imfpE90kPSTfrm21YzfntGZZnCWAS6Ib4y5vg5f0_8JLoSSOyzj7h3Rf9H379aXDPx-bD-RkrKOKZc50pK2edfO3M1syf8kB6-5DQiIXPz_zHDHljXmcTANKGVH8LLc4x9_k_nMq-JT82TRKufh_Mzd03BJObgrgyMT0nL2uAptN8qyfXbtVVFlbGcLi2yejY3nYg21v5jfvEOuDCB4Y59XLXdLOjLTB_MNTJ3n.Ks22FbY8Qcsi3BbrFoh7jQ\""
      ],
      "metadata": {
        "id": "JYMlPoO1AHkU"
      },
      "execution_count": 5,
      "outputs": []
    },
    {
      "cell_type": "code",
      "source": [
        "model_engine = 'text-davinci-003'"
      ],
      "metadata": {
        "id": "X-ktLBTf9IQZ"
      },
      "execution_count": 11,
      "outputs": []
    },
    {
      "cell_type": "code",
      "source": [
        "while True:\n",
        "    user_input = input(\"You: \")\n",
        "    if user_input == \"exit\":\n",
        "        break\n",
        "    response = openai.Completion.create(\n",
        "        engine=model_engine,\n",
        "        prompt=user_input,\n",
        "        max_tokens=250,\n",
        "        n=1,\n",
        "        stop=None,\n",
        "        temperature=0.5,\n",
        "        top_p=1,\n",
        "        frequency_penalty=1,\n",
        "        presence_penalty=1\n",
        "        \n",
        "    )\n",
        "    print(\"ChatGPT: \", response[\"choices\"][0][\"text\"])"
      ],
      "metadata": {
        "id": "hRQuwpYZ7ybK"
      },
      "execution_count": null,
      "outputs": []
    }
  ]
}